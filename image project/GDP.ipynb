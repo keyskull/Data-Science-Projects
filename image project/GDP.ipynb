{
 "metadata": {
  "language_info": {
   "codemirror_mode": {
    "name": "ipython",
    "version": 3
   },
   "file_extension": ".py",
   "mimetype": "text/x-python",
   "name": "python",
   "nbconvert_exporter": "python",
   "pygments_lexer": "ipython3",
   "version": "3.8.5-final"
  },
  "orig_nbformat": 2,
  "kernelspec": {
   "name": "python3",
   "display_name": "Python 3",
   "language": "python"
  }
 },
 "nbformat": 4,
 "nbformat_minor": 2,
 "cells": [
  {
   "source": [
    "# <center> GDP </center>\n",
    "---"
   ],
   "cell_type": "markdown",
   "metadata": {}
  },
  {
   "source": [
    "## Initial Setup\n",
    "---"
   ],
   "cell_type": "markdown",
   "metadata": {}
  },
  {
   "cell_type": "code",
   "execution_count": 11,
   "metadata": {},
   "outputs": [],
   "source": [
    "# basic library \n",
    "import numpy as np\n",
    "import pandas as pd\n",
    "import json\n"
   ]
  },
  {
   "cell_type": "code",
   "execution_count": 2,
   "metadata": {},
   "outputs": [],
   "source": [
    "from pprint import pprint\n",
    "from configparser import ConfigParser\n",
    "from pybea.client import BureauEconomicAnalysisClient\n",
    "\n",
    "# Grab configuration values.\n",
    "config = ConfigParser()\n",
    "config.read('config.ini')\n",
    "API_KEY = config.get('alex_credentials', 'API_KEY')\n",
    "\n",
    "# Initalize the new Client.\n",
    "bea_client = BureauEconomicAnalysisClient(api_key= API_KEY)"
   ]
  },
  {
   "cell_type": "code",
   "execution_count": 5,
   "metadata": {},
   "outputs": [
    {
     "output_type": "stream",
     "name": "stdout",
     "text": [
      "https://apps.bea.gov/api/data/?UserID=32D23A28-C874-4BB1-AFE3-6D46674B64A5&method=GETDATASETLIST&ResultFormat=JSON\n{'BEAAPI': {'Request': {'RequestParam': [{'ParameterName': 'USERID',\n                                          'ParameterValue': '32D23A28-C874-4BB1-AFE3-6D46674B64A5'},\n                                         {'ParameterName': 'METHOD',\n                                          'ParameterValue': 'GETDATASETLIST'},\n                                         {'ParameterName': 'RESULTFORMAT',\n                                          'ParameterValue': 'JSON'}]},\n            'Results': {'Dataset': [{'DatasetDescription': 'Standard NIPA '\n                                                           'tables',\n                                     'DatasetName': 'NIPA'},\n                                    {'DatasetDescription': 'Standard NI '\n                                                           'underlying detail '\n                                                           'tables',\n                                     'DatasetName': 'NIUnderlyingDetail'},\n                                    {'DatasetDescription': 'Multinational '\n                                                           'Enterprises',\n                                     'DatasetName': 'MNE'},\n                                    {'DatasetDescription': 'Standard Fixed '\n                                                           'Assets tables',\n                                     'DatasetName': 'FixedAssets'},\n                                    {'DatasetDescription': 'International '\n                                                           'Transactions '\n                                                           'Accounts',\n                                     'DatasetName': 'ITA'},\n                                    {'DatasetDescription': 'International '\n                                                           'Investment '\n                                                           'Position',\n                                     'DatasetName': 'IIP'},\n                                    {'DatasetDescription': 'Input-Output Data',\n                                     'DatasetName': 'InputOutput'},\n                                    {'DatasetDescription': 'International '\n                                                           'Services Trade',\n                                     'DatasetName': 'IntlServTrade'},\n                                    {'DatasetDescription': 'GDP by Industry',\n                                     'DatasetName': 'GDPbyIndustry'},\n                                    {'DatasetDescription': 'Regional data sets',\n                                     'DatasetName': 'Regional'},\n                                    {'DatasetDescription': 'Underlying GDP by '\n                                                           'Industry',\n                                     'DatasetName': 'UnderlyingGDPbyIndustry'},\n                                    {'DatasetDescription': 'Metadata about '\n                                                           'other API datasets',\n                                     'DatasetName': 'APIDatasetMetaData'}]}}}\n"
     ]
    }
   ],
   "source": [
    "# Grab the Dataset List.\n",
    "dataset_list = bea_client.get_dataset_list()\n",
    "pprint(dataset_list)"
   ]
  },
  {
   "cell_type": "code",
   "execution_count": 21,
   "metadata": {
    "tags": []
   },
   "outputs": [
    {
     "output_type": "stream",
     "name": "stdout",
     "text": [
      "https://apps.bea.gov/api/data/?userid=32D23A28-C874-4BB1-AFE3-6D46674B64A5&method=GetData&datasetname=NIUnderlyingDetail&year=2012&resultformat=JSON&frequency=A&frequency=Q&tablename=U20305\n"
     ]
    },
    {
     "output_type": "execute_result",
     "data": {
      "text/plain": [
       "    TableName SeriesCode LineNumber  \\\n",
       "0      U20305     DPCERC          1   \n",
       "1      U20305     DPCERC          1   \n",
       "2      U20305     DPCERC          1   \n",
       "3      U20305     DPCERC          1   \n",
       "4      U20305     DPCERC          1   \n",
       "..        ...        ...        ...   \n",
       "225    U20305     DNPSRC         46   \n",
       "226    U20305     DNPSRC         46   \n",
       "227    U20305     DNPSRC         46   \n",
       "228    U20305     DNPSRC         46   \n",
       "229    U20305     DNPSRC         46   \n",
       "\n",
       "                                       LineDescription TimePeriod  \\\n",
       "0              Personal consumption expenditures (PCE)       2012   \n",
       "1              Personal consumption expenditures (PCE)     2012Q1   \n",
       "2              Personal consumption expenditures (PCE)     2012Q2   \n",
       "3              Personal consumption expenditures (PCE)     2012Q3   \n",
       "4              Personal consumption expenditures (PCE)     2012Q4   \n",
       "..                                                 ...        ...   \n",
       "225  Less: Receipts from sales of goods and service...       2012   \n",
       "226  Less: Receipts from sales of goods and service...     2012Q1   \n",
       "227  Less: Receipts from sales of goods and service...     2012Q2   \n",
       "228  Less: Receipts from sales of goods and service...     2012Q3   \n",
       "229  Less: Receipts from sales of goods and service...     2012Q4   \n",
       "\n",
       "         METRIC_NAME CL_UNIT UNIT_MULT   DataValue          NoteRef  \n",
       "0    Current Dollars   Level         6  11,006,814           U20305  \n",
       "1    Current Dollars   Level         6  10,922,442           U20305  \n",
       "2    Current Dollars   Level         6  10,964,858           U20305  \n",
       "3    Current Dollars   Level         6  11,014,245           U20305  \n",
       "4    Current Dollars   Level         6  11,125,711           U20305  \n",
       "..               ...     ...       ...         ...              ...  \n",
       "225  Current Dollars   Level         6     894,967  U20305,U20305.3  \n",
       "226  Current Dollars   Level         6     894,626  U20305,U20305.3  \n",
       "227  Current Dollars   Level         6     883,782  U20305,U20305.3  \n",
       "228  Current Dollars   Level         6     903,698  U20305,U20305.3  \n",
       "229  Current Dollars   Level         6     897,760  U20305,U20305.3  \n",
       "\n",
       "[230 rows x 10 columns]"
      ],
      "text/html": "<div>\n<style scoped>\n    .dataframe tbody tr th:only-of-type {\n        vertical-align: middle;\n    }\n\n    .dataframe tbody tr th {\n        vertical-align: top;\n    }\n\n    .dataframe thead th {\n        text-align: right;\n    }\n</style>\n<table border=\"1\" class=\"dataframe\">\n  <thead>\n    <tr style=\"text-align: right;\">\n      <th></th>\n      <th>TableName</th>\n      <th>SeriesCode</th>\n      <th>LineNumber</th>\n      <th>LineDescription</th>\n      <th>TimePeriod</th>\n      <th>METRIC_NAME</th>\n      <th>CL_UNIT</th>\n      <th>UNIT_MULT</th>\n      <th>DataValue</th>\n      <th>NoteRef</th>\n    </tr>\n  </thead>\n  <tbody>\n    <tr>\n      <th>0</th>\n      <td>U20305</td>\n      <td>DPCERC</td>\n      <td>1</td>\n      <td>Personal consumption expenditures (PCE)</td>\n      <td>2012</td>\n      <td>Current Dollars</td>\n      <td>Level</td>\n      <td>6</td>\n      <td>11,006,814</td>\n      <td>U20305</td>\n    </tr>\n    <tr>\n      <th>1</th>\n      <td>U20305</td>\n      <td>DPCERC</td>\n      <td>1</td>\n      <td>Personal consumption expenditures (PCE)</td>\n      <td>2012Q1</td>\n      <td>Current Dollars</td>\n      <td>Level</td>\n      <td>6</td>\n      <td>10,922,442</td>\n      <td>U20305</td>\n    </tr>\n    <tr>\n      <th>2</th>\n      <td>U20305</td>\n      <td>DPCERC</td>\n      <td>1</td>\n      <td>Personal consumption expenditures (PCE)</td>\n      <td>2012Q2</td>\n      <td>Current Dollars</td>\n      <td>Level</td>\n      <td>6</td>\n      <td>10,964,858</td>\n      <td>U20305</td>\n    </tr>\n    <tr>\n      <th>3</th>\n      <td>U20305</td>\n      <td>DPCERC</td>\n      <td>1</td>\n      <td>Personal consumption expenditures (PCE)</td>\n      <td>2012Q3</td>\n      <td>Current Dollars</td>\n      <td>Level</td>\n      <td>6</td>\n      <td>11,014,245</td>\n      <td>U20305</td>\n    </tr>\n    <tr>\n      <th>4</th>\n      <td>U20305</td>\n      <td>DPCERC</td>\n      <td>1</td>\n      <td>Personal consumption expenditures (PCE)</td>\n      <td>2012Q4</td>\n      <td>Current Dollars</td>\n      <td>Level</td>\n      <td>6</td>\n      <td>11,125,711</td>\n      <td>U20305</td>\n    </tr>\n    <tr>\n      <th>...</th>\n      <td>...</td>\n      <td>...</td>\n      <td>...</td>\n      <td>...</td>\n      <td>...</td>\n      <td>...</td>\n      <td>...</td>\n      <td>...</td>\n      <td>...</td>\n      <td>...</td>\n    </tr>\n    <tr>\n      <th>225</th>\n      <td>U20305</td>\n      <td>DNPSRC</td>\n      <td>46</td>\n      <td>Less: Receipts from sales of goods and service...</td>\n      <td>2012</td>\n      <td>Current Dollars</td>\n      <td>Level</td>\n      <td>6</td>\n      <td>894,967</td>\n      <td>U20305,U20305.3</td>\n    </tr>\n    <tr>\n      <th>226</th>\n      <td>U20305</td>\n      <td>DNPSRC</td>\n      <td>46</td>\n      <td>Less: Receipts from sales of goods and service...</td>\n      <td>2012Q1</td>\n      <td>Current Dollars</td>\n      <td>Level</td>\n      <td>6</td>\n      <td>894,626</td>\n      <td>U20305,U20305.3</td>\n    </tr>\n    <tr>\n      <th>227</th>\n      <td>U20305</td>\n      <td>DNPSRC</td>\n      <td>46</td>\n      <td>Less: Receipts from sales of goods and service...</td>\n      <td>2012Q2</td>\n      <td>Current Dollars</td>\n      <td>Level</td>\n      <td>6</td>\n      <td>883,782</td>\n      <td>U20305,U20305.3</td>\n    </tr>\n    <tr>\n      <th>228</th>\n      <td>U20305</td>\n      <td>DNPSRC</td>\n      <td>46</td>\n      <td>Less: Receipts from sales of goods and service...</td>\n      <td>2012Q3</td>\n      <td>Current Dollars</td>\n      <td>Level</td>\n      <td>6</td>\n      <td>903,698</td>\n      <td>U20305,U20305.3</td>\n    </tr>\n    <tr>\n      <th>229</th>\n      <td>U20305</td>\n      <td>DNPSRC</td>\n      <td>46</td>\n      <td>Less: Receipts from sales of goods and service...</td>\n      <td>2012Q4</td>\n      <td>Current Dollars</td>\n      <td>Level</td>\n      <td>6</td>\n      <td>897,760</td>\n      <td>U20305,U20305.3</td>\n    </tr>\n  </tbody>\n</table>\n<p>230 rows × 10 columns</p>\n</div>"
     },
     "metadata": {},
     "execution_count": 21
    }
   ],
   "source": [
    "# Grab National Product and Income Data.\n",
    "national_income_detail = bea_client.national_income_and_product_accounts_detail(\n",
    "    table_name='U20305',\n",
    "    frequency=['A', 'Q'],\n",
    "    year=[ '2012']\n",
    ")\n",
    "\n",
    "pd.json_normalize(national_income_detail['BEAAPI']['Results']['Data'])\n",
    "# print(national_income_detail)"
   ]
  },
  {
   "cell_type": "code",
   "execution_count": null,
   "metadata": {},
   "outputs": [],
   "source": []
  }
 ]
}