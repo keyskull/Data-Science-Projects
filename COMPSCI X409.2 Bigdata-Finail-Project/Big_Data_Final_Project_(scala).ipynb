{
 "cells": [
  {
   "cell_type": "markdown",
   "metadata": {
    "id": "biViv_Kn1wcj"
   },
   "source": [
    "# Big Data Project"
   ]
  },
  {
   "cell_type": "markdown",
   "metadata": {},
   "source": [
    "### **Participants:**  Jialin Li(Cullen)\n",
    "### **Date:** 05-10-2021\n",
    "# **Steps:**\n",
    "1. **Download Dataset**\n",
    "2. **Install the Scala Kernel And Set Up the Envoirment**\n",
    "3. **Install dependentcies**\n",
    "4. **Describe Data**\n",
    "5. **Data Preparation**\n",
    "6. **Algorithm Implementation**\n",
    "### **Research Hypothesis:** \n",
    "* From my perception, customer review comments from Amazon have a high correlation with star ranking from customers.  With this perception, I made a few training model to predict the star rankning( which as the satifaction to the product) for the customers.\n",
    "### **Research Questions:** \n",
    "1. Does the frequency of words from comments affect the percentage of satisfaction?\n",
    "2. Is there a correlation between the percentage of the frequency with every word in comments?\n",
    "---\n",
    "### **Data Source:**\n",
    "\n",
    "1. **Amazon Review Data (2018)** : http://deepyeti.ucsd.edu/jianmo/amazon/\n",
    "2. **Affective Text** : http://web.eecs.umich.edu/~mihalcea/affectivetext"
   ]
  },
  {
   "cell_type": "markdown",
   "metadata": {
    "id": "32XyTHYE16-6"
   },
   "source": [
    "# Step 1: Download Dataset"
   ]
  },
  {
   "cell_type": "code",
   "execution_count": 4,
   "metadata": {
    "colab": {
     "base_uri": "https://localhost:8080/"
    },
    "id": "O8pyMUeu199D",
    "outputId": "a31633ea-7a9c-49fe-83cc-077490b37c69"
   },
   "outputs": [
    {
     "name": "stdout",
     "output_type": "stream",
     "text": [
      "--2021-05-09 00:02:45--  http://deepyeti.ucsd.edu/jianmo/amazon/categoryFilesSmall/Video_Games_5.json.gz\n",
      "Resolving deepyeti.ucsd.edu (deepyeti.ucsd.edu)... 169.228.63.50\n",
      "Connecting to deepyeti.ucsd.edu (deepyeti.ucsd.edu)|169.228.63.50|:80... connected.\n",
      "HTTP request sent, awaiting response... 200 OK\n",
      "Length: 154050105 (147M) [application/octet-stream]\n",
      "Saving to: ‘Video_Games_5.json.gz’\n",
      "\n",
      "Video_Games_5.json. 100%[===================>] 146.91M  45.9MB/s    in 3.2s    \n",
      "\n",
      "2021-05-09 00:02:48 (45.9 MB/s) - ‘Video_Games_5.json.gz’ saved [154050105/154050105]\n",
      "\n",
      "--2021-05-09 00:02:53--  http://web.eecs.umich.edu/~mihalcea/affectivetext/data/WordNetAffectEmotionLists.tar.gz\n",
      "Resolving web.eecs.umich.edu (web.eecs.umich.edu)... 141.212.113.214\n",
      "Connecting to web.eecs.umich.edu (web.eecs.umich.edu)|141.212.113.214|:80... connected.\n",
      "HTTP request sent, awaiting response... 200 OK\n",
      "Length: 8287 (8.1K) [application/x-gzip]\n",
      "Saving to: ‘WordNetAffectEmotionLists.tar.gz’\n",
      "\n",
      "WordNetAffectEmotio 100%[===================>]   8.09K  --.-KB/s    in 0.006s  \n",
      "\n",
      "2021-05-09 00:02:53 (1.25 MB/s) - ‘WordNetAffectEmotionLists.tar.gz’ saved [8287/8287]\n",
      "\n"
     ]
    }
   ],
   "source": [
    "!wget http://deepyeti.ucsd.edu/jianmo/amazon/categoryFilesSmall/Video_Games_5.json.gz\n",
    "!gzip -d Video_Games_5.json.gz\n",
    "!wget http://web.eecs.umich.edu/~mihalcea/affectivetext/data/WordNetAffectEmotionLists.tar.gz\n",
    "!tar -xf WordNetAffectEmotionLists.tar.gz"
   ]
  },
  {
   "cell_type": "markdown",
   "metadata": {
    "id": "sL1Vq6r6J6dA"
   },
   "source": [
    "# **Step 2:Install the Scala Kernel And Set Up the Envoirment**\n",
    "If you get a \"scala\" kernel not recognized warning when loading up the notebook for the first time, start by running the two cells below. Once you are done **reload the page** to load the notebook in the installed Scala kernel."
   ]
  },
  {
   "cell_type": "code",
   "execution_count": 5,
   "metadata": {
    "colab": {
     "base_uri": "https://localhost:8080/"
    },
    "id": "RoCcdvTCAqeR",
    "outputId": "40fc5a1e-f71b-4316-cd49-3082321602ae"
   },
   "outputs": [
    {
     "name": "stdout",
     "output_type": "stream",
     "text": [
      "  % Total    % Received % Xferd  Average Speed   Time    Time     Time  Current\n",
      "                                 Dload  Upload   Total   Spent    Left  Speed\n",
      "  0     0    0     0    0     0      0      0 --:--:-- --:--:-- --:--:--     0\n",
      "100   135  100   135    0     0    314      0 --:--:-- --:--:-- --:--:--   314\n",
      "100 42577  100 42577    0     0  74565      0 --:--:-- --:--:-- --:--:-- 74565\n"
     ]
    }
   ],
   "source": [
    "!curl -Lo coursier https://git.io/coursier-cli && chmod +x coursier\n",
    "!./coursier launch --fork almond:0.10.9 --scala 2.12 -- --install &> /dev/null "
   ]
  },
  {
   "cell_type": "code",
   "execution_count": 1,
   "metadata": {
    "colab": {
     "base_uri": "https://localhost:8080/",
     "height": 165
    },
    "id": "a9z0PxRg_iOp",
    "outputId": "de9359da-f8ca-47ae-a509-48739f1f8fb6"
   },
   "outputs": [
    {
     "name": "stdout",
     "output_type": "stream",
     "text": [
      "(Testing)Hello, world!\n"
     ]
    }
   ],
   "source": [
    "println(\"(Testing)Hello, world!\")"
   ]
  },
  {
   "cell_type": "markdown",
   "metadata": {
    "id": "8qel7LuZHozq"
   },
   "source": [
    "# **Step 3: Install dependentcies**"
   ]
  },
  {
   "cell_type": "code",
   "execution_count": 1,
   "metadata": {
    "colab": {
     "base_uri": "https://localhost:8080/"
    },
    "id": "7_PeOUBnGuYj",
    "outputId": "3c146fae-a7b5-46a7-c1fb-a23d6e5eebba",
    "tags": []
   },
   "outputs": [
    {
     "data": {
      "text/plain": [
       "\u001b[32mimport \u001b[39m\u001b[36m$ivy.$                                 \n",
       "\u001b[39m\r\n",
       "\u001b[32mimport \u001b[39m\u001b[36m$ivy.$                                     \n",
       "\u001b[39m\r\n",
       "\u001b[32mimport \u001b[39m\u001b[36m$ivy.$                                   \n",
       "\u001b[39m\r\n",
       "\u001b[32mimport \u001b[39m\u001b[36m$ivy.$                                  \n",
       "\u001b[39m\r\n",
       "\u001b[32mimport \u001b[39m\u001b[36m$ivy.$                                    \n",
       "// import $ivy.`com.nvidia::rapids-4-spark:0.4.1`\n",
       "// import $ivy.`ai.rapids:cudf:0.18.1`\n",
       "\u001b[39m\r\n",
       "\u001b[32mimport \u001b[39m\u001b[36m$ivy.$                   \n",
       "\u001b[39m\r\n",
       "\u001b[32mimport \u001b[39m\u001b[36m$ivy.$                       \n",
       "\u001b[39m\r\n",
       "\u001b[32mimport \u001b[39m\u001b[36m$ivy.$                                      \n",
       "\u001b[39m\r\n",
       "\u001b[32mimport \u001b[39m\u001b[36mcoursierapi._\n",
       "\u001b[39m\r\n",
       "\u001b[32mimport \u001b[39m\u001b[36msys.process._\n",
       "\u001b[39m\r\n",
       "\u001b[32mimport \u001b[39m\u001b[36mplotly._, plotly.element._, plotly.layout._, plotly.Almond._\n",
       "\u001b[39m\r\n",
       "\u001b[32mimport \u001b[39m\u001b[36morg.apache.log4j.{Level, Logger}\n",
       "\u001b[39m"
      ]
     },
     "execution_count": 1,
     "metadata": {},
     "output_type": "execute_result"
    }
   ],
   "source": [
    "import $ivy.`org.slf4j:slf4j-api:2.0.0-alpha1`\n",
    "import $ivy.`org.slf4j:slf4j-log4j12:2.0.0-alpha1`\n",
    "import $ivy.`org.apache.spark::spark-core:3.1.1`\n",
    "import $ivy.`org.apache.spark::spark-sql:3.1.1`\n",
    "import $ivy.`org.apache.spark::spark-mllib:3.1.1`\n",
    "// import $ivy.`com.nvidia::rapids-4-spark:0.4.1`\n",
    "// import $ivy.`ai.rapids:cudf:0.18.1`\n",
    "import $ivy.`log4j:log4j:1.2.17`\n",
    "import $ivy.`org.jsoup:jsoup:1.13.1`\n",
    "import $ivy.`org.plotly-scala::plotly-almond:0.8.2`\n",
    "import coursierapi._\n",
    "import sys.process._\n",
    "import plotly._, plotly.element._, plotly.layout._, plotly.Almond._\n",
    "import org.apache.log4j.{Level, Logger}\n",
    "Logger.getLogger(\"org\").setLevel(Level.OFF)"
   ]
  },
  {
   "cell_type": "code",
   "execution_count": 2,
   "metadata": {
    "colab": {
     "base_uri": "https://localhost:8080/"
    },
    "id": "W7dzbUx9q6Ll",
    "outputId": "5154c0ae-6ba1-4086-af13-adf1fc29d2dc"
   },
   "outputs": [
    {
     "data": {
      "text/plain": [
       "\u001b[32mimport \u001b[39m\u001b[36morg.apache.spark.sql._\n",
       "\n",
       "\u001b[39m\r\n",
       "defined \u001b[32mclass\u001b[39m \u001b[36mRichDF\u001b[39m"
      ]
     },
     "execution_count": 2,
     "metadata": {},
     "output_type": "execute_result"
    }
   ],
   "source": [
    "import org.apache.spark.sql._\n",
    "\n",
    "implicit class RichDF(val df: DataFrame) {\n",
    "  def showHTML(limit:Int = 20, truncate: Int = 20) = {\n",
    "    import xml.Utility.escape\n",
    "    val data = df.take(limit)\n",
    "    val header = df.schema.fieldNames.toSeq\n",
    "    val rows: Seq[Seq[String]] = data.map(_.toSeq.map(cell =>\n",
    "        (cell match {\n",
    "          case null => \"null\"\n",
    "          case binary: Array[Byte] => binary.map(\"%02X\".format(_)).mkString(\"[\", \" \", \"]\")\n",
    "          case array: Array[_] => array.mkString(\"[\", \", \", \"]\")\n",
    "          case seq: Seq[_] => seq.mkString(\"[\", \", \", \"]\")\n",
    "          case _ => cell.toString\n",
    "        }).take(truncate)\n",
    "      ).map(p=> if(p.length >= truncate) p + \"...\" else p)\n",
    "    )\n",
    "\n",
    "    publish.html(s\"\"\"\n",
    "      <table class=\"table dataframe\" border=\"1\">\n",
    "        <tr>\n",
    "        ${header.map(h => s\"<th>${escape(h)}</th>\").mkString}\n",
    "        </tr>\n",
    "        ${rows.map { row =>\n",
    "          s\"<tr>${row.map { c => s\"<td>${escape(c)}</td>\" }.mkString}</tr>\"\n",
    "        }.mkString\n",
    "        }\n",
    "      </table>\"\"\")\n",
    "  }\n",
    "}"
   ]
  },
  {
   "cell_type": "code",
   "execution_count": 3,
   "metadata": {
    "colab": {
     "base_uri": "https://localhost:8080/",
     "height": 459
    },
    "id": "PXM0qHhuUI08",
    "outputId": "a3961599-dacc-4d42-dddc-26df12ce4b08"
   },
   "outputs": [
    {
     "name": "stdout",
     "output_type": "stream",
     "text": [
      "Loading spark-stubs\n",
      "Getting spark JARs\n",
      "Creating SparkSession\n"
     ]
    },
    {
     "name": "stderr",
     "output_type": "stream",
     "text": [
      "Using Spark's default log4j profile: org/apache/spark/log4j-defaults.properties\n"
     ]
    },
    {
     "data": {
      "text/html": [
       "<a target=\"_blank\" href=\"http://DESKTOP-HT5AL0N.mshome.net:4040\">Spark UI</a>"
      ]
     },
     "metadata": {},
     "output_type": "display_data"
    },
    {
     "data": {
      "text/plain": [
       "\u001b[32mimport \u001b[39m\u001b[36morg.apache.spark.SparkConf\n",
       "\u001b[39m\r\n",
       "\u001b[32mimport \u001b[39m\u001b[36morg.apache.spark.SparkContext\n",
       "\n",
       "\u001b[39m\r\n",
       "\u001b[36mspark\u001b[39m: \u001b[32mSparkSession\u001b[39m = org.apache.spark.sql.SparkSession@6aaade40\r\n",
       "\u001b[36msc\u001b[39m: \u001b[32mSparkContext\u001b[39m = org.apache.spark.SparkContext@63c5e9eb\r\n",
       "\u001b[36msqlContext\u001b[39m: \u001b[32mSQLContext\u001b[39m = org.apache.spark.sql.SQLContext@11a7d1ac\r\n",
       "\u001b[32mimport \u001b[39m\u001b[36mspark.implicits._\n",
       "\n",
       "//import org.jsoup.Jsoup\n",
       "//kernel.publish.html(Jsoup.connect(\"http://8a1f1a0b9848:4040/\").get().outerHtml())\u001b[39m"
      ]
     },
     "execution_count": 3,
     "metadata": {},
     "output_type": "execute_result"
    }
   ],
   "source": [
    "import org.apache.spark.SparkConf\n",
    "import org.apache.spark.SparkContext\n",
    "\n",
    "val spark = NotebookSparkSession.builder()\n",
    "    .appName(\"Product Satisfaction\")\n",
    "//     .config(\"spark.driver.resource.gpu.amount\", \"1\")\n",
    "    .config(\"spark.executor.memory\",\"32g\")\n",
    "//     .config(\"spark.eventLog.enabled\", \"true\")\n",
    "    .config(\"spark.driver.cores\", \"4\")\n",
    "    .master(\"local[*]\")\n",
    "    .getOrCreate()\n",
    "val sc = spark.sparkContext\n",
    "val sqlContext= spark.sqlContext\n",
    "// val conf = new SparkConf()\n",
    "//             .set(\"spark.plugins\", \"com.nvidia.spark.SQLPlugin\")\n",
    "//             .set(\"spark.executor.resource.gpu.discoveryScript\", \"getGpusResources.sh\")\n",
    "//             .set(\"spark.rapids.sql.incompatibleOps.enabled\", \"true\")\n",
    "//             .set(\"spark.executor.resource.gpu.amount\", \"1\")\n",
    "//             .set(\"hadoop.home.dir\",\"D:\\\\hadoop-3.2.2\")\n",
    "//             .set(\"spark.ui.enabled\",\"true\")\n",
    "//             .setMaster(\"local[*]\")\n",
    "//             .setAppName(\"Product Satisfaction\")\n",
    "\n",
    "\n",
    "// val sc = new SparkContext(conf)\n",
    "// val sqlContext= new SQLContext(sc)\n",
    "// val spark=sqlContext.sparkSession\n",
    "\n",
    "import spark.implicits._\n",
    "\n",
    "//import org.jsoup.Jsoup\n",
    "//kernel.publish.html(Jsoup.connect(\"http://8a1f1a0b9848:4040/\").get().outerHtml())"
   ]
  },
  {
   "cell_type": "markdown",
   "metadata": {
    "id": "3L18qj7YMaFg"
   },
   "source": [
    "# **Step 4: Describe Data**\n"
   ]
  },
  {
   "cell_type": "code",
   "execution_count": 4,
   "metadata": {
    "colab": {
     "base_uri": "https://localhost:8080/",
     "height": 1000
    },
    "id": "-xKtEIliVfC2",
    "outputId": "2b78add0-f18c-484a-ff05-eebc4aef2947"
   },
   "outputs": [
    {
     "data": {
      "text/html": [
       "<script>\n",
       "var comm = Jupyter.notebook.kernel.comm_manager.new_comm('cancel-stage-586322e2-1e7c-47e9-8ec2-03147955af82', {});\n",
       "\n",
       "function cancelStage(stageId) {\n",
       "  console.log('Cancelling stage ' + stageId);\n",
       "  comm.send({ 'stageId': stageId });\n",
       "}\n",
       "</script>\n",
       "          "
      ]
     },
     "metadata": {},
     "output_type": "display_data"
    },
    {
     "data": {
      "text/html": [
       "<div>\n",
       "  <span style=\"float: left;\">json at cmd3.sc:1</span>\n",
       "</div>\n"
      ]
     },
     "metadata": {},
     "output_type": "display_data"
    },
    {
     "data": {
      "text/html": [
       "<div class=\"progress\">\n",
       "  <div class=\"progress-bar\" role=\"progressbar\" style=\"background-color: blue; width: 100%; word-wrap: normal; white-space: nowrap; text-align: center; color: white\" aria-valuenow=\"100\" aria-valuemin=\"0\" aria-valuemax=\"100\">\n",
       "    8 / 8\n",
       "  </div>\n",
       "  <div class=\"progress-bar\" role=\"progressbar\" style=\"background-color: red; width: 0%\" aria-valuenow=\"0\" aria-valuemin=\"0\" aria-valuemax=\"100\"></div>\n",
       "</div>\n"
      ]
     },
     "metadata": {},
     "output_type": "display_data"
    },
    {
     "name": "stdout",
     "output_type": "stream",
     "text": [
      "root\n",
      " |-- asin: string (nullable = true)\n",
      " |-- image: array (nullable = true)\n",
      " |    |-- element: string (containsNull = true)\n",
      " |-- overall: double (nullable = true)\n",
      " |-- reviewText: string (nullable = true)\n",
      " |-- reviewTime: string (nullable = true)\n",
      " |-- reviewerID: string (nullable = true)\n",
      " |-- reviewerName: string (nullable = true)\n",
      " |-- style: struct (nullable = true)\n",
      " |    |-- Color Name:: string (nullable = true)\n",
      " |    |-- Color:: string (nullable = true)\n",
      " |    |-- Configuration:: string (nullable = true)\n",
      " |    |-- Content:: string (nullable = true)\n",
      " |    |-- Denomination:: string (nullable = true)\n",
      " |    |-- Edition:: string (nullable = true)\n",
      " |    |-- Format:: string (nullable = true)\n",
      " |    |-- Item Package Quantity:: string (nullable = true)\n",
      " |    |-- Length:: string (nullable = true)\n",
      " |    |-- Offer Type:: string (nullable = true)\n",
      " |    |-- Package Quantity:: string (nullable = true)\n",
      " |    |-- Package Type:: string (nullable = true)\n",
      " |    |-- Pattern:: string (nullable = true)\n",
      " |    |-- Platform for Display:: string (nullable = true)\n",
      " |    |-- Platform:: string (nullable = true)\n",
      " |    |-- Size:: string (nullable = true)\n",
      " |    |-- Style Name:: string (nullable = true)\n",
      " |    |-- Style:: string (nullable = true)\n",
      " |    |-- Subscription Length:: string (nullable = true)\n",
      " |-- summary: string (nullable = true)\n",
      " |-- unixReviewTime: long (nullable = true)\n",
      " |-- verified: boolean (nullable = true)\n",
      " |-- vote: string (nullable = true)\n",
      "\n"
     ]
    },
    {
     "data": {
      "text/html": [
       "<div>\n",
       "  <span style=\"float: left;\">take at cmd1.sc:6</span>\n",
       "</div>\n"
      ]
     },
     "metadata": {},
     "output_type": "display_data"
    },
    {
     "data": {
      "text/html": [
       "<div class=\"progress\">\n",
       "  <div class=\"progress-bar\" role=\"progressbar\" style=\"background-color: blue; width: 100%; word-wrap: normal; white-space: nowrap; text-align: center; color: white\" aria-valuenow=\"100\" aria-valuemin=\"0\" aria-valuemax=\"100\">\n",
       "    1 / 1\n",
       "  </div>\n",
       "  <div class=\"progress-bar\" role=\"progressbar\" style=\"background-color: red; width: 0%\" aria-valuenow=\"0\" aria-valuemin=\"0\" aria-valuemax=\"100\"></div>\n",
       "</div>\n"
      ]
     },
     "metadata": {},
     "output_type": "display_data"
    },
    {
     "data": {
      "text/html": [
       "\n",
       "      <table class=\"table dataframe\" border=\"1\">\n",
       "        <tr>\n",
       "        <th>asin</th><th>image</th><th>overall</th><th>reviewText</th><th>reviewTime</th><th>reviewerID</th><th>reviewerName</th><th>style</th><th>summary</th><th>unixReviewTime</th><th>verified</th><th>vote</th>\n",
       "        </tr>\n",
       "        <tr><td>0700026657</td><td>null</td><td>5.0</td><td>This game is a bit h...</td><td>10 17, 2015</td><td>A1HP7NVNPFMA4N</td><td>Ambrosia075</td><td>null</td><td>but when you do it's...</td><td>1445040000</td><td>true</td><td>null</td></tr><tr><td>0700026657</td><td>null</td><td>4.0</td><td>I played it a while ...</td><td>07 27, 2015</td><td>A1JGAP0185YJI6</td><td>travis</td><td>null</td><td>But in spite of that...</td><td>1437955200</td><td>false</td><td>null</td></tr><tr><td>0700026657</td><td>null</td><td>3.0</td><td>ok game.</td><td>02 23, 2015</td><td>A1YJWEXHQBWK2B</td><td>Vincent G. Mezera</td><td>null</td><td>Three Stars</td><td>1424649600</td><td>true</td><td>null</td></tr><tr><td>0700026657</td><td>null</td><td>2.0</td><td>found the game a bit...</td><td>02 20, 2015</td><td>A2204E1TH211HT</td><td>Grandma KR</td><td>null</td><td>Two Stars</td><td>1424390400</td><td>true</td><td>null</td></tr><tr><td>0700026657</td><td>null</td><td>5.0</td><td>great game, I love i...</td><td>12 25, 2014</td><td>A2RF5B5H74JLPE</td><td>jon</td><td>null</td><td>love this game</td><td>1419465600</td><td>true</td><td>null</td></tr><tr><td>0700026657</td><td>null</td><td>4.0</td><td>i liked a lot some t...</td><td>11 13, 2014</td><td>A11V6ZJ2FVQY1D</td><td>IBRAHIM ALBADI</td><td>null</td><td>Anno 2070</td><td>1415836800</td><td>true</td><td>null</td></tr><tr><td>0700026657</td><td>null</td><td>1.0</td><td>I'm an avid gamer, b...</td><td>08 2, 2014</td><td>A1KXJ1ELZIU05C</td><td>Creation27</td><td>null</td><td>Avoid This Game - Fi...</td><td>1406937600</td><td>false</td><td>null</td></tr><tr><td>0700026657</td><td>null</td><td>5.0</td><td>I bought this game t...</td><td>03 3, 2014</td><td>A1WK5I4874S3O2</td><td>WhiteSkull</td><td>null</td><td>A very good game bal...</td><td>1393804800</td><td>true</td><td>null</td></tr><tr><td>0700026657</td><td>null</td><td>5.0</td><td>I have played the ol...</td><td>02 21, 2014</td><td>AV969NA4CBP10</td><td>Travis B. Moore</td><td>null</td><td>Anno 2070 more like ...</td><td>1392940800</td><td>true</td><td>null</td></tr><tr><td>0700026657</td><td>null</td><td>4.0</td><td>I liked it and had f...</td><td>06 27, 2013</td><td>A1EO9BFUHTGWKZ</td><td>johnnyz3</td><td>null</td><td>Pretty fun</td><td>1372291200</td><td>true</td><td>null</td></tr><tr><td>0700026657</td><td>null</td><td>4.0</td><td>4 Stars because they...</td><td>12 28, 2012</td><td>A2M8JTIST6FPZZ</td><td>Amazon Customer</td><td>null</td><td>My boys enjoys these...</td><td>1356652800</td><td>true</td><td>null</td></tr><tr><td>0700026657</td><td>null</td><td>1.0</td><td>I've bought and play...</td><td>05 15, 2012</td><td>A1LMJ9W8UX1H5B</td><td>Rob NY</td><td>null</td><td>SAY NO TO DRM!!</td><td>1337040000</td><td>false</td><td>28</td></tr><tr><td>0700099867</td><td>null</td><td>5.0</td><td>Loved playing Dirt 2...</td><td>08 14, 2011</td><td>AN3YYDZAS3O1Y</td><td>Bob</td><td>null</td><td>A step up from Dirt ...</td><td>1313280000</td><td>true</td><td>11</td></tr><tr><td>0700099867</td><td>null</td><td>5.0</td><td>I'm not quite finish...</td><td>06 28, 2011</td><td>A38NXTZUFB1O2K</td><td>FiSH</td><td>null</td><td>Best in the series!</td><td>1309219200</td><td>false</td><td>null</td></tr><tr><td>0700099867</td><td>null</td><td>5.0</td><td>lot of people don't ...</td><td>06 18, 2011</td><td>A15PIAQT55GNCA</td><td>Suk W. Yu</td><td>null</td><td>this games is amazin...</td><td>1308355200</td><td>false</td><td>null</td></tr><tr><td>0700099867</td><td>null</td><td>4.0</td><td>I had Dirt 2 on Xbox...</td><td>06 14, 2011</td><td>A361M14PU2GUEG</td><td>Angry Ryan</td><td>null</td><td>DIRT 3</td><td>1308009600</td><td>true</td><td>2</td></tr><tr><td>0700099867</td><td>null</td><td>5.0</td><td>This is a must have ...</td><td>06 13, 2011</td><td>A2LQCBLLJVVR5T</td><td>Timmiley</td><td>null</td><td>BEST GRAPHICS OF ANY...</td><td>1307923200</td><td>false</td><td>14</td></tr><tr><td>0700026398</td><td>null</td><td>1.0</td><td>I'm sure I would lov...</td><td>05 18, 2013</td><td>A1NQ759X8WPIVV</td><td>Lynn</td><td>null</td><td>Requires steam</td><td>1368835200</td><td>true</td><td>null</td></tr><tr><td>0700026398</td><td>null</td><td>1.0</td><td>Update June 2013:\n",
       "De...</td><td>01 10, 2013</td><td>APFCXOFX0KUPN</td><td>--</td><td>null</td><td>Skip!</td><td>1357776000</td><td>false</td><td>null</td></tr><tr><td>0700026398</td><td>null</td><td>4.0</td><td>I will open with the...</td><td>12 26, 2012</td><td>A2GPRA9HHLOC4B</td><td>Wicasawakan</td><td>null</td><td>Great game with desi...</td><td>1356480000</td><td>false</td><td>12</td></tr>\n",
       "      </table>"
      ]
     },
     "metadata": {},
     "output_type": "display_data"
    },
    {
     "data": {
      "text/html": [
       "<div>\n",
       "  <span style=\"float: left;\">count at cmd3.sc:4</span>\n",
       "</div>\n"
      ]
     },
     "metadata": {},
     "output_type": "display_data"
    },
    {
     "data": {
      "text/html": [
       "<div class=\"progress\">\n",
       "  <div class=\"progress-bar\" role=\"progressbar\" style=\"background-color: blue; width: 100%; word-wrap: normal; white-space: nowrap; text-align: center; color: white\" aria-valuenow=\"100\" aria-valuemin=\"0\" aria-valuemax=\"100\">\n",
       "    8 / 8\n",
       "  </div>\n",
       "  <div class=\"progress-bar\" role=\"progressbar\" style=\"background-color: red; width: 0%\" aria-valuenow=\"0\" aria-valuemin=\"0\" aria-valuemax=\"100\"></div>\n",
       "</div>\n"
      ]
     },
     "metadata": {},
     "output_type": "display_data"
    },
    {
     "data": {
      "text/html": [
       "<div>\n",
       "  <span style=\"float: left;\">count at cmd3.sc:4</span>\n",
       "</div>\n"
      ]
     },
     "metadata": {},
     "output_type": "display_data"
    },
    {
     "data": {
      "text/html": [
       "<div class=\"progress\">\n",
       "  <div class=\"progress-bar\" role=\"progressbar\" style=\"background-color: blue; width: 100%; word-wrap: normal; white-space: nowrap; text-align: center; color: white\" aria-valuenow=\"100\" aria-valuemin=\"0\" aria-valuemax=\"100\">\n",
       "    1 / 1\n",
       "  </div>\n",
       "  <div class=\"progress-bar\" role=\"progressbar\" style=\"background-color: red; width: 0%\" aria-valuenow=\"0\" aria-valuemin=\"0\" aria-valuemax=\"100\"></div>\n",
       "</div>\n"
      ]
     },
     "metadata": {},
     "output_type": "display_data"
    },
    {
     "data": {
      "text/plain": [
       "\u001b[36mamazonComment\u001b[39m: \u001b[32mDataFrame\u001b[39m = [asin: string, image: array<string> ... 10 more fields]\r\n",
       "\u001b[36mres3_3\u001b[39m: \u001b[32mLong\u001b[39m = \u001b[32m497577L\u001b[39m"
      ]
     },
     "execution_count": 4,
     "metadata": {},
     "output_type": "execute_result"
    }
   ],
   "source": [
    "val amazonComment = spark.read.json(\"res\\\\Video_Games_5.json\")\n",
    "amazonComment.printSchema()\n",
    "amazonComment.showHTML()\n",
    "amazonComment.count()\n"
   ]
  },
  {
   "cell_type": "code",
   "execution_count": 5,
   "metadata": {},
   "outputs": [
    {
     "data": {
      "text/html": [
       "<div>\n",
       "  <span style=\"float: left;\">collect at cmd4.sc:2</span>\n",
       "</div>\n"
      ]
     },
     "metadata": {},
     "output_type": "display_data"
    },
    {
     "data": {
      "text/html": [
       "<div class=\"progress\">\n",
       "  <div class=\"progress-bar\" role=\"progressbar\" style=\"background-color: blue; width: 100%; word-wrap: normal; white-space: nowrap; text-align: center; color: white\" aria-valuenow=\"100\" aria-valuemin=\"0\" aria-valuemax=\"100\">\n",
       "    8 / 8\n",
       "  </div>\n",
       "  <div class=\"progress-bar\" role=\"progressbar\" style=\"background-color: red; width: 0%\" aria-valuenow=\"0\" aria-valuemin=\"0\" aria-valuemax=\"100\"></div>\n",
       "</div>\n"
      ]
     },
     "metadata": {},
     "output_type": "display_data"
    },
    {
     "data": {
      "text/html": [
       "<div>\n",
       "  <span style=\"float: left;\">collect at cmd4.sc:2</span>\n",
       "</div>\n"
      ]
     },
     "metadata": {},
     "output_type": "display_data"
    },
    {
     "data": {
      "text/html": [
       "<div class=\"progress\">\n",
       "  <div class=\"progress-bar\" role=\"progressbar\" style=\"background-color: blue; width: 100%; word-wrap: normal; white-space: nowrap; text-align: center; color: white\" aria-valuenow=\"100\" aria-valuemin=\"0\" aria-valuemax=\"100\">\n",
       "    200 / 200\n",
       "  </div>\n",
       "  <div class=\"progress-bar\" role=\"progressbar\" style=\"background-color: red; width: 0%\" aria-valuenow=\"0\" aria-valuemin=\"0\" aria-valuemax=\"100\"></div>\n",
       "</div>\n"
      ]
     },
     "metadata": {},
     "output_type": "display_data"
    },
    {
     "data": {
      "text/html": [
       "<div>\n",
       "  <span style=\"float: left;\">collect at cmd4.sc:3</span>\n",
       "</div>\n"
      ]
     },
     "metadata": {},
     "output_type": "display_data"
    },
    {
     "data": {
      "text/html": [
       "<div class=\"progress\">\n",
       "  <div class=\"progress-bar\" role=\"progressbar\" style=\"background-color: blue; width: 100%; word-wrap: normal; white-space: nowrap; text-align: center; color: white\" aria-valuenow=\"100\" aria-valuemin=\"0\" aria-valuemax=\"100\">\n",
       "    8 / 8\n",
       "  </div>\n",
       "  <div class=\"progress-bar\" role=\"progressbar\" style=\"background-color: red; width: 0%\" aria-valuenow=\"0\" aria-valuemin=\"0\" aria-valuemax=\"100\"></div>\n",
       "</div>\n"
      ]
     },
     "metadata": {},
     "output_type": "display_data"
    },
    {
     "data": {
      "text/html": [
       "<div>\n",
       "  <span style=\"float: left;\">collect at cmd4.sc:3</span>\n",
       "</div>\n"
      ]
     },
     "metadata": {},
     "output_type": "display_data"
    },
    {
     "data": {
      "text/html": [
       "<div class=\"progress\">\n",
       "  <div class=\"progress-bar\" role=\"progressbar\" style=\"background-color: blue; width: 100%; word-wrap: normal; white-space: nowrap; text-align: center; color: white\" aria-valuenow=\"100\" aria-valuemin=\"0\" aria-valuemax=\"100\">\n",
       "    200 / 200\n",
       "  </div>\n",
       "  <div class=\"progress-bar\" role=\"progressbar\" style=\"background-color: red; width: 0%\" aria-valuenow=\"0\" aria-valuemin=\"0\" aria-valuemax=\"100\"></div>\n",
       "</div>\n"
      ]
     },
     "metadata": {},
     "output_type": "display_data"
    },
    {
     "data": {
      "text/html": [
       "\n",
       "      <script type=\"text/javascript\">\n",
       "        require.config({\n",
       "  paths: {\n",
       "    d3: 'https://cdnjs.cloudflare.com/ajax/libs/d3/3.5.17/d3.min',\n",
       "    plotly: 'https://cdn.plot.ly/plotly-1.52.2.min',\n",
       "    jquery: 'https://code.jquery.com/jquery-3.3.1.min'\n",
       "  },\n",
       "\n",
       "  shim: {\n",
       "    plotly: {\n",
       "      deps: ['d3', 'jquery'],\n",
       "      exports: 'plotly'\n",
       "    }\n",
       "  }\n",
       "});\n",
       "        \n",
       "\n",
       "        require(['plotly'], function(Plotly) {\n",
       "          window.Plotly = Plotly;\n",
       "        });\n",
       "      </script>\n",
       "    "
      ]
     },
     "metadata": {},
     "output_type": "display_data"
    },
    {
     "data": {
      "application/vnd.plotly.v1+json": {
       "config": {},
       "data": [
        {
         "type": "bar",
         "x": [
          1,
          4,
          3,
          2,
          5
         ],
         "y": [
          30883,
          93654,
          49146,
          24135,
          299759
         ]
        }
       ],
       "layout": {
        "autosize": true,
        "xaxis": {
         "autorange": true,
         "range": [
          0.5,
          5.5
         ],
         "type": "linear"
        },
        "yaxis": {
         "autorange": true,
         "range": [
          0,
          315535.7894736842
         ],
         "type": "linear"
        }
       }
      },
      "image/png": "[encoded data removed]",
      "text/html": [
       "<div class=\"chart\" id=\"plot-c0e8ab74-6f8a-4111-be20-deba236f6aff\"></div>\n",
       "<script>require(['plotly'], function(Plotly) {\n",
       "  (function () {\n",
       "  var data0 = {\"x\":[1.0,4.0,3.0,2.0,5.0],\"y\":[30883.0,93654.0,49146.0,24135.0,299759.0],\"type\":\"bar\"};\n",
       "\n",
       "  var data = [data0];\n",
       "  var layout = {};\n",
       " var config = {};\n",
       "\n",
       "  Plotly.plot('plot-c0e8ab74-6f8a-4111-be20-deba236f6aff', data, layout, config);\n",
       "})();\n",
       "});\n",
       "      </script>\n",
       "           "
      ]
     },
     "metadata": {},
     "output_type": "display_data"
    },
    {
     "data": {
      "text/plain": [
       "\u001b[36mhist\u001b[39m: \u001b[32mDataFrame\u001b[39m = [overall: double, count: bigint]\r\n",
       "\u001b[36mname\u001b[39m: \u001b[32mSeq\u001b[39m[\u001b[32mDouble\u001b[39m] = \u001b[33mWrappedArray\u001b[39m(\u001b[32m1.0\u001b[39m, \u001b[32m4.0\u001b[39m, \u001b[32m3.0\u001b[39m, \u001b[32m2.0\u001b[39m, \u001b[32m5.0\u001b[39m)\r\n",
       "\u001b[36mvalue\u001b[39m: \u001b[32mSeq\u001b[39m[\u001b[32mLong\u001b[39m] = \u001b[33mWrappedArray\u001b[39m(\u001b[32m30883L\u001b[39m, \u001b[32m93654L\u001b[39m, \u001b[32m49146L\u001b[39m, \u001b[32m24135L\u001b[39m, \u001b[32m299759L\u001b[39m)\r\n",
       "\u001b[36mdata\u001b[39m: \u001b[32mSeq\u001b[39m[\u001b[32mBar\u001b[39m] = \u001b[33mList\u001b[39m(\n",
       "  \u001b[33mBar\u001b[39m(\n",
       "    \u001b[33mDoubles\u001b[39m(\u001b[33mWrappedArray\u001b[39m(\u001b[32m1.0\u001b[39m, \u001b[32m4.0\u001b[39m, \u001b[32m3.0\u001b[39m, \u001b[32m2.0\u001b[39m, \u001b[32m5.0\u001b[39m)),\n",
       "    \u001b[33mDoubles\u001b[39m(\u001b[33mArrayBuffer\u001b[39m(\u001b[32m30883.0\u001b[39m, \u001b[32m93654.0\u001b[39m, \u001b[32m49146.0\u001b[39m, \u001b[32m24135.0\u001b[39m, \u001b[32m299759.0\u001b[39m)),\n",
       "    \u001b[32mNone\u001b[39m,\n",
       "    \u001b[32mNone\u001b[39m,\n",
       "    \u001b[32mNone\u001b[39m,\n",
       "    \u001b[32mNone\u001b[39m,\n",
       "    \u001b[32mNone\u001b[39m,\n",
       "    \u001b[32mNone\u001b[39m,\n",
       "    \u001b[32mNone\u001b[39m,\n",
       "    \u001b[32mNone\u001b[39m,\n",
       "    \u001b[32mNone\u001b[39m,\n",
       "    \u001b[32mNone\u001b[39m,\n",
       "    \u001b[32mNone\u001b[39m,\n",
       "    \u001b[32mNone\u001b[39m,\n",
       "    \u001b[32mNone\u001b[39m,\n",
       "    \u001b[32mNone\u001b[39m\n",
       "  )\n",
       ")\r\n",
       "\u001b[36mres4_4\u001b[39m: \u001b[32mString\u001b[39m = \u001b[32m\"plot-c0e8ab74-6f8a-4111-be20-deba236f6aff\"\u001b[39m"
      ]
     },
     "execution_count": 5,
     "metadata": {},
     "output_type": "execute_result"
    }
   ],
   "source": [
    "val hist = amazonComment.groupBy(\"overall\").count()\n",
    "val name = hist.select(\"overall\").collect().map(_.getDouble(0)).toSeq\n",
    "val value = hist.select(\"count\").collect().map(_.getLong(0)).toSeq\n",
    "val data = Seq(Bar(name,value))\n",
    "plot(data)"
   ]
  },
  {
   "cell_type": "code",
   "execution_count": 6,
   "metadata": {
    "colab": {
     "base_uri": "https://localhost:8080/",
     "height": 0
    },
    "id": "B18qVs5EloSk",
    "outputId": "0525e9e8-43ab-44ec-85a2-77efd1f1c2b6"
   },
   "outputs": [
    {
     "data": {
      "text/html": [
       "<div>\n",
       "  <span style=\"float: left;\">take at cmd1.sc:6</span>\n",
       "</div>\n"
      ]
     },
     "metadata": {},
     "output_type": "display_data"
    },
    {
     "data": {
      "text/html": [
       "<div class=\"progress\">\n",
       "  <div class=\"progress-bar\" role=\"progressbar\" style=\"background-color: blue; width: 100%; word-wrap: normal; white-space: nowrap; text-align: center; color: white\" aria-valuenow=\"100\" aria-valuemin=\"0\" aria-valuemax=\"100\">\n",
       "    1 / 1\n",
       "  </div>\n",
       "  <div class=\"progress-bar\" role=\"progressbar\" style=\"background-color: red; width: 0%\" aria-valuenow=\"0\" aria-valuemin=\"0\" aria-valuemax=\"100\"></div>\n",
       "</div>\n"
      ]
     },
     "metadata": {},
     "output_type": "display_data"
    },
    {
     "data": {
      "text/html": [
       "\n",
       "      <table class=\"table dataframe\" border=\"1\">\n",
       "        <tr>\n",
       "        <th>emotion</th><th>word</th>\n",
       "        </tr>\n",
       "        <tr><td>anger</td><td>wrath</td></tr><tr><td>anger</td><td>umbrage</td></tr><tr><td>anger</td><td>offense</td></tr><tr><td>anger</td><td>pique</td></tr><tr><td>anger</td><td>temper</td></tr><tr><td>anger</td><td>irritation</td></tr><tr><td>anger</td><td>lividity</td></tr><tr><td>anger</td><td>irascibility</td></tr><tr><td>anger</td><td>short_temper</td></tr><tr><td>anger</td><td>spleen</td></tr><tr><td>anger</td><td>quick_temper</td></tr><tr><td>anger</td><td>infuriation</td></tr><tr><td>anger</td><td>enragement</td></tr><tr><td>anger</td><td>indignation</td></tr><tr><td>anger</td><td>outrage</td></tr><tr><td>anger</td><td>huffiness</td></tr><tr><td>anger</td><td>harassment</td></tr><tr><td>anger</td><td>torment</td></tr><tr><td>anger</td><td>fury</td></tr><tr><td>anger</td><td>rage</td></tr>\n",
       "      </table>"
      ]
     },
     "metadata": {},
     "output_type": "display_data"
    },
    {
     "data": {
      "text/plain": [
       "\u001b[32mimport \u001b[39m\u001b[36mjava.io.File\n",
       "\u001b[39m\r\n",
       "\u001b[36mfiles\u001b[39m: \u001b[32mArray\u001b[39m[\u001b[32mString\u001b[39m] = \u001b[33mArray\u001b[39m(\n",
       "  \u001b[32m\"anger.txt\"\u001b[39m,\n",
       "  \u001b[32m\"disgust.txt\"\u001b[39m,\n",
       "  \u001b[32m\"fear.txt\"\u001b[39m,\n",
       "  \u001b[32m\"joy.txt\"\u001b[39m,\n",
       "  \u001b[32m\"sadness.txt\"\u001b[39m,\n",
       "  \u001b[32m\"surprise.txt\"\u001b[39m\n",
       ")\r\n",
       "\u001b[36memotionLables\u001b[39m: \u001b[32mDataFrame\u001b[39m = [emotion: string, word: string]"
      ]
     },
     "execution_count": 6,
     "metadata": {},
     "output_type": "execute_result"
    }
   ],
   "source": [
    "import java.io.File\n",
    "val files = new File(\"res\\\\WordNetAffectEmotionLists\").listFiles.map(_.getName).filter(_!=\"README\")\n",
    "val emotionLables = (files.map(f => sc.textFile(\"WordNetAffectEmotionLists/\"+ f ).map(_.split(' ').drop(1)).flatMap(l=>l).map(f.dropRight(4) -> _)).fold(sc.emptyRDD[(String, String)])(_ ++ _)).toDF(\"emotion\",\"word\")\n",
    "emotionLables.showHTML()"
   ]
  },
  {
   "cell_type": "code",
   "execution_count": 7,
   "metadata": {
    "colab": {
     "base_uri": "https://localhost:8080/",
     "height": 0
    },
    "id": "vuaaBL6MG0eg",
    "outputId": "e9aece91-b865-4e03-8b52-05b3933827fc"
   },
   "outputs": [
    {
     "data": {
      "text/html": [
       "<div>\n",
       "  <span style=\"float: left;\">collect at cmd6.sc:3</span>\n",
       "</div>\n"
      ]
     },
     "metadata": {},
     "output_type": "display_data"
    },
    {
     "data": {
      "text/html": [
       "<div class=\"progress\">\n",
       "  <div class=\"progress-bar\" role=\"progressbar\" style=\"background-color: blue; width: 100%; word-wrap: normal; white-space: nowrap; text-align: center; color: white\" aria-valuenow=\"100\" aria-valuemin=\"0\" aria-valuemax=\"100\">\n",
       "    12 / 12\n",
       "  </div>\n",
       "  <div class=\"progress-bar\" role=\"progressbar\" style=\"background-color: red; width: 0%\" aria-valuenow=\"0\" aria-valuemin=\"0\" aria-valuemax=\"100\"></div>\n",
       "</div>\n"
      ]
     },
     "metadata": {},
     "output_type": "display_data"
    },
    {
     "data": {
      "text/html": [
       "<div>\n",
       "  <span style=\"float: left;\">collect at cmd6.sc:3</span>\n",
       "</div>\n"
      ]
     },
     "metadata": {},
     "output_type": "display_data"
    },
    {
     "data": {
      "text/html": [
       "<div class=\"progress\">\n",
       "  <div class=\"progress-bar\" role=\"progressbar\" style=\"background-color: blue; width: 100%; word-wrap: normal; white-space: nowrap; text-align: center; color: white\" aria-valuenow=\"100\" aria-valuemin=\"0\" aria-valuemax=\"100\">\n",
       "    200 / 200\n",
       "  </div>\n",
       "  <div class=\"progress-bar\" role=\"progressbar\" style=\"background-color: red; width: 0%\" aria-valuenow=\"0\" aria-valuemin=\"0\" aria-valuemax=\"100\"></div>\n",
       "</div>\n"
      ]
     },
     "metadata": {},
     "output_type": "display_data"
    },
    {
     "data": {
      "text/html": [
       "<div>\n",
       "  <span style=\"float: left;\">collect at cmd6.sc:4</span>\n",
       "</div>\n"
      ]
     },
     "metadata": {},
     "output_type": "display_data"
    },
    {
     "data": {
      "text/html": [
       "<div class=\"progress\">\n",
       "  <div class=\"progress-bar\" role=\"progressbar\" style=\"background-color: blue; width: 100%; word-wrap: normal; white-space: nowrap; text-align: center; color: white\" aria-valuenow=\"100\" aria-valuemin=\"0\" aria-valuemax=\"100\">\n",
       "    12 / 12\n",
       "  </div>\n",
       "  <div class=\"progress-bar\" role=\"progressbar\" style=\"background-color: red; width: 0%\" aria-valuenow=\"0\" aria-valuemin=\"0\" aria-valuemax=\"100\"></div>\n",
       "</div>\n"
      ]
     },
     "metadata": {},
     "output_type": "display_data"
    },
    {
     "data": {
      "text/html": [
       "<div>\n",
       "  <span style=\"float: left;\">collect at cmd6.sc:4</span>\n",
       "</div>\n"
      ]
     },
     "metadata": {},
     "output_type": "display_data"
    },
    {
     "data": {
      "text/html": [
       "<div class=\"progress\">\n",
       "  <div class=\"progress-bar\" role=\"progressbar\" style=\"background-color: blue; width: 100%; word-wrap: normal; white-space: nowrap; text-align: center; color: white\" aria-valuenow=\"100\" aria-valuemin=\"0\" aria-valuemax=\"100\">\n",
       "    200 / 200\n",
       "  </div>\n",
       "  <div class=\"progress-bar\" role=\"progressbar\" style=\"background-color: red; width: 0%\" aria-valuenow=\"0\" aria-valuemin=\"0\" aria-valuemax=\"100\"></div>\n",
       "</div>\n"
      ]
     },
     "metadata": {},
     "output_type": "display_data"
    },
    {
     "data": {
      "application/vnd.plotly.v1+json": {
       "config": {},
       "data": [
        {
         "type": "bar",
         "x": [
          "joy",
          "anger",
          "fear",
          "surprise",
          "sadness",
          "disgust"
         ],
         "y": [
          539,
          318,
          208,
          90,
          309,
          72
         ]
        }
       ],
       "layout": {
        "autosize": true,
        "xaxis": {
         "autorange": true,
         "range": [
          -0.5,
          5.5
         ],
         "type": "category"
        },
        "yaxis": {
         "autorange": true,
         "range": [
          0,
          567.3684210526316
         ],
         "type": "linear"
        }
       }
      },
      "image/png": "[encoded data removed]",
      "text/html": [
       "<div class=\"chart\" id=\"plot-0f8cb3dc-8f06-4f26-b7da-b5c4d121a6a9\"></div>\n",
       "<script>require(['plotly'], function(Plotly) {\n",
       "  (function () {\n",
       "  var data0 = {\"x\":[\"joy\",\"anger\",\"fear\",\"surprise\",\"sadness\",\"disgust\"],\"y\":[539.0,318.0,208.0,90.0,309.0,72.0],\"type\":\"bar\"};\n",
       "\n",
       "  var data = [data0];\n",
       "  var layout = {};\n",
       " var config = {};\n",
       "\n",
       "  Plotly.plot('plot-0f8cb3dc-8f06-4f26-b7da-b5c4d121a6a9', data, layout, config);\n",
       "})();\n",
       "});\n",
       "      </script>\n",
       "           "
      ]
     },
     "metadata": {},
     "output_type": "display_data"
    },
    {
     "data": {
      "text/plain": [
       "\u001b[32mimport \u001b[39m\u001b[36mplotly.element._\n",
       "\u001b[39m\r\n",
       "\u001b[36mhist\u001b[39m: \u001b[32mDataFrame\u001b[39m = [emotion: string, count: bigint]\r\n",
       "\u001b[36mname\u001b[39m: \u001b[32mSeq\u001b[39m[\u001b[32mString\u001b[39m] = \u001b[33mWrappedArray\u001b[39m(\n",
       "  \u001b[32m\"joy\"\u001b[39m,\n",
       "  \u001b[32m\"anger\"\u001b[39m,\n",
       "  \u001b[32m\"fear\"\u001b[39m,\n",
       "  \u001b[32m\"surprise\"\u001b[39m,\n",
       "  \u001b[32m\"sadness\"\u001b[39m,\n",
       "  \u001b[32m\"disgust\"\u001b[39m\n",
       ")\r\n",
       "\u001b[36mvalue\u001b[39m: \u001b[32mSeq\u001b[39m[\u001b[32mLong\u001b[39m] = \u001b[33mWrappedArray\u001b[39m(\u001b[32m539L\u001b[39m, \u001b[32m318L\u001b[39m, \u001b[32m208L\u001b[39m, \u001b[32m90L\u001b[39m, \u001b[32m309L\u001b[39m, \u001b[32m72L\u001b[39m)\r\n",
       "\u001b[36mdata\u001b[39m: \u001b[32mSeq\u001b[39m[\u001b[32mBar\u001b[39m] = \u001b[33mList\u001b[39m(\n",
       "  \u001b[33mBar\u001b[39m(\n",
       "    \u001b[33mStrings\u001b[39m(\n",
       "      \u001b[33mWrappedArray\u001b[39m(\u001b[32m\"joy\"\u001b[39m, \u001b[32m\"anger\"\u001b[39m, \u001b[32m\"fear\"\u001b[39m, \u001b[32m\"surprise\"\u001b[39m, \u001b[32m\"sadness\"\u001b[39m, \u001b[32m\"disgust\"\u001b[39m)\n",
       "    ),\n",
       "    \u001b[33mDoubles\u001b[39m(\u001b[33mArrayBuffer\u001b[39m(\u001b[32m539.0\u001b[39m, \u001b[32m318.0\u001b[39m, \u001b[32m208.0\u001b[39m, \u001b[32m90.0\u001b[39m, \u001b[32m309.0\u001b[39m, \u001b[32m72.0\u001b[39m)),\n",
       "    \u001b[32mNone\u001b[39m,\n",
       "    \u001b[32mNone\u001b[39m,\n",
       "    \u001b[32mNone\u001b[39m,\n",
       "    \u001b[32mNone\u001b[39m,\n",
       "    \u001b[32mNone\u001b[39m,\n",
       "    \u001b[32mNone\u001b[39m,\n",
       "    \u001b[32mNone\u001b[39m,\n",
       "    \u001b[32mNone\u001b[39m,\n",
       "    \u001b[32mNone\u001b[39m,\n",
       "    \u001b[32mNone\u001b[39m,\n",
       "    \u001b[32mNone\u001b[39m,\n",
       "    \u001b[32mNone\u001b[39m,\n",
       "    \u001b[32mNone\u001b[39m,\n",
       "    \u001b[32mNone\u001b[39m\n",
       "  )\n",
       ")\r\n",
       "\u001b[36mres6_5\u001b[39m: \u001b[32mString\u001b[39m = \u001b[32m\"plot-0f8cb3dc-8f06-4f26-b7da-b5c4d121a6a9\"\u001b[39m"
      ]
     },
     "execution_count": 7,
     "metadata": {},
     "output_type": "execute_result"
    }
   ],
   "source": [
    "import plotly.element._\n",
    "val hist = emotionLables.groupBy(\"emotion\").count()\n",
    "val name = hist.select(\"emotion\").collect().map(_.getString(0)).toSeq\n",
    "val value = hist.select(\"count\").collect().map(_.getLong(0)).toSeq\n",
    "val data = Seq(Bar(name,value))\n",
    "plot(data)"
   ]
  },
  {
   "cell_type": "markdown",
   "metadata": {
    "id": "3o8C6SxIiQ3O"
   },
   "source": [
    "## **4.1 Transformate Data**"
   ]
  },
  {
   "cell_type": "code",
   "execution_count": 8,
   "metadata": {
    "colab": {
     "base_uri": "https://localhost:8080/",
     "height": 510
    },
    "id": "_lGUlF3nub30",
    "outputId": "6d1573d2-6a76-4cb0-84d8-24ba42ee6cb1"
   },
   "outputs": [
    {
     "data": {
      "text/html": [
       "<div>\n",
       "  <span style=\"float: left;\">take at cmd1.sc:6</span>\n",
       "</div>\n"
      ]
     },
     "metadata": {},
     "output_type": "display_data"
    },
    {
     "data": {
      "text/html": [
       "<div class=\"progress\">\n",
       "  <div class=\"progress-bar\" role=\"progressbar\" style=\"background-color: blue; width: 100%; word-wrap: normal; white-space: nowrap; text-align: center; color: white\" aria-valuenow=\"100\" aria-valuemin=\"0\" aria-valuemax=\"100\">\n",
       "    1 / 1\n",
       "  </div>\n",
       "  <div class=\"progress-bar\" role=\"progressbar\" style=\"background-color: red; width: 0%\" aria-valuenow=\"0\" aria-valuemin=\"0\" aria-valuemax=\"100\"></div>\n",
       "</div>\n"
      ]
     },
     "metadata": {},
     "output_type": "display_data"
    },
    {
     "data": {
      "text/html": [
       "\n",
       "      <table class=\"table dataframe\" border=\"1\">\n",
       "        <tr>\n",
       "        <th>satisfaction</th><th>sentence</th>\n",
       "        </tr>\n",
       "        <tr><td>1.0</td><td>This game is a bit h...</td></tr><tr><td>0.8</td><td>I played it a while ...</td></tr><tr><td>0.6</td><td>ok game.Three Stars</td></tr><tr><td>0.4</td><td>found the game a bit...</td></tr><tr><td>1.0</td><td>great game, I love i...</td></tr><tr><td>0.8</td><td>i liked a lot some t...</td></tr><tr><td>0.2</td><td>I'm an avid gamer, b...</td></tr><tr><td>1.0</td><td>I bought this game t...</td></tr><tr><td>1.0</td><td>I have played the ol...</td></tr><tr><td>0.8</td><td>I liked it and had f...</td></tr><tr><td>0.8</td><td>4 Stars because they...</td></tr><tr><td>0.2</td><td>I've bought and play...</td></tr><tr><td>1.0</td><td>Loved playing Dirt 2...</td></tr><tr><td>1.0</td><td>I'm not quite finish...</td></tr><tr><td>1.0</td><td>lot of people don't ...</td></tr><tr><td>0.8</td><td>I had Dirt 2 on Xbox...</td></tr><tr><td>1.0</td><td>This is a must have ...</td></tr><tr><td>0.2</td><td>I'm sure I would lov...</td></tr><tr><td>0.2</td><td>Update June 2013:\n",
       "De...</td></tr><tr><td>0.8</td><td>I will open with the...</td></tr>\n",
       "      </table>"
      ]
     },
     "metadata": {},
     "output_type": "display_data"
    },
    {
     "data": {
      "text/html": [
       "<div>\n",
       "  <span style=\"float: left;\">count at cmd7.sc:4</span>\n",
       "</div>\n"
      ]
     },
     "metadata": {},
     "output_type": "display_data"
    },
    {
     "data": {
      "text/html": [
       "<div class=\"progress\">\n",
       "  <div class=\"progress-bar\" role=\"progressbar\" style=\"background-color: blue; width: 100%; word-wrap: normal; white-space: nowrap; text-align: center; color: white\" aria-valuenow=\"100\" aria-valuemin=\"0\" aria-valuemax=\"100\">\n",
       "    8 / 8\n",
       "  </div>\n",
       "  <div class=\"progress-bar\" role=\"progressbar\" style=\"background-color: red; width: 0%\" aria-valuenow=\"0\" aria-valuemin=\"0\" aria-valuemax=\"100\"></div>\n",
       "</div>\n"
      ]
     },
     "metadata": {},
     "output_type": "display_data"
    },
    {
     "data": {
      "text/html": [
       "<div>\n",
       "  <span style=\"float: left;\">count at cmd7.sc:4</span>\n",
       "</div>\n"
      ]
     },
     "metadata": {},
     "output_type": "display_data"
    },
    {
     "data": {
      "text/html": [
       "<div class=\"progress\">\n",
       "  <div class=\"progress-bar\" role=\"progressbar\" style=\"background-color: blue; width: 100%; word-wrap: normal; white-space: nowrap; text-align: center; color: white\" aria-valuenow=\"100\" aria-valuemin=\"0\" aria-valuemax=\"100\">\n",
       "    1 / 1\n",
       "  </div>\n",
       "  <div class=\"progress-bar\" role=\"progressbar\" style=\"background-color: red; width: 0%\" aria-valuenow=\"0\" aria-valuemin=\"0\" aria-valuemax=\"100\"></div>\n",
       "</div>\n"
      ]
     },
     "metadata": {},
     "output_type": "display_data"
    },
    {
     "data": {
      "text/html": [
       "<div>\n",
       "  <span style=\"float: left;\">describe at cmd7.sc:5</span>\n",
       "</div>\n"
      ]
     },
     "metadata": {},
     "output_type": "display_data"
    },
    {
     "data": {
      "text/html": [
       "<div class=\"progress\">\n",
       "  <div class=\"progress-bar\" role=\"progressbar\" style=\"background-color: blue; width: 100%; word-wrap: normal; white-space: nowrap; text-align: center; color: white\" aria-valuenow=\"100\" aria-valuemin=\"0\" aria-valuemax=\"100\">\n",
       "    8 / 8\n",
       "  </div>\n",
       "  <div class=\"progress-bar\" role=\"progressbar\" style=\"background-color: red; width: 0%\" aria-valuenow=\"0\" aria-valuemin=\"0\" aria-valuemax=\"100\"></div>\n",
       "</div>\n"
      ]
     },
     "metadata": {},
     "output_type": "display_data"
    },
    {
     "data": {
      "text/html": [
       "<div>\n",
       "  <span style=\"float: left;\">describe at cmd7.sc:5</span>\n",
       "</div>\n"
      ]
     },
     "metadata": {},
     "output_type": "display_data"
    },
    {
     "data": {
      "text/html": [
       "<div class=\"progress\">\n",
       "  <div class=\"progress-bar\" role=\"progressbar\" style=\"background-color: blue; width: 100%; word-wrap: normal; white-space: nowrap; text-align: center; color: white\" aria-valuenow=\"100\" aria-valuemin=\"0\" aria-valuemax=\"100\">\n",
       "    1 / 1\n",
       "  </div>\n",
       "  <div class=\"progress-bar\" role=\"progressbar\" style=\"background-color: red; width: 0%\" aria-valuenow=\"0\" aria-valuemin=\"0\" aria-valuemax=\"100\"></div>\n",
       "</div>\n"
      ]
     },
     "metadata": {},
     "output_type": "display_data"
    },
    {
     "data": {
      "text/html": [
       "\n",
       "      <table class=\"table dataframe\" border=\"1\">\n",
       "        <tr>\n",
       "        <th>summary</th><th>satisfaction</th><th>sentence</th>\n",
       "        </tr>\n",
       "        <tr><td>count</td><td>497577</td><td>497316</td></tr><tr><td>mean</td><td>0.8440912662764146</td><td>null</td></tr><tr><td>stddev</td><td>0.23708488662747057</td><td>null</td></tr><tr><td>min</td><td>0.2</td><td>\n",
       "VidegameFive Stars</td></tr><tr><td>max</td><td>1.0</td><td>~~~EDIT 7-21-2017~~~...</td></tr>\n",
       "      </table>"
      ]
     },
     "metadata": {},
     "output_type": "display_data"
    },
    {
     "data": {
      "text/plain": [
       "\u001b[32mimport \u001b[39m\u001b[36morg.apache.spark.sql.functions.concat\n",
       "\u001b[39m\r\n",
       "\u001b[36mtransformatedDF\u001b[39m: \u001b[32mDataFrame\u001b[39m = [satisfaction: double, sentence: string]\r\n",
       "\u001b[36mres7_3\u001b[39m: \u001b[32mLong\u001b[39m = \u001b[32m497577L\u001b[39m"
      ]
     },
     "execution_count": 8,
     "metadata": {},
     "output_type": "execute_result"
    }
   ],
   "source": [
    "import org.apache.spark.sql.functions.concat\n",
    "val transformatedDF = amazonComment.select(($\"overall\" / 5).as(\"satisfaction\") ,concat($\"reviewText\",$\"summary\").as(\"sentence\"))\n",
    "transformatedDF.showHTML()\n",
    "transformatedDF.count()\n",
    "transformatedDF.describe(\"satisfaction\", \"sentence\").showHTML()"
   ]
  },
  {
   "cell_type": "markdown",
   "metadata": {
    "id": "pMpMdA3_or0V"
   },
   "source": [
    "# **Step 5: Data Preparation**"
   ]
  },
  {
   "cell_type": "markdown",
   "metadata": {},
   "source": [
    "## 5.1 Null Value Check"
   ]
  },
  {
   "cell_type": "code",
   "execution_count": 9,
   "metadata": {},
   "outputs": [
    {
     "data": {
      "text/plain": [
       "\u001b[36mnullCheckedDF\u001b[39m: \u001b[32mDataset\u001b[39m[\u001b[32mRow\u001b[39m] = [satisfaction: double, sentence: string]"
      ]
     },
     "execution_count": 9,
     "metadata": {},
     "output_type": "execute_result"
    }
   ],
   "source": [
    "val nullCheckedDF = transformatedDF.filter($\"sentence\".isNotNull)"
   ]
  },
  {
   "cell_type": "markdown",
   "metadata": {},
   "source": [
    "### 5.3 Sentence Separation"
   ]
  },
  {
   "cell_type": "code",
   "execution_count": 10,
   "metadata": {},
   "outputs": [
    {
     "data": {
      "text/html": [
       "<div>\n",
       "  <span style=\"float: left;\">take at cmd1.sc:6</span>\n",
       "</div>\n"
      ]
     },
     "metadata": {},
     "output_type": "display_data"
    },
    {
     "data": {
      "text/html": [
       "<div class=\"progress\">\n",
       "  <div class=\"progress-bar\" role=\"progressbar\" style=\"background-color: blue; width: 100%; word-wrap: normal; white-space: nowrap; text-align: center; color: white\" aria-valuenow=\"100\" aria-valuemin=\"0\" aria-valuemax=\"100\">\n",
       "    1 / 1\n",
       "  </div>\n",
       "  <div class=\"progress-bar\" role=\"progressbar\" style=\"background-color: red; width: 0%\" aria-valuenow=\"0\" aria-valuemin=\"0\" aria-valuemax=\"100\"></div>\n",
       "</div>\n"
      ]
     },
     "metadata": {},
     "output_type": "display_data"
    },
    {
     "data": {
      "text/html": [
       "\n",
       "      <table class=\"table dataframe\" border=\"1\">\n",
       "        <tr>\n",
       "        <th>satisfaction</th><th>sentence</th><th>words</th>\n",
       "        </tr>\n",
       "        <tr><td>1.0</td><td>This game is a bit h...</td><td>[this, game, is, a, ...</td></tr><tr><td>0.8</td><td>i liked a lot some t...</td><td>[i, liked, a, lot, s...</td></tr><tr><td>0.2</td><td>I'm an avid gamer, b...</td><td>[i'm, an, avid, game...</td></tr><tr><td>1.0</td><td>I have played the ol...</td><td>[i, have, played, th...</td></tr><tr><td>0.8</td><td>4 Stars because they...</td><td>[4, stars, because, ...</td></tr><tr><td>1.0</td><td>Loved playing Dirt 2...</td><td>[loved, playing, dir...</td></tr><tr><td>1.0</td><td>I'm not quite finish...</td><td>[i'm, not, quite, fi...</td></tr><tr><td>1.0</td><td>lot of people don't ...</td><td>[lot, of, people, do...</td></tr><tr><td>1.0</td><td>i like bf games and ...</td><td>[i, like, bf, games,...</td></tr><tr><td>0.8</td><td>This installment int...</td><td>[this, installment, ...</td></tr><tr><td>0.8</td><td>It's not exactly lik...</td><td>[it's, not, exactly,...</td></tr><tr><td>0.2</td><td>1st shipment receive...</td><td>[1st, shipment, rece...</td></tr><tr><td>1.0</td><td>Dirt 3 on DVD\n",
       "i coll...</td><td>[dirt, 3, on, dvd, i...</td></tr><tr><td>0.2</td><td>This game was a rip-...</td><td>[this, game, was, a,...</td></tr><tr><td>0.8</td><td>If you like rally ca...</td><td>[if, you, like, rall...</td></tr><tr><td>1.0</td><td>It works as advertis...</td><td>[it, works, as, adve...</td></tr><tr><td>0.8</td><td>I really enjoyed the...</td><td>[i, really, enjoyed,...</td></tr><tr><td>0.8</td><td>I initially gave thi...</td><td>[i, initially, gave,...</td></tr><tr><td>0.2</td><td>Installing the game ...</td><td>[installing, the, ga...</td></tr><tr><td>0.6</td><td>This is a pretty fun...</td><td>[this, is, a, pretty...</td></tr>\n",
       "      </table>"
      ]
     },
     "metadata": {},
     "output_type": "display_data"
    },
    {
     "data": {
      "text/html": [
       "<div>\n",
       "  <span style=\"float: left;\">count at cmd9.sc:5</span>\n",
       "</div>\n"
      ]
     },
     "metadata": {},
     "output_type": "display_data"
    },
    {
     "data": {
      "text/html": [
       "<div class=\"progress\">\n",
       "  <div class=\"progress-bar\" role=\"progressbar\" style=\"background-color: blue; width: 100%; word-wrap: normal; white-space: nowrap; text-align: center; color: white\" aria-valuenow=\"100\" aria-valuemin=\"0\" aria-valuemax=\"100\">\n",
       "    8 / 8\n",
       "  </div>\n",
       "  <div class=\"progress-bar\" role=\"progressbar\" style=\"background-color: red; width: 0%\" aria-valuenow=\"0\" aria-valuemin=\"0\" aria-valuemax=\"100\"></div>\n",
       "</div>\n"
      ]
     },
     "metadata": {},
     "output_type": "display_data"
    },
    {
     "data": {
      "text/html": [
       "<div>\n",
       "  <span style=\"float: left;\">count at cmd9.sc:5</span>\n",
       "</div>\n"
      ]
     },
     "metadata": {},
     "output_type": "display_data"
    },
    {
     "data": {
      "text/html": [
       "<div class=\"progress\">\n",
       "  <div class=\"progress-bar\" role=\"progressbar\" style=\"background-color: blue; width: 100%; word-wrap: normal; white-space: nowrap; text-align: center; color: white\" aria-valuenow=\"100\" aria-valuemin=\"0\" aria-valuemax=\"100\">\n",
       "    1 / 1\n",
       "  </div>\n",
       "  <div class=\"progress-bar\" role=\"progressbar\" style=\"background-color: red; width: 0%\" aria-valuenow=\"0\" aria-valuemin=\"0\" aria-valuemax=\"100\"></div>\n",
       "</div>\n"
      ]
     },
     "metadata": {},
     "output_type": "display_data"
    },
    {
     "name": "stdout",
     "output_type": "stream",
     "text": [
      "root\n",
      " |-- satisfaction: double (nullable = true)\n",
      " |-- sentence: string (nullable = true)\n",
      " |-- words: array (nullable = true)\n",
      " |    |-- element: string (containsNull = true)\n",
      "\n"
     ]
    },
    {
     "data": {
      "text/plain": [
       "\u001b[32mimport \u001b[39m\u001b[36morg.apache.spark.ml.feature.Tokenizer\n",
       "\u001b[39m\r\n",
       "\u001b[36mtokenizer\u001b[39m: \u001b[32mTokenizer\u001b[39m = tok_1138d9e68eaf\r\n",
       "\u001b[36mwordsData\u001b[39m: \u001b[32mDataFrame\u001b[39m = [satisfaction: double, sentence: string ... 1 more field]\r\n",
       "\u001b[36mres9_4\u001b[39m: \u001b[32mLong\u001b[39m = \u001b[32m249197L\u001b[39m"
      ]
     },
     "execution_count": 10,
     "metadata": {},
     "output_type": "execute_result"
    }
   ],
   "source": [
    "import org.apache.spark.ml.feature.Tokenizer\n",
    "val tokenizer = new Tokenizer().setInputCol(\"sentence\").setOutputCol(\"words\")\n",
    "val wordsData = tokenizer.transform(nullCheckedDF.sample(0.5))\n",
    "wordsData.showHTML()\n",
    "wordsData.count()\n",
    "wordsData.printSchema()\n"
   ]
  },
  {
   "cell_type": "code",
   "execution_count": 30,
   "metadata": {},
   "outputs": [
    {
     "data": {
      "text/html": [
       "<div>\n",
       "  <span style=\"float: left;\">collect at cmd29.sc:2</span>\n",
       "</div>\n"
      ]
     },
     "metadata": {},
     "output_type": "display_data"
    },
    {
     "data": {
      "text/html": [
       "<div class=\"progress\">\n",
       "  <div class=\"progress-bar\" role=\"progressbar\" style=\"background-color: blue; width: 100%; word-wrap: normal; white-space: nowrap; text-align: center; color: white\" aria-valuenow=\"100\" aria-valuemin=\"0\" aria-valuemax=\"100\">\n",
       "    12 / 12\n",
       "  </div>\n",
       "  <div class=\"progress-bar\" role=\"progressbar\" style=\"background-color: red; width: 0%\" aria-valuenow=\"0\" aria-valuemin=\"0\" aria-valuemax=\"100\"></div>\n",
       "</div>\n"
      ]
     },
     "metadata": {},
     "output_type": "display_data"
    },
    {
     "data": {
      "text/html": [
       "<div>\n",
       "  <span style=\"float: left;\">show at cmd29.sc:4</span>\n",
       "</div>\n"
      ]
     },
     "metadata": {},
     "output_type": "display_data"
    },
    {
     "data": {
      "text/html": [
       "<div class=\"progress\">\n",
       "  <div class=\"progress-bar\" role=\"progressbar\" style=\"background-color: blue; width: 100%; word-wrap: normal; white-space: nowrap; text-align: center; color: white\" aria-valuenow=\"100\" aria-valuemin=\"0\" aria-valuemax=\"100\">\n",
       "    1 / 1\n",
       "  </div>\n",
       "  <div class=\"progress-bar\" role=\"progressbar\" style=\"background-color: red; width: 0%\" aria-valuenow=\"0\" aria-valuemin=\"0\" aria-valuemax=\"100\"></div>\n",
       "</div>\n"
      ]
     },
     "metadata": {},
     "output_type": "display_data"
    },
    {
     "name": "stdout",
     "output_type": "stream",
     "text": [
      "+--------------------+\n",
      "|               value|\n",
      "+--------------------+\n",
      "|          [surprise]|\n",
      "|               [joy]|\n",
      "|[joy, anger, surp...|\n",
      "|[joy, surprise, s...|\n",
      "|          [joy, joy]|\n",
      "|     [joy, surprise]|\n",
      "|[joy, joy, joy, j...|\n",
      "|[joy, joy, surprise]|\n",
      "|          [joy, joy]|\n",
      "|          [joy, joy]|\n",
      "|[joy, joy, joy, s...|\n",
      "|               [joy]|\n",
      "|                  []|\n",
      "|               [joy]|\n",
      "|     [joy, surprise]|\n",
      "|                  []|\n",
      "|[joy, joy, joy, s...|\n",
      "|[sadness, anger, ...|\n",
      "|     [joy, surprise]|\n",
      "|[surprise, joy, s...|\n",
      "+--------------------+\n",
      "only showing top 20 rows\n",
      "\n"
     ]
    },
    {
     "data": {
      "text/plain": [
       "\u001b[32mimport \u001b[39m\u001b[36mscala.collection.mutable.WrappedArray\n",
       "\u001b[39m\r\n",
       "\u001b[36memotionLablesMap\u001b[39m: \u001b[32mMap\u001b[39m[\u001b[32mString\u001b[39m, \u001b[32mString\u001b[39m] = \u001b[33mMap\u001b[39m(\n",
       "  \u001b[32m\"terrible\"\u001b[39m -> \u001b[32m\"fear\"\u001b[39m,\n",
       "  \u001b[32m\"jolly_along\"\u001b[39m -> \u001b[32m\"joy\"\u001b[39m,\n",
       "  \u001b[32m\"rage\"\u001b[39m -> \u001b[32m\"anger\"\u001b[39m,\n",
       "  \u001b[32m\"desolate\"\u001b[39m -> \u001b[32m\"sadness\"\u001b[39m,\n",
       "  \u001b[32m\"exuberance\"\u001b[39m -> \u001b[32m\"joy\"\u001b[39m,\n",
       "  \u001b[32m\"scare\"\u001b[39m -> \u001b[32m\"fear\"\u001b[39m,\n",
       "  \u001b[32m\"avidness\"\u001b[39m -> \u001b[32m\"joy\"\u001b[39m,\n",
       "  \u001b[32m\"jubilancy\"\u001b[39m -> \u001b[32m\"joy\"\u001b[39m,\n",
       "  \u001b[32m\"trance\"\u001b[39m -> \u001b[32m\"joy\"\u001b[39m,\n",
       "  \u001b[32m\"unhappiness\"\u001b[39m -> \u001b[32m\"sadness\"\u001b[39m,\n",
       "  \u001b[32m\"enthralling\"\u001b[39m -> \u001b[32m\"joy\"\u001b[39m,\n",
       "  \u001b[32m\"timidly\"\u001b[39m -> \u001b[32m\"fear\"\u001b[39m,\n",
       "  \u001b[32m\"carefreeness\"\u001b[39m -> \u001b[32m\"joy\"\u001b[39m,\n",
       "  \u001b[32m\"astonishment\"\u001b[39m -> \u001b[32m\"surprise\"\u001b[39m,\n",
       "  \u001b[32m\"down\"\u001b[39m -> \u001b[32m\"sadness\"\u001b[39m,\n",
       "  \u001b[32m\"carefree\"\u001b[39m -> \u001b[32m\"joy\"\u001b[39m,\n",
       "  \u001b[32m\"unsure\"\u001b[39m -> \u001b[32m\"fear\"\u001b[39m,\n",
       "  \u001b[32m\"euphoria\"\u001b[39m -> \u001b[32m\"joy\"\u001b[39m,\n",
       "  \u001b[32m\"terrifically\"\u001b[39m -> \u001b[32m\"surprise\"\u001b[39m,\n",
       "  \u001b[32m\"choler\"\u001b[39m -> \u001b[32m\"anger\"\u001b[39m,\n",
       "  \u001b[32m\"covet\"\u001b[39m -> \u001b[32m\"anger\"\u001b[39m,\n",
       "  \u001b[32m\"cruelty\"\u001b[39m -> \u001b[32m\"fear\"\u001b[39m,\n",
       "  \u001b[32m\"foul\"\u001b[39m -> \u001b[32m\"disgust\"\u001b[39m,\n",
       "  \u001b[32m\"rue\"\u001b[39m -> \u001b[32m\"sadness\"\u001b[39m,\n",
       "  \u001b[32m\"screaming\"\u001b[39m -> \u001b[32m\"joy\"\u001b[39m,\n",
       "  \u001b[32m\"dumbfounded\"\u001b[39m -> \u001b[32m\"surprise\"\u001b[39m,\n",
       "  \u001b[32m\"diffidence\"\u001b[39m -> \u001b[32m\"fear\"\u001b[39m,\n",
       "  \u001b[32m\"frightful\"\u001b[39m -> \u001b[32m\"fear\"\u001b[39m,\n",
       "  \u001b[32m\"pathetic\"\u001b[39m -> \u001b[32m\"sadness\"\u001b[39m,\n",
       "  \u001b[32m\"gravel\"\u001b[39m -> \u001b[32m\"surprise\"\u001b[39m,\n",
       "  \u001b[32m\"thunderstruck\"\u001b[39m -> \u001b[32m\"surprise\"\u001b[39m,\n",
       "  \u001b[32m\"presentiment\"\u001b[39m -> \u001b[32m\"fear\"\u001b[39m,\n",
       "  \u001b[32m\"intimidation\"\u001b[39m -> \u001b[32m\"fear\"\u001b[39m,\n",
       "  \u001b[32m\"elan\"\u001b[39m -> \u001b[32m\"joy\"\u001b[39m,\n",
       "  \u001b[32m\"get_down\"\u001b[39m -> \u001b[32m\"sadness\"\u001b[39m,\n",
       "  \u001b[32m\"favourable\"\u001b[39m -> \u001b[32m\"joy\"\u001b[39m,\n",
       "  \u001b[32m\"timidness\"\u001b[39m -> \u001b[32m\"fear\"\u001b[39m,\n",
       "  \u001b[32m\"surprisingly\"\u001b[39m -> \u001b[32m\"surprise\"\u001b[39m,\n",
       "...\r\n",
       "\u001b[36memotionExtraction\u001b[39m: \u001b[32mDataset\u001b[39m[\u001b[32mWrappedArray\u001b[39m[\u001b[32mString\u001b[39m]] = [value: array<string>]"
      ]
     },
     "execution_count": 30,
     "metadata": {},
     "output_type": "execute_result"
    }
   ],
   "source": [
    "import scala.collection.mutable.WrappedArray\n",
    "val emotionLablesMap = emotionLables.flatMap(p => Map(p.getString(1)-> p.getString(0))).collect().toMap\n",
    "val emotionExtraction = wordsData.map(_.getAs[WrappedArray[String]](2).map(p => emotionLablesMap.getOrElse(p,null)).filter(_ !=null))\n",
    "emotionExtraction.show()"
   ]
  },
  {
   "cell_type": "code",
   "execution_count": 31,
   "metadata": {},
   "outputs": [
    {
     "data": {
      "text/html": [
       "<div>\n",
       "  <span style=\"float: left;\">take at cmd30.sc:2</span>\n",
       "</div>\n"
      ]
     },
     "metadata": {},
     "output_type": "display_data"
    },
    {
     "data": {
      "text/html": [
       "<div class=\"progress\">\n",
       "  <div class=\"progress-bar\" role=\"progressbar\" style=\"background-color: blue; width: 100%; word-wrap: normal; white-space: nowrap; text-align: center; color: white\" aria-valuenow=\"100\" aria-valuemin=\"0\" aria-valuemax=\"100\">\n",
       "    1 / 1\n",
       "  </div>\n",
       "  <div class=\"progress-bar\" role=\"progressbar\" style=\"background-color: red; width: 0%\" aria-valuenow=\"0\" aria-valuemin=\"0\" aria-valuemax=\"100\"></div>\n",
       "</div>\n"
      ]
     },
     "metadata": {},
     "output_type": "display_data"
    },
    {
     "data": {
      "text/html": [
       "<div>\n",
       "  <span style=\"float: left;\">show at cmd30.sc:3</span>\n",
       "</div>\n"
      ]
     },
     "metadata": {},
     "output_type": "display_data"
    },
    {
     "data": {
      "text/html": [
       "<div class=\"progress\">\n",
       "  <div class=\"progress-bar\" role=\"progressbar\" style=\"background-color: blue; width: 100%; word-wrap: normal; white-space: nowrap; text-align: center; color: white\" aria-valuenow=\"100\" aria-valuemin=\"0\" aria-valuemax=\"100\">\n",
       "    1 / 1\n",
       "  </div>\n",
       "  <div class=\"progress-bar\" role=\"progressbar\" style=\"background-color: red; width: 0%\" aria-valuenow=\"0\" aria-valuemin=\"0\" aria-valuemax=\"100\"></div>\n",
       "</div>\n"
      ]
     },
     "metadata": {},
     "output_type": "display_data"
    },
    {
     "name": "stdout",
     "output_type": "stream",
     "text": [
      "+--------------------+\n",
      "|               value|\n",
      "+--------------------+\n",
      "|     [{surprise, 1}]|\n",
      "|          [{joy, 1}]|\n",
      "|[{surprise, 1}, {...|\n",
      "|[{surprise, 2}, {...|\n",
      "|          [{joy, 2}]|\n",
      "|[{surprise, 1}, {...|\n",
      "|          [{joy, 6}]|\n",
      "|[{surprise, 1}, {...|\n",
      "|          [{joy, 2}]|\n",
      "|          [{joy, 2}]|\n",
      "|[{surprise, 1}, {...|\n",
      "|          [{joy, 1}]|\n",
      "|                  []|\n",
      "|          [{joy, 1}]|\n",
      "|[{surprise, 1}, {...|\n",
      "|                  []|\n",
      "|[{surprise, 8}, {...|\n",
      "|[{sadness, 1}, {a...|\n",
      "|[{surprise, 1}, {...|\n",
      "|[{surprise, 3}, {...|\n",
      "+--------------------+\n",
      "only showing top 20 rows\n",
      "\n"
     ]
    },
    {
     "data": {
      "text/plain": [
       "\u001b[36memotionExtractionHist\u001b[39m: \u001b[32mDataset\u001b[39m[\u001b[32mSeq\u001b[39m[(\u001b[32mString\u001b[39m, \u001b[32mInt\u001b[39m)]] = [value: array<struct<_1:string,_2:int>>]\r\n",
       "\u001b[36mres30_1\u001b[39m: \u001b[32mArray\u001b[39m[\u001b[32mSeq\u001b[39m[(\u001b[32mString\u001b[39m, \u001b[32mInt\u001b[39m)]] = \u001b[33mArray\u001b[39m(\n",
       "  \u001b[33mList\u001b[39m((\u001b[32m\"surprise\"\u001b[39m, \u001b[32m1\u001b[39m)),\n",
       "  \u001b[33mList\u001b[39m((\u001b[32m\"joy\"\u001b[39m, \u001b[32m1\u001b[39m)),\n",
       "  \u001b[33mList\u001b[39m((\u001b[32m\"surprise\"\u001b[39m, \u001b[32m1\u001b[39m), (\u001b[32m\"anger\"\u001b[39m, \u001b[32m1\u001b[39m), (\u001b[32m\"joy\"\u001b[39m, \u001b[32m2\u001b[39m)),\n",
       "  \u001b[33mList\u001b[39m((\u001b[32m\"surprise\"\u001b[39m, \u001b[32m2\u001b[39m), (\u001b[32m\"joy\"\u001b[39m, \u001b[32m2\u001b[39m)),\n",
       "  \u001b[33mList\u001b[39m((\u001b[32m\"joy\"\u001b[39m, \u001b[32m2\u001b[39m))\n",
       ")"
      ]
     },
     "execution_count": 31,
     "metadata": {},
     "output_type": "execute_result"
    }
   ],
   "source": [
    "val emotionExtractionHist = emotionExtraction.map(_.groupBy(l=>l).map(t =>(t._1-> t._2.size)).toSeq)\n",
    "emotionExtractionHist.take(5)\n",
    "emotionExtractionHist.show()"
   ]
  },
  {
   "cell_type": "markdown",
   "metadata": {},
   "source": [
    "### 5.3 Word2Vec Feature Transformation Model"
   ]
  },
  {
   "cell_type": "code",
   "execution_count": 20,
   "metadata": {},
   "outputs": [
    {
     "data": {
      "text/html": [
       "<div>\n",
       "  <span style=\"float: left;\">map at Word2Vec.scala:188</span>\n",
       "</div>\n"
      ]
     },
     "metadata": {},
     "output_type": "display_data"
    },
    {
     "data": {
      "text/html": [
       "<div class=\"progress\">\n",
       "  <div class=\"progress-bar\" role=\"progressbar\" style=\"background-color: blue; width: 100%; word-wrap: normal; white-space: nowrap; text-align: center; color: white\" aria-valuenow=\"100\" aria-valuemin=\"0\" aria-valuemax=\"100\">\n",
       "    8 / 8\n",
       "  </div>\n",
       "  <div class=\"progress-bar\" role=\"progressbar\" style=\"background-color: red; width: 0%\" aria-valuenow=\"0\" aria-valuemin=\"0\" aria-valuemax=\"100\"></div>\n",
       "</div>\n"
      ]
     },
     "metadata": {},
     "output_type": "display_data"
    },
    {
     "data": {
      "text/html": [
       "<div>\n",
       "  <span style=\"float: left;\">collect at Word2Vec.scala:191</span>\n",
       "</div>\n"
      ]
     },
     "metadata": {},
     "output_type": "display_data"
    },
    {
     "data": {
      "text/html": [
       "<div class=\"progress\">\n",
       "  <div class=\"progress-bar\" role=\"progressbar\" style=\"background-color: blue; width: 100%; word-wrap: normal; white-space: nowrap; text-align: center; color: white\" aria-valuenow=\"100\" aria-valuemin=\"0\" aria-valuemax=\"100\">\n",
       "    8 / 8\n",
       "  </div>\n",
       "  <div class=\"progress-bar\" role=\"progressbar\" style=\"background-color: red; width: 0%\" aria-valuenow=\"0\" aria-valuemin=\"0\" aria-valuemax=\"100\"></div>\n",
       "</div>\n"
      ]
     },
     "metadata": {},
     "output_type": "display_data"
    },
    {
     "data": {
      "text/html": [
       "<div>\n",
       "  <span style=\"float: left;\">repartition at Word2Vec.scala:347</span>\n",
       "</div>\n"
      ]
     },
     "metadata": {},
     "output_type": "display_data"
    },
    {
     "data": {
      "text/html": [
       "<div class=\"progress\">\n",
       "  <div class=\"progress-bar\" role=\"progressbar\" style=\"background-color: blue; width: 100%; word-wrap: normal; white-space: nowrap; text-align: center; color: white\" aria-valuenow=\"100\" aria-valuemin=\"0\" aria-valuemax=\"100\">\n",
       "    8 / 8\n",
       "  </div>\n",
       "  <div class=\"progress-bar\" role=\"progressbar\" style=\"background-color: red; width: 0%\" aria-valuenow=\"0\" aria-valuemin=\"0\" aria-valuemax=\"100\"></div>\n",
       "</div>\n"
      ]
     },
     "metadata": {},
     "output_type": "display_data"
    },
    {
     "data": {
      "text/html": [
       "<div>\n",
       "  <span style=\"float: left;\">mapPartitions at Word2Vec.scala:446</span>\n",
       "</div>\n"
      ]
     },
     "metadata": {},
     "output_type": "display_data"
    },
    {
     "data": {
      "text/html": [
       "<div class=\"progress\">\n",
       "  <div class=\"progress-bar\" role=\"progressbar\" style=\"background-color: blue; width: 100%; word-wrap: normal; white-space: nowrap; text-align: center; color: white\" aria-valuenow=\"100\" aria-valuemin=\"0\" aria-valuemax=\"100\">\n",
       "    1 / 1\n",
       "  </div>\n",
       "  <div class=\"progress-bar\" role=\"progressbar\" style=\"background-color: red; width: 0%\" aria-valuenow=\"0\" aria-valuemin=\"0\" aria-valuemax=\"100\"></div>\n",
       "</div>\n"
      ]
     },
     "metadata": {},
     "output_type": "display_data"
    },
    {
     "name": "stderr",
     "output_type": "stream",
     "text": [
      "21/05/10 16:56:09 WARN BLAS: Failed to load implementation from: com.github.fommil.netlib.NativeSystemBLAS\n",
      "21/05/10 16:56:09 WARN BLAS: Failed to load implementation from: com.github.fommil.netlib.NativeRefBLAS\n"
     ]
    },
    {
     "data": {
      "text/html": [
       "<div>\n",
       "  <span style=\"float: left;\">collect at Word2Vec.scala:453</span>\n",
       "</div>\n"
      ]
     },
     "metadata": {},
     "output_type": "display_data"
    },
    {
     "data": {
      "text/html": [
       "<div class=\"progress\">\n",
       "  <div class=\"progress-bar\" role=\"progressbar\" style=\"background-color: blue; width: 100%; word-wrap: normal; white-space: nowrap; text-align: center; color: white\" aria-valuenow=\"100\" aria-valuemin=\"0\" aria-valuemax=\"100\">\n",
       "    1 / 1\n",
       "  </div>\n",
       "  <div class=\"progress-bar\" role=\"progressbar\" style=\"background-color: red; width: 0%\" aria-valuenow=\"0\" aria-valuemin=\"0\" aria-valuemax=\"100\"></div>\n",
       "</div>\n"
      ]
     },
     "metadata": {},
     "output_type": "display_data"
    },
    {
     "data": {
      "text/html": [
       "<div>\n",
       "  <span style=\"float: left;\">take at cmd3.sc:6</span>\n",
       "</div>\n"
      ]
     },
     "metadata": {},
     "output_type": "display_data"
    },
    {
     "data": {
      "text/html": [
       "<div class=\"progress\">\n",
       "  <div class=\"progress-bar\" role=\"progressbar\" style=\"background-color: blue; width: 100%; word-wrap: normal; white-space: nowrap; text-align: center; color: white\" aria-valuenow=\"100\" aria-valuemin=\"0\" aria-valuemax=\"100\">\n",
       "    1 / 1\n",
       "  </div>\n",
       "  <div class=\"progress-bar\" role=\"progressbar\" style=\"background-color: red; width: 0%\" aria-valuenow=\"0\" aria-valuemin=\"0\" aria-valuemax=\"100\"></div>\n",
       "</div>\n"
      ]
     },
     "metadata": {},
     "output_type": "display_data"
    },
    {
     "data": {
      "text/html": [
       "\n",
       "      <table class=\"table dataframe\" border=\"1\">\n",
       "        <tr>\n",
       "        <th>satisfaction</th><th>sentence</th><th>words</th><th>result</th>\n",
       "        </tr>\n",
       "        <tr><td>1.0</td><td>This game is a bit h...</td><td>[this, game, is, a, ...</td><td>[-0.0705830142039551...</td></tr><tr><td>0.6</td><td>ok game.Three Stars</td><td>[ok, game.three, sta...</td><td>[0.14191999783118564...</td></tr><tr><td>0.4</td><td>found the game a bit...</td><td>[found, the, game, a...</td><td>[-0.0628190692177189...</td></tr><tr><td>0.8</td><td>I liked it and had f...</td><td>[i, liked, it, and, ...</td><td>[-0.0651781079289850...</td></tr><tr><td>0.8</td><td>4 Stars because they...</td><td>[4, stars, because, ...</td><td>[-0.0162083812590156...</td></tr><tr><td>0.2</td><td>I've bought and play...</td><td>[i've, bought, and, ...</td><td>[-0.0336964226191733...</td></tr><tr><td>1.0</td><td>Loved playing Dirt 2...</td><td>[loved, playing, dir...</td><td>[-0.0352076050810555...</td></tr><tr><td>1.0</td><td>I'm not quite finish...</td><td>[i'm, not, quite, fi...</td><td>[-0.0626310536924339...</td></tr><tr><td>0.8</td><td>I had Dirt 2 on Xbox...</td><td>[i, had, dirt, 2, on...</td><td>[-0.0142836650530438...</td></tr><tr><td>0.2</td><td>Update June 2013:\n",
       "De...</td><td>[update, june, 2013:...</td><td>[-0.0370714604060220...</td></tr><tr><td>1.0</td><td>i like bf games and ...</td><td>[i, like, bf, games,...</td><td>[0.06576568037012799...</td></tr><tr><td>0.8</td><td>Good gameFour Stars</td><td>[good, gamefour, sta...</td><td>[0.26492684086163837...</td></tr><tr><td>0.4</td><td>This game requires t...</td><td>[this, game, require...</td><td>[0.03600580883850794...</td></tr><tr><td>0.2</td><td>I bought this and th...</td><td>[i, bought, this, an...</td><td>[-0.0742224157603352...</td></tr><tr><td>0.2</td><td>1st shipment receive...</td><td>[1st, shipment, rece...</td><td>[-0.0722460308842161...</td></tr><tr><td>1.0</td><td>Dirt 3 on DVD\n",
       "i coll...</td><td>[dirt, 3, on, dvd, i...</td><td>[-0.0175122064887546...</td></tr><tr><td>0.4</td><td>The game itself is g...</td><td>[the, game, itself, ...</td><td>[-0.0036668734325628...</td></tr><tr><td>0.8</td><td>If you like rally ca...</td><td>[if, you, like, rall...</td><td>[-0.0443363343998626...</td></tr><tr><td>0.6</td><td>This really is a ste...</td><td>[this, really, is, a...</td><td>[-0.0597875485606491...</td></tr><tr><td>0.8</td><td>I really enjoyed the...</td><td>[i, really, enjoyed,...</td><td>[-0.0415226683198852...</td></tr>\n",
       "      </table>"
      ]
     },
     "metadata": {},
     "output_type": "display_data"
    },
    {
     "data": {
      "text/plain": [
       "\u001b[32mimport \u001b[39m\u001b[36morg.apache.spark.ml.feature.Tokenizer\n",
       "\u001b[39m\r\n",
       "\u001b[32mimport \u001b[39m\u001b[36morg.apache.spark.ml.feature.Word2Vec\n",
       "\u001b[39m\r\n",
       "\u001b[32mimport \u001b[39m\u001b[36morg.apache.spark.ml.linalg.Vector\n",
       "\u001b[39m\r\n",
       "\u001b[32mimport \u001b[39m\u001b[36morg.apache.spark.sql.Row\n",
       "\n",
       "// Input data: Each row is a bag of words from a sentence or document.\n",
       "\n",
       "\u001b[39m\r\n",
       "\u001b[36mtokenizer\u001b[39m: \u001b[32mTokenizer\u001b[39m = tok_a8997116bc67\r\n",
       "\u001b[36mwordsData\u001b[39m: \u001b[32mDataFrame\u001b[39m = [satisfaction: double, sentence: string ... 1 more field]\r\n",
       "\u001b[36mword2Vec\u001b[39m: \u001b[32mWord2Vec\u001b[39m = w2v_0d75ab588e3f\r\n",
       "\u001b[36mmodel\u001b[39m: \u001b[32morg\u001b[39m.\u001b[32mapache\u001b[39m.\u001b[32mspark\u001b[39m.\u001b[32mml\u001b[39m.\u001b[32mfeature\u001b[39m.\u001b[32mWord2VecModel\u001b[39m = Word2VecModel: uid=w2v_0d75ab588e3f, numWords=620216, vectorSize=128\r\n",
       "\u001b[36mresult\u001b[39m: \u001b[32mDataFrame\u001b[39m = [satisfaction: double, sentence: string ... 2 more fields]"
      ]
     },
     "execution_count": 20,
     "metadata": {},
     "output_type": "execute_result"
    }
   ],
   "source": [
    "//Word2Vec\n",
    "import org.apache.spark.ml.feature.Word2Vec\n",
    "import org.apache.spark.ml.linalg.Vector\n",
    "import org.apache.spark.sql.Row\n",
    "\n",
    "// Input data: Each row is a bag of words from a sentence or document.\n",
    "\n",
    "\n",
    "// Learn a mapping from words to Vectors.\n",
    "val word2Vec = new Word2Vec()\n",
    "  .setInputCol(\"words\")\n",
    "  .setOutputCol(\"result\")\n",
    "  .setVectorSize(128)\n",
    "  .setMinCount(0)\n",
    "val model = word2Vec.fit(wordsData)\n",
    "\n",
    "val result = model.transform(wordsData)\n",
    "result.showHTML()\n",
    "result.describe().showHTML()"
   ]
  },
  {
   "cell_type": "code",
   "execution_count": null,
   "metadata": {},
   "outputs": [],
   "source": [
    "result.select(\"result\").map(_.getAs[Vector])"
   ]
  },
  {
   "cell_type": "markdown",
   "metadata": {},
   "source": [
    "### 5.3 Seperate Training Dataset and Testing Dataset"
   ]
  },
  {
   "cell_type": "code",
   "execution_count": 31,
   "metadata": {
    "colab": {
     "base_uri": "https://localhost:8080/",
     "height": 408
    },
    "id": "a_gpDpR3o8c9",
    "outputId": "d875b97e-973c-4f03-a157-52fac69a09a7"
   },
   "outputs": [
    {
     "data": {
      "text/html": [
       "<div>\n",
       "  <span style=\"float: left;\">treeAggregate at Statistics.scala:58</span>\n",
       "</div>\n"
      ]
     },
     "metadata": {},
     "output_type": "display_data"
    },
    {
     "data": {
      "text/html": [
       "<div class=\"progress\">\n",
       "  <div class=\"progress-bar\" role=\"progressbar\" style=\"background-color: blue; width: 100%; word-wrap: normal; white-space: nowrap; text-align: center; color: white\" aria-valuenow=\"100\" aria-valuemin=\"0\" aria-valuemax=\"100\">\n",
       "    16 / 16\n",
       "  </div>\n",
       "  <div class=\"progress-bar\" role=\"progressbar\" style=\"background-color: red; width: 0%\" aria-valuenow=\"0\" aria-valuemin=\"0\" aria-valuemax=\"100\"></div>\n",
       "</div>\n"
      ]
     },
     "metadata": {},
     "output_type": "display_data"
    },
    {
     "data": {
      "text/html": [
       "<div>\n",
       "  <span style=\"float: left;\">treeAggregate at Statistics.scala:58</span>\n",
       "</div>\n"
      ]
     },
     "metadata": {},
     "output_type": "display_data"
    },
    {
     "data": {
      "text/html": [
       "<div class=\"progress\">\n",
       "  <div class=\"progress-bar\" role=\"progressbar\" style=\"background-color: blue; width: 100%; word-wrap: normal; white-space: nowrap; text-align: center; color: white\" aria-valuenow=\"100\" aria-valuemin=\"0\" aria-valuemax=\"100\">\n",
       "    4 / 4\n",
       "  </div>\n",
       "  <div class=\"progress-bar\" role=\"progressbar\" style=\"background-color: red; width: 0%\" aria-valuenow=\"0\" aria-valuemin=\"0\" aria-valuemax=\"100\"></div>\n",
       "</div>\n"
      ]
     },
     "metadata": {},
     "output_type": "display_data"
    },
    {
     "data": {
      "text/html": [
       "<div>\n",
       "  <span style=\"float: left;\">treeAggregate at Statistics.scala:58</span>\n",
       "</div>\n"
      ]
     },
     "metadata": {},
     "output_type": "display_data"
    },
    {
     "data": {
      "text/html": [
       "<div class=\"progress\">\n",
       "  <div class=\"progress-bar\" role=\"progressbar\" style=\"background-color: blue; width: 100%; word-wrap: normal; white-space: nowrap; text-align: center; color: white\" aria-valuenow=\"100\" aria-valuemin=\"0\" aria-valuemax=\"100\">\n",
       "    16 / 16\n",
       "  </div>\n",
       "  <div class=\"progress-bar\" role=\"progressbar\" style=\"background-color: red; width: 0%\" aria-valuenow=\"0\" aria-valuemin=\"0\" aria-valuemax=\"100\"></div>\n",
       "</div>\n"
      ]
     },
     "metadata": {},
     "output_type": "display_data"
    },
    {
     "data": {
      "text/html": [
       "<div>\n",
       "  <span style=\"float: left;\">treeAggregate at Statistics.scala:58</span>\n",
       "</div>\n"
      ]
     },
     "metadata": {},
     "output_type": "display_data"
    },
    {
     "data": {
      "text/html": [
       "<div class=\"progress\">\n",
       "  <div class=\"progress-bar\" role=\"progressbar\" style=\"background-color: blue; width: 100%; word-wrap: normal; white-space: nowrap; text-align: center; color: white\" aria-valuenow=\"100\" aria-valuemin=\"0\" aria-valuemax=\"100\">\n",
       "    4 / 4\n",
       "  </div>\n",
       "  <div class=\"progress-bar\" role=\"progressbar\" style=\"background-color: red; width: 0%\" aria-valuenow=\"0\" aria-valuemin=\"0\" aria-valuemax=\"100\"></div>\n",
       "</div>\n"
      ]
     },
     "metadata": {},
     "output_type": "display_data"
    },
    {
     "data": {
      "text/plain": [
       "\u001b[32mimport \u001b[39m\u001b[36morg.apache.spark.ml.feature.VectorAssembler\n",
       "\u001b[39m\r\n",
       "\u001b[32mimport \u001b[39m\u001b[36morg.apache.spark.sql.functions._\n",
       "\u001b[39m\r\n",
       "\u001b[32mimport \u001b[39m\u001b[36morg.apache.spark.mllib.regression.LabeledPoint\n",
       "\u001b[39m\r\n",
       "\u001b[32mimport \u001b[39m\u001b[36morg.apache.spark.mllib.linalg.Vectors.fromML\n",
       "\n",
       "\u001b[39m\r\n",
       "\u001b[36massembler\u001b[39m: \u001b[32mVectorAssembler\u001b[39m = VectorAssembler: uid=vecAssembler_c4a1dd84ffaa, handleInvalid=error, numInputCols=1\r\n",
       "\u001b[36moutput\u001b[39m: \u001b[32mDataFrame\u001b[39m = [satisfaction: double, result: vector ... 1 more field]\r\n",
       "\u001b[36mLabeledDF\u001b[39m: \u001b[32mDataset\u001b[39m[\u001b[32mLabeledPoint\u001b[39m] = [label: double, features: vector]\r\n",
       "\u001b[36mtraining\u001b[39m: \u001b[32mArray\u001b[39m[\u001b[32morg\u001b[39m.\u001b[32mapache\u001b[39m.\u001b[32mspark\u001b[39m.\u001b[32mrdd\u001b[39m.\u001b[32mRDD\u001b[39m[\u001b[32mLabeledPoint\u001b[39m]] = \u001b[33mArray\u001b[39m(\n",
       "  MapPartitionsRDD[345] at randomSplit at cmd30.sc:16,\n",
       "  MapPartitionsRDD[346] at randomSplit at cmd30.sc:16\n",
       ")\r\n",
       "\u001b[36mtesting\u001b[39m: \u001b[32mArray\u001b[39m[\u001b[32morg\u001b[39m.\u001b[32mapache\u001b[39m.\u001b[32mspark\u001b[39m.\u001b[32mrdd\u001b[39m.\u001b[32mRDD\u001b[39m[\u001b[32mLabeledPoint\u001b[39m]] = \u001b[33mArray\u001b[39m(\n",
       "  MapPartitionsRDD[347] at randomSplit at cmd30.sc:16,\n",
       "  MapPartitionsRDD[348] at randomSplit at cmd30.sc:16\n",
       ")\r\n",
       "\u001b[36msepTrainingDF\u001b[39m: \u001b[32morg\u001b[39m.\u001b[32mapache\u001b[39m.\u001b[32mspark\u001b[39m.\u001b[32mrdd\u001b[39m.\u001b[32mRDD\u001b[39m[\u001b[32mLabeledPoint\u001b[39m] = UnionRDD[349] at union at cmd30.sc:19\r\n",
       "\u001b[36msepTestingDF\u001b[39m: \u001b[32morg\u001b[39m.\u001b[32mapache\u001b[39m.\u001b[32mspark\u001b[39m.\u001b[32mrdd\u001b[39m.\u001b[32mRDD\u001b[39m[\u001b[32mLabeledPoint\u001b[39m] = UnionRDD[350] at union at cmd30.sc:20\r\n",
       "\u001b[32mimport \u001b[39m\u001b[36morg.apache.spark.mllib.feature.{StandardScaler, StandardScalerModel}\n",
       "\n",
       "\u001b[39m\r\n",
       "\u001b[36mtrainScaler\u001b[39m: \u001b[32mStandardScalerModel\u001b[39m = org.apache.spark.mllib.feature.StandardScalerModel@7101ae5f\r\n",
       "\u001b[36mtrainScaleredData\u001b[39m: \u001b[32morg\u001b[39m.\u001b[32mapache\u001b[39m.\u001b[32mspark\u001b[39m.\u001b[32mrdd\u001b[39m.\u001b[32mRDD\u001b[39m[(\u001b[32mDouble\u001b[39m, \u001b[32morg\u001b[39m.\u001b[32mapache\u001b[39m.\u001b[32mspark\u001b[39m.\u001b[32mmllib\u001b[39m.\u001b[32mlinalg\u001b[39m.\u001b[32mVector\u001b[39m)] = MapPartitionsRDD[357] at map at cmd30.sc:26\r\n",
       "\u001b[36mtestScaler\u001b[39m: \u001b[32mStandardScalerModel\u001b[39m = org.apache.spark.mllib.feature.StandardScalerModel@21129d93\r\n",
       "\u001b[36mtestScaleredData\u001b[39m: \u001b[32morg\u001b[39m.\u001b[32mapache\u001b[39m.\u001b[32mspark\u001b[39m.\u001b[32mrdd\u001b[39m.\u001b[32mRDD\u001b[39m[(\u001b[32mDouble\u001b[39m, \u001b[32morg\u001b[39m.\u001b[32mapache\u001b[39m.\u001b[32mspark\u001b[39m.\u001b[32mmllib\u001b[39m.\u001b[32mlinalg\u001b[39m.\u001b[32mVector\u001b[39m)] = MapPartitionsRDD[364] at map at cmd30.sc:28\r\n",
       "\u001b[32mimport \u001b[39m\u001b[36morg.apache.spark.mllib.util.MLUtils\n",
       "\u001b[39m\r\n",
       "\u001b[36mtrainingDF\u001b[39m: \u001b[32mDataset\u001b[39m[\u001b[32mRow\u001b[39m] = [label: double, features: vector]\r\n",
       "\u001b[36mtestingDF\u001b[39m: \u001b[32mDataset\u001b[39m[\u001b[32mRow\u001b[39m] = [label: double, features: vector]\r\n",
       "\u001b[36mlabeledTrainingDF\u001b[39m: \u001b[32mDataset\u001b[39m[\u001b[32mLabeledPoint\u001b[39m] = [label: double, features: vector]\r\n",
       "\u001b[36mlabeledTestingDF\u001b[39m: \u001b[32mDataset\u001b[39m[\u001b[32mLabeledPoint\u001b[39m] = [label: double, features: vector]"
      ]
     },
     "execution_count": 31,
     "metadata": {},
     "output_type": "execute_result"
    }
   ],
   "source": [
    "import org.apache.spark.ml.feature.VectorAssembler\n",
    "import org.apache.spark.sql.functions._\n",
    "import org.apache.spark.mllib.regression.LabeledPoint\n",
    "import org.apache.spark.mllib.linalg.Vectors.fromML\n",
    "\n",
    "val assembler = new VectorAssembler()\n",
    "  .setInputCols(Array(\"result\"))\n",
    "  .setOutputCol(\"features\")\n",
    "\n",
    "val output = assembler.transform(result.select(\"satisfaction\",\"result\"))\n",
    "\n",
    "\n",
    "val LabeledDF = output.map(p=>LabeledPoint(p.getDouble(0),fromML(p.getAs[Vector](1))))\n",
    "\n",
    "\n",
    "val training,testing = LabeledDF.rdd.randomSplit(Array(0.7,0.3))\n",
    "// val training_2,testing_2 = sc.union(testing).randomSplit(Array(0.7,0.3))\n",
    "\n",
    "val sepTrainingDF = sc.union(training)\n",
    "val sepTestingDF = sc.union(testing)\n",
    "\n",
    "//StandardScaler\n",
    "import org.apache.spark.mllib.feature.{StandardScaler, StandardScalerModel}\n",
    "\n",
    "val trainScaler = new StandardScaler().fit(sepTrainingDF.map(p => p.features))\n",
    "val trainScaleredData = sepTrainingDF.map(x=> (x.label, trainScaler.transform(x.features)))\n",
    "val testScaler = new StandardScaler().fit(sepTestingDF.map(p => p.features))\n",
    "val testScaleredData = sepTestingDF.map(x=> (x.label, testScaler.transform(x.features)))\n",
    "import org.apache.spark.mllib.util.MLUtils\n",
    "val trainingDF = MLUtils.convertVectorColumnsToML(trainScaleredData.toDF(\"label\",\"features\"))\n",
    "val testingDF = MLUtils.convertVectorColumnsToML(testScaleredData.toDF(\"label\",\"features\"))\n",
    "val labeledTrainingDF = trainingDF.map(p=>LabeledPoint(p.getDouble(0),fromML(p.getAs[Vector](1))))\n",
    "val labeledTestingDF = testingDF.map(p=>LabeledPoint(p.getDouble(0),fromML(p.getAs[Vector](1))))"
   ]
  },
  {
   "cell_type": "markdown",
   "metadata": {},
   "source": [
    "# **Step 7: Algorithm Implementation**"
   ]
  },
  {
   "cell_type": "markdown",
   "metadata": {},
   "source": [
    "## Generalized Linear regression\n",
    "---"
   ]
  },
  {
   "cell_type": "markdown",
   "metadata": {},
   "source": [
    "### Train"
   ]
  },
  {
   "cell_type": "code",
   "execution_count": 32,
   "metadata": {
    "colab": {
     "base_uri": "https://localhost:8080/",
     "height": 51
    },
    "id": "Cm5I3Bu4tPBe",
    "outputId": "f6af491b-13fd-4009-cc40-404372cd5e95"
   },
   "outputs": [
    {
     "data": {
      "text/html": [
       "<div>\n",
       "  <span style=\"float: left;\">head at MetadataUtils.scala:51</span>\n",
       "</div>\n"
      ]
     },
     "metadata": {},
     "output_type": "display_data"
    },
    {
     "data": {
      "text/html": [
       "<div class=\"progress\">\n",
       "  <div class=\"progress-bar\" role=\"progressbar\" style=\"background-color: blue; width: 100%; word-wrap: normal; white-space: nowrap; text-align: center; color: white\" aria-valuenow=\"100\" aria-valuemin=\"0\" aria-valuemax=\"100\">\n",
       "    1 / 1\n",
       "  </div>\n",
       "  <div class=\"progress-bar\" role=\"progressbar\" style=\"background-color: red; width: 0%\" aria-valuenow=\"0\" aria-valuemin=\"0\" aria-valuemax=\"100\"></div>\n",
       "</div>\n"
      ]
     },
     "metadata": {},
     "output_type": "display_data"
    },
    {
     "data": {
      "text/html": [
       "<div>\n",
       "  <span style=\"float: left;\">treeAggregate at WeightedLeastSquares.scala:107</span>\n",
       "</div>\n"
      ]
     },
     "metadata": {},
     "output_type": "display_data"
    },
    {
     "data": {
      "text/html": [
       "<div class=\"progress\">\n",
       "  <div class=\"progress-bar\" role=\"progressbar\" style=\"background-color: blue; width: 100%; word-wrap: normal; white-space: nowrap; text-align: center; color: white\" aria-valuenow=\"100\" aria-valuemin=\"0\" aria-valuemax=\"100\">\n",
       "    16 / 16\n",
       "  </div>\n",
       "  <div class=\"progress-bar\" role=\"progressbar\" style=\"background-color: red; width: 0%\" aria-valuenow=\"0\" aria-valuemin=\"0\" aria-valuemax=\"100\"></div>\n",
       "</div>\n"
      ]
     },
     "metadata": {},
     "output_type": "display_data"
    },
    {
     "data": {
      "text/html": [
       "<div>\n",
       "  <span style=\"float: left;\">treeAggregate at WeightedLeastSquares.scala:107</span>\n",
       "</div>\n"
      ]
     },
     "metadata": {},
     "output_type": "display_data"
    },
    {
     "data": {
      "text/html": [
       "<div class=\"progress\">\n",
       "  <div class=\"progress-bar\" role=\"progressbar\" style=\"background-color: blue; width: 100%; word-wrap: normal; white-space: nowrap; text-align: center; color: white\" aria-valuenow=\"100\" aria-valuemin=\"0\" aria-valuemax=\"100\">\n",
       "    4 / 4\n",
       "  </div>\n",
       "  <div class=\"progress-bar\" role=\"progressbar\" style=\"background-color: red; width: 0%\" aria-valuenow=\"0\" aria-valuemin=\"0\" aria-valuemax=\"100\"></div>\n",
       "</div>\n"
      ]
     },
     "metadata": {},
     "output_type": "display_data"
    },
    {
     "name": "stderr",
     "output_type": "stream",
     "text": [
      "21/05/10 20:26:19 WARN LAPACK: Failed to load implementation from: com.github.fommil.netlib.NativeSystemLAPACK\n",
      "21/05/10 20:26:19 WARN LAPACK: Failed to load implementation from: com.github.fommil.netlib.NativeRefLAPACK\n"
     ]
    },
    {
     "data": {
      "text/plain": [
       "\u001b[32mimport \u001b[39m\u001b[36morg.apache.spark.ml.regression.GeneralizedLinearRegression\n",
       "\n",
       "\u001b[39m\r\n",
       "\u001b[36mglr\u001b[39m: \u001b[32mGeneralizedLinearRegression\u001b[39m = glm_dbcf12609ce6\r\n",
       "\u001b[36mglrModel\u001b[39m: \u001b[32morg\u001b[39m.\u001b[32mapache\u001b[39m.\u001b[32mspark\u001b[39m.\u001b[32mml\u001b[39m.\u001b[32mregression\u001b[39m.\u001b[32mGeneralizedLinearRegressionModel\u001b[39m = GeneralizedLinearRegressionModel: uid=glm_dbcf12609ce6, family=gaussian, link=identity, numFeatures=128"
      ]
     },
     "execution_count": 32,
     "metadata": {},
     "output_type": "execute_result"
    }
   ],
   "source": [
    "import org.apache.spark.ml.regression.GeneralizedLinearRegression\n",
    "\n",
    "val glr = new GeneralizedLinearRegression()\n",
    "  .setFamily(\"gaussian\")\n",
    "  .setLink(\"identity\")\n",
    "  .setMaxIter(10)\n",
    "  .setRegParam(0.3)\n",
    "\n",
    "val glrModel = glr.fit(trainingDF)\n"
   ]
  },
  {
   "cell_type": "markdown",
   "metadata": {},
   "source": [
    "### Evaluate"
   ]
  },
  {
   "cell_type": "code",
   "execution_count": 41,
   "metadata": {},
   "outputs": [
    {
     "name": "stdout",
     "output_type": "stream",
     "text": [
      "Coefficients: [0.003397385727844853,0.00589184485264365,4.8469759339876483E-4,-0.0010308669542022505,0.0010158783069894276,-3.7261113283640756E-5,0.0010417455866226942,-0.004297640027249423,0.001632129448408305,-0.003543137066265306,-0.0035383357821973335,-0.006024186524737808,1.0872224421768341E-5,0.0026806840668929604,0.002965463383889907,-0.001795375638558686,-0.005073297984424765,0.010061156251052618,0.004213112430614763,-0.003631667290280562,0.0059704307855914,-0.0037762637092954936,0.0022297386459194583,0.007390124391456877,-0.0016949045014767914,0.0017013122339287637,0.0035126920014341445,-0.00445681802085054,0.003710155748645195,0.0012476551781837111,-0.0061743143394660405,0.009295230628913556,-0.001799769270163597,0.005993577370707103,-7.096400970575739E-4,-7.878562177818291E-4,-0.0019281893616678435,-0.0018021091888387917,-7.50294252354613E-4,-9.533328555034621E-4,0.004503125397218127,-0.0029897254213788623,-0.0028451875483321166,-0.007458915313245787,-0.0034477808998429416,0.0029980420138976545,6.8903244822203E-4,0.006005952698478195,0.003434412020717176,-5.803784928295039E-4,-0.002774614570640103,0.005596959882992862,-0.002906866667050745,-0.0029052213896387474,0.005693976681506677,0.0037019734686828,1.6084299130492713E-4,-0.002319977093251148,-0.0018440499719825725,-0.0011983959932551495,0.007844645829901572,0.0012995690985938572,-9.504639341269159E-4,-0.0022666135379968777,0.005708972900913208,-0.005334894609331678,-0.0016945084903962485,-0.004501617722775798,0.0020780672092496595,-0.003907132648604511,-0.00172067001469809,-0.004048995271210141,-4.4589478056245084E-4,0.007708020145675613,-0.0032030410737486463,0.008322643242589205,-9.403023786581139E-4,0.0050973529340617016,-5.46578780196866E-4,9.875339746396968E-5,-0.0022457262643062748,-9.032708063781566E-5,-0.0013030237355666698,0.006462189055903837,0.0033376767217415952,-0.003192984451454262,-0.0026869935581895093,-0.008838678094073842,1.2399024035403934E-4,-2.7758846592936703E-4,0.008174690856633563,-0.0025459444133078195,-0.002608526704494067,-0.001756466812350514,-4.763654408784119E-5,-0.0033192459341774942,-5.909568972161389E-5,0.0032266240404062074,0.0013777003700965712,0.003266966286926335,0.007202786429865453,0.003820430318471808,-0.002766260323432825,4.303385022447892E-4,-4.485187558260039E-4,-0.0045559355852444056,-0.0017256450245492327,0.0024594575660629035,0.0021840459800843417,0.0035360683589364473,0.009044869642162882,-0.0049103074743044395,-0.002365498791675149,0.003000768756946904,-0.0032139256331401717,0.004286001908590045,-0.0018495778893781968,-0.001955171570852754,-0.005186000749503104,1.427496119840635E-4,5.646981145952508E-4,0.0029666396066643573,-0.004191282826464952,-0.005724441442198228,-0.0046538802841125035,-0.002736309120868221,0.005607817689698658,0.0010209909319085018]\n"
     ]
    }
   ],
   "source": [
    "// Print the coefficients and intercept for generalized linear regression model\n",
    "println(s\"Coefficients: ${glrModel.coefficients}\")\n"
   ]
  },
  {
   "cell_type": "code",
   "execution_count": 42,
   "metadata": {},
   "outputs": [
    {
     "name": "stdout",
     "output_type": "stream",
     "text": [
      "Intercept: 0.804593880576267\n"
     ]
    }
   ],
   "source": [
    "println(s\"Intercept: ${glrModel.intercept}\")\n"
   ]
  },
  {
   "cell_type": "code",
   "execution_count": 43,
   "metadata": {},
   "outputs": [
    {
     "name": "stdout",
     "output_type": "stream",
     "text": [
      "Coefficient Standard Errors: 3.618963594696552E-4,3.341212387354135E-4,3.37870852032774E-4,3.6258299366055306E-4,3.6888686985022025E-4,3.585891485336943E-4,3.400090076937116E-4,3.6615138082928683E-4,3.100185838653854E-4,3.422365674191379E-4,3.390288808671037E-4,3.458425619249099E-4,3.339820199172766E-4,3.345221246714338E-4,3.6128092111930053E-4,3.425968479658027E-4,3.4847026041996736E-4,3.2923959144775606E-4,3.450396397392572E-4,3.6018376941863707E-4,3.2940378988917434E-4,3.24659420577893E-4,3.656996217149126E-4,3.3925473010848136E-4,3.706324200569608E-4,3.349837367592225E-4,3.645962533433784E-4,3.63107483429612E-4,3.6532661983389896E-4,3.592364312090618E-4,3.6898817165336096E-4,3.2599987871108485E-4,3.180633589705388E-4,3.639938735891872E-4,3.3505019578252776E-4,3.4198250732320754E-4,3.659333388257112E-4,3.112806821418159E-4,3.7160821202634044E-4,3.4618300769562226E-4,3.4349361719469346E-4,3.5295039707185113E-4,3.5596665330594676E-4,3.2378001687988916E-4,3.3786814100344575E-4,3.4259445951062074E-4,3.219593202319914E-4,3.256623490324262E-4,3.5314358559278964E-4,3.220703123731276E-4,3.268792789284555E-4,3.3289831722948333E-4,3.703416048025182E-4,3.496843390113135E-4,3.6408186296442094E-4,3.603725610234517E-4,3.6010215364888144E-4,3.629375421912852E-4,3.583359411287023E-4,3.692586333547827E-4,3.286632549780533E-4,3.459044070018068E-4,3.124406493053556E-4,3.697762731783922E-4,3.093529423907809E-4,3.458347598787069E-4,3.5587979221240714E-4,3.4088885807532544E-4,3.5274332415121084E-4,3.108850522846281E-4,3.293933170335584E-4,3.2938467874516777E-4,3.381762801859228E-4,3.542401579789336E-4,3.6977326544395653E-4,3.4337210553621116E-4,3.471530877550544E-4,3.5928932236097455E-4,3.35118087847327E-4,3.6711920286332884E-4,3.2858668948165494E-4,3.311127234521586E-4,3.210537128678203E-4,3.1823824343674086E-4,3.203605982894098E-4,3.657160447736906E-4,3.334760047629777E-4,3.342436430898451E-4,3.699002053514775E-4,3.2624591874630643E-4,3.5095299029225984E-4,3.661817096416754E-4,3.5567565292579726E-4,3.4213801573314387E-4,3.734257663101765E-4,3.487056445539259E-4,3.177282443988327E-4,3.5021028198822584E-4,3.5749676199038844E-4,3.440972074469946E-4,3.440008809649437E-4,3.283955373224416E-4,3.318945091006914E-4,3.2184223711077695E-4,3.725498703410788E-4,3.1027887367999303E-4,3.603618889623518E-4,3.378422810195693E-4,3.6038538871870193E-4,3.2921667463144735E-4,3.360608404538438E-4,3.5961659218997663E-4,3.587647311454739E-4,3.570209346317576E-4,3.5176804135468977E-4,3.6019220530301397E-4,3.672306865038803E-4,3.671006590837531E-4,3.1721919461403256E-4,3.626016912107319E-4,3.2610027214412685E-4,3.113442693112934E-4,3.4342013804307777E-4,3.511834075326712E-4,3.476863287369409E-4,3.3174640413917466E-4,3.5672956127669235E-4,3.650870022185514E-4,0.001674901221414948\n"
     ]
    },
    {
     "data": {
      "text/plain": [
       "\u001b[36msummary\u001b[39m: \u001b[32morg\u001b[39m.\u001b[32mapache\u001b[39m.\u001b[32mspark\u001b[39m.\u001b[32mml\u001b[39m.\u001b[32mregression\u001b[39m.\u001b[32mGeneralizedLinearRegressionTrainingSummary\u001b[39m = Coefficients:\n",
       "     Feature Estimate Std Error  T Value P Value\n",
       " (Intercept)   0.8046    0.0017 480.3829  0.0000\n",
       "  features_0   0.0034    0.0004   9.3877  0.0000\n",
       "  features_1   0.0059    0.0003  17.6339  0.0000\n",
       "  features_2   0.0005    0.0003   1.4346  0.1514\n",
       "  features_3  -0.0010    0.0004  -2.8431  0.0045\n",
       "  features_4   0.0010    0.0004   2.7539  0.0059\n",
       "  features_5   0.0000    0.0004  -0.1039  0.9172\n",
       "  features_6   0.0010    0.0003   3.0639  0.0022\n",
       "  features_7  -0.0043    0.0004 -11.7373  0.0000\n",
       "  features_8   0.0016    0.0003   5.2646  0.0000\n",
       "  features_9  -0.0035    0.0003 -10.3529  0.0000\n",
       " features_10  -0.0035    0.0003 -10.4367  0.0000\n",
       " features_11  -0.0060    0.0003 -17.4189  0.0000\n",
       " features_12   0.0000    0.0003   0.0326  0.9740\n",
       " features_13   0.0027    0.0003   8.0135  0.0000\n",
       " features_14   0.0030    0.0004   8.2082  0.0000\n",
       " features_15  -0.0018    0.0003  -5.2405  0.0000\n",
       " features_16  -0.0051    0.0003 -14.5588  0.0000\n",
       " features_17   0.0101    0.0003  30.5588  0.0000\n",
       " features_18   0.0042    0.0003  12.2105  0.0000\n",
       " features_19  -0.0036    0.0004 -10.0828  0.0000\n",
       " features_20   0.0060    0.0003  18.1250  0.0000\n",
       " features_21  -0.0038    0.0003 -11.6315  0.0000\n",
       " features_22   0.0022    0.0004   6.0972  0.0000\n",
       " features_23   0.0074    0.0003  21.7834  0.0000\n",
       " features_24  -0.0017    0.0004  -4.5730  0.0000\n",
       " features_25   0.0017    0.0003   5.0788  0.0000\n",
       " features_26   0.0035    0.0004   9.6345  0.0000\n",
       " features_27  -0.0045    0.0004 -12.2741  0.0000\n",
       " features_28   0.0037    0.0004  10.1557  0.0000\n",
       " features_29   0.0012    0.0004   3.4731  0.0005\n",
       " features_30  -0.0062    0.0004 -16.7331  0.0000\n",
       " features_31   0.0093    0.0003  28.5130  0.0000\n",
       " features_32  -0.0018    0.0003  -5.6585  0.0000\n",
       " features_33   0.0060    0.0004  16.4661  0.0000\n",
       " features_34  -0.0007    0.0003  -2.1180  0.0342\n",
       "..."
      ]
     },
     "execution_count": 43,
     "metadata": {},
     "output_type": "execute_result"
    }
   ],
   "source": [
    "// Summarize the model over the training set and print out some metrics\n",
    "val summary = glrModel.summary\n",
    "println(s\"Coefficient Standard Errors: ${summary.coefficientStandardErrors.mkString(\",\")}\")\n"
   ]
  },
  {
   "cell_type": "code",
   "execution_count": 44,
   "metadata": {},
   "outputs": [
    {
     "name": "stdout",
     "output_type": "stream",
     "text": [
      "T Values: 9.387731152707884,17.633853133500832,1.434564687905509,-2.8431199814278627,2.753902049704036,-0.10391032030948247,3.0638764357711485,-11.737331203055438,5.264618101465167,-10.35288862608892,-10.436679533459362,-17.418869705359725,0.03255332255449339,8.013473158243022,8.208192601763947,-5.240490825350199,-14.558768884066483,30.558767877250048,12.210517127245344,-10.082817713142207,18.124960819667894,-11.631461987376657,6.0971860880339905,21.783408558795283,-4.573006595635398,5.078790541857327,9.634470922897485,-12.274101262676094,10.155722433618637,3.4730753058217076,-16.733095567264918,28.512987997616374,-5.65852437699466,16.466149035990664,-2.1180112890254286,-2.303790986119727,-5.269236653472048,-5.78933834389945,-2.019046479794775,-2.7538406978706185,13.109778964730335,-8.470667397408354,-7.992848548896884,-23.036984756266715,-10.204516145272718,8.750993866568098,2.1401226953937535,18.442269167198635,9.725256696796984,-1.8020241870573865,-8.48819349986203,16.81282119288876,-7.84914962120124,-8.3081255450355,15.639275835234638,10.272628576851858,0.44665934284235775,-6.392221315116557,-5.146148516875262,-3.245410899042498,23.868338523043604,3.7570180439680523,-3.0420623444486736,-6.129688956282463,18.45456150115268,-15.426137647941353,-4.761463076793301,-13.205529063613707,5.891159568363234,-12.567772621719262,-5.223755084632725,-12.292603549853307,-1.3185276634934493,21.759306425484382,-8.662175914483749,24.23797130984922,-2.7086101544963817,14.187320960628048,-1.6310035179177682,0.26899545622715243,-6.834501628318861,-0.27279857957758824,-4.058584851510913,20.306136013437325,10.41849946455144,-8.730774865046236,-8.057531935766486,-26.4438180854138,0.33519916604594574,-0.8508565164464903,23.292837168379737,-6.952680448728955,-7.3340041215536065,-5.133796104436693,-0.1275663020217869,-9.518761700641718,-0.1859944489147563,9.213390372458246,3.8537422337089913,9.494312119430917,20.938279023185036,11.633624347095326,-8.334757724459934,1.3371100888062377,-1.2039160164392855,-14.683357365616784,-4.788644630313603,7.279898651644615,6.060306684045657,10.740854371653615,26.914381425541748,-13.654285094027154,-6.593454111619388,8.405021851287206,-9.13649125362003,11.899207827066714,-5.036555923434937,-5.325982186282826,-16.34831951393428,0.39368159455467694,1.7316701727426669,9.528486306257342,-12.204534219653736,-16.300432535855705,-13.38528408930805,-8.24819526821542,15.720081256033142,2.7965688334675574,480.3828848465167\n",
      "P Values: 0.0,0.0,0.1514124450247034,0.004467790106716274,0.005889368059921463,0.9172406011332304,0.002185125794926357,0.0,1.4059771635821505E-7,0.0,0.0,0.0,0.974030819412711,1.1102230246251565E-15,2.220446049250313E-16,1.602806865008688E-7,0.0,0.0,0.0,0.0,0.0,0.0,1.0811043171798929E-9,0.0,4.810070762140128E-6,3.80119696385961E-7,0.0,0.0,0.0,5.146187043241213E-4,0.0,0.0,1.5284775001234152E-8,0.0,0.03417510426951487,0.021235202607871706,1.3710639090724897E-7,7.0749068825648465E-9,0.0434834633309189,0.005890472094925325,0.0,0.0,1.3322676295501878E-15,0.0,0.0,0.0,0.032345825710397014,0.0,0.0,0.07154281490389525,0.0,0.0,4.218847493575595E-15,0.0,0.0,0.0,0.6551214317965663,1.637818769495425E-10,2.6609112002695667E-7,0.0011729681266154923,0.0,1.7198945258356524E-4,0.002349877875988282,8.818312746683432E-10,0.0,0.0,1.9230279166837505E-6,0.0,3.839877971145711E-9,0.0,1.7547191033528975E-7,0.0,0.18732828928575818,0.0,0.0,0.0,0.0067570317147906955,0.0,0.1028908478896069,0.7879334031781278,8.248068894545213E-12,0.7850082787716273,4.938611683802385E-5,0.0,0.0,0.0,8.881784197001252E-16,0.0,0.7374751347789705,0.3948498844096475,0.0,3.5929037522919316E-12,2.240430063693566E-13,2.841696349342726E-7,0.898492303729741,0.0,0.8524492667294199,0.0,1.1635535817533516E-4,0.0,0.0,0.0,0.0,0.1811879317491134,0.22862319048224578,0.0,1.6800825870522118E-6,3.3506530883187224E-13,1.3605718773845865E-9,0.0,0.0,0.0,4.305666934101282E-11,0.0,0.0,0.0,4.7431433536360146E-7,1.0049617116258958E-7,0.0,0.693816470403166,0.08333354860997089,0.0,0.0,0.0,0.0,2.220446049250313E-16,0.0,0.005165238526995353,0.0\n",
      "Dispersion: 0.0456862595649401\n",
      "Null Deviance: 13921.748260753453\n",
      "Residual Degree Of Freedom Null: 247957\n",
      "Deviance: 11322.38002171954\n",
      "Residual Degree Of Freedom: 247829\n",
      "AIC: -61382.60939391986\n",
      "Deviance Residuals: \n"
     ]
    },
    {
     "data": {
      "text/html": [
       "<div>\n",
       "  <span style=\"float: left;\">take at cmd3.sc:6</span>\n",
       "</div>\n"
      ]
     },
     "metadata": {},
     "output_type": "display_data"
    },
    {
     "data": {
      "text/html": [
       "<div class=\"progress\">\n",
       "  <div class=\"progress-bar\" role=\"progressbar\" style=\"background-color: blue; width: 100%; word-wrap: normal; white-space: nowrap; text-align: center; color: white\" aria-valuenow=\"100\" aria-valuemin=\"0\" aria-valuemax=\"100\">\n",
       "    1 / 1\n",
       "  </div>\n",
       "  <div class=\"progress-bar\" role=\"progressbar\" style=\"background-color: red; width: 0%\" aria-valuenow=\"0\" aria-valuemin=\"0\" aria-valuemax=\"100\"></div>\n",
       "</div>\n"
      ]
     },
     "metadata": {},
     "output_type": "display_data"
    },
    {
     "data": {
      "text/html": [
       "\n",
       "      <table class=\"table dataframe\" border=\"1\">\n",
       "        <tr>\n",
       "        <th>devianceResiduals</th>\n",
       "        </tr>\n",
       "        <tr><td>0.24319011949374003</td></tr><tr><td>-0.20177828766113293...</td></tr><tr><td>-0.02001395776882608...</td></tr><tr><td>-0.01878413443618076...</td></tr><tr><td>-0.5884353595138283</td></tr><tr><td>0.19687346990441168</td></tr><tr><td>-0.5912024319346163</td></tr><tr><td>0.11133157000493898</td></tr><tr><td>-0.37390029209613607...</td></tr><tr><td>-0.6167973366846511</td></tr><tr><td>0.1421202888374008</td></tr><tr><td>-0.386844826813292</td></tr><tr><td>0.005104146322094105...</td></tr><tr><td>0.030540336340105667...</td></tr><tr><td>-0.5501007003197633</td></tr><tr><td>-0.18990690477557337...</td></tr><tr><td>0.002952548460733672...</td></tr><tr><td>0.11612475024658431</td></tr><tr><td>-0.02294930501694980...</td></tr><tr><td>0.16756835680387117</td></tr>\n",
       "      </table>"
      ]
     },
     "metadata": {},
     "output_type": "display_data"
    }
   ],
   "source": [
    "println(s\"T Values: ${summary.tValues.mkString(\",\")}\")\n",
    "println(s\"P Values: ${summary.pValues.mkString(\",\")}\")\n",
    "println(s\"Dispersion: ${summary.dispersion}\")\n",
    "println(s\"Null Deviance: ${summary.nullDeviance}\")\n",
    "println(s\"Residual Degree Of Freedom Null: ${summary.residualDegreeOfFreedomNull}\")\n",
    "println(s\"Deviance: ${summary.deviance}\")\n",
    "println(s\"Residual Degree Of Freedom: ${summary.residualDegreeOfFreedom}\")\n",
    "println(s\"AIC: ${summary.aic}\")\n",
    "println(\"Deviance Residuals: \")\n",
    "summary.residuals().showHTML()"
   ]
  },
  {
   "cell_type": "markdown",
   "metadata": {},
   "source": [
    "### Prediction Showcase\n"
   ]
  },
  {
   "cell_type": "code",
   "execution_count": 34,
   "metadata": {},
   "outputs": [
    {
     "data": {
      "text/html": [
       "<div>\n",
       "  <span style=\"float: left;\">take at cmd33.sc:1</span>\n",
       "</div>\n"
      ]
     },
     "metadata": {},
     "output_type": "display_data"
    },
    {
     "data": {
      "text/html": [
       "<div class=\"progress\">\n",
       "  <div class=\"progress-bar\" role=\"progressbar\" style=\"background-color: blue; width: 100%; word-wrap: normal; white-space: nowrap; text-align: center; color: white\" aria-valuenow=\"100\" aria-valuemin=\"0\" aria-valuemax=\"100\">\n",
       "    1 / 1\n",
       "  </div>\n",
       "  <div class=\"progress-bar\" role=\"progressbar\" style=\"background-color: red; width: 0%\" aria-valuenow=\"0\" aria-valuemin=\"0\" aria-valuemax=\"100\"></div>\n",
       "</div>\n"
      ]
     },
     "metadata": {},
     "output_type": "display_data"
    },
    {
     "data": {
      "text/plain": [
       "\u001b[36msample\u001b[39m: \u001b[32mArray\u001b[39m[\u001b[32mRow\u001b[39m] = \u001b[33mArray\u001b[39m(\n",
       "  [1.0,[0.8478965642147723,0.04087274783956498,0.6268773596296092,0.22840926236445622,-0.1694244402698807,0.4319682924077113,-1.9081508305712964,-1.0610373138432443,1.957715995532208,1.639898961689519,0.25102098140285,0.18441176278687216,-0.16735736356176406,0.516820231246171,0.4876361732928406,-0.3751763129624932,0.1493627430365862,0.6635762082310016,1.0137975021301415,-1.6671041649516327,0.8981963060851387,-0.4074068967881917,-1.5459579909034247,2.4249287746874626,0.2450470711468585,-1.5541010314747057,-0.30418614913777053,-0.9578873325608551,1.3215789157193896,-0.7830916916822832,-1.487372587088455,-1.5291749241100698,-2.1107705627503472,0.5081686345056569,0.6609319007775778,0.7804652114617294,0.425873052879942,5.008751940134908,-0.21442650041415112,-1.1180089346841346,-0.6142601357737366,0.8850055642963233,-0.482434122384208,1.4027177282138121,-0.6529143809274862,2.3488999371839223,0.47850754044985916,0.8436661042758552,-1.3468781125995597,-2.0931780775547946,-0.8106077837810214,0.10897223876842219,-0.6594541758024048,-1.2425506055462818,1.1140363022112587,1.5928756853246986,0.4316191072299446,-1.667618981789649,-1.0623621126728013,-0.7535691844160071,0.37600761726202536,-0.924972345860628,-2.7753367999787573,-0.30645640456132145,-1.9744560970512075,-0.7234048425064544,0.7781499377110835,0.22850771800910732,-0.32457501379412945,-0.08324906639732454,-1.3715397243159548,0.6178952078261709,1.0306708781558516,1.281847483933363,0.9480017203178936,-2.7618021374144246,-2.042402121516216,1.37583030485969,-1.2940531005939777,-1.6490178994721343,1.5296762707855551,0.7286889112558496,-0.053997997489541,1.2644713547058613,1.38904962191967,-0.6003730100723433,-1.0111429753644807,-0.08061640373932516,-0.9621736559843508,1.7601380379182128,1.3591677983328032,-0.9706580773931099,-0.11816791222488003,1.8615171415935416,0.6078239400492297,-0.3256247550733637,0.19507857837072776,0.375564138374326,-0.4732949404118316,1.5035186538324274,0.4636809298901106,-2.466364682253702,-0.6983810546195326,-0.5607754225413519,0.29990038842417843,-2.2319791706390606,-0.6189807805152584,-0.11461435663167571,1.1519215447909925,1.8012294464435685,1.3020644820805525,0.9161957327731513,-0.023849287950959353,1.2204859194950088,-1.735503919144126,1.8019145119213344,-0.37572319983101127,-0.1934899604293375,1.1907250249976613,-0.26660937323930667,0.9175282080464157,3.319314024022901,-0.03306517891082623,-0.2866321645719582,-1.5006363588964704,-0.010167269354066762,1.4781737506449686,0.2069718542691668]],\n",
       "  [1.0,[-0.21525327502834407,-0.5483497563979151,-0.48553289666875915,-0.14759033307851552,-0.11115477517148117,0.763169171017227,-0.7362963383881826,0.027198451550639467,1.107686365040341,0.2989984802305818,1.5371447586072964,0.5605445581965763,1.2640100469751991,-0.015289701151136564,-0.4929899217007241,-1.663908543451473,0.7704092796193487,0.3239603151377862,1.3711040849486984,-0.885612915131159,1.0750717680470077,0.632951479645949,-0.18279824874059106,0.43874879052980786,...\r\n",
       "\u001b[36mres33_1\u001b[39m: \u001b[32mArray\u001b[39m[(\u001b[32mDouble\u001b[39m, \u001b[32mDouble\u001b[39m)] = \u001b[33mArray\u001b[39m(\n",
       "  (\u001b[32m1.0\u001b[39m, \u001b[32m0.9481375964046777\u001b[39m),\n",
       "  (\u001b[32m1.0\u001b[39m, \u001b[32m0.8653587302611849\u001b[39m),\n",
       "  (\u001b[32m1.0\u001b[39m, \u001b[32m0.9429817204998345\u001b[39m),\n",
       "  (\u001b[32m1.0\u001b[39m, \u001b[32m0.8668170767155234\u001b[39m),\n",
       "  (\u001b[32m1.0\u001b[39m, \u001b[32m0.9184083866254807\u001b[39m),\n",
       "  (\u001b[32m1.0\u001b[39m, \u001b[32m0.9346706639588307\u001b[39m),\n",
       "  (\u001b[32m1.0\u001b[39m, \u001b[32m0.9650305516088664\u001b[39m),\n",
       "  (\u001b[32m1.0\u001b[39m, \u001b[32m0.9160006392002359\u001b[39m),\n",
       "  (\u001b[32m0.8\u001b[39m, \u001b[32m0.8016448886594857\u001b[39m),\n",
       "  (\u001b[32m0.8\u001b[39m, \u001b[32m0.8138825185328629\u001b[39m)\n",
       ")"
      ]
     },
     "execution_count": 34,
     "metadata": {},
     "output_type": "execute_result"
    }
   ],
   "source": [
    "val sample = testingDF.sample(0.1).take(10)\n",
    "sample.map(p=>(p.getDouble(0),glrModel.predict(p.getAs[Vector](1))))"
   ]
  },
  {
   "cell_type": "markdown",
   "metadata": {},
   "source": [
    "## Decision Trees Regression\n",
    "---"
   ]
  },
  {
   "cell_type": "markdown",
   "metadata": {},
   "source": [
    "### Train"
   ]
  },
  {
   "cell_type": "code",
   "execution_count": 35,
   "metadata": {},
   "outputs": [
    {
     "data": {
      "text/html": [
       "<div>\n",
       "  <span style=\"float: left;\">head at MetadataUtils.scala:51</span>\n",
       "</div>\n"
      ]
     },
     "metadata": {},
     "output_type": "display_data"
    },
    {
     "data": {
      "text/html": [
       "<div class=\"progress\">\n",
       "  <div class=\"progress-bar\" role=\"progressbar\" style=\"background-color: blue; width: 100%; word-wrap: normal; white-space: nowrap; text-align: center; color: white\" aria-valuenow=\"100\" aria-valuemin=\"0\" aria-valuemax=\"100\">\n",
       "    1 / 1\n",
       "  </div>\n",
       "  <div class=\"progress-bar\" role=\"progressbar\" style=\"background-color: red; width: 0%\" aria-valuenow=\"0\" aria-valuemin=\"0\" aria-valuemax=\"100\"></div>\n",
       "</div>\n"
      ]
     },
     "metadata": {},
     "output_type": "display_data"
    },
    {
     "data": {
      "text/html": [
       "<div>\n",
       "  <span style=\"float: left;\">treeReduce at VectorIndexer.scala:150</span>\n",
       "</div>\n"
      ]
     },
     "metadata": {},
     "output_type": "display_data"
    },
    {
     "data": {
      "text/html": [
       "<div class=\"progress\">\n",
       "  <div class=\"progress-bar\" role=\"progressbar\" style=\"background-color: blue; width: 100%; word-wrap: normal; white-space: nowrap; text-align: center; color: white\" aria-valuenow=\"100\" aria-valuemin=\"0\" aria-valuemax=\"100\">\n",
       "    16 / 16\n",
       "  </div>\n",
       "  <div class=\"progress-bar\" role=\"progressbar\" style=\"background-color: red; width: 0%\" aria-valuenow=\"0\" aria-valuemin=\"0\" aria-valuemax=\"100\"></div>\n",
       "</div>\n"
      ]
     },
     "metadata": {},
     "output_type": "display_data"
    },
    {
     "data": {
      "text/html": [
       "<div>\n",
       "  <span style=\"float: left;\">treeReduce at VectorIndexer.scala:150</span>\n",
       "</div>\n"
      ]
     },
     "metadata": {},
     "output_type": "display_data"
    },
    {
     "data": {
      "text/html": [
       "<div class=\"progress\">\n",
       "  <div class=\"progress-bar\" role=\"progressbar\" style=\"background-color: blue; width: 100%; word-wrap: normal; white-space: nowrap; text-align: center; color: white\" aria-valuenow=\"100\" aria-valuemin=\"0\" aria-valuemax=\"100\">\n",
       "    4 / 4\n",
       "  </div>\n",
       "  <div class=\"progress-bar\" role=\"progressbar\" style=\"background-color: red; width: 0%\" aria-valuenow=\"0\" aria-valuemin=\"0\" aria-valuemax=\"100\"></div>\n",
       "</div>\n"
      ]
     },
     "metadata": {},
     "output_type": "display_data"
    },
    {
     "data": {
      "text/html": [
       "<div>\n",
       "  <span style=\"float: left;\">take at DecisionTreeMetadata.scala:119</span>\n",
       "</div>\n"
      ]
     },
     "metadata": {},
     "output_type": "display_data"
    },
    {
     "data": {
      "text/html": [
       "<div class=\"progress\">\n",
       "  <div class=\"progress-bar\" role=\"progressbar\" style=\"background-color: blue; width: 100%; word-wrap: normal; white-space: nowrap; text-align: center; color: white\" aria-valuenow=\"100\" aria-valuemin=\"0\" aria-valuemax=\"100\">\n",
       "    1 / 1\n",
       "  </div>\n",
       "  <div class=\"progress-bar\" role=\"progressbar\" style=\"background-color: red; width: 0%\" aria-valuenow=\"0\" aria-valuemin=\"0\" aria-valuemax=\"100\"></div>\n",
       "</div>\n"
      ]
     },
     "metadata": {},
     "output_type": "display_data"
    },
    {
     "data": {
      "text/html": [
       "<div>\n",
       "  <span style=\"float: left;\">aggregate at DecisionTreeMetadata.scala:125</span>\n",
       "</div>\n"
      ]
     },
     "metadata": {},
     "output_type": "display_data"
    },
    {
     "data": {
      "text/html": [
       "<div class=\"progress\">\n",
       "  <div class=\"progress-bar\" role=\"progressbar\" style=\"background-color: blue; width: 100%; word-wrap: normal; white-space: nowrap; text-align: center; color: white\" aria-valuenow=\"100\" aria-valuemin=\"0\" aria-valuemax=\"100\">\n",
       "    16 / 16\n",
       "  </div>\n",
       "  <div class=\"progress-bar\" role=\"progressbar\" style=\"background-color: red; width: 0%\" aria-valuenow=\"0\" aria-valuemin=\"0\" aria-valuemax=\"100\"></div>\n",
       "</div>\n"
      ]
     },
     "metadata": {},
     "output_type": "display_data"
    },
    {
     "data": {
      "text/html": [
       "<div>\n",
       "  <span style=\"float: left;\">flatMap at RandomForest.scala:1039</span>\n",
       "</div>\n"
      ]
     },
     "metadata": {},
     "output_type": "display_data"
    },
    {
     "data": {
      "text/html": [
       "<div class=\"progress\">\n",
       "  <div class=\"progress-bar\" role=\"progressbar\" style=\"background-color: blue; width: 100%; word-wrap: normal; white-space: nowrap; text-align: center; color: white\" aria-valuenow=\"100\" aria-valuemin=\"0\" aria-valuemax=\"100\">\n",
       "    16 / 16\n",
       "  </div>\n",
       "  <div class=\"progress-bar\" role=\"progressbar\" style=\"background-color: red; width: 0%\" aria-valuenow=\"0\" aria-valuemin=\"0\" aria-valuemax=\"100\"></div>\n",
       "</div>\n"
      ]
     },
     "metadata": {},
     "output_type": "display_data"
    },
    {
     "data": {
      "text/html": [
       "<div>\n",
       "  <span style=\"float: left;\">collectAsMap at RandomForest.scala:1054</span>\n",
       "</div>\n"
      ]
     },
     "metadata": {},
     "output_type": "display_data"
    },
    {
     "data": {
      "text/html": [
       "<div class=\"progress\">\n",
       "  <div class=\"progress-bar\" role=\"progressbar\" style=\"background-color: blue; width: 100%; word-wrap: normal; white-space: nowrap; text-align: center; color: white\" aria-valuenow=\"100\" aria-valuemin=\"0\" aria-valuemax=\"100\">\n",
       "    16 / 16\n",
       "  </div>\n",
       "  <div class=\"progress-bar\" role=\"progressbar\" style=\"background-color: red; width: 0%\" aria-valuenow=\"0\" aria-valuemin=\"0\" aria-valuemax=\"100\"></div>\n",
       "</div>\n"
      ]
     },
     "metadata": {},
     "output_type": "display_data"
    },
    {
     "data": {
      "text/html": [
       "<div>\n",
       "  <span style=\"float: left;\">mapPartitions at RandomForest.scala:644</span>\n",
       "</div>\n"
      ]
     },
     "metadata": {},
     "output_type": "display_data"
    },
    {
     "data": {
      "text/html": [
       "<div class=\"progress\">\n",
       "  <div class=\"progress-bar\" role=\"progressbar\" style=\"background-color: blue; width: 100%; word-wrap: normal; white-space: nowrap; text-align: center; color: white\" aria-valuenow=\"100\" aria-valuemin=\"0\" aria-valuemax=\"100\">\n",
       "    16 / 16\n",
       "  </div>\n",
       "  <div class=\"progress-bar\" role=\"progressbar\" style=\"background-color: red; width: 0%\" aria-valuenow=\"0\" aria-valuemin=\"0\" aria-valuemax=\"100\"></div>\n",
       "</div>\n"
      ]
     },
     "metadata": {},
     "output_type": "display_data"
    },
    {
     "data": {
      "text/html": [
       "<div>\n",
       "  <span style=\"float: left;\">collectAsMap at RandomForest.scala:663</span>\n",
       "</div>\n"
      ]
     },
     "metadata": {},
     "output_type": "display_data"
    },
    {
     "data": {
      "text/html": [
       "<div class=\"progress\">\n",
       "  <div class=\"progress-bar\" role=\"progressbar\" style=\"background-color: blue; width: 100%; word-wrap: normal; white-space: nowrap; text-align: center; color: white\" aria-valuenow=\"100\" aria-valuemin=\"0\" aria-valuemax=\"100\">\n",
       "    16 / 16\n",
       "  </div>\n",
       "  <div class=\"progress-bar\" role=\"progressbar\" style=\"background-color: red; width: 0%\" aria-valuenow=\"0\" aria-valuemin=\"0\" aria-valuemax=\"100\"></div>\n",
       "</div>\n"
      ]
     },
     "metadata": {},
     "output_type": "display_data"
    },
    {
     "data": {
      "text/html": [
       "<div>\n",
       "  <span style=\"float: left;\">mapPartitions at RandomForest.scala:644</span>\n",
       "</div>\n"
      ]
     },
     "metadata": {},
     "output_type": "display_data"
    },
    {
     "data": {
      "text/html": [
       "<div class=\"progress\">\n",
       "  <div class=\"progress-bar\" role=\"progressbar\" style=\"background-color: blue; width: 100%; word-wrap: normal; white-space: nowrap; text-align: center; color: white\" aria-valuenow=\"100\" aria-valuemin=\"0\" aria-valuemax=\"100\">\n",
       "    16 / 16\n",
       "  </div>\n",
       "  <div class=\"progress-bar\" role=\"progressbar\" style=\"background-color: red; width: 0%\" aria-valuenow=\"0\" aria-valuemin=\"0\" aria-valuemax=\"100\"></div>\n",
       "</div>\n"
      ]
     },
     "metadata": {},
     "output_type": "display_data"
    },
    {
     "data": {
      "text/html": [
       "<div>\n",
       "  <span style=\"float: left;\">collectAsMap at RandomForest.scala:663</span>\n",
       "</div>\n"
      ]
     },
     "metadata": {},
     "output_type": "display_data"
    },
    {
     "data": {
      "text/html": [
       "<div class=\"progress\">\n",
       "  <div class=\"progress-bar\" role=\"progressbar\" style=\"background-color: blue; width: 100%; word-wrap: normal; white-space: nowrap; text-align: center; color: white\" aria-valuenow=\"100\" aria-valuemin=\"0\" aria-valuemax=\"100\">\n",
       "    16 / 16\n",
       "  </div>\n",
       "  <div class=\"progress-bar\" role=\"progressbar\" style=\"background-color: red; width: 0%\" aria-valuenow=\"0\" aria-valuemin=\"0\" aria-valuemax=\"100\"></div>\n",
       "</div>\n"
      ]
     },
     "metadata": {},
     "output_type": "display_data"
    },
    {
     "data": {
      "text/html": [
       "<div>\n",
       "  <span style=\"float: left;\">mapPartitions at RandomForest.scala:644</span>\n",
       "</div>\n"
      ]
     },
     "metadata": {},
     "output_type": "display_data"
    },
    {
     "data": {
      "text/html": [
       "<div class=\"progress\">\n",
       "  <div class=\"progress-bar\" role=\"progressbar\" style=\"background-color: blue; width: 100%; word-wrap: normal; white-space: nowrap; text-align: center; color: white\" aria-valuenow=\"100\" aria-valuemin=\"0\" aria-valuemax=\"100\">\n",
       "    16 / 16\n",
       "  </div>\n",
       "  <div class=\"progress-bar\" role=\"progressbar\" style=\"background-color: red; width: 0%\" aria-valuenow=\"0\" aria-valuemin=\"0\" aria-valuemax=\"100\"></div>\n",
       "</div>\n"
      ]
     },
     "metadata": {},
     "output_type": "display_data"
    },
    {
     "data": {
      "text/html": [
       "<div>\n",
       "  <span style=\"float: left;\">collectAsMap at RandomForest.scala:663</span>\n",
       "</div>\n"
      ]
     },
     "metadata": {},
     "output_type": "display_data"
    },
    {
     "data": {
      "text/html": [
       "<div class=\"progress\">\n",
       "  <div class=\"progress-bar\" role=\"progressbar\" style=\"background-color: blue; width: 100%; word-wrap: normal; white-space: nowrap; text-align: center; color: white\" aria-valuenow=\"100\" aria-valuemin=\"0\" aria-valuemax=\"100\">\n",
       "    16 / 16\n",
       "  </div>\n",
       "  <div class=\"progress-bar\" role=\"progressbar\" style=\"background-color: red; width: 0%\" aria-valuenow=\"0\" aria-valuemin=\"0\" aria-valuemax=\"100\"></div>\n",
       "</div>\n"
      ]
     },
     "metadata": {},
     "output_type": "display_data"
    },
    {
     "data": {
      "text/html": [
       "<div>\n",
       "  <span style=\"float: left;\">mapPartitions at RandomForest.scala:644</span>\n",
       "</div>\n"
      ]
     },
     "metadata": {},
     "output_type": "display_data"
    },
    {
     "data": {
      "text/html": [
       "<div class=\"progress\">\n",
       "  <div class=\"progress-bar\" role=\"progressbar\" style=\"background-color: blue; width: 100%; word-wrap: normal; white-space: nowrap; text-align: center; color: white\" aria-valuenow=\"100\" aria-valuemin=\"0\" aria-valuemax=\"100\">\n",
       "    16 / 16\n",
       "  </div>\n",
       "  <div class=\"progress-bar\" role=\"progressbar\" style=\"background-color: red; width: 0%\" aria-valuenow=\"0\" aria-valuemin=\"0\" aria-valuemax=\"100\"></div>\n",
       "</div>\n"
      ]
     },
     "metadata": {},
     "output_type": "display_data"
    },
    {
     "data": {
      "text/html": [
       "<div>\n",
       "  <span style=\"float: left;\">collectAsMap at RandomForest.scala:663</span>\n",
       "</div>\n"
      ]
     },
     "metadata": {},
     "output_type": "display_data"
    },
    {
     "data": {
      "text/html": [
       "<div class=\"progress\">\n",
       "  <div class=\"progress-bar\" role=\"progressbar\" style=\"background-color: blue; width: 100%; word-wrap: normal; white-space: nowrap; text-align: center; color: white\" aria-valuenow=\"100\" aria-valuemin=\"0\" aria-valuemax=\"100\">\n",
       "    16 / 16\n",
       "  </div>\n",
       "  <div class=\"progress-bar\" role=\"progressbar\" style=\"background-color: red; width: 0%\" aria-valuenow=\"0\" aria-valuemin=\"0\" aria-valuemax=\"100\"></div>\n",
       "</div>\n"
      ]
     },
     "metadata": {},
     "output_type": "display_data"
    },
    {
     "data": {
      "text/html": [
       "<div>\n",
       "  <span style=\"float: left;\">mapPartitions at RandomForest.scala:644</span>\n",
       "</div>\n"
      ]
     },
     "metadata": {},
     "output_type": "display_data"
    },
    {
     "data": {
      "text/html": [
       "<div class=\"progress\">\n",
       "  <div class=\"progress-bar\" role=\"progressbar\" style=\"background-color: blue; width: 100%; word-wrap: normal; white-space: nowrap; text-align: center; color: white\" aria-valuenow=\"100\" aria-valuemin=\"0\" aria-valuemax=\"100\">\n",
       "    16 / 16\n",
       "  </div>\n",
       "  <div class=\"progress-bar\" role=\"progressbar\" style=\"background-color: red; width: 0%\" aria-valuenow=\"0\" aria-valuemin=\"0\" aria-valuemax=\"100\"></div>\n",
       "</div>\n"
      ]
     },
     "metadata": {},
     "output_type": "display_data"
    },
    {
     "data": {
      "text/html": [
       "<div>\n",
       "  <span style=\"float: left;\">collectAsMap at RandomForest.scala:663</span>\n",
       "</div>\n"
      ]
     },
     "metadata": {},
     "output_type": "display_data"
    },
    {
     "data": {
      "text/html": [
       "<div class=\"progress\">\n",
       "  <div class=\"progress-bar\" role=\"progressbar\" style=\"background-color: blue; width: 100%; word-wrap: normal; white-space: nowrap; text-align: center; color: white\" aria-valuenow=\"100\" aria-valuemin=\"0\" aria-valuemax=\"100\">\n",
       "    16 / 16\n",
       "  </div>\n",
       "  <div class=\"progress-bar\" role=\"progressbar\" style=\"background-color: red; width: 0%\" aria-valuenow=\"0\" aria-valuemin=\"0\" aria-valuemax=\"100\"></div>\n",
       "</div>\n"
      ]
     },
     "metadata": {},
     "output_type": "display_data"
    },
    {
     "data": {
      "text/plain": [
       "\u001b[32mimport \u001b[39m\u001b[36morg.apache.spark.ml.Pipeline\n",
       "\u001b[39m\r\n",
       "\u001b[32mimport \u001b[39m\u001b[36morg.apache.spark.ml.evaluation.RegressionEvaluator\n",
       "\u001b[39m\r\n",
       "\u001b[32mimport \u001b[39m\u001b[36morg.apache.spark.ml.feature.VectorIndexer\n",
       "\u001b[39m\r\n",
       "\u001b[32mimport \u001b[39m\u001b[36morg.apache.spark.ml.regression.DecisionTreeRegressionModel\n",
       "\u001b[39m\r\n",
       "\u001b[32mimport \u001b[39m\u001b[36morg.apache.spark.ml.regression.DecisionTreeRegressor\n",
       "\n",
       "\u001b[39m\r\n",
       "\u001b[36mfeatureIndexer\u001b[39m: \u001b[32morg\u001b[39m.\u001b[32mapache\u001b[39m.\u001b[32mspark\u001b[39m.\u001b[32mml\u001b[39m.\u001b[32mfeature\u001b[39m.\u001b[32mVectorIndexerModel\u001b[39m = VectorIndexerModel: uid=vecIdx_bedf6ba9e70b, numFeatures=128, handleInvalid=error\r\n",
       "\u001b[36mdt\u001b[39m: \u001b[32mDecisionTreeRegressor\u001b[39m = dtr_8bb7285e7532\r\n",
       "\u001b[36mpipeline\u001b[39m: \u001b[32mPipeline\u001b[39m = pipeline_b15138668498\r\n",
       "\u001b[36mdtModel\u001b[39m: \u001b[32morg\u001b[39m.\u001b[32mapache\u001b[39m.\u001b[32mspark\u001b[39m.\u001b[32mml\u001b[39m.\u001b[32mPipelineModel\u001b[39m = pipeline_b15138668498"
      ]
     },
     "execution_count": 35,
     "metadata": {},
     "output_type": "execute_result"
    }
   ],
   "source": [
    "import org.apache.spark.ml.Pipeline\n",
    "import org.apache.spark.ml.evaluation.RegressionEvaluator\n",
    "import org.apache.spark.ml.feature.VectorIndexer\n",
    "import org.apache.spark.ml.regression.DecisionTreeRegressionModel\n",
    "import org.apache.spark.ml.regression.DecisionTreeRegressor\n",
    "\n",
    "val featureIndexer = new VectorIndexer()\n",
    "  .setInputCol(\"features\")\n",
    "  .setOutputCol(\"indexedFeatures\")\n",
    "  .setMaxCategories(4)\n",
    "  .fit(trainingDF)\n",
    "\n",
    "val dt = new DecisionTreeRegressor()\n",
    "  .setLabelCol(\"label\")\n",
    "  .setFeaturesCol(\"indexedFeatures\")\n",
    "\n",
    "val pipeline = new Pipeline()\n",
    "  .setStages(Array(featureIndexer, dt))\n",
    "\n",
    "val dtModel = pipeline.fit(trainingDF)\n",
    "\n",
    "\n"
   ]
  },
  {
   "cell_type": "markdown",
   "metadata": {},
   "source": [
    "### Evaluate"
   ]
  },
  {
   "cell_type": "code",
   "execution_count": 36,
   "metadata": {},
   "outputs": [
    {
     "data": {
      "text/html": [
       "<div>\n",
       "  <span style=\"float: left;\">treeAggregate at Statistics.scala:58</span>\n",
       "</div>\n"
      ]
     },
     "metadata": {},
     "output_type": "display_data"
    },
    {
     "data": {
      "text/html": [
       "<div class=\"progress\">\n",
       "  <div class=\"progress-bar\" role=\"progressbar\" style=\"background-color: blue; width: 100%; word-wrap: normal; white-space: nowrap; text-align: center; color: white\" aria-valuenow=\"100\" aria-valuemin=\"0\" aria-valuemax=\"100\">\n",
       "    16 / 16\n",
       "  </div>\n",
       "  <div class=\"progress-bar\" role=\"progressbar\" style=\"background-color: red; width: 0%\" aria-valuenow=\"0\" aria-valuemin=\"0\" aria-valuemax=\"100\"></div>\n",
       "</div>\n"
      ]
     },
     "metadata": {},
     "output_type": "display_data"
    },
    {
     "data": {
      "text/html": [
       "<div>\n",
       "  <span style=\"float: left;\">treeAggregate at Statistics.scala:58</span>\n",
       "</div>\n"
      ]
     },
     "metadata": {},
     "output_type": "display_data"
    },
    {
     "data": {
      "text/html": [
       "<div class=\"progress\">\n",
       "  <div class=\"progress-bar\" role=\"progressbar\" style=\"background-color: blue; width: 100%; word-wrap: normal; white-space: nowrap; text-align: center; color: white\" aria-valuenow=\"100\" aria-valuemin=\"0\" aria-valuemax=\"100\">\n",
       "    4 / 4\n",
       "  </div>\n",
       "  <div class=\"progress-bar\" role=\"progressbar\" style=\"background-color: red; width: 0%\" aria-valuenow=\"0\" aria-valuemin=\"0\" aria-valuemax=\"100\"></div>\n",
       "</div>\n"
      ]
     },
     "metadata": {},
     "output_type": "display_data"
    },
    {
     "name": "stdout",
     "output_type": "stream",
     "text": [
      "Root Mean Squared Error (RMSE) on test data = 0.20853939113697206\n",
      "Learned regression tree model:\n",
      " DecisionTreeRegressionModel: uid=dtr_8bb7285e7532, depth=5, numNodes=63, numFeatures=128\n",
      "  If (feature 30 <= -0.2024354122136135)\n",
      "   If (feature 16 <= 0.7297691084118338)\n",
      "    If (feature 87 <= -0.22269400124679745)\n",
      "     If (feature 28 <= 0.47483925453366804)\n",
      "      If (feature 118 <= 2.6351148936322337)\n",
      "       Predict: 0.947174896525171\n",
      "      Else (feature 118 > 2.6351148936322337)\n",
      "       Predict: 0.7897574123989218\n",
      "     Else (feature 28 > 0.47483925453366804)\n",
      "      If (feature 114 <= -2.30184859618213)\n",
      "       Predict: 0.9946483404006433\n",
      "      Else (feature 114 > -2.30184859618213)\n",
      "       Predict: 0.969752472656864\n",
      "    Else (feature 87 > -0.22269400124679745)\n",
      "     If (feature 40 <= 0.47691794091235296)\n",
      "      If (feature 61 <= -2.580991606680361)\n",
      "       Predict: 0.7324543610547667\n",
      "      Else (feature 61 > -2.580991606680361)\n",
      "       Predict: 0.9157079460772\n",
      "     Else (feature 40 > 0.47691794091235296)\n",
      "      If (feature 3 <= -3.4268535408070515)\n",
      "       Predict: 0.8223602484472052\n",
      "      Else (feature 3 > -3.4268535408070515)\n",
      "       Predict: 0.9678900741276443\n",
      "   Else (feature 16 > 0.7297691084118338)\n",
      "    If (feature 87 <= 0.2645325855384443)\n",
      "     If (feature 110 <= 0.7381480565633303)\n",
      "      If (feature 7 <= -0.1682660867001093)\n",
      "       Predict: 0.900650854936569\n",
      "      Else (feature 7 > -0.1682660867001093)\n",
      "       Predict: 0.809992542878449\n",
      "     Else (feature 110 > 0.7381480565633303)\n",
      "      If (feature 73 <= 0.6350062839169608)\n",
      "       Predict: 0.8966851150597145\n",
      "      Else (feature 73 > 0.6350062839169608)\n",
      "       Predict: 0.9373249841694221\n",
      "    Else (feature 87 > 0.2645325855384443)\n",
      "     If (feature 110 <= 0.8548290615276264)\n",
      "      If (feature 54 <= 0.21405159862865625)\n",
      "       Predict: 0.7177249885792598\n",
      "      Else (feature 54 > 0.21405159862865625)\n",
      "       Predict: 0.8154429507066532\n",
      "     Else (feature 110 > 0.8548290615276264)\n",
      "      If (feature 60 <= -0.7454408363746404)\n",
      "       Predict: 0.8109255256435449\n",
      "      Else (feature 60 > -0.7454408363746404)\n",
      "       Predict: 0.8750915423774227\n",
      "  Else (feature 30 > -0.2024354122136135)\n",
      "   If (feature 110 <= 0.8548290615276264)\n",
      "    If (feature 115 <= 0.8651090753188933)\n",
      "     If (feature 30 <= -0.0801980962960944)\n",
      "      If (feature 87 <= 0.22404643368909927)\n",
      "       Predict: 0.7553340653771434\n",
      "      Else (feature 87 > 0.22404643368909927)\n",
      "       Predict: 0.6497566730570715\n",
      "     Else (feature 30 > -0.0801980962960944)\n",
      "      If (feature 51 <= -0.2724933904925583)\n",
      "       Predict: 0.5958874943971314\n",
      "      Else (feature 51 > -0.2724933904925583)\n",
      "       Predict: 0.7843601895734587\n",
      "    Else (feature 115 > 0.8651090753188933)\n",
      "     If (feature 73 <= 0.8556963182304681)\n",
      "      If (feature 110 <= 0.32686225999207597)\n",
      "       Predict: 0.66810551558753\n",
      "      Else (feature 110 > 0.32686225999207597)\n",
      "       Predict: 0.7754730041532071\n",
      "     Else (feature 73 > 0.8556963182304681)\n",
      "      If (feature 0 <= -0.17985024307697445)\n",
      "       Predict: 0.829642647920328\n",
      "      Else (feature 0 > -0.17985024307697445)\n",
      "       Predict: 0.9270460704607042\n",
      "   Else (feature 110 > 0.8548290615276264)\n",
      "    If (feature 87 <= 0.10690178512755112)\n",
      "     If (feature 30 <= -0.0801980962960944)\n",
      "      If (feature 90 <= 0.1714685819311722)\n",
      "       Predict: 0.8710180337405468\n",
      "      Else (feature 90 > 0.1714685819311722)\n",
      "       Predict: 0.9293172690763052\n",
      "     Else (feature 30 > -0.0801980962960944)\n",
      "      If (feature 87 <= -0.5017154743788403)\n",
      "       Predict: 0.9032432432432433\n",
      "      Else (feature 87 > -0.5017154743788403)\n",
      "       Predict: 0.7955582232893157\n",
      "    Else (feature 87 > 0.10690178512755112)\n",
      "     If (feature 60 <= -0.7922451336771728)\n",
      "      If (feature 30 <= -0.0801980962960944)\n",
      "       Predict: 0.7526570048309179\n",
      "      Else (feature 30 > -0.0801980962960944)\n",
      "       Predict: 0.6706534844465879\n",
      "     Else (feature 60 > -0.7922451336771728)\n",
      "      If (feature 90 <= -0.03246851118123329)\n",
      "       Predict: 0.7747688838782413\n",
      "      Else (feature 90 > -0.03246851118123329)\n",
      "       Predict: 0.8464160706133006\n",
      "\n"
     ]
    },
    {
     "data": {
      "text/plain": [
       "\u001b[36mdtPredictions\u001b[39m: \u001b[32mDataFrame\u001b[39m = [label: double, features: vector ... 2 more fields]\r\n",
       "\u001b[36mevaluator\u001b[39m: \u001b[32mRegressionEvaluator\u001b[39m = RegressionEvaluator: uid=regEval_1a19a59dd963, metricName=rmse, throughOrigin=false\r\n",
       "\u001b[36mrmse\u001b[39m: \u001b[32mDouble\u001b[39m = \u001b[32m0.20853939113697206\u001b[39m\r\n",
       "\u001b[36mtreeModel\u001b[39m: \u001b[32mDecisionTreeRegressionModel\u001b[39m = DecisionTreeRegressionModel: uid=dtr_8bb7285e7532, depth=5, numNodes=63, numFeatures=128"
      ]
     },
     "execution_count": 36,
     "metadata": {},
     "output_type": "execute_result"
    }
   ],
   "source": [
    "val dtPredictions = dtModel.transform(testingDF)\n",
    "// Select (prediction, true label) and compute test error.\n",
    "val evaluator = new RegressionEvaluator()\n",
    "  .setLabelCol(\"label\")\n",
    "  .setPredictionCol(\"prediction\")\n",
    "  .setMetricName(\"rmse\")\n",
    "val rmse = evaluator.evaluate(dtPredictions)\n",
    "println(s\"Root Mean Squared Error (RMSE) on test data = $rmse\")\n",
    "\n",
    "val treeModel = dtModel.stages(1).asInstanceOf[DecisionTreeRegressionModel]\n",
    "println(s\"Learned regression tree model:\\n ${treeModel.toDebugString}\")"
   ]
  },
  {
   "cell_type": "markdown",
   "metadata": {},
   "source": [
    "### Prediction Showcase"
   ]
  },
  {
   "cell_type": "code",
   "execution_count": 37,
   "metadata": {},
   "outputs": [
    {
     "data": {
      "text/html": [
       "<div>\n",
       "  <span style=\"float: left;\">take at cmd3.sc:6</span>\n",
       "</div>\n"
      ]
     },
     "metadata": {},
     "output_type": "display_data"
    },
    {
     "data": {
      "text/html": [
       "<div class=\"progress\">\n",
       "  <div class=\"progress-bar\" role=\"progressbar\" style=\"background-color: blue; width: 100%; word-wrap: normal; white-space: nowrap; text-align: center; color: white\" aria-valuenow=\"100\" aria-valuemin=\"0\" aria-valuemax=\"100\">\n",
       "    1 / 1\n",
       "  </div>\n",
       "  <div class=\"progress-bar\" role=\"progressbar\" style=\"background-color: red; width: 0%\" aria-valuenow=\"0\" aria-valuemin=\"0\" aria-valuemax=\"100\"></div>\n",
       "</div>\n"
      ]
     },
     "metadata": {},
     "output_type": "display_data"
    },
    {
     "data": {
      "text/html": [
       "\n",
       "      <table class=\"table dataframe\" border=\"1\">\n",
       "        <tr>\n",
       "        <th>label</th><th>prediction</th>\n",
       "        </tr>\n",
       "        <tr><td>1.0</td><td>0.7754730041532071</td></tr><tr><td>0.6</td><td>0.7324543610547667</td></tr><tr><td>0.4</td><td>0.7754730041532071</td></tr><tr><td>0.8</td><td>0.829642647920328</td></tr><tr><td>0.8</td><td>0.900650854936569</td></tr><tr><td>0.2</td><td>0.5958874943971314</td></tr><tr><td>1.0</td><td>0.9373249841694221</td></tr><tr><td>1.0</td><td>0.8710180337405468</td></tr><tr><td>0.2</td><td>0.809992542878449</td></tr><tr><td>0.8</td><td>0.7324543610547667</td></tr><tr><td>0.4</td><td>0.9157079460772</td></tr><tr><td>0.2</td><td>0.900650854936569</td></tr><tr><td>1.0</td><td>0.900650854936569</td></tr><tr><td>0.4</td><td>0.947174896525171</td></tr><tr><td>0.8</td><td>0.8750915423774227</td></tr><tr><td>0.6</td><td>0.7754730041532071</td></tr><tr><td>0.8</td><td>0.7526570048309179</td></tr><tr><td>0.8</td><td>0.809992542878449</td></tr><tr><td>0.6</td><td>0.7553340653771434</td></tr><tr><td>0.8</td><td>0.9293172690763052</td></tr>\n",
       "      </table>"
      ]
     },
     "metadata": {},
     "output_type": "display_data"
    }
   ],
   "source": [
    "// Make predictions.\n",
    "dtPredictions.select(\"label\",\"prediction\").showHTML()\n",
    "// sample.map(p=>(p.getDouble(0),model.predict(fromML(p.getAs[Vector](1)))))"
   ]
  },
  {
   "cell_type": "markdown",
   "metadata": {},
   "source": [
    "## K-Means Clustering\n",
    "---"
   ]
  },
  {
   "cell_type": "markdown",
   "metadata": {},
   "source": [
    "### Train"
   ]
  },
  {
   "cell_type": "code",
   "execution_count": 38,
   "metadata": {},
   "outputs": [
    {
     "data": {
      "text/html": [
       "<div>\n",
       "  <span style=\"float: left;\">takeSample at KMeans.scala:377</span>\n",
       "</div>\n"
      ]
     },
     "metadata": {},
     "output_type": "display_data"
    },
    {
     "data": {
      "text/html": [
       "<div class=\"progress\">\n",
       "  <div class=\"progress-bar\" role=\"progressbar\" style=\"background-color: blue; width: 100%; word-wrap: normal; white-space: nowrap; text-align: center; color: white\" aria-valuenow=\"100\" aria-valuemin=\"0\" aria-valuemax=\"100\">\n",
       "    16 / 16\n",
       "  </div>\n",
       "  <div class=\"progress-bar\" role=\"progressbar\" style=\"background-color: red; width: 0%\" aria-valuenow=\"0\" aria-valuemin=\"0\" aria-valuemax=\"100\"></div>\n",
       "</div>\n"
      ]
     },
     "metadata": {},
     "output_type": "display_data"
    },
    {
     "data": {
      "text/html": [
       "<div>\n",
       "  <span style=\"float: left;\">takeSample at KMeans.scala:377</span>\n",
       "</div>\n"
      ]
     },
     "metadata": {},
     "output_type": "display_data"
    },
    {
     "data": {
      "text/html": [
       "<div class=\"progress\">\n",
       "  <div class=\"progress-bar\" role=\"progressbar\" style=\"background-color: blue; width: 100%; word-wrap: normal; white-space: nowrap; text-align: center; color: white\" aria-valuenow=\"100\" aria-valuemin=\"0\" aria-valuemax=\"100\">\n",
       "    16 / 16\n",
       "  </div>\n",
       "  <div class=\"progress-bar\" role=\"progressbar\" style=\"background-color: red; width: 0%\" aria-valuenow=\"0\" aria-valuemin=\"0\" aria-valuemax=\"100\"></div>\n",
       "</div>\n"
      ]
     },
     "metadata": {},
     "output_type": "display_data"
    },
    {
     "data": {
      "text/html": [
       "<div>\n",
       "  <span style=\"float: left;\">sum at KMeans.scala:397</span>\n",
       "</div>\n"
      ]
     },
     "metadata": {},
     "output_type": "display_data"
    },
    {
     "data": {
      "text/html": [
       "<div class=\"progress\">\n",
       "  <div class=\"progress-bar\" role=\"progressbar\" style=\"background-color: blue; width: 100%; word-wrap: normal; white-space: nowrap; text-align: center; color: white\" aria-valuenow=\"100\" aria-valuemin=\"0\" aria-valuemax=\"100\">\n",
       "    16 / 16\n",
       "  </div>\n",
       "  <div class=\"progress-bar\" role=\"progressbar\" style=\"background-color: red; width: 0%\" aria-valuenow=\"0\" aria-valuemin=\"0\" aria-valuemax=\"100\"></div>\n",
       "</div>\n"
      ]
     },
     "metadata": {},
     "output_type": "display_data"
    },
    {
     "data": {
      "text/html": [
       "<div>\n",
       "  <span style=\"float: left;\">collect at KMeans.scala:402</span>\n",
       "</div>\n"
      ]
     },
     "metadata": {},
     "output_type": "display_data"
    },
    {
     "data": {
      "text/html": [
       "<div class=\"progress\">\n",
       "  <div class=\"progress-bar\" role=\"progressbar\" style=\"background-color: blue; width: 100%; word-wrap: normal; white-space: nowrap; text-align: center; color: white\" aria-valuenow=\"100\" aria-valuemin=\"0\" aria-valuemax=\"100\">\n",
       "    16 / 16\n",
       "  </div>\n",
       "  <div class=\"progress-bar\" role=\"progressbar\" style=\"background-color: red; width: 0%\" aria-valuenow=\"0\" aria-valuemin=\"0\" aria-valuemax=\"100\"></div>\n",
       "</div>\n"
      ]
     },
     "metadata": {},
     "output_type": "display_data"
    },
    {
     "data": {
      "text/html": [
       "<div>\n",
       "  <span style=\"float: left;\">sum at KMeans.scala:397</span>\n",
       "</div>\n"
      ]
     },
     "metadata": {},
     "output_type": "display_data"
    },
    {
     "data": {
      "text/html": [
       "<div class=\"progress\">\n",
       "  <div class=\"progress-bar\" role=\"progressbar\" style=\"background-color: blue; width: 100%; word-wrap: normal; white-space: nowrap; text-align: center; color: white\" aria-valuenow=\"100\" aria-valuemin=\"0\" aria-valuemax=\"100\">\n",
       "    16 / 16\n",
       "  </div>\n",
       "  <div class=\"progress-bar\" role=\"progressbar\" style=\"background-color: red; width: 0%\" aria-valuenow=\"0\" aria-valuemin=\"0\" aria-valuemax=\"100\"></div>\n",
       "</div>\n"
      ]
     },
     "metadata": {},
     "output_type": "display_data"
    },
    {
     "data": {
      "text/html": [
       "<div>\n",
       "  <span style=\"float: left;\">collect at KMeans.scala:402</span>\n",
       "</div>\n"
      ]
     },
     "metadata": {},
     "output_type": "display_data"
    },
    {
     "data": {
      "text/html": [
       "<div class=\"progress\">\n",
       "  <div class=\"progress-bar\" role=\"progressbar\" style=\"background-color: blue; width: 100%; word-wrap: normal; white-space: nowrap; text-align: center; color: white\" aria-valuenow=\"100\" aria-valuemin=\"0\" aria-valuemax=\"100\">\n",
       "    16 / 16\n",
       "  </div>\n",
       "  <div class=\"progress-bar\" role=\"progressbar\" style=\"background-color: red; width: 0%\" aria-valuenow=\"0\" aria-valuemin=\"0\" aria-valuemax=\"100\"></div>\n",
       "</div>\n"
      ]
     },
     "metadata": {},
     "output_type": "display_data"
    },
    {
     "data": {
      "text/html": [
       "<div>\n",
       "  <span style=\"float: left;\">countByValue at KMeans.scala:425</span>\n",
       "</div>\n"
      ]
     },
     "metadata": {},
     "output_type": "display_data"
    },
    {
     "data": {
      "text/html": [
       "<div class=\"progress\">\n",
       "  <div class=\"progress-bar\" role=\"progressbar\" style=\"background-color: blue; width: 100%; word-wrap: normal; white-space: nowrap; text-align: center; color: white\" aria-valuenow=\"100\" aria-valuemin=\"0\" aria-valuemax=\"100\">\n",
       "    16 / 16\n",
       "  </div>\n",
       "  <div class=\"progress-bar\" role=\"progressbar\" style=\"background-color: red; width: 0%\" aria-valuenow=\"0\" aria-valuemin=\"0\" aria-valuemax=\"100\"></div>\n",
       "</div>\n"
      ]
     },
     "metadata": {},
     "output_type": "display_data"
    },
    {
     "data": {
      "text/html": [
       "<div>\n",
       "  <span style=\"float: left;\">countByValue at KMeans.scala:425</span>\n",
       "</div>\n"
      ]
     },
     "metadata": {},
     "output_type": "display_data"
    },
    {
     "data": {
      "text/html": [
       "<div class=\"progress\">\n",
       "  <div class=\"progress-bar\" role=\"progressbar\" style=\"background-color: blue; width: 100%; word-wrap: normal; white-space: nowrap; text-align: center; color: white\" aria-valuenow=\"100\" aria-valuemin=\"0\" aria-valuemax=\"100\">\n",
       "    16 / 16\n",
       "  </div>\n",
       "  <div class=\"progress-bar\" role=\"progressbar\" style=\"background-color: red; width: 0%\" aria-valuenow=\"0\" aria-valuemin=\"0\" aria-valuemax=\"100\"></div>\n",
       "</div>\n"
      ]
     },
     "metadata": {},
     "output_type": "display_data"
    },
    {
     "data": {
      "text/html": [
       "<div>\n",
       "  <span style=\"float: left;\">mapPartitions at KMeans.scala:287</span>\n",
       "</div>\n"
      ]
     },
     "metadata": {},
     "output_type": "display_data"
    },
    {
     "data": {
      "text/html": [
       "<div class=\"progress\">\n",
       "  <div class=\"progress-bar\" role=\"progressbar\" style=\"background-color: blue; width: 100%; word-wrap: normal; white-space: nowrap; text-align: center; color: white\" aria-valuenow=\"100\" aria-valuemin=\"0\" aria-valuemax=\"100\">\n",
       "    16 / 16\n",
       "  </div>\n",
       "  <div class=\"progress-bar\" role=\"progressbar\" style=\"background-color: red; width: 0%\" aria-valuenow=\"0\" aria-valuemin=\"0\" aria-valuemax=\"100\"></div>\n",
       "</div>\n"
      ]
     },
     "metadata": {},
     "output_type": "display_data"
    },
    {
     "data": {
      "text/html": [
       "<div>\n",
       "  <span style=\"float: left;\">collectAsMap at KMeans.scala:308</span>\n",
       "</div>\n"
      ]
     },
     "metadata": {},
     "output_type": "display_data"
    },
    {
     "data": {
      "text/html": [
       "<div class=\"progress\">\n",
       "  <div class=\"progress-bar\" role=\"progressbar\" style=\"background-color: blue; width: 100%; word-wrap: normal; white-space: nowrap; text-align: center; color: white\" aria-valuenow=\"100\" aria-valuemin=\"0\" aria-valuemax=\"100\">\n",
       "    16 / 16\n",
       "  </div>\n",
       "  <div class=\"progress-bar\" role=\"progressbar\" style=\"background-color: red; width: 0%\" aria-valuenow=\"0\" aria-valuemin=\"0\" aria-valuemax=\"100\"></div>\n",
       "</div>\n"
      ]
     },
     "metadata": {},
     "output_type": "display_data"
    },
    {
     "data": {
      "text/html": [
       "<div>\n",
       "  <span style=\"float: left;\">mapPartitions at KMeans.scala:287</span>\n",
       "</div>\n"
      ]
     },
     "metadata": {},
     "output_type": "display_data"
    },
    {
     "data": {
      "text/html": [
       "<div class=\"progress\">\n",
       "  <div class=\"progress-bar\" role=\"progressbar\" style=\"background-color: blue; width: 100%; word-wrap: normal; white-space: nowrap; text-align: center; color: white\" aria-valuenow=\"100\" aria-valuemin=\"0\" aria-valuemax=\"100\">\n",
       "    16 / 16\n",
       "  </div>\n",
       "  <div class=\"progress-bar\" role=\"progressbar\" style=\"background-color: red; width: 0%\" aria-valuenow=\"0\" aria-valuemin=\"0\" aria-valuemax=\"100\"></div>\n",
       "</div>\n"
      ]
     },
     "metadata": {},
     "output_type": "display_data"
    },
    {
     "data": {
      "text/html": [
       "<div>\n",
       "  <span style=\"float: left;\">collectAsMap at KMeans.scala:308</span>\n",
       "</div>\n"
      ]
     },
     "metadata": {},
     "output_type": "display_data"
    },
    {
     "data": {
      "text/html": [
       "<div class=\"progress\">\n",
       "  <div class=\"progress-bar\" role=\"progressbar\" style=\"background-color: blue; width: 100%; word-wrap: normal; white-space: nowrap; text-align: center; color: white\" aria-valuenow=\"100\" aria-valuemin=\"0\" aria-valuemax=\"100\">\n",
       "    16 / 16\n",
       "  </div>\n",
       "  <div class=\"progress-bar\" role=\"progressbar\" style=\"background-color: red; width: 0%\" aria-valuenow=\"0\" aria-valuemin=\"0\" aria-valuemax=\"100\"></div>\n",
       "</div>\n"
      ]
     },
     "metadata": {},
     "output_type": "display_data"
    },
    {
     "data": {
      "text/html": [
       "<div>\n",
       "  <span style=\"float: left;\">mapPartitions at KMeans.scala:287</span>\n",
       "</div>\n"
      ]
     },
     "metadata": {},
     "output_type": "display_data"
    },
    {
     "data": {
      "text/html": [
       "<div class=\"progress\">\n",
       "  <div class=\"progress-bar\" role=\"progressbar\" style=\"background-color: blue; width: 100%; word-wrap: normal; white-space: nowrap; text-align: center; color: white\" aria-valuenow=\"100\" aria-valuemin=\"0\" aria-valuemax=\"100\">\n",
       "    16 / 16\n",
       "  </div>\n",
       "  <div class=\"progress-bar\" role=\"progressbar\" style=\"background-color: red; width: 0%\" aria-valuenow=\"0\" aria-valuemin=\"0\" aria-valuemax=\"100\"></div>\n",
       "</div>\n"
      ]
     },
     "metadata": {},
     "output_type": "display_data"
    },
    {
     "data": {
      "text/html": [
       "<div>\n",
       "  <span style=\"float: left;\">collectAsMap at KMeans.scala:308</span>\n",
       "</div>\n"
      ]
     },
     "metadata": {},
     "output_type": "display_data"
    },
    {
     "data": {
      "text/html": [
       "<div class=\"progress\">\n",
       "  <div class=\"progress-bar\" role=\"progressbar\" style=\"background-color: blue; width: 100%; word-wrap: normal; white-space: nowrap; text-align: center; color: white\" aria-valuenow=\"100\" aria-valuemin=\"0\" aria-valuemax=\"100\">\n",
       "    16 / 16\n",
       "  </div>\n",
       "  <div class=\"progress-bar\" role=\"progressbar\" style=\"background-color: red; width: 0%\" aria-valuenow=\"0\" aria-valuemin=\"0\" aria-valuemax=\"100\"></div>\n",
       "</div>\n"
      ]
     },
     "metadata": {},
     "output_type": "display_data"
    },
    {
     "data": {
      "text/html": [
       "<div>\n",
       "  <span style=\"float: left;\">mapPartitions at KMeans.scala:287</span>\n",
       "</div>\n"
      ]
     },
     "metadata": {},
     "output_type": "display_data"
    },
    {
     "data": {
      "text/html": [
       "<div class=\"progress\">\n",
       "  <div class=\"progress-bar\" role=\"progressbar\" style=\"background-color: blue; width: 100%; word-wrap: normal; white-space: nowrap; text-align: center; color: white\" aria-valuenow=\"100\" aria-valuemin=\"0\" aria-valuemax=\"100\">\n",
       "    16 / 16\n",
       "  </div>\n",
       "  <div class=\"progress-bar\" role=\"progressbar\" style=\"background-color: red; width: 0%\" aria-valuenow=\"0\" aria-valuemin=\"0\" aria-valuemax=\"100\"></div>\n",
       "</div>\n"
      ]
     },
     "metadata": {},
     "output_type": "display_data"
    },
    {
     "data": {
      "text/html": [
       "<div>\n",
       "  <span style=\"float: left;\">collectAsMap at KMeans.scala:308</span>\n",
       "</div>\n"
      ]
     },
     "metadata": {},
     "output_type": "display_data"
    },
    {
     "data": {
      "text/html": [
       "<div class=\"progress\">\n",
       "  <div class=\"progress-bar\" role=\"progressbar\" style=\"background-color: blue; width: 100%; word-wrap: normal; white-space: nowrap; text-align: center; color: white\" aria-valuenow=\"100\" aria-valuemin=\"0\" aria-valuemax=\"100\">\n",
       "    16 / 16\n",
       "  </div>\n",
       "  <div class=\"progress-bar\" role=\"progressbar\" style=\"background-color: red; width: 0%\" aria-valuenow=\"0\" aria-valuemin=\"0\" aria-valuemax=\"100\"></div>\n",
       "</div>\n"
      ]
     },
     "metadata": {},
     "output_type": "display_data"
    },
    {
     "data": {
      "text/html": [
       "<div>\n",
       "  <span style=\"float: left;\">mapPartitions at KMeans.scala:287</span>\n",
       "</div>\n"
      ]
     },
     "metadata": {},
     "output_type": "display_data"
    },
    {
     "data": {
      "text/html": [
       "<div class=\"progress\">\n",
       "  <div class=\"progress-bar\" role=\"progressbar\" style=\"background-color: blue; width: 100%; word-wrap: normal; white-space: nowrap; text-align: center; color: white\" aria-valuenow=\"100\" aria-valuemin=\"0\" aria-valuemax=\"100\">\n",
       "    16 / 16\n",
       "  </div>\n",
       "  <div class=\"progress-bar\" role=\"progressbar\" style=\"background-color: red; width: 0%\" aria-valuenow=\"0\" aria-valuemin=\"0\" aria-valuemax=\"100\"></div>\n",
       "</div>\n"
      ]
     },
     "metadata": {},
     "output_type": "display_data"
    },
    {
     "data": {
      "text/html": [
       "<div>\n",
       "  <span style=\"float: left;\">collectAsMap at KMeans.scala:308</span>\n",
       "</div>\n"
      ]
     },
     "metadata": {},
     "output_type": "display_data"
    },
    {
     "data": {
      "text/html": [
       "<div class=\"progress\">\n",
       "  <div class=\"progress-bar\" role=\"progressbar\" style=\"background-color: blue; width: 100%; word-wrap: normal; white-space: nowrap; text-align: center; color: white\" aria-valuenow=\"100\" aria-valuemin=\"0\" aria-valuemax=\"100\">\n",
       "    16 / 16\n",
       "  </div>\n",
       "  <div class=\"progress-bar\" role=\"progressbar\" style=\"background-color: red; width: 0%\" aria-valuenow=\"0\" aria-valuemin=\"0\" aria-valuemax=\"100\"></div>\n",
       "</div>\n"
      ]
     },
     "metadata": {},
     "output_type": "display_data"
    },
    {
     "data": {
      "text/html": [
       "<div>\n",
       "  <span style=\"float: left;\">mapPartitions at KMeans.scala:287</span>\n",
       "</div>\n"
      ]
     },
     "metadata": {},
     "output_type": "display_data"
    },
    {
     "data": {
      "text/html": [
       "<div class=\"progress\">\n",
       "  <div class=\"progress-bar\" role=\"progressbar\" style=\"background-color: blue; width: 100%; word-wrap: normal; white-space: nowrap; text-align: center; color: white\" aria-valuenow=\"100\" aria-valuemin=\"0\" aria-valuemax=\"100\">\n",
       "    16 / 16\n",
       "  </div>\n",
       "  <div class=\"progress-bar\" role=\"progressbar\" style=\"background-color: red; width: 0%\" aria-valuenow=\"0\" aria-valuemin=\"0\" aria-valuemax=\"100\"></div>\n",
       "</div>\n"
      ]
     },
     "metadata": {},
     "output_type": "display_data"
    },
    {
     "data": {
      "text/html": [
       "<div>\n",
       "  <span style=\"float: left;\">collectAsMap at KMeans.scala:308</span>\n",
       "</div>\n"
      ]
     },
     "metadata": {},
     "output_type": "display_data"
    },
    {
     "data": {
      "text/html": [
       "<div class=\"progress\">\n",
       "  <div class=\"progress-bar\" role=\"progressbar\" style=\"background-color: blue; width: 100%; word-wrap: normal; white-space: nowrap; text-align: center; color: white\" aria-valuenow=\"100\" aria-valuemin=\"0\" aria-valuemax=\"100\">\n",
       "    16 / 16\n",
       "  </div>\n",
       "  <div class=\"progress-bar\" role=\"progressbar\" style=\"background-color: red; width: 0%\" aria-valuenow=\"0\" aria-valuemin=\"0\" aria-valuemax=\"100\"></div>\n",
       "</div>\n"
      ]
     },
     "metadata": {},
     "output_type": "display_data"
    },
    {
     "data": {
      "text/html": [
       "<div>\n",
       "  <span style=\"float: left;\">mapPartitions at KMeans.scala:287</span>\n",
       "</div>\n"
      ]
     },
     "metadata": {},
     "output_type": "display_data"
    },
    {
     "data": {
      "text/html": [
       "<div class=\"progress\">\n",
       "  <div class=\"progress-bar\" role=\"progressbar\" style=\"background-color: blue; width: 100%; word-wrap: normal; white-space: nowrap; text-align: center; color: white\" aria-valuenow=\"100\" aria-valuemin=\"0\" aria-valuemax=\"100\">\n",
       "    16 / 16\n",
       "  </div>\n",
       "  <div class=\"progress-bar\" role=\"progressbar\" style=\"background-color: red; width: 0%\" aria-valuenow=\"0\" aria-valuemin=\"0\" aria-valuemax=\"100\"></div>\n",
       "</div>\n"
      ]
     },
     "metadata": {},
     "output_type": "display_data"
    },
    {
     "data": {
      "text/html": [
       "<div>\n",
       "  <span style=\"float: left;\">collectAsMap at KMeans.scala:308</span>\n",
       "</div>\n"
      ]
     },
     "metadata": {},
     "output_type": "display_data"
    },
    {
     "data": {
      "text/html": [
       "<div class=\"progress\">\n",
       "  <div class=\"progress-bar\" role=\"progressbar\" style=\"background-color: blue; width: 100%; word-wrap: normal; white-space: nowrap; text-align: center; color: white\" aria-valuenow=\"100\" aria-valuemin=\"0\" aria-valuemax=\"100\">\n",
       "    16 / 16\n",
       "  </div>\n",
       "  <div class=\"progress-bar\" role=\"progressbar\" style=\"background-color: red; width: 0%\" aria-valuenow=\"0\" aria-valuemin=\"0\" aria-valuemax=\"100\"></div>\n",
       "</div>\n"
      ]
     },
     "metadata": {},
     "output_type": "display_data"
    },
    {
     "data": {
      "text/html": [
       "<div>\n",
       "  <span style=\"float: left;\">mapPartitions at KMeans.scala:287</span>\n",
       "</div>\n"
      ]
     },
     "metadata": {},
     "output_type": "display_data"
    },
    {
     "data": {
      "text/html": [
       "<div class=\"progress\">\n",
       "  <div class=\"progress-bar\" role=\"progressbar\" style=\"background-color: blue; width: 100%; word-wrap: normal; white-space: nowrap; text-align: center; color: white\" aria-valuenow=\"100\" aria-valuemin=\"0\" aria-valuemax=\"100\">\n",
       "    16 / 16\n",
       "  </div>\n",
       "  <div class=\"progress-bar\" role=\"progressbar\" style=\"background-color: red; width: 0%\" aria-valuenow=\"0\" aria-valuemin=\"0\" aria-valuemax=\"100\"></div>\n",
       "</div>\n"
      ]
     },
     "metadata": {},
     "output_type": "display_data"
    },
    {
     "data": {
      "text/html": [
       "<div>\n",
       "  <span style=\"float: left;\">collectAsMap at KMeans.scala:308</span>\n",
       "</div>\n"
      ]
     },
     "metadata": {},
     "output_type": "display_data"
    },
    {
     "data": {
      "text/html": [
       "<div class=\"progress\">\n",
       "  <div class=\"progress-bar\" role=\"progressbar\" style=\"background-color: blue; width: 100%; word-wrap: normal; white-space: nowrap; text-align: center; color: white\" aria-valuenow=\"100\" aria-valuemin=\"0\" aria-valuemax=\"100\">\n",
       "    16 / 16\n",
       "  </div>\n",
       "  <div class=\"progress-bar\" role=\"progressbar\" style=\"background-color: red; width: 0%\" aria-valuenow=\"0\" aria-valuemin=\"0\" aria-valuemax=\"100\"></div>\n",
       "</div>\n"
      ]
     },
     "metadata": {},
     "output_type": "display_data"
    },
    {
     "data": {
      "text/html": [
       "<div>\n",
       "  <span style=\"float: left;\">mapPartitions at KMeans.scala:287</span>\n",
       "</div>\n"
      ]
     },
     "metadata": {},
     "output_type": "display_data"
    },
    {
     "data": {
      "text/html": [
       "<div class=\"progress\">\n",
       "  <div class=\"progress-bar\" role=\"progressbar\" style=\"background-color: blue; width: 100%; word-wrap: normal; white-space: nowrap; text-align: center; color: white\" aria-valuenow=\"100\" aria-valuemin=\"0\" aria-valuemax=\"100\">\n",
       "    16 / 16\n",
       "  </div>\n",
       "  <div class=\"progress-bar\" role=\"progressbar\" style=\"background-color: red; width: 0%\" aria-valuenow=\"0\" aria-valuemin=\"0\" aria-valuemax=\"100\"></div>\n",
       "</div>\n"
      ]
     },
     "metadata": {},
     "output_type": "display_data"
    },
    {
     "data": {
      "text/html": [
       "<div>\n",
       "  <span style=\"float: left;\">collectAsMap at KMeans.scala:308</span>\n",
       "</div>\n"
      ]
     },
     "metadata": {},
     "output_type": "display_data"
    },
    {
     "data": {
      "text/html": [
       "<div class=\"progress\">\n",
       "  <div class=\"progress-bar\" role=\"progressbar\" style=\"background-color: blue; width: 100%; word-wrap: normal; white-space: nowrap; text-align: center; color: white\" aria-valuenow=\"100\" aria-valuemin=\"0\" aria-valuemax=\"100\">\n",
       "    16 / 16\n",
       "  </div>\n",
       "  <div class=\"progress-bar\" role=\"progressbar\" style=\"background-color: red; width: 0%\" aria-valuenow=\"0\" aria-valuemin=\"0\" aria-valuemax=\"100\"></div>\n",
       "</div>\n"
      ]
     },
     "metadata": {},
     "output_type": "display_data"
    },
    {
     "data": {
      "text/html": [
       "<div>\n",
       "  <span style=\"float: left;\">mapPartitions at KMeans.scala:287</span>\n",
       "</div>\n"
      ]
     },
     "metadata": {},
     "output_type": "display_data"
    },
    {
     "data": {
      "text/html": [
       "<div class=\"progress\">\n",
       "  <div class=\"progress-bar\" role=\"progressbar\" style=\"background-color: blue; width: 100%; word-wrap: normal; white-space: nowrap; text-align: center; color: white\" aria-valuenow=\"100\" aria-valuemin=\"0\" aria-valuemax=\"100\">\n",
       "    16 / 16\n",
       "  </div>\n",
       "  <div class=\"progress-bar\" role=\"progressbar\" style=\"background-color: red; width: 0%\" aria-valuenow=\"0\" aria-valuemin=\"0\" aria-valuemax=\"100\"></div>\n",
       "</div>\n"
      ]
     },
     "metadata": {},
     "output_type": "display_data"
    },
    {
     "data": {
      "text/html": [
       "<div>\n",
       "  <span style=\"float: left;\">collectAsMap at KMeans.scala:308</span>\n",
       "</div>\n"
      ]
     },
     "metadata": {},
     "output_type": "display_data"
    },
    {
     "data": {
      "text/html": [
       "<div class=\"progress\">\n",
       "  <div class=\"progress-bar\" role=\"progressbar\" style=\"background-color: blue; width: 100%; word-wrap: normal; white-space: nowrap; text-align: center; color: white\" aria-valuenow=\"100\" aria-valuemin=\"0\" aria-valuemax=\"100\">\n",
       "    16 / 16\n",
       "  </div>\n",
       "  <div class=\"progress-bar\" role=\"progressbar\" style=\"background-color: red; width: 0%\" aria-valuenow=\"0\" aria-valuemin=\"0\" aria-valuemax=\"100\"></div>\n",
       "</div>\n"
      ]
     },
     "metadata": {},
     "output_type": "display_data"
    },
    {
     "data": {
      "text/html": [
       "<div>\n",
       "  <span style=\"float: left;\">mapPartitions at KMeans.scala:287</span>\n",
       "</div>\n"
      ]
     },
     "metadata": {},
     "output_type": "display_data"
    },
    {
     "data": {
      "text/html": [
       "<div class=\"progress\">\n",
       "  <div class=\"progress-bar\" role=\"progressbar\" style=\"background-color: blue; width: 100%; word-wrap: normal; white-space: nowrap; text-align: center; color: white\" aria-valuenow=\"100\" aria-valuemin=\"0\" aria-valuemax=\"100\">\n",
       "    16 / 16\n",
       "  </div>\n",
       "  <div class=\"progress-bar\" role=\"progressbar\" style=\"background-color: red; width: 0%\" aria-valuenow=\"0\" aria-valuemin=\"0\" aria-valuemax=\"100\"></div>\n",
       "</div>\n"
      ]
     },
     "metadata": {},
     "output_type": "display_data"
    },
    {
     "data": {
      "text/html": [
       "<div>\n",
       "  <span style=\"float: left;\">collectAsMap at KMeans.scala:308</span>\n",
       "</div>\n"
      ]
     },
     "metadata": {},
     "output_type": "display_data"
    },
    {
     "data": {
      "text/html": [
       "<div class=\"progress\">\n",
       "  <div class=\"progress-bar\" role=\"progressbar\" style=\"background-color: blue; width: 100%; word-wrap: normal; white-space: nowrap; text-align: center; color: white\" aria-valuenow=\"100\" aria-valuemin=\"0\" aria-valuemax=\"100\">\n",
       "    16 / 16\n",
       "  </div>\n",
       "  <div class=\"progress-bar\" role=\"progressbar\" style=\"background-color: red; width: 0%\" aria-valuenow=\"0\" aria-valuemin=\"0\" aria-valuemax=\"100\"></div>\n",
       "</div>\n"
      ]
     },
     "metadata": {},
     "output_type": "display_data"
    },
    {
     "data": {
      "text/html": [
       "<div>\n",
       "  <span style=\"float: left;\">mapPartitions at KMeans.scala:287</span>\n",
       "</div>\n"
      ]
     },
     "metadata": {},
     "output_type": "display_data"
    },
    {
     "data": {
      "text/html": [
       "<div class=\"progress\">\n",
       "  <div class=\"progress-bar\" role=\"progressbar\" style=\"background-color: blue; width: 100%; word-wrap: normal; white-space: nowrap; text-align: center; color: white\" aria-valuenow=\"100\" aria-valuemin=\"0\" aria-valuemax=\"100\">\n",
       "    16 / 16\n",
       "  </div>\n",
       "  <div class=\"progress-bar\" role=\"progressbar\" style=\"background-color: red; width: 0%\" aria-valuenow=\"0\" aria-valuemin=\"0\" aria-valuemax=\"100\"></div>\n",
       "</div>\n"
      ]
     },
     "metadata": {},
     "output_type": "display_data"
    },
    {
     "data": {
      "text/html": [
       "<div>\n",
       "  <span style=\"float: left;\">collectAsMap at KMeans.scala:308</span>\n",
       "</div>\n"
      ]
     },
     "metadata": {},
     "output_type": "display_data"
    },
    {
     "data": {
      "text/html": [
       "<div class=\"progress\">\n",
       "  <div class=\"progress-bar\" role=\"progressbar\" style=\"background-color: blue; width: 100%; word-wrap: normal; white-space: nowrap; text-align: center; color: white\" aria-valuenow=\"100\" aria-valuemin=\"0\" aria-valuemax=\"100\">\n",
       "    16 / 16\n",
       "  </div>\n",
       "  <div class=\"progress-bar\" role=\"progressbar\" style=\"background-color: red; width: 0%\" aria-valuenow=\"0\" aria-valuemin=\"0\" aria-valuemax=\"100\"></div>\n",
       "</div>\n"
      ]
     },
     "metadata": {},
     "output_type": "display_data"
    },
    {
     "data": {
      "text/html": [
       "<div>\n",
       "  <span style=\"float: left;\">mapPartitions at KMeans.scala:287</span>\n",
       "</div>\n"
      ]
     },
     "metadata": {},
     "output_type": "display_data"
    },
    {
     "data": {
      "text/html": [
       "<div class=\"progress\">\n",
       "  <div class=\"progress-bar\" role=\"progressbar\" style=\"background-color: blue; width: 100%; word-wrap: normal; white-space: nowrap; text-align: center; color: white\" aria-valuenow=\"100\" aria-valuemin=\"0\" aria-valuemax=\"100\">\n",
       "    16 / 16\n",
       "  </div>\n",
       "  <div class=\"progress-bar\" role=\"progressbar\" style=\"background-color: red; width: 0%\" aria-valuenow=\"0\" aria-valuemin=\"0\" aria-valuemax=\"100\"></div>\n",
       "</div>\n"
      ]
     },
     "metadata": {},
     "output_type": "display_data"
    },
    {
     "data": {
      "text/html": [
       "<div>\n",
       "  <span style=\"float: left;\">collectAsMap at KMeans.scala:308</span>\n",
       "</div>\n"
      ]
     },
     "metadata": {},
     "output_type": "display_data"
    },
    {
     "data": {
      "text/html": [
       "<div class=\"progress\">\n",
       "  <div class=\"progress-bar\" role=\"progressbar\" style=\"background-color: blue; width: 100%; word-wrap: normal; white-space: nowrap; text-align: center; color: white\" aria-valuenow=\"100\" aria-valuemin=\"0\" aria-valuemax=\"100\">\n",
       "    16 / 16\n",
       "  </div>\n",
       "  <div class=\"progress-bar\" role=\"progressbar\" style=\"background-color: red; width: 0%\" aria-valuenow=\"0\" aria-valuemin=\"0\" aria-valuemax=\"100\"></div>\n",
       "</div>\n"
      ]
     },
     "metadata": {},
     "output_type": "display_data"
    },
    {
     "data": {
      "text/html": [
       "<div>\n",
       "  <span style=\"float: left;\">mapPartitions at KMeans.scala:287</span>\n",
       "</div>\n"
      ]
     },
     "metadata": {},
     "output_type": "display_data"
    },
    {
     "data": {
      "text/html": [
       "<div class=\"progress\">\n",
       "  <div class=\"progress-bar\" role=\"progressbar\" style=\"background-color: blue; width: 100%; word-wrap: normal; white-space: nowrap; text-align: center; color: white\" aria-valuenow=\"100\" aria-valuemin=\"0\" aria-valuemax=\"100\">\n",
       "    16 / 16\n",
       "  </div>\n",
       "  <div class=\"progress-bar\" role=\"progressbar\" style=\"background-color: red; width: 0%\" aria-valuenow=\"0\" aria-valuemin=\"0\" aria-valuemax=\"100\"></div>\n",
       "</div>\n"
      ]
     },
     "metadata": {},
     "output_type": "display_data"
    },
    {
     "data": {
      "text/html": [
       "<div>\n",
       "  <span style=\"float: left;\">collectAsMap at KMeans.scala:308</span>\n",
       "</div>\n"
      ]
     },
     "metadata": {},
     "output_type": "display_data"
    },
    {
     "data": {
      "text/html": [
       "<div class=\"progress\">\n",
       "  <div class=\"progress-bar\" role=\"progressbar\" style=\"background-color: blue; width: 100%; word-wrap: normal; white-space: nowrap; text-align: center; color: white\" aria-valuenow=\"100\" aria-valuemin=\"0\" aria-valuemax=\"100\">\n",
       "    16 / 16\n",
       "  </div>\n",
       "  <div class=\"progress-bar\" role=\"progressbar\" style=\"background-color: red; width: 0%\" aria-valuenow=\"0\" aria-valuemin=\"0\" aria-valuemax=\"100\"></div>\n",
       "</div>\n"
      ]
     },
     "metadata": {},
     "output_type": "display_data"
    },
    {
     "data": {
      "text/html": [
       "<div>\n",
       "  <span style=\"float: left;\">mapPartitions at KMeans.scala:287</span>\n",
       "</div>\n"
      ]
     },
     "metadata": {},
     "output_type": "display_data"
    },
    {
     "data": {
      "text/html": [
       "<div class=\"progress\">\n",
       "  <div class=\"progress-bar\" role=\"progressbar\" style=\"background-color: blue; width: 100%; word-wrap: normal; white-space: nowrap; text-align: center; color: white\" aria-valuenow=\"100\" aria-valuemin=\"0\" aria-valuemax=\"100\">\n",
       "    16 / 16\n",
       "  </div>\n",
       "  <div class=\"progress-bar\" role=\"progressbar\" style=\"background-color: red; width: 0%\" aria-valuenow=\"0\" aria-valuemin=\"0\" aria-valuemax=\"100\"></div>\n",
       "</div>\n"
      ]
     },
     "metadata": {},
     "output_type": "display_data"
    },
    {
     "data": {
      "text/html": [
       "<div>\n",
       "  <span style=\"float: left;\">collectAsMap at KMeans.scala:308</span>\n",
       "</div>\n"
      ]
     },
     "metadata": {},
     "output_type": "display_data"
    },
    {
     "data": {
      "text/html": [
       "<div class=\"progress\">\n",
       "  <div class=\"progress-bar\" role=\"progressbar\" style=\"background-color: blue; width: 100%; word-wrap: normal; white-space: nowrap; text-align: center; color: white\" aria-valuenow=\"100\" aria-valuemin=\"0\" aria-valuemax=\"100\">\n",
       "    16 / 16\n",
       "  </div>\n",
       "  <div class=\"progress-bar\" role=\"progressbar\" style=\"background-color: red; width: 0%\" aria-valuenow=\"0\" aria-valuemin=\"0\" aria-valuemax=\"100\"></div>\n",
       "</div>\n"
      ]
     },
     "metadata": {},
     "output_type": "display_data"
    },
    {
     "data": {
      "text/html": [
       "<div>\n",
       "  <span style=\"float: left;\">mapPartitions at KMeans.scala:287</span>\n",
       "</div>\n"
      ]
     },
     "metadata": {},
     "output_type": "display_data"
    },
    {
     "data": {
      "text/html": [
       "<div class=\"progress\">\n",
       "  <div class=\"progress-bar\" role=\"progressbar\" style=\"background-color: blue; width: 100%; word-wrap: normal; white-space: nowrap; text-align: center; color: white\" aria-valuenow=\"100\" aria-valuemin=\"0\" aria-valuemax=\"100\">\n",
       "    16 / 16\n",
       "  </div>\n",
       "  <div class=\"progress-bar\" role=\"progressbar\" style=\"background-color: red; width: 0%\" aria-valuenow=\"0\" aria-valuemin=\"0\" aria-valuemax=\"100\"></div>\n",
       "</div>\n"
      ]
     },
     "metadata": {},
     "output_type": "display_data"
    },
    {
     "data": {
      "text/html": [
       "<div>\n",
       "  <span style=\"float: left;\">collectAsMap at KMeans.scala:308</span>\n",
       "</div>\n"
      ]
     },
     "metadata": {},
     "output_type": "display_data"
    },
    {
     "data": {
      "text/html": [
       "<div class=\"progress\">\n",
       "  <div class=\"progress-bar\" role=\"progressbar\" style=\"background-color: blue; width: 100%; word-wrap: normal; white-space: nowrap; text-align: center; color: white\" aria-valuenow=\"100\" aria-valuemin=\"0\" aria-valuemax=\"100\">\n",
       "    16 / 16\n",
       "  </div>\n",
       "  <div class=\"progress-bar\" role=\"progressbar\" style=\"background-color: red; width: 0%\" aria-valuenow=\"0\" aria-valuemin=\"0\" aria-valuemax=\"100\"></div>\n",
       "</div>\n"
      ]
     },
     "metadata": {},
     "output_type": "display_data"
    },
    {
     "data": {
      "text/html": [
       "<div>\n",
       "  <span style=\"float: left;\">mapPartitions at KMeans.scala:287</span>\n",
       "</div>\n"
      ]
     },
     "metadata": {},
     "output_type": "display_data"
    },
    {
     "data": {
      "text/html": [
       "<div class=\"progress\">\n",
       "  <div class=\"progress-bar\" role=\"progressbar\" style=\"background-color: blue; width: 100%; word-wrap: normal; white-space: nowrap; text-align: center; color: white\" aria-valuenow=\"100\" aria-valuemin=\"0\" aria-valuemax=\"100\">\n",
       "    16 / 16\n",
       "  </div>\n",
       "  <div class=\"progress-bar\" role=\"progressbar\" style=\"background-color: red; width: 0%\" aria-valuenow=\"0\" aria-valuemin=\"0\" aria-valuemax=\"100\"></div>\n",
       "</div>\n"
      ]
     },
     "metadata": {},
     "output_type": "display_data"
    },
    {
     "data": {
      "text/html": [
       "<div>\n",
       "  <span style=\"float: left;\">collectAsMap at KMeans.scala:308</span>\n",
       "</div>\n"
      ]
     },
     "metadata": {},
     "output_type": "display_data"
    },
    {
     "data": {
      "text/html": [
       "<div class=\"progress\">\n",
       "  <div class=\"progress-bar\" role=\"progressbar\" style=\"background-color: blue; width: 100%; word-wrap: normal; white-space: nowrap; text-align: center; color: white\" aria-valuenow=\"100\" aria-valuemin=\"0\" aria-valuemax=\"100\">\n",
       "    16 / 16\n",
       "  </div>\n",
       "  <div class=\"progress-bar\" role=\"progressbar\" style=\"background-color: red; width: 0%\" aria-valuenow=\"0\" aria-valuemin=\"0\" aria-valuemax=\"100\"></div>\n",
       "</div>\n"
      ]
     },
     "metadata": {},
     "output_type": "display_data"
    },
    {
     "data": {
      "text/html": [
       "<div>\n",
       "  <span style=\"float: left;\">mapPartitions at KMeans.scala:287</span>\n",
       "</div>\n"
      ]
     },
     "metadata": {},
     "output_type": "display_data"
    },
    {
     "data": {
      "text/html": [
       "<div class=\"progress\">\n",
       "  <div class=\"progress-bar\" role=\"progressbar\" style=\"background-color: blue; width: 100%; word-wrap: normal; white-space: nowrap; text-align: center; color: white\" aria-valuenow=\"100\" aria-valuemin=\"0\" aria-valuemax=\"100\">\n",
       "    16 / 16\n",
       "  </div>\n",
       "  <div class=\"progress-bar\" role=\"progressbar\" style=\"background-color: red; width: 0%\" aria-valuenow=\"0\" aria-valuemin=\"0\" aria-valuemax=\"100\"></div>\n",
       "</div>\n"
      ]
     },
     "metadata": {},
     "output_type": "display_data"
    },
    {
     "data": {
      "text/html": [
       "<div>\n",
       "  <span style=\"float: left;\">collectAsMap at KMeans.scala:308</span>\n",
       "</div>\n"
      ]
     },
     "metadata": {},
     "output_type": "display_data"
    },
    {
     "data": {
      "text/html": [
       "<div class=\"progress\">\n",
       "  <div class=\"progress-bar\" role=\"progressbar\" style=\"background-color: blue; width: 100%; word-wrap: normal; white-space: nowrap; text-align: center; color: white\" aria-valuenow=\"100\" aria-valuemin=\"0\" aria-valuemax=\"100\">\n",
       "    16 / 16\n",
       "  </div>\n",
       "  <div class=\"progress-bar\" role=\"progressbar\" style=\"background-color: red; width: 0%\" aria-valuenow=\"0\" aria-valuemin=\"0\" aria-valuemax=\"100\"></div>\n",
       "</div>\n"
      ]
     },
     "metadata": {},
     "output_type": "display_data"
    },
    {
     "data": {
      "text/html": [
       "<div>\n",
       "  <span style=\"float: left;\">mapPartitions at KMeans.scala:287</span>\n",
       "</div>\n"
      ]
     },
     "metadata": {},
     "output_type": "display_data"
    },
    {
     "data": {
      "text/html": [
       "<div class=\"progress\">\n",
       "  <div class=\"progress-bar\" role=\"progressbar\" style=\"background-color: blue; width: 100%; word-wrap: normal; white-space: nowrap; text-align: center; color: white\" aria-valuenow=\"100\" aria-valuemin=\"0\" aria-valuemax=\"100\">\n",
       "    16 / 16\n",
       "  </div>\n",
       "  <div class=\"progress-bar\" role=\"progressbar\" style=\"background-color: red; width: 0%\" aria-valuenow=\"0\" aria-valuemin=\"0\" aria-valuemax=\"100\"></div>\n",
       "</div>\n"
      ]
     },
     "metadata": {},
     "output_type": "display_data"
    },
    {
     "data": {
      "text/html": [
       "<div>\n",
       "  <span style=\"float: left;\">collectAsMap at KMeans.scala:308</span>\n",
       "</div>\n"
      ]
     },
     "metadata": {},
     "output_type": "display_data"
    },
    {
     "data": {
      "text/html": [
       "<div class=\"progress\">\n",
       "  <div class=\"progress-bar\" role=\"progressbar\" style=\"background-color: blue; width: 100%; word-wrap: normal; white-space: nowrap; text-align: center; color: white\" aria-valuenow=\"100\" aria-valuemin=\"0\" aria-valuemax=\"100\">\n",
       "    16 / 16\n",
       "  </div>\n",
       "  <div class=\"progress-bar\" role=\"progressbar\" style=\"background-color: red; width: 0%\" aria-valuenow=\"0\" aria-valuemin=\"0\" aria-valuemax=\"100\"></div>\n",
       "</div>\n"
      ]
     },
     "metadata": {},
     "output_type": "display_data"
    },
    {
     "data": {
      "text/html": [
       "<div>\n",
       "  <span style=\"float: left;\">mapPartitions at KMeans.scala:287</span>\n",
       "</div>\n"
      ]
     },
     "metadata": {},
     "output_type": "display_data"
    },
    {
     "data": {
      "text/html": [
       "<div class=\"progress\">\n",
       "  <div class=\"progress-bar\" role=\"progressbar\" style=\"background-color: blue; width: 100%; word-wrap: normal; white-space: nowrap; text-align: center; color: white\" aria-valuenow=\"100\" aria-valuemin=\"0\" aria-valuemax=\"100\">\n",
       "    16 / 16\n",
       "  </div>\n",
       "  <div class=\"progress-bar\" role=\"progressbar\" style=\"background-color: red; width: 0%\" aria-valuenow=\"0\" aria-valuemin=\"0\" aria-valuemax=\"100\"></div>\n",
       "</div>\n"
      ]
     },
     "metadata": {},
     "output_type": "display_data"
    },
    {
     "data": {
      "text/html": [
       "<div>\n",
       "  <span style=\"float: left;\">collectAsMap at KMeans.scala:308</span>\n",
       "</div>\n"
      ]
     },
     "metadata": {},
     "output_type": "display_data"
    },
    {
     "data": {
      "text/html": [
       "<div class=\"progress\">\n",
       "  <div class=\"progress-bar\" role=\"progressbar\" style=\"background-color: blue; width: 100%; word-wrap: normal; white-space: nowrap; text-align: center; color: white\" aria-valuenow=\"100\" aria-valuemin=\"0\" aria-valuemax=\"100\">\n",
       "    16 / 16\n",
       "  </div>\n",
       "  <div class=\"progress-bar\" role=\"progressbar\" style=\"background-color: red; width: 0%\" aria-valuenow=\"0\" aria-valuemin=\"0\" aria-valuemax=\"100\"></div>\n",
       "</div>\n"
      ]
     },
     "metadata": {},
     "output_type": "display_data"
    },
    {
     "data": {
      "text/html": [
       "<div>\n",
       "  <span style=\"float: left;\">collect at ClusteringSummary.scala:49</span>\n",
       "</div>\n"
      ]
     },
     "metadata": {},
     "output_type": "display_data"
    },
    {
     "data": {
      "text/html": [
       "<div class=\"progress\">\n",
       "  <div class=\"progress-bar\" role=\"progressbar\" style=\"background-color: blue; width: 100%; word-wrap: normal; white-space: nowrap; text-align: center; color: white\" aria-valuenow=\"100\" aria-valuemin=\"0\" aria-valuemax=\"100\">\n",
       "    16 / 16\n",
       "  </div>\n",
       "  <div class=\"progress-bar\" role=\"progressbar\" style=\"background-color: red; width: 0%\" aria-valuenow=\"0\" aria-valuemin=\"0\" aria-valuemax=\"100\"></div>\n",
       "</div>\n"
      ]
     },
     "metadata": {},
     "output_type": "display_data"
    },
    {
     "data": {
      "text/html": [
       "<div>\n",
       "  <span style=\"float: left;\">collect at ClusteringSummary.scala:49</span>\n",
       "</div>\n"
      ]
     },
     "metadata": {},
     "output_type": "display_data"
    },
    {
     "data": {
      "text/html": [
       "<div class=\"progress\">\n",
       "  <div class=\"progress-bar\" role=\"progressbar\" style=\"background-color: blue; width: 100%; word-wrap: normal; white-space: nowrap; text-align: center; color: white\" aria-valuenow=\"100\" aria-valuemin=\"0\" aria-valuemax=\"100\">\n",
       "    200 / 200\n",
       "  </div>\n",
       "  <div class=\"progress-bar\" role=\"progressbar\" style=\"background-color: red; width: 0%\" aria-valuenow=\"0\" aria-valuemin=\"0\" aria-valuemax=\"100\"></div>\n",
       "</div>\n"
      ]
     },
     "metadata": {},
     "output_type": "display_data"
    },
    {
     "data": {
      "text/plain": [
       "\u001b[32mimport \u001b[39m\u001b[36morg.apache.spark.ml.clustering.KMeans\n",
       "\u001b[39m\r\n",
       "\u001b[32mimport \u001b[39m\u001b[36morg.apache.spark.ml.evaluation.ClusteringEvaluator\n",
       "\n",
       "// Trains a k-means model.\n",
       "\u001b[39m\r\n",
       "\u001b[36mkmeans\u001b[39m: \u001b[32mKMeans\u001b[39m = kmeans_5c21f5bceb80\r\n",
       "\u001b[36mkModel\u001b[39m: \u001b[32morg\u001b[39m.\u001b[32mapache\u001b[39m.\u001b[32mspark\u001b[39m.\u001b[32mml\u001b[39m.\u001b[32mclustering\u001b[39m.\u001b[32mKMeansModel\u001b[39m = KMeansModel: uid=kmeans_5c21f5bceb80, k=10, distanceMeasure=euclidean, numFeatures=128"
      ]
     },
     "execution_count": 38,
     "metadata": {},
     "output_type": "execute_result"
    }
   ],
   "source": [
    "import org.apache.spark.ml.clustering.KMeans\n",
    "import org.apache.spark.ml.evaluation.ClusteringEvaluator\n",
    "\n",
    "// Trains a k-means model.\n",
    "val kmeans = new KMeans().setK(10).setSeed(1L)\n",
    "val kModel = kmeans.fit(trainingDF)\n",
    "\n",
    "\n",
    "// Save and load model\n",
    "//clusters.save(sc, \"target/org/apache/spark/KMeansExample/KMeansModel\")\n",
    "//val sameModel = KMeansModel.load(sc, \"target/org/apache/spark/KMeansExample/KMeansModel\")\n"
   ]
  },
  {
   "cell_type": "markdown",
   "metadata": {},
   "source": [
    "### Evaluate"
   ]
  },
  {
   "cell_type": "code",
   "execution_count": 39,
   "metadata": {},
   "outputs": [
    {
     "data": {
      "text/html": [
       "<div>\n",
       "  <span style=\"float: left;\">head at MetadataUtils.scala:51</span>\n",
       "</div>\n"
      ]
     },
     "metadata": {},
     "output_type": "display_data"
    },
    {
     "data": {
      "text/html": [
       "<div class=\"progress\">\n",
       "  <div class=\"progress-bar\" role=\"progressbar\" style=\"background-color: blue; width: 100%; word-wrap: normal; white-space: nowrap; text-align: center; color: white\" aria-valuenow=\"100\" aria-valuemin=\"0\" aria-valuemax=\"100\">\n",
       "    1 / 1\n",
       "  </div>\n",
       "  <div class=\"progress-bar\" role=\"progressbar\" style=\"background-color: red; width: 0%\" aria-valuenow=\"0\" aria-valuemin=\"0\" aria-valuemax=\"100\"></div>\n",
       "</div>\n"
      ]
     },
     "metadata": {},
     "output_type": "display_data"
    },
    {
     "data": {
      "text/html": [
       "<div>\n",
       "  <span style=\"float: left;\">map at ClusteringMetrics.scala:300</span>\n",
       "</div>\n"
      ]
     },
     "metadata": {},
     "output_type": "display_data"
    },
    {
     "data": {
      "text/html": [
       "<div class=\"progress\">\n",
       "  <div class=\"progress-bar\" role=\"progressbar\" style=\"background-color: blue; width: 100%; word-wrap: normal; white-space: nowrap; text-align: center; color: white\" aria-valuenow=\"100\" aria-valuemin=\"0\" aria-valuemax=\"100\">\n",
       "    16 / 16\n",
       "  </div>\n",
       "  <div class=\"progress-bar\" role=\"progressbar\" style=\"background-color: red; width: 0%\" aria-valuenow=\"0\" aria-valuemin=\"0\" aria-valuemax=\"100\"></div>\n",
       "</div>\n"
      ]
     },
     "metadata": {},
     "output_type": "display_data"
    },
    {
     "data": {
      "text/html": [
       "<div>\n",
       "  <span style=\"float: left;\">collectAsMap at ClusteringMetrics.scala:321</span>\n",
       "</div>\n"
      ]
     },
     "metadata": {},
     "output_type": "display_data"
    },
    {
     "data": {
      "text/html": [
       "<div class=\"progress\">\n",
       "  <div class=\"progress-bar\" role=\"progressbar\" style=\"background-color: blue; width: 100%; word-wrap: normal; white-space: nowrap; text-align: center; color: white\" aria-valuenow=\"100\" aria-valuemin=\"0\" aria-valuemax=\"100\">\n",
       "    16 / 16\n",
       "  </div>\n",
       "  <div class=\"progress-bar\" role=\"progressbar\" style=\"background-color: red; width: 0%\" aria-valuenow=\"0\" aria-valuemin=\"0\" aria-valuemax=\"100\"></div>\n",
       "</div>\n"
      ]
     },
     "metadata": {},
     "output_type": "display_data"
    },
    {
     "data": {
      "text/html": [
       "<div>\n",
       "  <span style=\"float: left;\">collect at ClusteringMetrics.scala:102</span>\n",
       "</div>\n"
      ]
     },
     "metadata": {},
     "output_type": "display_data"
    },
    {
     "data": {
      "text/html": [
       "<div class=\"progress\">\n",
       "  <div class=\"progress-bar\" role=\"progressbar\" style=\"background-color: blue; width: 100%; word-wrap: normal; white-space: nowrap; text-align: center; color: white\" aria-valuenow=\"100\" aria-valuemin=\"0\" aria-valuemax=\"100\">\n",
       "    16 / 16\n",
       "  </div>\n",
       "  <div class=\"progress-bar\" role=\"progressbar\" style=\"background-color: red; width: 0%\" aria-valuenow=\"0\" aria-valuemin=\"0\" aria-valuemax=\"100\"></div>\n",
       "</div>\n"
      ]
     },
     "metadata": {},
     "output_type": "display_data"
    },
    {
     "data": {
      "text/html": [
       "<div>\n",
       "  <span style=\"float: left;\">collect at ClusteringMetrics.scala:102</span>\n",
       "</div>\n"
      ]
     },
     "metadata": {},
     "output_type": "display_data"
    },
    {
     "data": {
      "text/html": [
       "<div class=\"progress\">\n",
       "  <div class=\"progress-bar\" role=\"progressbar\" style=\"background-color: blue; width: 100%; word-wrap: normal; white-space: nowrap; text-align: center; color: white\" aria-valuenow=\"100\" aria-valuemin=\"0\" aria-valuemax=\"100\">\n",
       "    1 / 1\n",
       "  </div>\n",
       "  <div class=\"progress-bar\" role=\"progressbar\" style=\"background-color: red; width: 0%\" aria-valuenow=\"0\" aria-valuemin=\"0\" aria-valuemax=\"100\"></div>\n",
       "</div>\n"
      ]
     },
     "metadata": {},
     "output_type": "display_data"
    },
    {
     "name": "stdout",
     "output_type": "stream",
     "text": [
      "Silhouette with squared euclidean distance = 0.37826690733104607\n",
      "Test Error = 0.6217330926689539\n",
      "Cluster Centers: \n",
      "[-0.35684553691645227,-0.07204510784235339,0.03291901478281364,0.0927254664168023,-0.21983701213266468,0.6797717869003963,-0.7277772970995817,0.022243001569478504,1.1283425053729141,-0.2249026708749892,0.35633749269921305,0.6984853657797858,0.3022021952501498,-0.110425479489369,0.3011053086731275,-0.5145188207317412,1.120539357131857,0.29600144883798707,0.8012586701822269,0.07963325099558737,0.9231464229874914,0.509045428886722,-0.44465176228961123,0.4918979691900601,0.13423878986911267,-0.4759465373741425,-0.007902851910455406,-0.3920140160774089,0.2639773986266614,-0.32109512616477176,-0.19570750336160786,0.45302582734582786,-0.23763955453802668,-0.18960229249493077,0.618907173656216,-0.6535813247175539,0.08195721333845074,-0.2977556231613533,-0.1572047649652919,-0.6845586073613401,-0.8920335366668265,0.6129044566672647,-0.09117348186196786,-0.04308702750696679,0.21415358709043217,-0.1665164500442603,0.1876876797702466,0.24237526769769294,-0.08493313599170327,-0.3733123226508808,0.47525015426672745,-0.7587232945895801,0.08560293572834218,-0.16250508134012043,0.20632317163308445,-0.07701892288085924,0.27242355290893666,-0.2591895883119287,0.3566315713923292,-0.13608607980911872,-0.8114606916163304,-0.28691668122499386,-0.08762870404737114,-0.23701733191413035,0.25053112205335887,-0.019421304711646326,-0.22261751329971957,-0.0958573190732622,0.04812013161132758,-0.28787704272501646,-0.3665773060677364,0.07067049575677067,-0.7686651385650322,0.5655705471635085,0.48374565547002074,-0.851296055342529,-0.3885992819773545,0.08277910864741628,-0.3623643355813082,-0.27521584645014957,-0.0067814987463175646,-0.5485298082028444,0.5336969061516414,0.17747145083860827,0.3459181797918359,-0.2622162039915881,-0.47623084743792876,0.11379777067225867,-0.14930101528570638,-0.0892122688490971,-0.12034416313812714,0.026037495018843313,0.5558994104093379,1.5863738219765018,0.0274225917016074,-0.05009472827789512,0.29638209838749413,-0.12265347424833473,0.4331671476030822,0.030310036092691936,-0.08993669469417737,0.13169484128066397,-0.1687179308312045,-0.020902707869074947,-0.07833581803323196,-0.4171383460358084,-0.49986389556244565,0.4511589860370809,0.11930549365511416,-0.10718947793357803,0.8835946202620268,0.2927139010897276,-0.11110471928436398,0.023087459352716312,-0.04532077152084763,0.7287016619692342,-0.3695082600049965,-0.2190385963824273,0.6532161038726606,0.021638024071671133,0.18809734400560005,-0.0053487072997349784,0.0948268054242026,0.6269810905799852,-0.5044748958803812,-0.33742887236268315,-0.11198907283197514,0.40580221902254277]\n",
      "[2.651386690731391,1.7544401988498701,1.5432949373122098,-3.5146012079106352,2.5067691391921474,4.476024238296475,3.1390338960504494,-1.8065934848930054,0.6054268575196394,1.383980484366113,0.3348050890572322,1.447473918084046,1.8004023625170344,-2.140532720796058,2.271427134082487,-2.8334847290989473,-0.7291358610183853,3.052006076261097,1.728352855123021,-2.6021412903130052,2.667973007976183,1.4992462583845894,-2.937048940559103,0.4124607323594024,-1.9975812466169423,2.264735466174371,2.670673122564421,-1.5852222635484563,1.6324593129195526,-2.9220262210108037,-2.2663227141199114,-2.233896659055753,-0.31664112523257015,1.9844795051884214,-1.810260997674512,1.4754827940228794,-2.0443279860586467,-2.2020433232333767,-3.361018217871209,0.7710729794552882,0.3175367152563415,-2.67938554986829,-2.9541441467801564,1.3584759612358472,3.365805494205389,2.6919858416843088,-1.77693204640366,-1.7925722090481666,1.1664198145471043,1.931572860250832,-1.7183215876958964,-2.725187375313024,-2.355484377918238,2.0164657029098607,-2.651471382300346,3.0587902358371712,-3.8250042631640655,-2.0593278621625264,3.3593275071190307,-2.9382246411128596,-0.77030468793593,-2.029136548609624,0.4439395177101198,-2.8583870281526838,2.468903092073415,-1.5970376124821466,3.7594825739372113,-0.860485284521851,-2.0971709592509526,0.8238079576751415,1.5944686265201353,2.5296408124488496,2.147608240767211,-1.774490547409678,3.6783415102966983,-4.110043088899489,2.179131361919697,2.2133362790638773,-0.2983673405736826,-4.026814911680856,-0.203049160132037,-2.2755054752438713,1.9144097813158456,0.10152919693226668,-0.6867474891064005,-3.5667132863761344,1.8361935413437922,-0.12317567906260575,2.1508893057767238,2.542955067070182,-2.396849121447032,-3.377262595927311,2.3535076445808056,-1.2944839906434462,2.553734054025445,-2.5243669412424463,1.584583651192513,3.3151061770727073,3.1300401053544387,3.6070849273766155,0.4561180157696973,-1.100408867970969,1.0174494179051519,-1.671186936861528,-3.2451678843256926,-1.9814688287363076,-3.674531709339849,-0.19427252455793179,-3.2324243633680214,1.1745482670094671,2.6470328795321123,2.7028358493953544,-1.7527056383528616,2.9150714264622914,-1.6817253159875551,2.296816135064898,2.4560695003174136,-2.9104109050362386,-2.0145329617450964,2.467631218081719,1.6995340674317663,0.41190154692387443,-2.147844837692416,4.162403760582055,2.820760660316956,2.7857200617950983,1.5266205040669285,-2.0359337019143213]\n",
      "[2.3929432983562977,1.3843500260748256,-1.9696395009583973,-3.263923577661845,3.1780506041065633,3.8937307359343367,1.7461123391697773,-3.069283741686313,-0.6587431103177341,2.9320028343249103,2.5135141976683935,3.0612885214924286,3.657071218554776,-2.3239158281660974,3.701500995179754,-2.1285815483243544,-1.3833709696747931,2.1064079742788047,2.978757871013928,-2.9095389683068738,2.965452460527891,3.06816783807836,-3.6154422597163625,2.1508477580688603,-3.541946935431143,0.35345740742597664,3.1740961025948167,-3.456214980412024,3.2092031938975603,-3.526567821545725,-3.5027128700071013,-2.1428022881661914,0.2671764130774107,3.2851807497759866,-1.7173272166426854,2.701626546008679,-3.6399022070010485,0.3124249834748028,-3.201257773796651,2.0533357916229464,1.523760408148944,-2.311233835438876,-3.2576122059983685,-0.020983330954519964,2.487881562567843,3.0889254874981007,-2.7257920624698957,-1.9709201949916606,2.669207141546457,0.20042166282782387,-0.5721727915232,-3.645830025155148,-3.149473648173559,3.3595976577533717,-3.1173194237953057,2.7459973424431037,-2.3642087105332674,-2.8851215346031966,3.9683912273187514,-4.05928438045192,-2.551383195719243,-3.7332397315691233,-0.6545080691351467,-3.5663856440475876,1.0035798260983464,-2.3365842054939865,2.6478642973883937,-2.6475047550638324,-2.9181821387709936,-0.8531416812483521,2.25171943512198,0.9495260767789736,-0.8155461215703936,-2.7166376172515734,3.9880569426769314,-2.945939786743981,2.9707354276045357,3.540601851108952,-2.089621172930085,-3.4985613714833526,-1.306161568473479,-1.5853036552680535,3.537423049212428,-0.4059387396279582,1.5835486096354046,-3.8261925825427707,1.6644368016878621,-1.2023004190725075,3.5842034021822617,2.2716401564700686,-2.9775344348169557,-2.517714650579972,3.474039817358105,-0.46525319138206467,3.690863776259175,-2.885780592578675,-0.4677255914266712,3.271938835657362,4.133651249874321,1.8830233928225595,3.0147299630273507,-2.6225354088810544,2.992166651228789,0.015308768107347626,-3.577679852659799,-0.20545458895508362,-4.0238859439489945,2.2343814984939936,-3.3294503940573015,0.8010850600653308,0.031621372108507254,3.8082635108876337,-2.986636564591372,3.24128648945002,-2.429486587100219,3.4066279060184637,3.1820740533573835,-3.618909051148109,1.752941057095784,3.3701625154664234,1.576212231282318,0.5749374969814618,-2.3915892303896573,3.76348491729733,2.4285378327571454,1.5388745664947099,2.942264151311111,-2.561617092568061]\n",
      "[2.9410720895104667,-1.0138584221911118,-6.127143292369588,-3.383394060439734,4.485527879921339,3.528504352579195,-0.32504012630848683,-5.14578014697346,-1.7406162799993283,2.957230201118058,5.347142762755987,5.233933081792634,0.9303690880409459,-5.672888468459461,4.527502473926392,-3.9500873690217904,-1.0533164813294602,2.1598906104310327,4.763005579943575,-4.541474904972016,1.2421821161612825,1.4576329402436885,-3.8935494861382316,5.476356608409301,-4.134641266320657,-1.401000322877948,3.623366071660039,-6.472939371271475,5.791455583495979,-3.094478771141344,-4.601508380456336,-1.1744744245738357,3.2002758696463594,4.159433807422996,-1.005992545772619,1.1037481842544465,-3.6921296768382885,0.09990371079315362,-3.0479272106867885,3.988805844917134,3.591079254804342,-2.280264795996431,-2.503468753860787,-2.030641557987456,1.2373313254043445,2.1801483188846147,0.15940575896858922,-3.05065994206254,4.374157556394069,0.1899402993010424,-0.35179737038177505,-5.014131702253573,-2.9570622538891076,5.624636304356835,-3.982686131761903,1.4653084915275527,-1.384201941473755,-4.080452171254937,2.8029756953332963,-3.391315873380797,-3.198534607680694,-3.8142824532070736,-5.171580723522278,-3.836611485779148,-0.27712494642913876,-4.371432520654106,-1.0662836077887081,-4.090402603172021,-4.084678888358852,-1.6242085899522265,1.564021514403368,0.662766950991911,-2.6388339031801546,-4.946534937233684,3.438588611948233,-2.1761625774906097,3.5893689172153285,4.732256648789742,-7.521276828517869,-2.336120113788945,-2.6360370661465358,-0.9208738189982876,3.328714247160508,1.338887451961572,3.315967930874301,-4.040004579443549,-1.2692149931081278,-0.5726602355099907,3.432330226031108,-0.4255400069820542,-4.168065840165282,-1.959574087696242,5.143373303389529,-3.108148154224618,4.452157791243724,-3.024290043601654,-1.1730549603561777,1.096916095865975,3.632658916833602,0.7679952262618382,2.6277800319233022,-1.3950015638366755,3.1339425513474315,3.498819155992866,-4.064588548316005,2.473067693640065,-3.107306072006523,4.167710528014791,-3.383855560770381,0.07092747371378935,-4.6286652684143474,4.932738517150556,-3.2996929087100777,4.425361721160265,-2.291462774446566,3.6218647287940744,4.2068065436149995,-4.586713152921682,-0.1304468691326444,3.0977145313270382,2.4526762795969312,2.7623193048328116,-4.692101476017745,3.6279657443965374,1.6629386272125186,-0.3169584690223881,5.2792888380217695,-3.654315015660431]\n",
      "[1.7024570862195993,1.0152692999672372,0.5712735343004502,-1.89722777486751,1.4779229924264041,3.014668547479959,1.1699244007008576,-1.7638113897938898,0.1085493325739569,1.4278125326761333,1.699130964228112,1.2404288108965154,1.023374879202943,-0.6533264973927884,1.8468199641682541,-1.8394356273897836,-0.5030854212956547,1.8738826090139689,2.5963540955055042,-1.9366576783372265,2.242287983959408,1.3716888885719372,-2.4752621256596483,1.5762651013851294,-1.5112045500178193,0.8975983143294669,1.769933920265445,-1.7839154426157453,1.9179268047940436,-2.02548425278633,-2.0017384826548765,-1.1689682009055027,-0.5499512161112218,1.2050759790234573,-1.1017254477294864,0.6204611312811538,-1.515808191749796,-0.6356498477498859,-2.4140856216627653,-0.012577179567458165,0.735552511421235,-0.99611517478755,-1.8453827125227038,1.3256667853350657,1.7283459566015322,1.7186271671062776,-0.797392446843277,-0.35098502751974464,0.5932342448504065,0.2118263418125093,-1.4334040273516484,-1.0256412999725395,-1.8596661230003422,0.6947635881791214,-1.6936619288161445,2.0156714043906305,-2.186865199745748,-1.954262567087172,1.988306640258569,-2.1370328826070546,-0.2796849768836231,-1.7067877274797094,-0.19872358060169315,-2.185950749279152,1.0829214582463738,-1.469965060306104,1.9868619195300532,-1.6140771143596875,-1.6115876564054041,0.405533150728465,0.2648040344117374,1.609579518727348,1.1679601141396516,-0.3248665932831005,2.48601971778465,-3.203757796667321,1.0113323622764925,1.8598404854366715,-0.3400050046409464,-2.507666836203416,-0.2968686767081989,-2.5883022046865807,1.2346006786258061,0.900845353129973,-0.10702389441694717,-2.346631493565121,0.8797068528401761,-0.264123709898741,1.408975065322881,1.6229908603305259,-1.9973322064735308,-2.7081322466315454,1.580091941105985,-0.22418291207601856,1.8210157952807242,-2.1706719574054385,0.8677419927710223,1.711515288210715,1.895418488226025,2.59838926473308,0.9822356434939348,-0.18773124272757144,1.6552981452479993,-0.4305481152266637,-2.017328896166801,-1.7412779684776887,-2.213331630719677,0.8672207489970493,-1.8896368693028782,0.9332559304986261,2.2728640389942623,2.0376636433409745,-1.5627966585069688,1.995189503991806,-1.2556162098762975,2.3349628090190566,1.1452191458084513,-2.2168794121982547,0.23324484523392267,2.0969721277390563,1.1868842414218523,0.7751434755016722,-1.6640746468097718,2.180823242401779,1.5106139298459977,0.49195135703070403,1.3713834897528479,-1.4045310593634208]\n",
      "[3.138585401927821,-0.8700813659352387,-3.209416654841815,-1.8295995780645122,3.595578285128392,2.3853371795148153,1.1891923806447224,-3.576551513054202,2.717345764970409,3.854579963521737,4.744834620549527,4.5513393805511635,4.717630530420949,-4.275575321535604,5.817995027921175,-1.1698552796045483,-0.6637665475766878,2.098820916382711,5.799120544683982,-4.283484904984228,3.2455253645392874,7.368871803142686,-3.621818881649683,6.143475936201004,-4.7166117823693225,-0.45142189623135737,4.5068174907662275,-5.560305982914283,4.609931752165695,-5.475189274003411,-3.9892128583660638,-2.6347063920523768,2.576862900399649,5.195526164415834,-4.593296940969624,3.542558248939003,-3.819301499679908,1.9265753363013043,-3.467321218155555,3.822568307919713,3.7691461192082736,-3.589526967574431,-3.131873461532851,-0.7021061259494319,3.2619410530760713,1.770912852811029,-3.600289669222051,-2.654617103625142,3.197848833983912,-1.4422048521103106,0.9004707074176563,-3.2509933990459947,-4.897173680187072,3.211925241504182,-4.647902650505664,3.243867989906597,-1.5929238983254,-5.444862714040593,4.96523424206536,-4.876299807060683,-5.8503282195093185,-2.5638818101609884,-1.0488024741925797,-3.8718725503025415,-1.3269087915840487,-3.107179305334308,2.0300521956526736,-4.5828487637680055,-4.7738703238042115,-2.0078688014222594,2.4696609188768477,-0.38549341129643144,-2.1765770658238717,-3.3369298106276424,4.773416715515671,-3.215052464378852,4.596860247595579,4.378965950290422,-4.302685267606626,-2.6841973637486167,-4.136084294538215,0.41251543978492555,-0.9171765981206178,0.8148191564676769,1.201548761385188,-3.2216019149454365,0.5024954744709554,-3.4391238436808287,5.059417527017499,-0.3244599970761037,-4.952255713519337,-2.6938212272028896,5.205974545868167,0.0432735235355139,5.07161879038637,-2.253135735073672,-2.2465020423954725,4.265991101506455,4.915801813724236,-0.28741756782307487,4.10912953752659,-4.145711632353015,1.8880156609793919,-1.4078232769761982,-4.756839635093873,1.7816934566570728,-3.8810457815256574,6.030185085843677,-3.4541451990074092,-0.5858193158385232,-2.9127202343603273,5.0884401021169126,-5.783885641448418,4.174847788648455,-3.772554501338815,4.569535507148052,3.19950534107621,-3.333222873980006,1.6487789236895276,4.940864336120934,4.748720589779947,4.056288862600971,-2.4869405828306275,2.913432946070649,1.7310249090030354,-1.0095127867695946,4.794205022480093,-3.524690723601407]\n",
      "[2.460002878020176,1.6151328484748289,-1.9661667574035828,-2.4237886378986153,2.955791382058728,2.5839932946908224,-0.18561521293178032,-3.6351169508949486,-0.901590624327973,1.2909973729731745,3.4080408884562483,4.264693300951303,2.5833548035694642,0.3083320733711921,2.7307984293026117,-4.107318070120785,-2.035820068509877,1.2339774001631652,1.633556112125816,-2.5332557815688785,2.945836599817186,1.6553548910191431,-4.144548501593507,2.1471620386745895,-2.8827653595908074,1.778751094266599,2.1049840890662836,-3.143010520343558,3.7444056598017124,-2.6605780128613428,-3.607935684538985,-1.0906931720298287,-2.081386142221573,1.3988780867125032,2.1012035123466446,0.4886368328364637,-3.7787486098046443,1.9156625186760676,-3.3134167995582606,0.4376612244732508,0.8483871789258477,-1.2975785446071888,-2.9018087706890725,3.5137549310669467,1.0462945977241416,1.0424827452075647,-1.5619977491469106,-0.2613147846023418,2.6010207888901253,-1.7930476573508642,0.6773008119536343,0.650671194183479,-3.3402949961038573,0.37375767528877823,-1.8015486043286104,2.5754263072717407,-1.9604267113752654,-2.750962253064285,2.606878834993414,-2.7687267476598514,-0.8849643119889676,-3.218379236650278,0.37966237893700916,-3.025175756852458,-0.4114860754238342,-3.8839758164617777,2.06877229486508,-2.03635318114782,-2.459188758848823,-1.3308350185025974,0.9419759746004844,2.7003059680786414,1.8321709305320015,-1.166194643861335,2.5451020172960632,-3.2288116648920666,0.2358586056063875,2.5022423172295407,-0.11365361733235818,-3.38668959566088,-2.1662689935333823,-2.4930714168116297,3.333124055186471,3.9401090357527826,0.5950612274086455,-2.8594772667920663,1.2358300564919376,-2.8930494714994466,2.3196173115078538,1.6020680819874595,-1.2886997153794324,-2.6227975614648376,2.866546834874113,1.320570223061678,2.9825480900888923,-3.412786448867088,0.057597135534189894,0.7716500995865375,2.670494202517499,1.772828389645124,2.136012563015264,-2.355079668944828,1.6563690595585594,0.4449985519970862,-2.3395321738135197,-0.2392241148710882,-2.9911011497075566,-0.7868891122675151,-1.4100734353108553,1.4305610576114431,2.19559634955519,2.101746606205471,-3.6615324843279122,0.750643844761157,-2.776720603168896,3.8605916765263797,3.0007501322368313,-2.637753462144126,2.0126553481868155,2.459245173657094,2.610213430891293,1.1208071501412533,-3.3403109512005584,2.356232582882917,2.1486952885067354,-1.8767283181451504,2.258011340052994,-3.068510349397946]\n",
      "[0.7395764942104437,0.8377134568384931,0.5382244824656488,-0.8146693597368236,0.634528091333985,1.909062754588199,0.0058263032610650035,-0.9055227126926503,1.2172196405233742,0.46121887489005187,0.8060375493414521,0.9089023690899655,0.7919065654070163,-0.32697174707493737,1.097520227365568,-1.1479705026605045,0.1759014120318482,1.308404367686867,1.6600839006487664,-0.9153997904655133,1.8227253523629654,0.8679853586491382,-1.4421911337618074,0.7799719366432606,-0.57217308081726,0.3200615094766581,0.8350465985976524,-1.1140721462375465,1.0015597303944568,-1.2009276188077647,-1.0570158343064684,-0.23925706068011635,-0.404645308258499,0.46069096644089774,-0.13699571834188756,-0.07063049888429468,-0.6333849689168388,-0.6676903320980052,-1.3154487053776749,-0.8284836329288932,-0.03335474406682839,-0.03879690641310242,-1.0388676432630868,0.8709391983329137,0.860055355435891,0.7312038296999855,-0.09652529093194405,-0.007322369783250019,0.37307016550869776,-0.21503908453527448,-0.5405517767969129,-0.8967659939758517,-0.8411772273966701,0.2563267981703148,-0.681006204551769,1.2188607128930355,-0.880199115266604,-1.2974465284501768,1.158481469820869,-1.0266328718729383,-0.6874646320151894,-1.032996257680124,-0.004836892176075237,-1.2052488948603375,0.7900679826216536,-0.5861504102015495,0.8754160987942528,-0.5451266602290173,-0.7359745324649213,0.10216831708744631,-0.21670222825160484,0.9262426532649354,0.3545080699906994,0.3485303958165199,1.4866642333323006,-1.8536265170185071,0.13176700901804805,0.947828958054117,-0.16520000575290353,-1.444016915480083,-0.23972865411234245,-1.6827029397107187,0.8187997550814821,0.5662376017132765,-0.27755378286313065,-1.3185395844393621,0.4975563733786451,-0.29719496468187123,0.5435162837552491,0.8501347095984879,-0.7728453897794818,-1.4261298600630659,1.0834750520377403,1.0451021378568728,0.8745403234154918,-1.0615365672010344,0.9537512426192426,0.883362147888435,1.206684279978454,1.4617011009051448,0.3627285791686049,0.08887596513587423,0.5311321219628933,-0.6153067219638969,-0.9799263731666915,-1.2133780869059443,-1.2935489009033223,0.29139931730508883,-0.7925048818719045,0.7231430476663524,1.4315285908967335,1.0146407485234288,-0.8308117214183868,1.0295355934303705,-0.8654415482264025,1.6705323459763002,0.38467180804325546,-1.2779233136145693,0.29338920773230326,1.0533512438045776,0.8103064731075001,0.3472614643662775,-0.8830213476266673,1.28333260570644,0.3466712334763838,0.3569307668707593,0.5833774910635591,-0.4868258473293502]\n",
      "[2.496872839872274,4.1522424431066405,-0.7203367608358681,-1.4746272233894338,1.7106369352467667,2.4219348939352523,-0.3456131610882003,-2.4517529243432574,2.6060958772046314,1.8762463316701357,0.7838530947294291,2.9856886983129587,2.974308063657681,0.6422420116345918,2.3541526361598293,-2.4887696576965976,-2.5371095487925914,2.9286925103981507,-1.1381266820208564,-0.4279625188856504,4.476231634968236,1.9054070207126996,-3.0076013786111475,-0.47993186108315716,-1.91698243352795,2.8907068691856876,3.090691733802474,-1.5655998076263185,2.1000947934556797,-3.076755400404596,-3.1355371569335726,1.2526355749701648,0.16730904675392316,2.781553268560044,-1.2706134928383783,2.3124215825922616,-1.4029241097374117,0.2603515580131043,-2.99490895794498,-1.4737254663831632,1.839377684826579,0.6274580374739354,-3.118019305516935,2.904792871039084,1.2550509213964376,1.5247422492843963,1.334560630002436,-0.899612144814168,4.179048946647408,-3.697756897594862,-2.248397605350602,-2.797692057198025,-2.5510023398979205,1.2625726172290663,-1.3030927813566333,3.087353890188558,-0.42312232470506894,-4.176832253800139,2.6972956133489303,-1.2285455300952897,-3.468639276794266,-1.9560984377747015,-2.7420787247026044,-3.8163445203492254,1.246864397017746,-0.010696598315060323,1.7734641004968588,1.243761626636361,-1.5581085973595004,-1.205624083352644,2.82587984841338,1.201938444199648,1.3770987550780747,-0.25158514354460987,3.5059169261053498,-1.1753356714076653,-0.06187530461309673,1.5182963070671551,-0.41985134143450037,-2.3926970846662594,-3.1339441359786697,-3.977579348657208,1.4721461994570169,-1.4009466430111401,-2.2675926466571537,-0.6923288197627179,3.7570926395107387,-4.165661222061629,2.8040247563336886,0.938681439793878,-0.26956787750339944,-2.190935234657968,3.991600731304357,2.8796710353384194,1.6952510717898266,-0.8970617348577558,2.4327277991964404,0.8416723000902373,2.3814598616342195,2.0423078471071485,3.221738944051499,-1.108226364270621,0.3181048277083261,-2.9950893387149873,-2.2346304020457533,-0.8737131025650001,-2.699086506889403,-1.540143972752755,-1.4902947463695218,3.9654833293692913,-0.2746856524303422,0.2140284625063022,-2.3933332470887927,1.9285766563800049,-4.226531696449005,5.256917160333682,1.496872227835442,-3.4338978870677366,0.7929385790128203,2.0462552693387805,1.8112743822024644,0.8705967660009948,-0.13840878621681674,0.5019599385967899,-0.42506693252003597,2.2574045277022807,1.35965839099641,-2.2246876125447033]\n",
      "[0.0807054228129133,0.5927679707899919,0.15501705616615472,0.13614522237657997,-0.0791428798571729,0.9287247685390037,-0.8441663222031567,-0.444346964607446,1.3427720112247081,0.22758823720199398,0.6317938820026878,0.6270909424012667,0.5175402801459977,0.10778532493193861,0.5634811940862731,-0.0709020713109035,0.6194566850174215,0.6623102812087226,1.2370954631016955,-0.22795284648045566,1.2438460503294895,0.6576624098268119,-0.6619246680869222,0.5769281932791658,0.07753237780588167,-0.5813029345216879,0.21964447135963705,-0.6509855240968536,0.5461773277385292,-0.4943485334099439,-0.45736131656470774,0.3645309155289559,-0.47345065267140096,-0.04795766685317867,0.2896267848308494,-0.548696082854691,-0.03252523735896947,0.04052646604693431,-0.44174171672172496,-1.3992447231548881,-0.41084024450708917,0.8729442665506071,-0.28304424646478754,0.43523292812251274,-0.24000298791137256,-0.15030890303036987,0.372157657049457,0.47866600782458857,0.011231671373298287,-0.9323625172909158,0.143941793827778,-0.5943462674134424,-0.10873099782282102,-0.17508870721713446,0.08696781740434582,0.4165107872797955,0.2713545504763132,-0.8136665191251802,0.4043828762850428,-0.34121246497965885,-1.1124352832144369,-0.578055871604176,-0.2286209532289149,-0.4710826480509142,0.4198158233253614,0.17559009440069917,-0.11932924478426381,-0.014434911062258932,-0.3009682128112765,0.04821323277966366,-0.5889782890102088,-0.1537365504607689,-0.2867580559764268,0.8460986292487437,0.626213989253855,-0.8477790779971718,-0.5379359962977945,0.22250266806629254,-0.3991556132618756,-0.45262536412158094,0.15002663035705802,-1.059311964453008,0.3287548776164062,0.37719171837174864,-0.0031506620463008016,-0.3150719394568763,0.10639001206671984,-0.4503487267026341,-0.040642913423646315,0.3235581422051223,-0.1824385305301652,-0.3873861548359247,0.6743855425326444,2.0452195693684403,0.13483963726665765,-0.37251829268785475,0.9406418194940558,0.10192892326653993,0.5486769355389711,0.54812584722745,0.15854212518807156,0.26521200129987055,0.06424801032804726,-0.5078169952122972,-0.14074187659359128,-0.9524500947078389,-0.36672357096675245,0.5075428001007689,0.09934900005444115,0.5186036229757097,0.7376594178931343,0.24656976800459934,-0.32724896754349064,0.44600164334369724,-0.7500486214688669,1.2110146718597736,-0.2648171257478431,-0.5731995879812779,1.1643681204473266,0.32403679105602623,0.2778116740807378,6.669952564484943E-4,-0.42050210229129337,0.3037042133072198,-0.5525716898212653,0.008260310711879828,0.0455630110803398,0.2246715690565011]\n"
     ]
    },
    {
     "data": {
      "text/plain": [
       "\u001b[36mkPredictions\u001b[39m: \u001b[32mDataFrame\u001b[39m = [label: double, features: vector ... 1 more field]\r\n",
       "\u001b[36mevaluator\u001b[39m: \u001b[32mClusteringEvaluator\u001b[39m = ClusteringEvaluator: uid=cluEval_4a0f4bc6340a, metricName=silhouette, distanceMeasure=squaredEuclidean\r\n",
       "\u001b[36msilhouette\u001b[39m: \u001b[32mDouble\u001b[39m = \u001b[32m0.37826690733104607\u001b[39m"
      ]
     },
     "execution_count": 39,
     "metadata": {},
     "output_type": "execute_result"
    }
   ],
   "source": [
    "// Make predictions\n",
    "val kPredictions = kModel.transform(testingDF)\n",
    "\n",
    "// Evaluate clustering by computing Silhouette score\n",
    "val evaluator = new ClusteringEvaluator()\n",
    "\n",
    "val silhouette = evaluator.evaluate(kPredictions)\n",
    "println(s\"Silhouette with squared euclidean distance = $silhouette\")\n",
    "println(\"Test Error = \" + (1.0 - silhouette))\n",
    "\n",
    "// Shows the result.\n",
    "println(\"Cluster Centers: \")\n",
    "kModel.clusterCenters.foreach(println)\n"
   ]
  },
  {
   "cell_type": "markdown",
   "metadata": {},
   "source": [
    "### Prediction Showcase"
   ]
  },
  {
   "cell_type": "code",
   "execution_count": 40,
   "metadata": {},
   "outputs": [
    {
     "data": {
      "text/html": [
       "<div>\n",
       "  <span style=\"float: left;\">take at cmd3.sc:6</span>\n",
       "</div>\n"
      ]
     },
     "metadata": {},
     "output_type": "display_data"
    },
    {
     "data": {
      "text/html": [
       "<div class=\"progress\">\n",
       "  <div class=\"progress-bar\" role=\"progressbar\" style=\"background-color: blue; width: 100%; word-wrap: normal; white-space: nowrap; text-align: center; color: white\" aria-valuenow=\"100\" aria-valuemin=\"0\" aria-valuemax=\"100\">\n",
       "    1 / 1\n",
       "  </div>\n",
       "  <div class=\"progress-bar\" role=\"progressbar\" style=\"background-color: red; width: 0%\" aria-valuenow=\"0\" aria-valuemin=\"0\" aria-valuemax=\"100\"></div>\n",
       "</div>\n"
      ]
     },
     "metadata": {},
     "output_type": "display_data"
    },
    {
     "data": {
      "text/html": [
       "\n",
       "      <table class=\"table dataframe\" border=\"1\">\n",
       "        <tr>\n",
       "        <th>label</th><th>prediction</th>\n",
       "        </tr>\n",
       "        <tr><td>1.0</td><td>0</td></tr><tr><td>0.6</td><td>4</td></tr><tr><td>0.4</td><td>0</td></tr><tr><td>0.8</td><td>0</td></tr><tr><td>0.8</td><td>0</td></tr><tr><td>0.2</td><td>0</td></tr><tr><td>1.0</td><td>0</td></tr><tr><td>1.0</td><td>0</td></tr><tr><td>0.2</td><td>0</td></tr><tr><td>0.8</td><td>6</td></tr><tr><td>0.4</td><td>0</td></tr><tr><td>0.2</td><td>0</td></tr><tr><td>1.0</td><td>9</td></tr><tr><td>0.4</td><td>9</td></tr><tr><td>0.8</td><td>0</td></tr><tr><td>0.6</td><td>0</td></tr><tr><td>0.8</td><td>0</td></tr><tr><td>0.8</td><td>0</td></tr><tr><td>0.6</td><td>0</td></tr><tr><td>0.8</td><td>0</td></tr>\n",
       "      </table>"
      ]
     },
     "metadata": {},
     "output_type": "display_data"
    }
   ],
   "source": [
    "kPredictions.select(\"label\",\"prediction\").showHTML()"
   ]
  }
 ],
 "metadata": {
  "accelerator": "TPU",
  "colab": {
   "collapsed_sections": [],
   "name": "Big Data Final Project (scala).ipynb",
   "provenance": [],
   "toc_visible": true
  },
  "kernelspec": {
   "display_name": "Almond 0.10.9",
   "language": "scala",
   "name": "scala-sanpshot"
  },
  "language_info": {
   "codemirror_mode": "text/x-scala",
   "file_extension": ".sc",
   "mimetype": "text/x-scala",
   "name": "scala",
   "nbconvert_exporter": "script",
   "version": "2.12.12"
  }
 },
 "nbformat": 4,
 "nbformat_minor": 4
}