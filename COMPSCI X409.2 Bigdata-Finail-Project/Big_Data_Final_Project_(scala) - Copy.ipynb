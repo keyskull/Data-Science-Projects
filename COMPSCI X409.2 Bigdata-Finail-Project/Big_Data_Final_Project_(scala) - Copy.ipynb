{
 "cells": [
  {
   "cell_type": "markdown",
   "metadata": {
    "id": "biViv_Kn1wcj"
   },
   "source": []
  },
  {
   "cell_type": "markdown",
   "metadata": {
    "id": "32XyTHYE16-6"
   },
   "source": [
    "# Step 1: Download Dataset"
   ]
  },
  {
   "cell_type": "code",
   "execution_count": 4,
   "metadata": {
    "colab": {
     "base_uri": "https://localhost:8080/"
    },
    "id": "O8pyMUeu199D",
    "outputId": "a31633ea-7a9c-49fe-83cc-077490b37c69"
   },
   "outputs": [
    {
     "name": "stdout",
     "output_type": "stream",
     "text": [
      "--2021-05-09 00:02:45--  http://deepyeti.ucsd.edu/jianmo/amazon/categoryFilesSmall/Video_Games_5.json.gz\n",
      "Resolving deepyeti.ucsd.edu (deepyeti.ucsd.edu)... 169.228.63.50\n",
      "Connecting to deepyeti.ucsd.edu (deepyeti.ucsd.edu)|169.228.63.50|:80... connected.\n",
      "HTTP request sent, awaiting response... 200 OK\n",
      "Length: 154050105 (147M) [application/octet-stream]\n",
      "Saving to: ‘Video_Games_5.json.gz’\n",
      "\n",
      "Video_Games_5.json. 100%[===================>] 146.91M  45.9MB/s    in 3.2s    \n",
      "\n",
      "2021-05-09 00:02:48 (45.9 MB/s) - ‘Video_Games_5.json.gz’ saved [154050105/154050105]\n",
      "\n",
      "--2021-05-09 00:02:53--  http://web.eecs.umich.edu/~mihalcea/affectivetext/data/WordNetAffectEmotionLists.tar.gz\n",
      "Resolving web.eecs.umich.edu (web.eecs.umich.edu)... 141.212.113.214\n",
      "Connecting to web.eecs.umich.edu (web.eecs.umich.edu)|141.212.113.214|:80... connected.\n",
      "HTTP request sent, awaiting response... 200 OK\n",
      "Length: 8287 (8.1K) [application/x-gzip]\n",
      "Saving to: ‘WordNetAffectEmotionLists.tar.gz’\n",
      "\n",
      "WordNetAffectEmotio 100%[===================>]   8.09K  --.-KB/s    in 0.006s  \n",
      "\n",
      "2021-05-09 00:02:53 (1.25 MB/s) - ‘WordNetAffectEmotionLists.tar.gz’ saved [8287/8287]\n",
      "\n"
     ]
    }
   ],
   "source": [
    "!wget http://deepyeti.ucsd.edu/jianmo/amazon/categoryFilesSmall/Video_Games_5.json.gz\n",
    "!gzip -d Video_Games_5.json.gz\n",
    "!wget http://web.eecs.umich.edu/~mihalcea/affectivetext/data/WordNetAffectEmotionLists.tar.gz\n",
    "!tar -xf WordNetAffectEmotionLists.tar.gz"
   ]
  },
  {
   "cell_type": "markdown",
   "metadata": {
    "id": "sL1Vq6r6J6dA"
   },
   "source": [
    "# **Step 2:Install the Scala Kernel**\n",
    "If you get a \"scala\" kernel not recognized warning when loading up the notebook for the first time, start by running the two cells below. Once you are done **reload the page** to load the notebook in the installed Scala kernel."
   ]
  },
  {
   "cell_type": "code",
   "execution_count": 5,
   "metadata": {
    "colab": {
     "base_uri": "https://localhost:8080/"
    },
    "id": "RoCcdvTCAqeR",
    "outputId": "40fc5a1e-f71b-4316-cd49-3082321602ae"
   },
   "outputs": [
    {
     "name": "stdout",
     "output_type": "stream",
     "text": [
      "  % Total    % Received % Xferd  Average Speed   Time    Time     Time  Current\n",
      "                                 Dload  Upload   Total   Spent    Left  Speed\n",
      "  0     0    0     0    0     0      0      0 --:--:-- --:--:-- --:--:--     0\n",
      "100   135  100   135    0     0    314      0 --:--:-- --:--:-- --:--:--   314\n",
      "100 42577  100 42577    0     0  74565      0 --:--:-- --:--:-- --:--:-- 74565\n"
     ]
    }
   ],
   "source": [
    "!curl -Lo coursier https://git.io/coursier-cli && chmod +x coursier\n",
    "!./coursier launch --fork almond:0.10.9 --scala 2.12 -- --install &> /dev/null "
   ]
  },
  {
   "cell_type": "code",
   "execution_count": 1,
   "metadata": {
    "colab": {
     "base_uri": "https://localhost:8080/",
     "height": 165
    },
    "id": "a9z0PxRg_iOp",
    "outputId": "de9359da-f8ca-47ae-a509-48739f1f8fb6"
   },
   "outputs": [
    {
     "name": "stdout",
     "output_type": "stream",
     "text": [
      "(Testing)Hello, world!\n"
     ]
    }
   ],
   "source": [
    "println(\"(Testing)Hello, world!\")"
   ]
  },
  {
   "cell_type": "markdown",
   "metadata": {
    "id": "8qel7LuZHozq"
   },
   "source": [
    "# **Step 3: Install dependentcies**"
   ]
  },
  {
   "cell_type": "code",
   "execution_count": 1,
   "metadata": {
    "colab": {
     "base_uri": "https://localhost:8080/"
    },
    "id": "7_PeOUBnGuYj",
    "outputId": "3c146fae-a7b5-46a7-c1fb-a23d6e5eebba",
    "tags": []
   },
   "outputs": [
    {
     "data": {
      "text/plain": [
       "\u001b[32mimport \u001b[39m\u001b[36m$ivy.$                                 \n",
       "\u001b[39m\r\n",
       "\u001b[32mimport \u001b[39m\u001b[36m$ivy.$                                     \n",
       "\u001b[39m\r\n",
       "\u001b[32mimport \u001b[39m\u001b[36m$ivy.$                                   \n",
       "\u001b[39m\r\n",
       "\u001b[32mimport \u001b[39m\u001b[36m$ivy.$                                  \n",
       "\u001b[39m\r\n",
       "\u001b[32mimport \u001b[39m\u001b[36m$ivy.$                                    \n",
       "// import $ivy.`com.nvidia::rapids-4-spark:0.4.1`\n",
       "// import $ivy.`ai.rapids:cudf:0.18.1`\n",
       "\u001b[39m\r\n",
       "\u001b[32mimport \u001b[39m\u001b[36m$ivy.$                   \n",
       "\u001b[39m\r\n",
       "\u001b[32mimport \u001b[39m\u001b[36m$ivy.$                       \n",
       "\u001b[39m\r\n",
       "\u001b[32mimport \u001b[39m\u001b[36m$ivy.$                                      \n",
       "\u001b[39m\r\n",
       "\u001b[32mimport \u001b[39m\u001b[36mcoursierapi._\n",
       "\u001b[39m\r\n",
       "\u001b[32mimport \u001b[39m\u001b[36msys.process._\n",
       "\u001b[39m\r\n",
       "\u001b[32mimport \u001b[39m\u001b[36mplotly._, plotly.element._, plotly.layout._, plotly.Almond._\n",
       "\u001b[39m\r\n",
       "\u001b[32mimport \u001b[39m\u001b[36morg.apache.log4j.{Level, Logger}\n",
       "\u001b[39m"
      ]
     },
     "execution_count": 1,
     "metadata": {},
     "output_type": "execute_result"
    }
   ],
   "source": [
    "import $ivy.`org.slf4j:slf4j-api:2.0.0-alpha1`\n",
    "import $ivy.`org.slf4j:slf4j-log4j12:2.0.0-alpha1`\n",
    "import $ivy.`org.apache.spark::spark-core:3.1.1`\n",
    "import $ivy.`org.apache.spark::spark-sql:3.1.1`\n",
    "import $ivy.`org.apache.spark::spark-mllib:3.1.1`\n",
    "// import $ivy.`com.nvidia::rapids-4-spark:0.4.1`\n",
    "// import $ivy.`ai.rapids:cudf:0.18.1`\n",
    "import $ivy.`log4j:log4j:1.2.17`\n",
    "import $ivy.`org.jsoup:jsoup:1.13.1`\n",
    "import $ivy.`org.plotly-scala::plotly-almond:0.8.2`\n",
    "import coursierapi._\n",
    "import sys.process._\n",
    "import plotly._, plotly.element._, plotly.layout._, plotly.Almond._\n",
    "import org.apache.log4j.{Level, Logger}\n",
    "Logger.getLogger(\"org\").setLevel(Level.OFF)"
   ]
  },
  {
   "cell_type": "code",
   "execution_count": 2,
   "metadata": {
    "colab": {
     "base_uri": "https://localhost:8080/"
    },
    "id": "W7dzbUx9q6Ll",
    "outputId": "5154c0ae-6ba1-4086-af13-adf1fc29d2dc"
   },
   "outputs": [
    {
     "data": {
      "text/plain": [
       "\u001b[32mimport \u001b[39m\u001b[36morg.apache.spark.sql._\n",
       "\n",
       "\u001b[39m\r\n",
       "defined \u001b[32mclass\u001b[39m \u001b[36mRichDF\u001b[39m"
      ]
     },
     "execution_count": 2,
     "metadata": {},
     "output_type": "execute_result"
    }
   ],
   "source": [
    "import org.apache.spark.sql._\n",
    "\n",
    "implicit class RichDF(val df: DataFrame) {\n",
    "  def showHTML(limit:Int = 20, truncate: Int = 20) = {\n",
    "    import xml.Utility.escape\n",
    "    val data = df.take(limit)\n",
    "    val header = df.schema.fieldNames.toSeq\n",
    "    val rows: Seq[Seq[String]] = data.map(_.toSeq.map(cell =>\n",
    "        (cell match {\n",
    "          case null => \"null\"\n",
    "          case binary: Array[Byte] => binary.map(\"%02X\".format(_)).mkString(\"[\", \" \", \"]\")\n",
    "          case array: Array[_] => array.mkString(\"[\", \", \", \"]\")\n",
    "          case seq: Seq[_] => seq.mkString(\"[\", \", \", \"]\")\n",
    "          case _ => cell.toString\n",
    "        }).take(truncate)\n",
    "      ).map(p=> if(p.length >= truncate) p + \"...\" else p)\n",
    "    )\n",
    "\n",
    "    publish.html(s\"\"\"\n",
    "      <table class=\"table dataframe\" border=\"1\">\n",
    "        <tr>\n",
    "        ${header.map(h => s\"<th>${escape(h)}</th>\").mkString}\n",
    "        </tr>\n",
    "        ${rows.map { row =>\n",
    "          s\"<tr>${row.map { c => s\"<td>${escape(c)}</td>\" }.mkString}</tr>\"\n",
    "        }.mkString\n",
    "        }\n",
    "      </table>\"\"\")\n",
    "  }\n",
    "}"
   ]
  },
  {
   "cell_type": "markdown",
   "metadata": {
    "id": "3L18qj7YMaFg"
   },
   "source": [
    "# **Step 4: Describe Data**\n"
   ]
  },
  {
   "cell_type": "code",
   "execution_count": 3,
   "metadata": {
    "colab": {
     "base_uri": "https://localhost:8080/",
     "height": 459
    },
    "id": "PXM0qHhuUI08",
    "outputId": "a3961599-dacc-4d42-dddc-26df12ce4b08"
   },
   "outputs": [
    {
     "name": "stdout",
     "output_type": "stream",
     "text": [
      "Loading spark-stubs\n",
      "Getting spark JARs\n",
      "Creating SparkSession\n"
     ]
    },
    {
     "name": "stderr",
     "output_type": "stream",
     "text": [
      "Using Spark's default log4j profile: org/apache/spark/log4j-defaults.properties\n"
     ]
    },
    {
     "data": {
      "text/html": [
       "<a target=\"_blank\" href=\"http://DESKTOP-HT5AL0N.mshome.net:4040\">Spark UI</a>"
      ]
     },
     "metadata": {},
     "output_type": "display_data"
    },
    {
     "data": {
      "text/plain": [
       "\u001b[32mimport \u001b[39m\u001b[36morg.apache.spark.SparkConf\n",
       "\u001b[39m\r\n",
       "\u001b[32mimport \u001b[39m\u001b[36morg.apache.spark.SparkContext\n",
       "\n",
       "\u001b[39m\r\n",
       "\u001b[36mspark\u001b[39m: \u001b[32mSparkSession\u001b[39m = org.apache.spark.sql.SparkSession@191f477e\r\n",
       "\u001b[36msc\u001b[39m: \u001b[32mSparkContext\u001b[39m = org.apache.spark.SparkContext@78a8be67\r\n",
       "\u001b[36msqlContext\u001b[39m: \u001b[32mSQLContext\u001b[39m = org.apache.spark.sql.SQLContext@73ad284\r\n",
       "\u001b[32mimport \u001b[39m\u001b[36mspark.implicits._\n",
       "\n",
       "//import org.jsoup.Jsoup\n",
       "//kernel.publish.html(Jsoup.connect(\"http://8a1f1a0b9848:4040/\").get().outerHtml())\u001b[39m"
      ]
     },
     "execution_count": 3,
     "metadata": {},
     "output_type": "execute_result"
    }
   ],
   "source": [
    "import org.apache.spark.SparkConf\n",
    "import org.apache.spark.SparkContext\n",
    "\n",
    "val spark = NotebookSparkSession.builder()\n",
    "    .appName(\"Product Satisfaction\")\n",
    "//     .config(\"spark.driver.resource.gpu.amount\", \"1\")\n",
    "    .config(\"spark.executor.memory\",\"32g\")\n",
    "//     .config(\"spark.eventLog.enabled\", \"true\")\n",
    "    .config(\"spark.driver.cores\", \"4\")\n",
    "    .master(\"local[*]\")\n",
    "    .getOrCreate()\n",
    "val sc = spark.sparkContext\n",
    "val sqlContext= spark.sqlContext\n",
    "// val conf = new SparkConf()\n",
    "//             .set(\"spark.plugins\", \"com.nvidia.spark.SQLPlugin\")\n",
    "//             .set(\"spark.executor.resource.gpu.discoveryScript\", \"getGpusResources.sh\")\n",
    "//             .set(\"spark.rapids.sql.incompatibleOps.enabled\", \"true\")\n",
    "//             .set(\"spark.executor.resource.gpu.amount\", \"1\")\n",
    "//             .set(\"hadoop.home.dir\",\"D:\\\\hadoop-3.2.2\")\n",
    "//             .set(\"spark.ui.enabled\",\"true\")\n",
    "//             .setMaster(\"local[*]\")\n",
    "//             .setAppName(\"Product Satisfaction\")\n",
    "\n",
    "\n",
    "// val sc = new SparkContext(conf)\n",
    "// val sqlContext= new SQLContext(sc)\n",
    "// val spark=sqlContext.sparkSession\n",
    "\n",
    "import spark.implicits._\n",
    "\n",
    "//import org.jsoup.Jsoup\n",
    "//kernel.publish.html(Jsoup.connect(\"http://8a1f1a0b9848:4040/\").get().outerHtml())"
   ]
  },
  {
   "cell_type": "code",
   "execution_count": 4,
   "metadata": {
    "colab": {
     "base_uri": "https://localhost:8080/",
     "height": 1000
    },
    "id": "-xKtEIliVfC2",
    "outputId": "2b78add0-f18c-484a-ff05-eebc4aef2947"
   },
   "outputs": [
    {
     "data": {
      "text/html": [
       "<script>\n",
       "var comm = Jupyter.notebook.kernel.comm_manager.new_comm('cancel-stage-f6649a64-d01c-42e0-8c53-745bc450a81f', {});\n",
       "\n",
       "function cancelStage(stageId) {\n",
       "  console.log('Cancelling stage ' + stageId);\n",
       "  comm.send({ 'stageId': stageId });\n",
       "}\n",
       "</script>\n",
       "          "
      ]
     },
     "metadata": {},
     "output_type": "display_data"
    },
    {
     "data": {
      "text/html": [
       "<div>\n",
       "  <span style=\"float: left;\">json at cmd3.sc:1</span>\n",
       "</div>\n"
      ]
     },
     "metadata": {},
     "output_type": "display_data"
    },
    {
     "data": {
      "text/html": [
       "<div class=\"progress\">\n",
       "  <div class=\"progress-bar\" role=\"progressbar\" style=\"background-color: blue; width: 100%; word-wrap: normal; white-space: nowrap; text-align: center; color: white\" aria-valuenow=\"100\" aria-valuemin=\"0\" aria-valuemax=\"100\">\n",
       "    8 / 8\n",
       "  </div>\n",
       "  <div class=\"progress-bar\" role=\"progressbar\" style=\"background-color: red; width: 0%\" aria-valuenow=\"0\" aria-valuemin=\"0\" aria-valuemax=\"100\"></div>\n",
       "</div>\n"
      ]
     },
     "metadata": {},
     "output_type": "display_data"
    },
    {
     "name": "stdout",
     "output_type": "stream",
     "text": [
      "root\n",
      " |-- asin: string (nullable = true)\n",
      " |-- image: array (nullable = true)\n",
      " |    |-- element: string (containsNull = true)\n",
      " |-- overall: double (nullable = true)\n",
      " |-- reviewText: string (nullable = true)\n",
      " |-- reviewTime: string (nullable = true)\n",
      " |-- reviewerID: string (nullable = true)\n",
      " |-- reviewerName: string (nullable = true)\n",
      " |-- style: struct (nullable = true)\n",
      " |    |-- Color Name:: string (nullable = true)\n",
      " |    |-- Color:: string (nullable = true)\n",
      " |    |-- Configuration:: string (nullable = true)\n",
      " |    |-- Content:: string (nullable = true)\n",
      " |    |-- Denomination:: string (nullable = true)\n",
      " |    |-- Edition:: string (nullable = true)\n",
      " |    |-- Format:: string (nullable = true)\n",
      " |    |-- Item Package Quantity:: string (nullable = true)\n",
      " |    |-- Length:: string (nullable = true)\n",
      " |    |-- Offer Type:: string (nullable = true)\n",
      " |    |-- Package Quantity:: string (nullable = true)\n",
      " |    |-- Package Type:: string (nullable = true)\n",
      " |    |-- Pattern:: string (nullable = true)\n",
      " |    |-- Platform for Display:: string (nullable = true)\n",
      " |    |-- Platform:: string (nullable = true)\n",
      " |    |-- Size:: string (nullable = true)\n",
      " |    |-- Style Name:: string (nullable = true)\n",
      " |    |-- Style:: string (nullable = true)\n",
      " |    |-- Subscription Length:: string (nullable = true)\n",
      " |-- summary: string (nullable = true)\n",
      " |-- unixReviewTime: long (nullable = true)\n",
      " |-- verified: boolean (nullable = true)\n",
      " |-- vote: string (nullable = true)\n",
      "\n"
     ]
    },
    {
     "data": {
      "text/html": [
       "<div>\n",
       "  <span style=\"float: left;\">take at cmd1.sc:6</span>\n",
       "</div>\n"
      ]
     },
     "metadata": {},
     "output_type": "display_data"
    },
    {
     "data": {
      "text/html": [
       "<div class=\"progress\">\n",
       "  <div class=\"progress-bar\" role=\"progressbar\" style=\"background-color: blue; width: 100%; word-wrap: normal; white-space: nowrap; text-align: center; color: white\" aria-valuenow=\"100\" aria-valuemin=\"0\" aria-valuemax=\"100\">\n",
       "    1 / 1\n",
       "  </div>\n",
       "  <div class=\"progress-bar\" role=\"progressbar\" style=\"background-color: red; width: 0%\" aria-valuenow=\"0\" aria-valuemin=\"0\" aria-valuemax=\"100\"></div>\n",
       "</div>\n"
      ]
     },
     "metadata": {},
     "output_type": "display_data"
    },
    {
     "data": {
      "text/html": [
       "\n",
       "      <table class=\"table dataframe\" border=\"1\">\n",
       "        <tr>\n",
       "        <th>asin</th><th>image</th><th>overall</th><th>reviewText</th><th>reviewTime</th><th>reviewerID</th><th>reviewerName</th><th>style</th><th>summary</th><th>unixReviewTime</th><th>verified</th><th>vote</th>\n",
       "        </tr>\n",
       "        <tr><td>0700026657</td><td>null</td><td>5.0</td><td>This game is a bit h...</td><td>10 17, 2015</td><td>A1HP7NVNPFMA4N</td><td>Ambrosia075</td><td>null</td><td>but when you do it's...</td><td>1445040000</td><td>true</td><td>null</td></tr><tr><td>0700026657</td><td>null</td><td>4.0</td><td>I played it a while ...</td><td>07 27, 2015</td><td>A1JGAP0185YJI6</td><td>travis</td><td>null</td><td>But in spite of that...</td><td>1437955200</td><td>false</td><td>null</td></tr><tr><td>0700026657</td><td>null</td><td>3.0</td><td>ok game.</td><td>02 23, 2015</td><td>A1YJWEXHQBWK2B</td><td>Vincent G. Mezera</td><td>null</td><td>Three Stars</td><td>1424649600</td><td>true</td><td>null</td></tr><tr><td>0700026657</td><td>null</td><td>2.0</td><td>found the game a bit...</td><td>02 20, 2015</td><td>A2204E1TH211HT</td><td>Grandma KR</td><td>null</td><td>Two Stars</td><td>1424390400</td><td>true</td><td>null</td></tr><tr><td>0700026657</td><td>null</td><td>5.0</td><td>great game, I love i...</td><td>12 25, 2014</td><td>A2RF5B5H74JLPE</td><td>jon</td><td>null</td><td>love this game</td><td>1419465600</td><td>true</td><td>null</td></tr><tr><td>0700026657</td><td>null</td><td>4.0</td><td>i liked a lot some t...</td><td>11 13, 2014</td><td>A11V6ZJ2FVQY1D</td><td>IBRAHIM ALBADI</td><td>null</td><td>Anno 2070</td><td>1415836800</td><td>true</td><td>null</td></tr><tr><td>0700026657</td><td>null</td><td>1.0</td><td>I'm an avid gamer, b...</td><td>08 2, 2014</td><td>A1KXJ1ELZIU05C</td><td>Creation27</td><td>null</td><td>Avoid This Game - Fi...</td><td>1406937600</td><td>false</td><td>null</td></tr><tr><td>0700026657</td><td>null</td><td>5.0</td><td>I bought this game t...</td><td>03 3, 2014</td><td>A1WK5I4874S3O2</td><td>WhiteSkull</td><td>null</td><td>A very good game bal...</td><td>1393804800</td><td>true</td><td>null</td></tr><tr><td>0700026657</td><td>null</td><td>5.0</td><td>I have played the ol...</td><td>02 21, 2014</td><td>AV969NA4CBP10</td><td>Travis B. Moore</td><td>null</td><td>Anno 2070 more like ...</td><td>1392940800</td><td>true</td><td>null</td></tr><tr><td>0700026657</td><td>null</td><td>4.0</td><td>I liked it and had f...</td><td>06 27, 2013</td><td>A1EO9BFUHTGWKZ</td><td>johnnyz3</td><td>null</td><td>Pretty fun</td><td>1372291200</td><td>true</td><td>null</td></tr><tr><td>0700026657</td><td>null</td><td>4.0</td><td>4 Stars because they...</td><td>12 28, 2012</td><td>A2M8JTIST6FPZZ</td><td>Amazon Customer</td><td>null</td><td>My boys enjoys these...</td><td>1356652800</td><td>true</td><td>null</td></tr><tr><td>0700026657</td><td>null</td><td>1.0</td><td>I've bought and play...</td><td>05 15, 2012</td><td>A1LMJ9W8UX1H5B</td><td>Rob NY</td><td>null</td><td>SAY NO TO DRM!!</td><td>1337040000</td><td>false</td><td>28</td></tr><tr><td>0700099867</td><td>null</td><td>5.0</td><td>Loved playing Dirt 2...</td><td>08 14, 2011</td><td>AN3YYDZAS3O1Y</td><td>Bob</td><td>null</td><td>A step up from Dirt ...</td><td>1313280000</td><td>true</td><td>11</td></tr><tr><td>0700099867</td><td>null</td><td>5.0</td><td>I'm not quite finish...</td><td>06 28, 2011</td><td>A38NXTZUFB1O2K</td><td>FiSH</td><td>null</td><td>Best in the series!</td><td>1309219200</td><td>false</td><td>null</td></tr><tr><td>0700099867</td><td>null</td><td>5.0</td><td>lot of people don't ...</td><td>06 18, 2011</td><td>A15PIAQT55GNCA</td><td>Suk W. Yu</td><td>null</td><td>this games is amazin...</td><td>1308355200</td><td>false</td><td>null</td></tr><tr><td>0700099867</td><td>null</td><td>4.0</td><td>I had Dirt 2 on Xbox...</td><td>06 14, 2011</td><td>A361M14PU2GUEG</td><td>Angry Ryan</td><td>null</td><td>DIRT 3</td><td>1308009600</td><td>true</td><td>2</td></tr><tr><td>0700099867</td><td>null</td><td>5.0</td><td>This is a must have ...</td><td>06 13, 2011</td><td>A2LQCBLLJVVR5T</td><td>Timmiley</td><td>null</td><td>BEST GRAPHICS OF ANY...</td><td>1307923200</td><td>false</td><td>14</td></tr><tr><td>0700026398</td><td>null</td><td>1.0</td><td>I'm sure I would lov...</td><td>05 18, 2013</td><td>A1NQ759X8WPIVV</td><td>Lynn</td><td>null</td><td>Requires steam</td><td>1368835200</td><td>true</td><td>null</td></tr><tr><td>0700026398</td><td>null</td><td>1.0</td><td>Update June 2013:\n",
       "De...</td><td>01 10, 2013</td><td>APFCXOFX0KUPN</td><td>--</td><td>null</td><td>Skip!</td><td>1357776000</td><td>false</td><td>null</td></tr><tr><td>0700026398</td><td>null</td><td>4.0</td><td>I will open with the...</td><td>12 26, 2012</td><td>A2GPRA9HHLOC4B</td><td>Wicasawakan</td><td>null</td><td>Great game with desi...</td><td>1356480000</td><td>false</td><td>12</td></tr>\n",
       "      </table>"
      ]
     },
     "metadata": {},
     "output_type": "display_data"
    },
    {
     "data": {
      "text/html": [
       "<div>\n",
       "  <span style=\"float: left;\">count at cmd3.sc:4</span>\n",
       "</div>\n"
      ]
     },
     "metadata": {},
     "output_type": "display_data"
    },
    {
     "data": {
      "text/html": [
       "<div class=\"progress\">\n",
       "  <div class=\"progress-bar\" role=\"progressbar\" style=\"background-color: blue; width: 100%; word-wrap: normal; white-space: nowrap; text-align: center; color: white\" aria-valuenow=\"100\" aria-valuemin=\"0\" aria-valuemax=\"100\">\n",
       "    8 / 8\n",
       "  </div>\n",
       "  <div class=\"progress-bar\" role=\"progressbar\" style=\"background-color: red; width: 0%\" aria-valuenow=\"0\" aria-valuemin=\"0\" aria-valuemax=\"100\"></div>\n",
       "</div>\n"
      ]
     },
     "metadata": {},
     "output_type": "display_data"
    },
    {
     "data": {
      "text/html": [
       "<div>\n",
       "  <span style=\"float: left;\">count at cmd3.sc:4</span>\n",
       "</div>\n"
      ]
     },
     "metadata": {},
     "output_type": "display_data"
    },
    {
     "data": {
      "text/html": [
       "<div class=\"progress\">\n",
       "  <div class=\"progress-bar\" role=\"progressbar\" style=\"background-color: blue; width: 100%; word-wrap: normal; white-space: nowrap; text-align: center; color: white\" aria-valuenow=\"100\" aria-valuemin=\"0\" aria-valuemax=\"100\">\n",
       "    1 / 1\n",
       "  </div>\n",
       "  <div class=\"progress-bar\" role=\"progressbar\" style=\"background-color: red; width: 0%\" aria-valuenow=\"0\" aria-valuemin=\"0\" aria-valuemax=\"100\"></div>\n",
       "</div>\n"
      ]
     },
     "metadata": {},
     "output_type": "display_data"
    },
    {
     "data": {
      "text/plain": [
       "\u001b[36mamazonComment\u001b[39m: \u001b[32mDataFrame\u001b[39m = [asin: string, image: array<string> ... 10 more fields]\r\n",
       "\u001b[36mres3_3\u001b[39m: \u001b[32mLong\u001b[39m = \u001b[32m497577L\u001b[39m"
      ]
     },
     "execution_count": 4,
     "metadata": {},
     "output_type": "execute_result"
    }
   ],
   "source": [
    "val amazonComment = spark.read.json(\"Video_Games_5.json\")\n",
    "amazonComment.printSchema()\n",
    "amazonComment.showHTML()\n",
    "amazonComment.count()"
   ]
  },
  {
   "cell_type": "code",
   "execution_count": 5,
   "metadata": {
    "colab": {
     "base_uri": "https://localhost:8080/",
     "height": 0
    },
    "id": "B18qVs5EloSk",
    "outputId": "0525e9e8-43ab-44ec-85a2-77efd1f1c2b6"
   },
   "outputs": [
    {
     "data": {
      "text/html": [
       "<div>\n",
       "  <span style=\"float: left;\">take at cmd1.sc:6</span>\n",
       "</div>\n"
      ]
     },
     "metadata": {},
     "output_type": "display_data"
    },
    {
     "data": {
      "text/html": [
       "<div class=\"progress\">\n",
       "  <div class=\"progress-bar\" role=\"progressbar\" style=\"background-color: blue; width: 100%; word-wrap: normal; white-space: nowrap; text-align: center; color: white\" aria-valuenow=\"100\" aria-valuemin=\"0\" aria-valuemax=\"100\">\n",
       "    1 / 1\n",
       "  </div>\n",
       "  <div class=\"progress-bar\" role=\"progressbar\" style=\"background-color: red; width: 0%\" aria-valuenow=\"0\" aria-valuemin=\"0\" aria-valuemax=\"100\"></div>\n",
       "</div>\n"
      ]
     },
     "metadata": {},
     "output_type": "display_data"
    },
    {
     "data": {
      "text/html": [
       "\n",
       "      <table class=\"table dataframe\" border=\"1\">\n",
       "        <tr>\n",
       "        <th>emotion</th><th>word</th>\n",
       "        </tr>\n",
       "        <tr><td>anger</td><td>wrath</td></tr><tr><td>anger</td><td>umbrage</td></tr><tr><td>anger</td><td>offense</td></tr><tr><td>anger</td><td>pique</td></tr><tr><td>anger</td><td>temper</td></tr><tr><td>anger</td><td>irritation</td></tr><tr><td>anger</td><td>lividity</td></tr><tr><td>anger</td><td>irascibility</td></tr><tr><td>anger</td><td>short_temper</td></tr><tr><td>anger</td><td>spleen</td></tr><tr><td>anger</td><td>quick_temper</td></tr><tr><td>anger</td><td>infuriation</td></tr><tr><td>anger</td><td>enragement</td></tr><tr><td>anger</td><td>indignation</td></tr><tr><td>anger</td><td>outrage</td></tr><tr><td>anger</td><td>huffiness</td></tr><tr><td>anger</td><td>harassment</td></tr><tr><td>anger</td><td>torment</td></tr><tr><td>anger</td><td>fury</td></tr><tr><td>anger</td><td>rage</td></tr>\n",
       "      </table>"
      ]
     },
     "metadata": {},
     "output_type": "display_data"
    },
    {
     "data": {
      "text/plain": [
       "\u001b[32mimport \u001b[39m\u001b[36mjava.io.File\n",
       "\u001b[39m\r\n",
       "\u001b[36mfiles\u001b[39m: \u001b[32mArray\u001b[39m[\u001b[32mString\u001b[39m] = \u001b[33mArray\u001b[39m(\n",
       "  \u001b[32m\"anger.txt\"\u001b[39m,\n",
       "  \u001b[32m\"disgust.txt\"\u001b[39m,\n",
       "  \u001b[32m\"fear.txt\"\u001b[39m,\n",
       "  \u001b[32m\"joy.txt\"\u001b[39m,\n",
       "  \u001b[32m\"sadness.txt\"\u001b[39m,\n",
       "  \u001b[32m\"surprise.txt\"\u001b[39m\n",
       ")\r\n",
       "\u001b[36memotionLables\u001b[39m: \u001b[32mDataFrame\u001b[39m = [emotion: string, word: string]"
      ]
     },
     "execution_count": 5,
     "metadata": {},
     "output_type": "execute_result"
    }
   ],
   "source": [
    "import java.io.File\n",
    "val files = new File(\".\\\\WordNetAffectEmotionLists\").listFiles.map(_.getName).filter(_!=\"README\")\n",
    "val emotionLables = (files.map(f => sc.textFile(\"WordNetAffectEmotionLists/\"+ f ).map(_.split(' ').drop(1)).flatMap(l=>l).map(f.dropRight(4) -> _)).fold(sc.emptyRDD[(String, String)])(_ ++ _)).toDF(\"emotion\",\"word\")\n",
    "emotionLables.showHTML()"
   ]
  },
  {
   "cell_type": "code",
   "execution_count": 6,
   "metadata": {
    "colab": {
     "base_uri": "https://localhost:8080/",
     "height": 0
    },
    "id": "vuaaBL6MG0eg",
    "outputId": "e9aece91-b865-4e03-8b52-05b3933827fc"
   },
   "outputs": [
    {
     "data": {
      "text/html": [
       "<div>\n",
       "  <span style=\"float: left;\">show at cmd5.sc:1</span>\n",
       "</div>\n"
      ]
     },
     "metadata": {},
     "output_type": "display_data"
    },
    {
     "data": {
      "text/html": [
       "<div class=\"progress\">\n",
       "  <div class=\"progress-bar\" role=\"progressbar\" style=\"background-color: blue; width: 100%; word-wrap: normal; white-space: nowrap; text-align: center; color: white\" aria-valuenow=\"100\" aria-valuemin=\"0\" aria-valuemax=\"100\">\n",
       "    12 / 12\n",
       "  </div>\n",
       "  <div class=\"progress-bar\" role=\"progressbar\" style=\"background-color: red; width: 0%\" aria-valuenow=\"0\" aria-valuemin=\"0\" aria-valuemax=\"100\"></div>\n",
       "</div>\n"
      ]
     },
     "metadata": {},
     "output_type": "display_data"
    },
    {
     "data": {
      "text/html": [
       "<div>\n",
       "  <span style=\"float: left;\">show at cmd5.sc:1</span>\n",
       "</div>\n"
      ]
     },
     "metadata": {},
     "output_type": "display_data"
    },
    {
     "data": {
      "text/html": [
       "<div class=\"progress\">\n",
       "  <div class=\"progress-bar\" role=\"progressbar\" style=\"background-color: blue; width: 100%; word-wrap: normal; white-space: nowrap; text-align: center; color: white\" aria-valuenow=\"100\" aria-valuemin=\"0\" aria-valuemax=\"100\">\n",
       "    1 / 1\n",
       "  </div>\n",
       "  <div class=\"progress-bar\" role=\"progressbar\" style=\"background-color: red; width: 0%\" aria-valuenow=\"0\" aria-valuemin=\"0\" aria-valuemax=\"100\"></div>\n",
       "</div>\n"
      ]
     },
     "metadata": {},
     "output_type": "display_data"
    },
    {
     "data": {
      "text/html": [
       "<div>\n",
       "  <span style=\"float: left;\">show at cmd5.sc:1</span>\n",
       "</div>\n"
      ]
     },
     "metadata": {},
     "output_type": "display_data"
    },
    {
     "data": {
      "text/html": [
       "<div class=\"progress\">\n",
       "  <div class=\"progress-bar\" role=\"progressbar\" style=\"background-color: blue; width: 100%; word-wrap: normal; white-space: nowrap; text-align: center; color: white\" aria-valuenow=\"100\" aria-valuemin=\"0\" aria-valuemax=\"100\">\n",
       "    4 / 4\n",
       "  </div>\n",
       "  <div class=\"progress-bar\" role=\"progressbar\" style=\"background-color: red; width: 0%\" aria-valuenow=\"0\" aria-valuemin=\"0\" aria-valuemax=\"100\"></div>\n",
       "</div>\n"
      ]
     },
     "metadata": {},
     "output_type": "display_data"
    },
    {
     "data": {
      "text/html": [
       "<div>\n",
       "  <span style=\"float: left;\">show at cmd5.sc:1</span>\n",
       "</div>\n"
      ]
     },
     "metadata": {},
     "output_type": "display_data"
    },
    {
     "data": {
      "text/html": [
       "<div class=\"progress\">\n",
       "  <div class=\"progress-bar\" role=\"progressbar\" style=\"background-color: blue; width: 100%; word-wrap: normal; white-space: nowrap; text-align: center; color: white\" aria-valuenow=\"100\" aria-valuemin=\"0\" aria-valuemax=\"100\">\n",
       "    20 / 20\n",
       "  </div>\n",
       "  <div class=\"progress-bar\" role=\"progressbar\" style=\"background-color: red; width: 0%\" aria-valuenow=\"0\" aria-valuemin=\"0\" aria-valuemax=\"100\"></div>\n",
       "</div>\n"
      ]
     },
     "metadata": {},
     "output_type": "display_data"
    },
    {
     "data": {
      "text/html": [
       "<div>\n",
       "  <span style=\"float: left;\">show at cmd5.sc:1</span>\n",
       "</div>\n"
      ]
     },
     "metadata": {},
     "output_type": "display_data"
    },
    {
     "data": {
      "text/html": [
       "<div class=\"progress\">\n",
       "  <div class=\"progress-bar\" role=\"progressbar\" style=\"background-color: blue; width: 100%; word-wrap: normal; white-space: nowrap; text-align: center; color: white\" aria-valuenow=\"100\" aria-valuemin=\"0\" aria-valuemax=\"100\">\n",
       "    100 / 100\n",
       "  </div>\n",
       "  <div class=\"progress-bar\" role=\"progressbar\" style=\"background-color: red; width: 0%\" aria-valuenow=\"0\" aria-valuemin=\"0\" aria-valuemax=\"100\"></div>\n",
       "</div>\n"
      ]
     },
     "metadata": {},
     "output_type": "display_data"
    },
    {
     "data": {
      "text/html": [
       "<div>\n",
       "  <span style=\"float: left;\">show at cmd5.sc:1</span>\n",
       "</div>\n"
      ]
     },
     "metadata": {},
     "output_type": "display_data"
    },
    {
     "data": {
      "text/html": [
       "<div class=\"progress\">\n",
       "  <div class=\"progress-bar\" role=\"progressbar\" style=\"background-color: blue; width: 100%; word-wrap: normal; white-space: nowrap; text-align: center; color: white\" aria-valuenow=\"100\" aria-valuemin=\"0\" aria-valuemax=\"100\">\n",
       "    75 / 75\n",
       "  </div>\n",
       "  <div class=\"progress-bar\" role=\"progressbar\" style=\"background-color: red; width: 0%\" aria-valuenow=\"0\" aria-valuemin=\"0\" aria-valuemax=\"100\"></div>\n",
       "</div>\n"
      ]
     },
     "metadata": {},
     "output_type": "display_data"
    },
    {
     "name": "stdout",
     "output_type": "stream",
     "text": [
      "+--------+-----+\n",
      "| emotion|count|\n",
      "+--------+-----+\n",
      "|     joy|  539|\n",
      "|   anger|  318|\n",
      "|    fear|  208|\n",
      "|surprise|   90|\n",
      "| sadness|  309|\n",
      "| disgust|   72|\n",
      "+--------+-----+\n",
      "\n"
     ]
    }
   ],
   "source": [
    "emotionLables.groupBy(\"emotion\").count().show()"
   ]
  },
  {
   "cell_type": "markdown",
   "metadata": {
    "id": "3o8C6SxIiQ3O"
   },
   "source": [
    "## **4.1 Transformate Data**"
   ]
  },
  {
   "cell_type": "code",
   "execution_count": null,
   "metadata": {
    "colab": {
     "base_uri": "https://localhost:8080/",
     "height": 510
    },
    "id": "_lGUlF3nub30",
    "outputId": "6d1573d2-6a76-4cb0-84d8-24ba42ee6cb1"
   },
   "outputs": [],
   "source": [
    "import org.apache.spark.sql.functions.concat\n",
    "val transformatedDF = amazonComment.select(($\"overall\" / 5).as(\"satisfaction\") ,concat($\"reviewText\",$\"summary\").as(\"sentence\"))\n",
    "transformatedDF.show()\n",
    "transformatedDF.count()"
   ]
  },
  {
   "cell_type": "markdown",
   "metadata": {
    "id": "pMpMdA3_or0V"
   },
   "source": [
    "# **Step 5: Data Preparation**"
   ]
  },
  {
   "cell_type": "markdown",
   "metadata": {},
   "source": [
    "## 5.1 Null Value Check"
   ]
  },
  {
   "cell_type": "code",
   "execution_count": null,
   "metadata": {},
   "outputs": [],
   "source": [
    "val nullCheckedDF = transformatedDF.filter($\"sentence\".isNotNull)"
   ]
  },
  {
   "cell_type": "markdown",
   "metadata": {},
   "source": [
    "### Word2Vec fecture transformation"
   ]
  },
  {
   "cell_type": "code",
   "execution_count": 8,
   "metadata": {},
   "outputs": [
    {
     "data": {
      "text/html": [
       "<div>\n",
       "  <span style=\"float: left;\">map at Word2Vec.scala:188</span>\n",
       "</div>\n"
      ]
     },
     "metadata": {},
     "output_type": "display_data"
    },
    {
     "data": {
      "text/html": [
       "<div class=\"progress\">\n",
       "  <div class=\"progress-bar\" role=\"progressbar\" style=\"background-color: blue; width: 100%; word-wrap: normal; white-space: nowrap; text-align: center; color: white\" aria-valuenow=\"100\" aria-valuemin=\"0\" aria-valuemax=\"100\">\n",
       "    8 / 8\n",
       "  </div>\n",
       "  <div class=\"progress-bar\" role=\"progressbar\" style=\"background-color: red; width: 0%\" aria-valuenow=\"0\" aria-valuemin=\"0\" aria-valuemax=\"100\"></div>\n",
       "</div>\n"
      ]
     },
     "metadata": {},
     "output_type": "display_data"
    },
    {
     "data": {
      "text/html": [
       "<div>\n",
       "  <span style=\"float: left;\">collect at Word2Vec.scala:191</span>\n",
       "</div>\n"
      ]
     },
     "metadata": {},
     "output_type": "display_data"
    },
    {
     "data": {
      "text/html": [
       "<div class=\"progress\">\n",
       "  <div class=\"progress-bar\" role=\"progressbar\" style=\"background-color: blue; width: 100%; word-wrap: normal; white-space: nowrap; text-align: center; color: white\" aria-valuenow=\"100\" aria-valuemin=\"0\" aria-valuemax=\"100\">\n",
       "    8 / 8\n",
       "  </div>\n",
       "  <div class=\"progress-bar\" role=\"progressbar\" style=\"background-color: red; width: 0%\" aria-valuenow=\"0\" aria-valuemin=\"0\" aria-valuemax=\"100\"></div>\n",
       "</div>\n"
      ]
     },
     "metadata": {},
     "output_type": "display_data"
    },
    {
     "data": {
      "text/html": [
       "<div>\n",
       "  <span style=\"float: left;\">repartition at Word2Vec.scala:347</span>\n",
       "</div>\n"
      ]
     },
     "metadata": {},
     "output_type": "display_data"
    },
    {
     "data": {
      "text/html": [
       "<div class=\"progress\">\n",
       "  <div class=\"progress-bar\" role=\"progressbar\" style=\"background-color: blue; width: 100%; word-wrap: normal; white-space: nowrap; text-align: center; color: white\" aria-valuenow=\"100\" aria-valuemin=\"0\" aria-valuemax=\"100\">\n",
       "    8 / 8\n",
       "  </div>\n",
       "  <div class=\"progress-bar\" role=\"progressbar\" style=\"background-color: red; width: 0%\" aria-valuenow=\"0\" aria-valuemin=\"0\" aria-valuemax=\"100\"></div>\n",
       "</div>\n"
      ]
     },
     "metadata": {},
     "output_type": "display_data"
    },
    {
     "data": {
      "text/html": [
       "<div>\n",
       "  <span style=\"float: left;\">mapPartitions at Word2Vec.scala:446</span>\n",
       "</div>\n"
      ]
     },
     "metadata": {},
     "output_type": "display_data"
    },
    {
     "data": {
      "text/html": [
       "<div class=\"progress\">\n",
       "  <div class=\"progress-bar\" role=\"progressbar\" style=\"background-color: blue; width: 100%; word-wrap: normal; white-space: nowrap; text-align: center; color: white\" aria-valuenow=\"100\" aria-valuemin=\"0\" aria-valuemax=\"100\">\n",
       "    1 / 1\n",
       "  </div>\n",
       "  <div class=\"progress-bar\" role=\"progressbar\" style=\"background-color: red; width: 0%\" aria-valuenow=\"0\" aria-valuemin=\"0\" aria-valuemax=\"100\"></div>\n",
       "</div>\n"
      ]
     },
     "metadata": {},
     "output_type": "display_data"
    },
    {
     "name": "stderr",
     "output_type": "stream",
     "text": [
      "21/05/10 01:18:48 WARN BLAS: Failed to load implementation from: com.github.fommil.netlib.NativeSystemBLAS\n",
      "21/05/10 01:18:48 WARN BLAS: Failed to load implementation from: com.github.fommil.netlib.NativeRefBLAS\n"
     ]
    },
    {
     "data": {
      "text/html": [
       "<div>\n",
       "  <span style=\"float: left;\">collect at Word2Vec.scala:453</span>\n",
       "</div>\n"
      ]
     },
     "metadata": {},
     "output_type": "display_data"
    },
    {
     "data": {
      "text/html": [
       "<div class=\"progress\">\n",
       "  <div class=\"progress-bar\" role=\"progressbar\" style=\"background-color: blue; width: 100%; word-wrap: normal; white-space: nowrap; text-align: center; color: white\" aria-valuenow=\"100\" aria-valuemin=\"0\" aria-valuemax=\"100\">\n",
       "    1 / 1\n",
       "  </div>\n",
       "  <div class=\"progress-bar\" role=\"progressbar\" style=\"background-color: red; width: 0%\" aria-valuenow=\"0\" aria-valuemin=\"0\" aria-valuemax=\"100\"></div>\n",
       "</div>\n"
      ]
     },
     "metadata": {},
     "output_type": "display_data"
    },
    {
     "data": {
      "text/html": [
       "<div>\n",
       "  <span style=\"float: left;\">show at cmd7.sc:19</span>\n",
       "</div>\n"
      ]
     },
     "metadata": {},
     "output_type": "display_data"
    },
    {
     "data": {
      "text/html": [
       "<div class=\"progress\">\n",
       "  <div class=\"progress-bar\" role=\"progressbar\" style=\"background-color: blue; width: 100%; word-wrap: normal; white-space: nowrap; text-align: center; color: white\" aria-valuenow=\"100\" aria-valuemin=\"0\" aria-valuemax=\"100\">\n",
       "    1 / 1\n",
       "  </div>\n",
       "  <div class=\"progress-bar\" role=\"progressbar\" style=\"background-color: red; width: 0%\" aria-valuenow=\"0\" aria-valuemin=\"0\" aria-valuemax=\"100\"></div>\n",
       "</div>\n"
      ]
     },
     "metadata": {},
     "output_type": "display_data"
    },
    {
     "name": "stdout",
     "output_type": "stream",
     "text": [
      "+------------+--------------------+--------------------+--------------------+\n",
      "|satisfaction|            sentence|               words|              result|\n",
      "+------------+--------------------+--------------------+--------------------+\n",
      "|         0.4|found the game a ...|[found, the, game...|[0.03550093228267...|\n",
      "|         0.2|I'm an avid gamer...|[i'm, an, avid, g...|[-0.0672462206178...|\n",
      "|         1.0|I bought this gam...|[i, bought, this,...|[-0.0696449068565...|\n",
      "|         1.0|I have played the...|[i, have, played,...|[-0.0851883955403...|\n",
      "|         0.8|I liked it and ha...|[i, liked, it, an...|[-0.0293926449680...|\n",
      "|         0.2|I've bought and p...|[i've, bought, an...|[-0.0760261643830...|\n",
      "|         1.0|Loved playing Dir...|[loved, playing, ...|[-0.0694960769342...|\n",
      "|         1.0|lot of people don...|[lot, of, people,...|[0.00681758118598...|\n",
      "|         0.8|I had Dirt 2 on X...|[i, had, dirt, 2,...|[-0.0753538312948...|\n",
      "|         0.2|I'm sure I would ...|[i'm, sure, i, wo...|[-0.0853507062175...|\n",
      "|         0.2|Update June 2013:...|[update, june, 20...|[-0.0453162996461...|\n",
      "|         0.8|I will open with ...|[i, will, open, w...|[-0.0436608219495...|\n",
      "|         1.0|i like bf games a...|[i, like, bf, gam...|[-0.0907750033010...|\n",
      "|         0.8|This installment ...|[this, installmen...|[-0.0626154547184...|\n",
      "|         1.0|Dirt 3 on DVD\n",
      "i c...|[dirt, 3, on, dvd...|[-0.0509050784865...|\n",
      "|         0.2|This game was a r...|[this, game, was,...|[0.01278351162358...|\n",
      "|         0.4|The game itself i...|[the, game, itsel...|[-0.0854202865290...|\n",
      "|         0.8|If you like rally...|[if, you, like, r...|[-0.0378716964021...|\n",
      "|         0.6|This really is a ...|[this, really, is...|[-0.0449951527658...|\n",
      "|         0.8|Overall this is a...|[overall, this, i...|[-0.0841164565819...|\n",
      "+------------+--------------------+--------------------+--------------------+\n",
      "only showing top 20 rows\n",
      "\n"
     ]
    },
    {
     "data": {
      "text/plain": [
       "\u001b[32mimport \u001b[39m\u001b[36morg.apache.spark.ml.feature.Tokenizer\n",
       "\u001b[39m\r\n",
       "\u001b[32mimport \u001b[39m\u001b[36morg.apache.spark.ml.feature.Word2Vec\n",
       "\u001b[39m\r\n",
       "\u001b[32mimport \u001b[39m\u001b[36morg.apache.spark.ml.linalg.Vector\n",
       "\u001b[39m\r\n",
       "\u001b[32mimport \u001b[39m\u001b[36morg.apache.spark.sql.Row\n",
       "\n",
       "// Input data: Each row is a bag of words from a sentence or document.\n",
       "\n",
       "\u001b[39m\r\n",
       "\u001b[36mtokenizer\u001b[39m: \u001b[32mTokenizer\u001b[39m = tok_f76cccd977e8\r\n",
       "\u001b[36mwordsData\u001b[39m: \u001b[32mDataFrame\u001b[39m = [satisfaction: double, sentence: string ... 1 more field]\r\n",
       "\u001b[36mword2Vec\u001b[39m: \u001b[32mWord2Vec\u001b[39m = w2v_9a09f7894df5\r\n",
       "\u001b[36mmodel\u001b[39m: \u001b[32morg\u001b[39m.\u001b[32mapache\u001b[39m.\u001b[32mspark\u001b[39m.\u001b[32mml\u001b[39m.\u001b[32mfeature\u001b[39m.\u001b[32mWord2VecModel\u001b[39m = Word2VecModel: uid=w2v_9a09f7894df5, numWords=618756, vectorSize=128\r\n",
       "\u001b[36mresult\u001b[39m: \u001b[32mDataFrame\u001b[39m = [satisfaction: double, sentence: string ... 2 more fields]"
      ]
     },
     "execution_count": 8,
     "metadata": {},
     "output_type": "execute_result"
    }
   ],
   "source": [
    "//Word2Vec\n",
    "import org.apache.spark.ml.feature.Tokenizer\n",
    "import org.apache.spark.ml.feature.Word2Vec\n",
    "import org.apache.spark.ml.linalg.Vector\n",
    "import org.apache.spark.sql.Row\n",
    "\n",
    "// Input data: Each row is a bag of words from a sentence or document.\n",
    "\n",
    "val tokenizer = new Tokenizer().setInputCol(\"sentence\").setOutputCol(\"words\")\n",
    "val wordsData = tokenizer.transform(nullCheckedDF.sample(0.5))\n",
    "// Learn a mapping from words to Vectors.\n",
    "val word2Vec = new Word2Vec()\n",
    "  .setInputCol(\"words\")\n",
    "  .setOutputCol(\"result\")\n",
    "  .setVectorSize(128)\n",
    "  .setMinCount(0)\n",
    "val model = word2Vec.fit(wordsData)\n",
    "\n",
    "val result = model.transform(wordsData)\n",
    "result.show()"
   ]
  },
  {
   "cell_type": "markdown",
   "metadata": {},
   "source": [
    "### Seperate Training Dataset and Testing Dataset"
   ]
  },
  {
   "cell_type": "code",
   "execution_count": 9,
   "metadata": {
    "colab": {
     "base_uri": "https://localhost:8080/",
     "height": 408
    },
    "id": "a_gpDpR3o8c9",
    "outputId": "d875b97e-973c-4f03-a157-52fac69a09a7"
   },
   "outputs": [
    {
     "data": {
      "text/html": [
       "<div>\n",
       "  <span style=\"float: left;\">treeAggregate at Statistics.scala:58</span>\n",
       "</div>\n"
      ]
     },
     "metadata": {},
     "output_type": "display_data"
    },
    {
     "data": {
      "text/html": [
       "<div class=\"progress\">\n",
       "  <div class=\"progress-bar\" role=\"progressbar\" style=\"background-color: blue; width: 100%; word-wrap: normal; white-space: nowrap; text-align: center; color: white\" aria-valuenow=\"100\" aria-valuemin=\"0\" aria-valuemax=\"100\">\n",
       "    16 / 16\n",
       "  </div>\n",
       "  <div class=\"progress-bar\" role=\"progressbar\" style=\"background-color: red; width: 0%\" aria-valuenow=\"0\" aria-valuemin=\"0\" aria-valuemax=\"100\"></div>\n",
       "</div>\n"
      ]
     },
     "metadata": {},
     "output_type": "display_data"
    },
    {
     "data": {
      "text/html": [
       "<div>\n",
       "  <span style=\"float: left;\">treeAggregate at Statistics.scala:58</span>\n",
       "</div>\n"
      ]
     },
     "metadata": {},
     "output_type": "display_data"
    },
    {
     "data": {
      "text/html": [
       "<div class=\"progress\">\n",
       "  <div class=\"progress-bar\" role=\"progressbar\" style=\"background-color: blue; width: 100%; word-wrap: normal; white-space: nowrap; text-align: center; color: white\" aria-valuenow=\"100\" aria-valuemin=\"0\" aria-valuemax=\"100\">\n",
       "    4 / 4\n",
       "  </div>\n",
       "  <div class=\"progress-bar\" role=\"progressbar\" style=\"background-color: red; width: 0%\" aria-valuenow=\"0\" aria-valuemin=\"0\" aria-valuemax=\"100\"></div>\n",
       "</div>\n"
      ]
     },
     "metadata": {},
     "output_type": "display_data"
    },
    {
     "data": {
      "text/html": [
       "<div>\n",
       "  <span style=\"float: left;\">treeAggregate at Statistics.scala:58</span>\n",
       "</div>\n"
      ]
     },
     "metadata": {},
     "output_type": "display_data"
    },
    {
     "data": {
      "text/html": [
       "<div class=\"progress\">\n",
       "  <div class=\"progress-bar\" role=\"progressbar\" style=\"background-color: blue; width: 100%; word-wrap: normal; white-space: nowrap; text-align: center; color: white\" aria-valuenow=\"100\" aria-valuemin=\"0\" aria-valuemax=\"100\">\n",
       "    16 / 16\n",
       "  </div>\n",
       "  <div class=\"progress-bar\" role=\"progressbar\" style=\"background-color: red; width: 0%\" aria-valuenow=\"0\" aria-valuemin=\"0\" aria-valuemax=\"100\"></div>\n",
       "</div>\n"
      ]
     },
     "metadata": {},
     "output_type": "display_data"
    },
    {
     "data": {
      "text/html": [
       "<div>\n",
       "  <span style=\"float: left;\">treeAggregate at Statistics.scala:58</span>\n",
       "</div>\n"
      ]
     },
     "metadata": {},
     "output_type": "display_data"
    },
    {
     "data": {
      "text/html": [
       "<div class=\"progress\">\n",
       "  <div class=\"progress-bar\" role=\"progressbar\" style=\"background-color: blue; width: 100%; word-wrap: normal; white-space: nowrap; text-align: center; color: white\" aria-valuenow=\"100\" aria-valuemin=\"0\" aria-valuemax=\"100\">\n",
       "    4 / 4\n",
       "  </div>\n",
       "  <div class=\"progress-bar\" role=\"progressbar\" style=\"background-color: red; width: 0%\" aria-valuenow=\"0\" aria-valuemin=\"0\" aria-valuemax=\"100\"></div>\n",
       "</div>\n"
      ]
     },
     "metadata": {},
     "output_type": "display_data"
    },
    {
     "data": {
      "text/plain": [
       "\u001b[32mimport \u001b[39m\u001b[36morg.apache.spark.ml.feature.VectorAssembler\n",
       "\u001b[39m\r\n",
       "\u001b[32mimport \u001b[39m\u001b[36morg.apache.spark.sql.functions._\n",
       "\u001b[39m\r\n",
       "\u001b[32mimport \u001b[39m\u001b[36morg.apache.spark.mllib.regression.LabeledPoint\n",
       "\u001b[39m\r\n",
       "\u001b[32mimport \u001b[39m\u001b[36morg.apache.spark.mllib.linalg.Vectors.fromML\n",
       "\n",
       "\u001b[39m\r\n",
       "\u001b[36massembler\u001b[39m: \u001b[32mVectorAssembler\u001b[39m = VectorAssembler: uid=vecAssembler_8784a2155bc1, handleInvalid=error, numInputCols=1\r\n",
       "\u001b[36moutput\u001b[39m: \u001b[32mDataFrame\u001b[39m = [satisfaction: double, result: vector ... 1 more field]\r\n",
       "\u001b[36mLabeledDF\u001b[39m: \u001b[32mDataset\u001b[39m[\u001b[32mLabeledPoint\u001b[39m] = [label: double, features: vector]\r\n",
       "\u001b[36mtraining\u001b[39m: \u001b[32mArray\u001b[39m[\u001b[32morg\u001b[39m.\u001b[32mapache\u001b[39m.\u001b[32mspark\u001b[39m.\u001b[32mrdd\u001b[39m.\u001b[32mRDD\u001b[39m[\u001b[32mLabeledPoint\u001b[39m]] = \u001b[33mArray\u001b[39m(\n",
       "  MapPartitionsRDD[97] at randomSplit at cmd8.sc:16,\n",
       "  MapPartitionsRDD[98] at randomSplit at cmd8.sc:16\n",
       ")\r\n",
       "\u001b[36mtesting\u001b[39m: \u001b[32mArray\u001b[39m[\u001b[32morg\u001b[39m.\u001b[32mapache\u001b[39m.\u001b[32mspark\u001b[39m.\u001b[32mrdd\u001b[39m.\u001b[32mRDD\u001b[39m[\u001b[32mLabeledPoint\u001b[39m]] = \u001b[33mArray\u001b[39m(\n",
       "  MapPartitionsRDD[99] at randomSplit at cmd8.sc:16,\n",
       "  MapPartitionsRDD[100] at randomSplit at cmd8.sc:16\n",
       ")\r\n",
       "\u001b[36msepTrainingDF\u001b[39m: \u001b[32morg\u001b[39m.\u001b[32mapache\u001b[39m.\u001b[32mspark\u001b[39m.\u001b[32mrdd\u001b[39m.\u001b[32mRDD\u001b[39m[\u001b[32mLabeledPoint\u001b[39m] = UnionRDD[101] at union at cmd8.sc:19\r\n",
       "\u001b[36msepTestingDF\u001b[39m: \u001b[32morg\u001b[39m.\u001b[32mapache\u001b[39m.\u001b[32mspark\u001b[39m.\u001b[32mrdd\u001b[39m.\u001b[32mRDD\u001b[39m[\u001b[32mLabeledPoint\u001b[39m] = UnionRDD[102] at union at cmd8.sc:20\r\n",
       "\u001b[32mimport \u001b[39m\u001b[36morg.apache.spark.mllib.feature.{StandardScaler, StandardScalerModel}\n",
       "\n",
       "\u001b[39m\r\n",
       "\u001b[36mtrainScaler\u001b[39m: \u001b[32mStandardScalerModel\u001b[39m = org.apache.spark.mllib.feature.StandardScalerModel@579ba8dd\r\n",
       "\u001b[36mtrainScaleredData\u001b[39m: \u001b[32morg\u001b[39m.\u001b[32mapache\u001b[39m.\u001b[32mspark\u001b[39m.\u001b[32mrdd\u001b[39m.\u001b[32mRDD\u001b[39m[(\u001b[32mDouble\u001b[39m, \u001b[32morg\u001b[39m.\u001b[32mapache\u001b[39m.\u001b[32mspark\u001b[39m.\u001b[32mmllib\u001b[39m.\u001b[32mlinalg\u001b[39m.\u001b[32mVector\u001b[39m)] = MapPartitionsRDD[109] at map at cmd8.sc:26\r\n",
       "\u001b[36mtestScaler\u001b[39m: \u001b[32mStandardScalerModel\u001b[39m = org.apache.spark.mllib.feature.StandardScalerModel@2b55922\r\n",
       "\u001b[36mtestScaleredData\u001b[39m: \u001b[32morg\u001b[39m.\u001b[32mapache\u001b[39m.\u001b[32mspark\u001b[39m.\u001b[32mrdd\u001b[39m.\u001b[32mRDD\u001b[39m[(\u001b[32mDouble\u001b[39m, \u001b[32morg\u001b[39m.\u001b[32mapache\u001b[39m.\u001b[32mspark\u001b[39m.\u001b[32mmllib\u001b[39m.\u001b[32mlinalg\u001b[39m.\u001b[32mVector\u001b[39m)] = MapPartitionsRDD[116] at map at cmd8.sc:28\r\n",
       "\u001b[32mimport \u001b[39m\u001b[36morg.apache.spark.mllib.util.MLUtils\n",
       "\u001b[39m\r\n",
       "\u001b[36mtrainingDF\u001b[39m: \u001b[32mDataset\u001b[39m[\u001b[32mRow\u001b[39m] = [label: double, features: vector]\r\n",
       "\u001b[36mtestingDF\u001b[39m: \u001b[32mDataset\u001b[39m[\u001b[32mRow\u001b[39m] = [label: double, features: vector]\r\n",
       "\u001b[36mlabeledTrainingDF\u001b[39m: \u001b[32mDataset\u001b[39m[\u001b[32mLabeledPoint\u001b[39m] = [label: double, features: vector]\r\n",
       "\u001b[36mlabeledTestingDF\u001b[39m: \u001b[32mDataset\u001b[39m[\u001b[32mLabeledPoint\u001b[39m] = [label: double, features: vector]"
      ]
     },
     "execution_count": 9,
     "metadata": {},
     "output_type": "execute_result"
    }
   ],
   "source": [
    "import org.apache.spark.ml.feature.VectorAssembler\n",
    "import org.apache.spark.sql.functions._\n",
    "import org.apache.spark.mllib.regression.LabeledPoint\n",
    "import org.apache.spark.mllib.linalg.Vectors.fromML\n",
    "\n",
    "val assembler = new VectorAssembler()\n",
    "  .setInputCols(Array(\"result\"))\n",
    "  .setOutputCol(\"features\")\n",
    "\n",
    "val output = assembler.transform(result.select(\"satisfaction\",\"result\"))\n",
    "\n",
    "\n",
    "val LabeledDF = output.map(p=>LabeledPoint(p.getDouble(0),fromML(p.getAs[Vector](1))))\n",
    "\n",
    "\n",
    "val training,testing = LabeledDF.rdd.randomSplit(Array(0.7,0.3))\n",
    "// val training_2,testing_2 = sc.union(testing).randomSplit(Array(0.7,0.3))\n",
    "\n",
    "val sepTrainingDF = sc.union(training)\n",
    "val sepTestingDF = sc.union(testing)\n",
    "\n",
    "//StandardScaler\n",
    "import org.apache.spark.mllib.feature.{StandardScaler, StandardScalerModel}\n",
    "\n",
    "val trainScaler = new StandardScaler().fit(sepTrainingDF.map(p => p.features))\n",
    "val trainScaleredData = sepTrainingDF.map(x=> (x.label, trainScaler.transform(x.features)))\n",
    "val testScaler = new StandardScaler().fit(sepTestingDF.map(p => p.features))\n",
    "val testScaleredData = sepTestingDF.map(x=> (x.label, testScaler.transform(x.features)))\n",
    "import org.apache.spark.mllib.util.MLUtils\n",
    "val trainingDF = MLUtils.convertVectorColumnsToML(trainScaleredData.toDF(\"label\",\"features\"))\n",
    "val testingDF = MLUtils.convertVectorColumnsToML(testScaleredData.toDF(\"label\",\"features\"))\n",
    "val labeledTrainingDF = trainingDF.map(p=>LabeledPoint(p.getDouble(0),fromML(p.getAs[Vector](1))))\n",
    "val labeledTestingDF = testingDF.map(p=>LabeledPoint(p.getDouble(0),fromML(p.getAs[Vector](1))))"
   ]
  },
  {
   "cell_type": "markdown",
   "metadata": {},
   "source": [
    "# **Step 7: Algorithm Implementation**"
   ]
  },
  {
   "cell_type": "code",
   "execution_count": 10,
   "metadata": {},
   "outputs": [
    {
     "data": {
      "text/html": [
       "<div>\n",
       "  <span style=\"float: left;\">take at cmd9.sc:1</span>\n",
       "</div>\n"
      ]
     },
     "metadata": {},
     "output_type": "display_data"
    },
    {
     "data": {
      "text/html": [
       "<div class=\"progress\">\n",
       "  <div class=\"progress-bar\" role=\"progressbar\" style=\"background-color: blue; width: 100%; word-wrap: normal; white-space: nowrap; text-align: center; color: white\" aria-valuenow=\"100\" aria-valuemin=\"0\" aria-valuemax=\"100\">\n",
       "    1 / 1\n",
       "  </div>\n",
       "  <div class=\"progress-bar\" role=\"progressbar\" style=\"background-color: red; width: 0%\" aria-valuenow=\"0\" aria-valuemin=\"0\" aria-valuemax=\"100\"></div>\n",
       "</div>\n"
      ]
     },
     "metadata": {},
     "output_type": "display_data"
    },
    {
     "data": {
      "text/plain": [
       "\u001b[36msample\u001b[39m: \u001b[32mArray\u001b[39m[\u001b[32mRow\u001b[39m] = \u001b[33mArray\u001b[39m(\n",
       "  [1.0,[-1.2093003636990556,1.3105324173584219,-1.7903171698969225,-0.4240970911356111,-1.6113658927683114,0.304135845014038,0.17452651743083075,-0.6661841969680904,0.6096387068793988,0.7370954769992213,0.10784863220971831,-0.565893864624726,-1.4252440197593912,2.139756095347843,-0.5120967393646094,-0.5197550532895954,-0.4063132050102405,2.4776764824624378,1.0163499719599371,-0.667743271569143,1.5558313252632157,-0.5125085069113372,0.2331457045649342,-0.3402290723255303,-0.9859623908151752,-0.25930134020244394,1.594465143563046,1.4802268119638036,-0.4961511626373065,0.209799494205105,-0.6693799690268875,-1.534986439109347,-0.6322034752714574,-1.3204175280127655,-3.4017513368735446,-1.1111321031256174,0.2948596486441022,-1.3180702583874155,2.023712690971348,0.04467184025059524,0.5741929758967045,-0.38097439808290906,-1.5110282252669018,0.45437041113626675,-0.20541634596846392,-1.4207908281062516,-0.27925197338299823,0.023204073471232763,0.6978050829858937,-1.3294935602929958,-0.09708167080143333,-1.180240166279637,-0.4942905618918478,-0.2444675693723938,0.7449537605718329,-0.35663133768851013,-1.1884621268992115,-2.2552844552272937,-0.1187119413480422,0.3585533794497474,0.4681178718102584,-1.6402433202107323,1.0186946208326813,-0.04540828907516053,-1.6565446790762335,-1.6608523853535377,-0.11723506506571638,-0.18770658932001483,-0.541169057999444,-1.4518092690156637,0.11525776655191987,1.4186274211309216,0.6333681239612485,-0.09856285944317332,0.9098423250767482,-0.461418731211857,0.3667140441584485,-0.23967085767862786,2.2146583573156122,0.4856546831773274,-0.1451974125710423,0.39285974276648405,-0.29995727087650015,0.49049562961487103,-0.8196185578720793,-1.7355334453055848,-1.2686293533017963,0.5338216573542531,-0.3548976858090864,0.7110890733314107,0.40557276748089527,1.4972553816334568,0.8418995734557713,0.8731466928153278,-0.687707605098937,0.006121503662817224,-0.684387969953326,-1.716844546474831,0.641874731474759,0.17282875732670241,2.426340651777775,1.0985185550187093,-0.1788932775374382,0.5132410048861814,-1.0569864552799322,-0.35441367442100097,0.040340109907845256,-0.9461304698537892,0.31943709970998563,0.733383815057667,0.08644122910083132,-2.5937559499029708,0.518717900667233,-0.6987170653405476,-0.9385445732264841,-0.49842075708413935,-0.18898354113258986,0.1373759308625294,0.6987733359326915,-0.616145284776548,-0.15087678008667907,0.33689660428239976,-1.0186811406233909,-0.34759565847614493,0.16832152805212058,0.911005847695031,0.5479355590438254,-2.1801521733647466]],\n",
       "  [1.0,[-1.0481058455447634,0.28458472674406704,-0.9078808889128597,0.2126030516012326,0.2641547447943361,-0.11563006149594854,-0.09752816302304194,0.04735407590888334,-0.1851481066392252,-0.09429344530013248,0.3124622026177642,0.695078014054922,0.05489620645181336,-0.12846522948787972,-0.11005150325097719,0.3121459976277429,0.32162023513856236,0.36345490738862213,1.0460631398995965,-0.11472865036422453,0.9592907852113027,-0.113591199273464,-0.14091208748597187,-0.34570179197..."
      ]
     },
     "execution_count": 10,
     "metadata": {},
     "output_type": "execute_result"
    }
   ],
   "source": [
    "val sample = testingDF.sample(0.1).take(10)\n"
   ]
  },
  {
   "cell_type": "markdown",
   "metadata": {},
   "source": [
    "## Generalized Linear regression\n",
    "---"
   ]
  },
  {
   "cell_type": "markdown",
   "metadata": {},
   "source": [
    "### Train"
   ]
  },
  {
   "cell_type": "code",
   "execution_count": 11,
   "metadata": {
    "colab": {
     "base_uri": "https://localhost:8080/",
     "height": 51
    },
    "id": "Cm5I3Bu4tPBe",
    "outputId": "f6af491b-13fd-4009-cc40-404372cd5e95"
   },
   "outputs": [
    {
     "data": {
      "text/html": [
       "<div>\n",
       "  <span style=\"float: left;\">head at MetadataUtils.scala:51</span>\n",
       "</div>\n"
      ]
     },
     "metadata": {},
     "output_type": "display_data"
    },
    {
     "data": {
      "text/html": [
       "<div class=\"progress\">\n",
       "  <div class=\"progress-bar\" role=\"progressbar\" style=\"background-color: blue; width: 100%; word-wrap: normal; white-space: nowrap; text-align: center; color: white\" aria-valuenow=\"100\" aria-valuemin=\"0\" aria-valuemax=\"100\">\n",
       "    1 / 1\n",
       "  </div>\n",
       "  <div class=\"progress-bar\" role=\"progressbar\" style=\"background-color: red; width: 0%\" aria-valuenow=\"0\" aria-valuemin=\"0\" aria-valuemax=\"100\"></div>\n",
       "</div>\n"
      ]
     },
     "metadata": {},
     "output_type": "display_data"
    },
    {
     "data": {
      "text/html": [
       "<div>\n",
       "  <span style=\"float: left;\">treeAggregate at WeightedLeastSquares.scala:107</span>\n",
       "</div>\n"
      ]
     },
     "metadata": {},
     "output_type": "display_data"
    },
    {
     "data": {
      "text/html": [
       "<div class=\"progress\">\n",
       "  <div class=\"progress-bar\" role=\"progressbar\" style=\"background-color: blue; width: 100%; word-wrap: normal; white-space: nowrap; text-align: center; color: white\" aria-valuenow=\"100\" aria-valuemin=\"0\" aria-valuemax=\"100\">\n",
       "    16 / 16\n",
       "  </div>\n",
       "  <div class=\"progress-bar\" role=\"progressbar\" style=\"background-color: red; width: 0%\" aria-valuenow=\"0\" aria-valuemin=\"0\" aria-valuemax=\"100\"></div>\n",
       "</div>\n"
      ]
     },
     "metadata": {},
     "output_type": "display_data"
    },
    {
     "data": {
      "text/html": [
       "<div>\n",
       "  <span style=\"float: left;\">treeAggregate at WeightedLeastSquares.scala:107</span>\n",
       "</div>\n"
      ]
     },
     "metadata": {},
     "output_type": "display_data"
    },
    {
     "data": {
      "text/html": [
       "<div class=\"progress\">\n",
       "  <div class=\"progress-bar\" role=\"progressbar\" style=\"background-color: blue; width: 100%; word-wrap: normal; white-space: nowrap; text-align: center; color: white\" aria-valuenow=\"100\" aria-valuemin=\"0\" aria-valuemax=\"100\">\n",
       "    4 / 4\n",
       "  </div>\n",
       "  <div class=\"progress-bar\" role=\"progressbar\" style=\"background-color: red; width: 0%\" aria-valuenow=\"0\" aria-valuemin=\"0\" aria-valuemax=\"100\"></div>\n",
       "</div>\n"
      ]
     },
     "metadata": {},
     "output_type": "display_data"
    },
    {
     "name": "stderr",
     "output_type": "stream",
     "text": [
      "21/05/10 01:29:25 WARN LAPACK: Failed to load implementation from: com.github.fommil.netlib.NativeSystemLAPACK\n",
      "21/05/10 01:29:25 WARN LAPACK: Failed to load implementation from: com.github.fommil.netlib.NativeRefLAPACK\n"
     ]
    },
    {
     "data": {
      "text/plain": [
       "\u001b[32mimport \u001b[39m\u001b[36morg.apache.spark.ml.regression.GeneralizedLinearRegression\n",
       "\n",
       "\u001b[39m\r\n",
       "\u001b[36mglr\u001b[39m: \u001b[32mGeneralizedLinearRegression\u001b[39m = glm_2f5539e44188\r\n",
       "\u001b[36mglrModel\u001b[39m: \u001b[32morg\u001b[39m.\u001b[32mapache\u001b[39m.\u001b[32mspark\u001b[39m.\u001b[32mml\u001b[39m.\u001b[32mregression\u001b[39m.\u001b[32mGeneralizedLinearRegressionModel\u001b[39m = GeneralizedLinearRegressionModel: uid=glm_2f5539e44188, family=gaussian, link=identity, numFeatures=128"
      ]
     },
     "execution_count": 11,
     "metadata": {},
     "output_type": "execute_result"
    }
   ],
   "source": [
    "import org.apache.spark.ml.regression.GeneralizedLinearRegression\n",
    "\n",
    "val glr = new GeneralizedLinearRegression()\n",
    "  .setFamily(\"gaussian\")\n",
    "  .setLink(\"identity\")\n",
    "  .setMaxIter(10)\n",
    "  .setRegParam(0.3)\n",
    "\n",
    "val glrModel = glr.fit(trainingDF)\n"
   ]
  },
  {
   "cell_type": "markdown",
   "metadata": {},
   "source": [
    "### Evaluate"
   ]
  },
  {
   "cell_type": "code",
   "execution_count": 12,
   "metadata": {},
   "outputs": [
    {
     "name": "stdout",
     "output_type": "stream",
     "text": [
      "Coefficients: [-0.002204139737951326,0.002568639672345236,-0.0038227178212488296,0.0020170385134997528,-0.006041019491148093,8.193058284812231E-4,0.002081600305515067,-0.0013178618480638778,9.127207436916938E-4,-0.001955167042997399,4.110193471304427E-4,6.252108965872749E-4,-8.229225064353321E-4,0.0089346237271147,0.0028823468010909558,-0.005672864414997589,-0.0032428412352229416,0.005923725449345014,0.0020827663229662716,-0.002543767468305473,0.0012917957964711454,-0.0024135593794182993,0.009294443889570589,-0.0038858537417660742,-0.0016928973267258665,-0.0018260340223096288,0.0072147490059777,-0.005563310730250127,0.0031793066473255675,-0.0023953271914464243,-0.0029506651028735576,-0.004982605971689825,3.5131004076344174E-4,0.002610526212649966,-0.010323400753674768,0.0037539053443215397,-1.0237080615500883E-4,-0.004082662323027776,5.914670337447711E-4,0.002545570814834231,0.006573799157444667,6.261547797466354E-4,0.007882456221886132,-0.00216579103269052,0.0017342707897862204,0.0029722562965703104,-0.0019844256622256226,-0.005656468166043945,0.002844274589728234,0.0011133384662760123,0.004041344493940367,0.0010955258548794998,0.0010360945363384485,-6.859651771780979E-4,-0.0014944402504703297,0.004511361877556776,-3.962443256192125E-4,-0.0101584176253227,-3.8473332720875337E-4,0.001365069919487851,0.003662019793674363,-0.002504085762157091,2.835124340730623E-4,-0.0011800489556260687,0.003258672879962653,-0.003862733205685606,-8.963896205460926E-4,-8.892075611959027E-4,0.0017771141888398175,-0.002164043801419105,-0.007003758629300699,-0.0011502655386938269,0.0016291808878784663,-0.005636096929692269,-3.5011525331238844E-4,0.002163161225585877,-0.0035001040738622067,3.839098466916658E-4,0.0027660402074750545,-0.003774147529023163,-5.120350349396241E-4,0.009374849445461743,-0.001149525049960359,0.005119796705737843,-4.7320807949592224E-4,-0.007483884456711277,-0.0031658065468500706,0.006328610542617368,0.002731729615600244,0.005210591598087544,0.0026425307628583673,0.005909987411836774,-0.008411819791220734,0.0025453619515121016,0.001530290631125365,-3.389124200928147E-4,0.003498138881967446,-0.0036735981664019132,0.0041268308123275374,0.004403720532265954,-2.2535516022274054E-4,0.0021660934760036406,-0.0028433854335298287,0.0026515038151686764,0.003236940779029673,-0.003568848939031518,-0.005027885077222162,-0.0035366976415474134,0.007231181610829021,0.003211883480251949,-0.0016169076766012046,-0.003631914233666277,-0.0027828318171415965,2.583254360725166E-4,-9.400516299603775E-4,-0.0016942050578672826,-0.006564068245530558,-2.0323002757614197E-5,0.001769677937477826,0.0065839484477502605,4.476003679874631E-5,-0.0024845766310784274,0.0031053385070515843,-0.0010230803353830456,0.0030570268828907813,4.1961096177526365E-4,-0.004890331209846331,-0.008610900161293867]\n",
      "Intercept: 0.8062191015653939\n"
     ]
    },
    {
     "data": {
      "text/html": [
       "<div>\n",
       "  <span style=\"float: left;\">head at GeneralizedLinearRegression.scala:1248</span>\n",
       "</div>\n"
      ]
     },
     "metadata": {},
     "output_type": "display_data"
    },
    {
     "data": {
      "text/html": [
       "<div class=\"progress\">\n",
       "  <div class=\"progress-bar\" role=\"progressbar\" style=\"background-color: blue; width: 100%; word-wrap: normal; white-space: nowrap; text-align: center; color: white\" aria-valuenow=\"100\" aria-valuemin=\"0\" aria-valuemax=\"100\">\n",
       "    16 / 16\n",
       "  </div>\n",
       "  <div class=\"progress-bar\" role=\"progressbar\" style=\"background-color: red; width: 0%\" aria-valuenow=\"0\" aria-valuemin=\"0\" aria-valuemax=\"100\"></div>\n",
       "</div>\n"
      ]
     },
     "metadata": {},
     "output_type": "display_data"
    },
    {
     "data": {
      "text/html": [
       "<div>\n",
       "  <span style=\"float: left;\">head at GeneralizedLinearRegression.scala:1248</span>\n",
       "</div>\n"
      ]
     },
     "metadata": {},
     "output_type": "display_data"
    },
    {
     "data": {
      "text/html": [
       "<div class=\"progress\">\n",
       "  <div class=\"progress-bar\" role=\"progressbar\" style=\"background-color: blue; width: 100%; word-wrap: normal; white-space: nowrap; text-align: center; color: white\" aria-valuenow=\"100\" aria-valuemin=\"0\" aria-valuemax=\"100\">\n",
       "    1 / 1\n",
       "  </div>\n",
       "  <div class=\"progress-bar\" role=\"progressbar\" style=\"background-color: red; width: 0%\" aria-valuenow=\"0\" aria-valuemin=\"0\" aria-valuemax=\"100\"></div>\n",
       "</div>\n"
      ]
     },
     "metadata": {},
     "output_type": "display_data"
    },
    {
     "name": "stdout",
     "output_type": "stream",
     "text": [
      "Coefficient Standard Errors: 3.4373894727707927E-4,3.6300446849234165E-4,3.313090265940087E-4,3.249470802618862E-4,3.284899870464373E-4,3.599207242021554E-4,3.578533516017905E-4,3.705917362108475E-4,3.5053718820105847E-4,3.700849559713178E-4,3.36276782080402E-4,3.4073364714962747E-4,3.3713761836376486E-4,3.0977665066989074E-4,3.615212665332214E-4,3.583942908188975E-4,3.664547125187193E-4,3.2371622994817795E-4,3.513761346009501E-4,3.66603696976532E-4,3.3209488945277885E-4,3.538240709454619E-4,3.4853539018567644E-4,3.594436695155078E-4,3.6236011017112146E-4,3.372359994902877E-4,3.4591209767337024E-4,3.32051714802977E-4,3.5187999164732863E-4,3.622915359949403E-4,3.6579116047300676E-4,3.351380646802751E-4,3.4628444872695385E-4,3.142459872674483E-4,3.238844981608705E-4,3.242093837837252E-4,3.6951299310141725E-4,3.3702505733637113E-4,3.379351020728767E-4,3.6984068841334794E-4,3.1467096043958075E-4,3.349020524983797E-4,3.080882553642666E-4,3.149159492381143E-4,3.244251760693324E-4,3.5378028090188654E-4,3.4800756723135E-4,3.395624162548824E-4,3.180725423379885E-4,3.123293765916425E-4,3.288495821952593E-4,3.6358512490370146E-4,3.3506751149239025E-4,3.714452510660773E-4,3.4240634419224866E-4,3.2587890862518734E-4,3.474115657606886E-4,3.441357484026057E-4,3.699446005405495E-4,3.4476279033349014E-4,3.252174785822723E-4,3.065251358871695E-4,3.176825917776447E-4,3.5295975590286484E-4,3.1758583244242045E-4,3.5514877624718834E-4,3.62739353844994E-4,3.306149857822112E-4,3.6663099988952085E-4,3.3501780140504926E-4,3.297460876816815E-4,3.42105292766551E-4,3.279084954807278E-4,3.4384005652136234E-4,3.5746261327029437E-4,3.680187454875709E-4,3.2464935069015025E-4,3.649326928428544E-4,3.112813578348938E-4,3.2473129865546454E-4,3.7036593645584944E-4,3.456477089992461E-4,3.504819925509004E-4,3.3421662735839616E-4,3.6092059570892705E-4,3.238944839258949E-4,3.56133274566239E-4,3.49167074870797E-4,3.5181822416389486E-4,3.5922747261895883E-4,3.252231864481139E-4,3.3665274434268905E-4,3.108778144955387E-4,3.6404169485959066E-4,3.530034197871373E-4,3.391707052412589E-4,3.578758573894774E-4,3.290356261306871E-4,3.599520622265446E-4,3.6121223252964525E-4,3.3939740946175467E-4,3.5979225677327284E-4,3.311252723680691E-4,3.2889022905964466E-4,3.316792476209415E-4,3.4676468418114344E-4,3.5430979277420167E-4,3.6510373997075256E-4,3.276689316956172E-4,3.421858165957141E-4,3.571708142843894E-4,3.0924535704785513E-4,3.449016155155543E-4,3.31676482023275E-4,3.562228140168989E-4,3.62411784239607E-4,3.3606268051813515E-4,3.521365161737077E-4,3.590532953125901E-4,3.181667715151984E-4,3.1334286350798846E-4,3.604766526832252E-4,3.1881423771285293E-4,3.5817575233068534E-4,3.49910805129667E-4,3.574409002672652E-4,3.0918139613347173E-4,3.386020048539525E-4,0.001877897937312604\n",
      "T Values: -6.412249049493436,7.07605524255255,-11.538224178640471,6.207283080907055,-18.390269808419145,2.2763508000196357,5.816908787349896,-3.5561015513688696,2.6037772151244116,-5.283022212740059,1.22226501808314,1.8348962652130565,-2.440909769812204,28.84214710112467,7.972827791656586,-15.828556872475907,-8.849227815721678,18.299130229872354,5.9274552761860795,-6.938739268819516,3.889839432939627,-6.821354389397444,26.667145292244577,-10.81074469054858,-4.671864477374207,-5.414706689290501,20.857174566904778,-16.754350247976042,9.035201553920759,-6.611601302990079,-8.066529270576234,-14.867323341630199,1.0145129013300005,8.307269840897606,-31.873710573660208,11.578644950097154,-0.27704250747932957,-12.113824281477788,1.750238522475891,6.8828846976112175,20.891025813953007,1.8696653994070842,25.58505910121874,-6.877362159427884,5.345672647228809,8.40141878171724,-5.70224859767606,-16.658110247978932,8.942219811937953,3.564629361559081,12.28934051538724,3.013120669250864,3.0921963508896604,-1.8467463918553906,-4.364522666762436,13.843675543744872,-1.1405616987782206,-29.518635225999038,-1.0399755170006404,3.959446778370179,11.26021826882825,-8.169267276921895,0.8924393133618758,-3.3432960440703052,10.260762751604995,-10.876380446816158,-2.4711672749164637,-2.68955612853453,4.847146557097807,-6.4594889953405605,-21.239853605364797,-3.3623143605637105,4.968400972625054,-16.391624020519277,-0.9794457946505577,5.877856093227005,-10.781183040784066,1.052001791620745,8.885980923220544,-11.622370694324362,-1.3825111451648382,27.12255629468729,-3.27984054642526,15.318797111334755,-1.3111140930221452,-23.105933654688435,-8.889387128192219,18.124877739286145,7.764605207965762,14.504991948693588,8.125284029464352,17.555144020512778,-27.05828270463941,6.9919517117231225,4.335058940925097,-0.9992384803744756,9.774727212627843,-11.164742886968797,11.4649456008123,12.191504427814564,-0.6639860940015069,6.02040048173863,-8.587038413574199,8.06197199214399,9.75925024627709,-10.291846609060158,-14.190646659395007,-9.686829397668532,22.06856040152843,9.386372328946429,-4.5269871219482605,-11.744442239448869,-8.06848008810239,0.7788476122777643,-2.6389427991992176,-4.674806757241553,-19.532273668144885,-0.05771342029063788,4.928733312243111,20.693387987675997,0.14284683652163402,-6.892475872110891,9.740275494999931,-2.856364030020904,8.736588976604864,1.173931023174776,-15.81702932648381,-25.430741808537025,429.31997823009846\n",
      "P Values: 1.4364398559507663E-10,1.4870327191829347E-12,0.0,5.399309888076687E-10,0.0,0.02282586813552867,6.001891206253163E-9,3.764685112237487E-4,0.009220814857025195,1.27176584596711E-7,0.2216085822927032,0.06652225523151101,0.014651007511476521,0.0,1.5543122344752192E-15,0.0,0.0,0.0,3.0806872608479807E-9,3.965716643961059E-12,1.0033665455488894E-4,9.0392138218931E-12,0.0,0.0,2.986337778398962E-6,6.14459112480148E-8,0.0,0.0,0.0,3.809486059935807E-11,6.661338147750939E-16,0.0,0.3103390637851915,0.0,0.0,0.0,0.7817476971160611,0.0,0.08007839764114855,5.879075004600054E-12,0.0,0.061531471703818896,0.0,6.111333661351637E-12,9.016099178360548E-8,0.0,1.1837062441344415E-8,0.0,0.0,3.6443896393101305E-4,0.0,0.0025860210011703355,0.001987033656213555,0.06478509223378559,1.274519254357287E-5,0.0,0.25405346228755055,0.0,0.2983522868197721,7.514447053269535E-5,0.0,2.220446049250313E-16,0.3721583708689318,8.28017423992522E-4,0.0,0.0,0.013467945883316457,0.007155188766408971,1.253252681188144E-6,1.0525003091288454E-10,0.0,7.730372370959859E-4,6.755193640017865E-7,0.0,0.3273607122902227,4.161416544690155E-9,0.0,0.2927997501139754,0.0,0.0,0.16681605262369503,0.0,0.0010388004799455341,0.0,0.18982043105089685,0.0,0.0,0.0,8.215650382226158E-15,0.0,4.440892098500626E-16,0.0,0.0,2.717603919677458E-12,1.4577823660655298E-5,0.31768015162659013,0.0,0.0,0.0,0.0,0.5066998271362473,1.7422858711313438E-9,0.0,6.661338147750939E-16,0.0,0.0,0.0,0.0,0.0,0.0,5.985828054777542E-6,0.0,6.661338147750939E-16,0.4360702282654194,0.008317019644028756,2.943845887282137E-6,0.0,0.9539769499670823,8.28175650058327E-7,0.0,0.8864112619303435,5.49582601649945E-12,0.0,0.0042855901349954095,0.0,0.24042377959732542,0.0,0.0,0.0\n",
      "Dispersion: 0.045298649098371564\n"
     ]
    },
    {
     "data": {
      "text/html": [
       "<div>\n",
       "  <span style=\"float: left;\">sum at GeneralizedLinearRegression.scala:1381</span>\n",
       "</div>\n"
      ]
     },
     "metadata": {},
     "output_type": "display_data"
    },
    {
     "data": {
      "text/html": [
       "<div class=\"progress\">\n",
       "  <div class=\"progress-bar\" role=\"progressbar\" style=\"background-color: blue; width: 100%; word-wrap: normal; white-space: nowrap; text-align: center; color: white\" aria-valuenow=\"100\" aria-valuemin=\"0\" aria-valuemax=\"100\">\n",
       "    16 / 16\n",
       "  </div>\n",
       "  <div class=\"progress-bar\" role=\"progressbar\" style=\"background-color: red; width: 0%\" aria-valuenow=\"0\" aria-valuemin=\"0\" aria-valuemax=\"100\"></div>\n",
       "</div>\n"
      ]
     },
     "metadata": {},
     "output_type": "display_data"
    },
    {
     "name": "stdout",
     "output_type": "stream",
     "text": [
      "Null Deviance: 14027.205812215741\n",
      "Residual Degree Of Freedom Null: 248744\n",
      "Deviance: 11261.968944240745\n",
      "Residual Degree Of Freedom: 248616\n"
     ]
    },
    {
     "data": {
      "text/html": [
       "<div>\n",
       "  <span style=\"float: left;\">sum at GeneralizedLinearRegression.scala:709</span>\n",
       "</div>\n"
      ]
     },
     "metadata": {},
     "output_type": "display_data"
    },
    {
     "data": {
      "text/html": [
       "<div class=\"progress\">\n",
       "  <div class=\"progress-bar\" role=\"progressbar\" style=\"background-color: blue; width: 100%; word-wrap: normal; white-space: nowrap; text-align: center; color: white\" aria-valuenow=\"100\" aria-valuemin=\"0\" aria-valuemax=\"100\">\n",
       "    16 / 16\n",
       "  </div>\n",
       "  <div class=\"progress-bar\" role=\"progressbar\" style=\"background-color: red; width: 0%\" aria-valuenow=\"0\" aria-valuemin=\"0\" aria-valuemax=\"100\"></div>\n",
       "</div>\n"
      ]
     },
     "metadata": {},
     "output_type": "display_data"
    },
    {
     "name": "stdout",
     "output_type": "stream",
     "text": [
      "AIC: -63697.24964339997\n",
      "Deviance Residuals: \n"
     ]
    },
    {
     "data": {
      "text/html": [
       "<div>\n",
       "  <span style=\"float: left;\">show at cmd11.sc:16</span>\n",
       "</div>\n"
      ]
     },
     "metadata": {},
     "output_type": "display_data"
    },
    {
     "data": {
      "text/html": [
       "<div class=\"progress\">\n",
       "  <div class=\"progress-bar\" role=\"progressbar\" style=\"background-color: blue; width: 100%; word-wrap: normal; white-space: nowrap; text-align: center; color: white\" aria-valuenow=\"100\" aria-valuemin=\"0\" aria-valuemax=\"100\">\n",
       "    1 / 1\n",
       "  </div>\n",
       "  <div class=\"progress-bar\" role=\"progressbar\" style=\"background-color: red; width: 0%\" aria-valuenow=\"0\" aria-valuemin=\"0\" aria-valuemax=\"100\"></div>\n",
       "</div>\n"
      ]
     },
     "metadata": {},
     "output_type": "display_data"
    },
    {
     "name": "stdout",
     "output_type": "stream",
     "text": [
      "+--------------------+\n",
      "|   devianceResiduals|\n",
      "+--------------------+\n",
      "|  -0.355252179988487|\n",
      "| 0.18853737316299257|\n",
      "|  -0.018736794559851|\n",
      "| 0.16322586208941248|\n",
      "| 0.20895995101913767|\n",
      "|0.037949276228173345|\n",
      "| 0.12674373438841924|\n",
      "| 0.00893871548663705|\n",
      "| -0.6002520323041298|\n",
      "| -0.1717847496924716|\n",
      "|0.006287406650118843|\n",
      "|0.001331313955018...|\n",
      "|  -0.561164438952112|\n",
      "| 0.01665486044052078|\n",
      "| 0.07025542202880675|\n",
      "| 0.03497605073159504|\n",
      "| 0.14702457524727564|\n",
      "|-0.01811494574696182|\n",
      "| 0.16603288166241625|\n",
      "|-0.03072459411508...|\n",
      "+--------------------+\n",
      "only showing top 20 rows\n",
      "\n"
     ]
    },
    {
     "data": {
      "text/plain": [
       "\u001b[36msummary\u001b[39m: \u001b[32morg\u001b[39m.\u001b[32mapache\u001b[39m.\u001b[32mspark\u001b[39m.\u001b[32mml\u001b[39m.\u001b[32mregression\u001b[39m.\u001b[32mGeneralizedLinearRegressionTrainingSummary\u001b[39m = Coefficients:\n",
       "     Feature Estimate Std Error  T Value P Value\n",
       " (Intercept)   0.8062    0.0019 429.3200  0.0000\n",
       "  features_0  -0.0022    0.0003  -6.4122  0.0000\n",
       "  features_1   0.0026    0.0004   7.0761  0.0000\n",
       "  features_2  -0.0038    0.0003 -11.5382  0.0000\n",
       "  features_3   0.0020    0.0003   6.2073  0.0000\n",
       "  features_4  -0.0060    0.0003 -18.3903  0.0000\n",
       "  features_5   0.0008    0.0004   2.2764  0.0228\n",
       "  features_6   0.0021    0.0004   5.8169  0.0000\n",
       "  features_7  -0.0013    0.0004  -3.5561  0.0004\n",
       "  features_8   0.0009    0.0004   2.6038  0.0092\n",
       "  features_9  -0.0020    0.0004  -5.2830  0.0000\n",
       " features_10   0.0004    0.0003   1.2223  0.2216\n",
       " features_11   0.0006    0.0003   1.8349  0.0665\n",
       " features_12  -0.0008    0.0003  -2.4409  0.0147\n",
       " features_13   0.0089    0.0003  28.8421  0.0000\n",
       " features_14   0.0029    0.0004   7.9728  0.0000\n",
       " features_15  -0.0057    0.0004 -15.8286  0.0000\n",
       " features_16  -0.0032    0.0004  -8.8492  0.0000\n",
       " features_17   0.0059    0.0003  18.2991  0.0000\n",
       " features_18   0.0021    0.0004   5.9275  0.0000\n",
       " features_19  -0.0025    0.0004  -6.9387  0.0000\n",
       " features_20   0.0013    0.0003   3.8898  0.0001\n",
       " features_21  -0.0024    0.0004  -6.8214  0.0000\n",
       " features_22   0.0093    0.0003  26.6671  0.0000\n",
       " features_23  -0.0039    0.0004 -10.8107  0.0000\n",
       " features_24  -0.0017    0.0004  -4.6719  0.0000\n",
       " features_25  -0.0018    0.0003  -5.4147  0.0000\n",
       " features_26   0.0072    0.0003  20.8572  0.0000\n",
       " features_27  -0.0056    0.0003 -16.7544  0.0000\n",
       " features_28   0.0032    0.0004   9.0352  0.0000\n",
       " features_29  -0.0024    0.0004  -6.6116  0.0000\n",
       " features_30  -0.0030    0.0004  -8.0665  0.0000\n",
       " features_31  -0.0050    0.0003 -14.8673  0.0000\n",
       " features_32   0.0004    0.0003   1.0145  0.3103\n",
       " features_33   0.0026    0.0003   8.3073  0.0000\n",
       " features_34  -0.0103    0.0003 -31.8737  0.0000\n",
       "..."
      ]
     },
     "execution_count": 12,
     "metadata": {},
     "output_type": "execute_result"
    }
   ],
   "source": [
    "// Print the coefficients and intercept for generalized linear regression model\n",
    "println(s\"Coefficients: ${glrModel.coefficients}\")\n",
    "println(s\"Intercept: ${glrModel.intercept}\")\n",
    "\n",
    "// Summarize the model over the training set and print out some metrics\n",
    "val summary = glrModel.summary\n",
    "println(s\"Coefficient Standard Errors: ${summary.coefficientStandardErrors.mkString(\",\")}\")\n",
    "println(s\"T Values: ${summary.tValues.mkString(\",\")}\")\n",
    "println(s\"P Values: ${summary.pValues.mkString(\",\")}\")\n",
    "println(s\"Dispersion: ${summary.dispersion}\")\n",
    "println(s\"Null Deviance: ${summary.nullDeviance}\")\n",
    "println(s\"Residual Degree Of Freedom Null: ${summary.residualDegreeOfFreedomNull}\")\n",
    "println(s\"Deviance: ${summary.deviance}\")\n",
    "println(s\"Residual Degree Of Freedom: ${summary.residualDegreeOfFreedom}\")\n",
    "println(s\"AIC: ${summary.aic}\")\n",
    "println(\"Deviance Residuals: \")\n",
    "summary.residuals().show()\n"
   ]
  },
  {
   "cell_type": "code",
   "execution_count": null,
   "metadata": {},
   "outputs": [],
   "source": [
    "import org.apache.spark.mllib.evaluation.RegressionMetrics\n",
    "val predictionAndLabels = labeledTestingDF.rdd.map { case LabeledPoint(label, features) =>\n",
    "  val prediction = glrModel.predict(features.asML)\n",
    "  (prediction, label)\n",
    "}\n",
    "val metrics = new RegressionMetrics(predictionAndLabels)\n",
    "// Squared error\n",
    "println(s\"MSE = ${metrics.meanSquaredError}\")\n",
    "println(s\"RMSE = ${metrics.rootMeanSquaredError}\")\n",
    "\n",
    "// R-squared\n",
    "println(s\"R-squared = ${metrics.r2}\")\n",
    "\n",
    "// Mean absolute error\n",
    "println(s\"MAE = ${metrics.meanAbsoluteError}\")\n",
    "\n",
    "// Explained variance\n",
    "println(s\"Explained variance = ${metrics.explainedVariance}\")\n"
   ]
  },
  {
   "cell_type": "markdown",
   "metadata": {},
   "source": [
    "### Predict"
   ]
  },
  {
   "cell_type": "code",
   "execution_count": 14,
   "metadata": {},
   "outputs": [
    {
     "data": {
      "text/plain": [
       "\u001b[36mres13\u001b[39m: \u001b[32mArray\u001b[39m[(\u001b[32mDouble\u001b[39m, \u001b[32mDouble\u001b[39m)] = \u001b[33mArray\u001b[39m(\n",
       "  (\u001b[32m1.0\u001b[39m, \u001b[32m1.0119528619721367\u001b[39m),\n",
       "  (\u001b[32m1.0\u001b[39m, \u001b[32m0.7850917056962649\u001b[39m),\n",
       "  (\u001b[32m0.2\u001b[39m, \u001b[32m0.7919950327136843\u001b[39m),\n",
       "  (\u001b[32m1.0\u001b[39m, \u001b[32m0.7366057622779553\u001b[39m),\n",
       "  (\u001b[32m0.2\u001b[39m, \u001b[32m0.7503403590685356\u001b[39m),\n",
       "  (\u001b[32m1.0\u001b[39m, \u001b[32m0.918508425086659\u001b[39m),\n",
       "  (\u001b[32m1.0\u001b[39m, \u001b[32m0.7970787108554558\u001b[39m),\n",
       "  (\u001b[32m1.0\u001b[39m, \u001b[32m0.8389514107260572\u001b[39m),\n",
       "  (\u001b[32m0.2\u001b[39m, \u001b[32m0.827966876830238\u001b[39m),\n",
       "  (\u001b[32m0.6\u001b[39m, \u001b[32m0.7579016201423178\u001b[39m)\n",
       ")"
      ]
     },
     "execution_count": 14,
     "metadata": {},
     "output_type": "execute_result"
    }
   ],
   "source": [
    "sample.map(p=>(p.getDouble(0),glrModel.predict(p.getAs[Vector](1))))"
   ]
  },
  {
   "cell_type": "markdown",
   "metadata": {},
   "source": [
    "## Decision Trees Regression\n",
    "---"
   ]
  },
  {
   "cell_type": "markdown",
   "metadata": {},
   "source": [
    "### Train"
   ]
  },
  {
   "cell_type": "code",
   "execution_count": 15,
   "metadata": {},
   "outputs": [
    {
     "data": {
      "text/html": [
       "<div>\n",
       "  <span style=\"float: left;\">head at MetadataUtils.scala:51</span>\n",
       "</div>\n"
      ]
     },
     "metadata": {},
     "output_type": "display_data"
    },
    {
     "data": {
      "text/html": [
       "<div class=\"progress\">\n",
       "  <div class=\"progress-bar\" role=\"progressbar\" style=\"background-color: blue; width: 100%; word-wrap: normal; white-space: nowrap; text-align: center; color: white\" aria-valuenow=\"100\" aria-valuemin=\"0\" aria-valuemax=\"100\">\n",
       "    1 / 1\n",
       "  </div>\n",
       "  <div class=\"progress-bar\" role=\"progressbar\" style=\"background-color: red; width: 0%\" aria-valuenow=\"0\" aria-valuemin=\"0\" aria-valuemax=\"100\"></div>\n",
       "</div>\n"
      ]
     },
     "metadata": {},
     "output_type": "display_data"
    },
    {
     "data": {
      "text/html": [
       "<div>\n",
       "  <span style=\"float: left;\">treeReduce at VectorIndexer.scala:150</span>\n",
       "</div>\n"
      ]
     },
     "metadata": {},
     "output_type": "display_data"
    },
    {
     "data": {
      "text/html": [
       "<div class=\"progress\">\n",
       "  <div class=\"progress-bar\" role=\"progressbar\" style=\"background-color: blue; width: 100%; word-wrap: normal; white-space: nowrap; text-align: center; color: white\" aria-valuenow=\"100\" aria-valuemin=\"0\" aria-valuemax=\"100\">\n",
       "    16 / 16\n",
       "  </div>\n",
       "  <div class=\"progress-bar\" role=\"progressbar\" style=\"background-color: red; width: 0%\" aria-valuenow=\"0\" aria-valuemin=\"0\" aria-valuemax=\"100\"></div>\n",
       "</div>\n"
      ]
     },
     "metadata": {},
     "output_type": "display_data"
    },
    {
     "data": {
      "text/html": [
       "<div>\n",
       "  <span style=\"float: left;\">treeReduce at VectorIndexer.scala:150</span>\n",
       "</div>\n"
      ]
     },
     "metadata": {},
     "output_type": "display_data"
    },
    {
     "data": {
      "text/html": [
       "<div class=\"progress\">\n",
       "  <div class=\"progress-bar\" role=\"progressbar\" style=\"background-color: blue; width: 100%; word-wrap: normal; white-space: nowrap; text-align: center; color: white\" aria-valuenow=\"100\" aria-valuemin=\"0\" aria-valuemax=\"100\">\n",
       "    4 / 4\n",
       "  </div>\n",
       "  <div class=\"progress-bar\" role=\"progressbar\" style=\"background-color: red; width: 0%\" aria-valuenow=\"0\" aria-valuemin=\"0\" aria-valuemax=\"100\"></div>\n",
       "</div>\n"
      ]
     },
     "metadata": {},
     "output_type": "display_data"
    },
    {
     "data": {
      "text/html": [
       "<div>\n",
       "  <span style=\"float: left;\">take at DecisionTreeMetadata.scala:119</span>\n",
       "</div>\n"
      ]
     },
     "metadata": {},
     "output_type": "display_data"
    },
    {
     "data": {
      "text/html": [
       "<div class=\"progress\">\n",
       "  <div class=\"progress-bar\" role=\"progressbar\" style=\"background-color: blue; width: 100%; word-wrap: normal; white-space: nowrap; text-align: center; color: white\" aria-valuenow=\"100\" aria-valuemin=\"0\" aria-valuemax=\"100\">\n",
       "    1 / 1\n",
       "  </div>\n",
       "  <div class=\"progress-bar\" role=\"progressbar\" style=\"background-color: red; width: 0%\" aria-valuenow=\"0\" aria-valuemin=\"0\" aria-valuemax=\"100\"></div>\n",
       "</div>\n"
      ]
     },
     "metadata": {},
     "output_type": "display_data"
    },
    {
     "data": {
      "text/html": [
       "<div>\n",
       "  <span style=\"float: left;\">aggregate at DecisionTreeMetadata.scala:125</span>\n",
       "</div>\n"
      ]
     },
     "metadata": {},
     "output_type": "display_data"
    },
    {
     "data": {
      "text/html": [
       "<div class=\"progress\">\n",
       "  <div class=\"progress-bar\" role=\"progressbar\" style=\"background-color: blue; width: 100%; word-wrap: normal; white-space: nowrap; text-align: center; color: white\" aria-valuenow=\"100\" aria-valuemin=\"0\" aria-valuemax=\"100\">\n",
       "    16 / 16\n",
       "  </div>\n",
       "  <div class=\"progress-bar\" role=\"progressbar\" style=\"background-color: red; width: 0%\" aria-valuenow=\"0\" aria-valuemin=\"0\" aria-valuemax=\"100\"></div>\n",
       "</div>\n"
      ]
     },
     "metadata": {},
     "output_type": "display_data"
    },
    {
     "data": {
      "text/html": [
       "<div>\n",
       "  <span style=\"float: left;\">flatMap at RandomForest.scala:1039</span>\n",
       "</div>\n"
      ]
     },
     "metadata": {},
     "output_type": "display_data"
    },
    {
     "data": {
      "text/html": [
       "<div class=\"progress\">\n",
       "  <div class=\"progress-bar\" role=\"progressbar\" style=\"background-color: blue; width: 100%; word-wrap: normal; white-space: nowrap; text-align: center; color: white\" aria-valuenow=\"100\" aria-valuemin=\"0\" aria-valuemax=\"100\">\n",
       "    16 / 16\n",
       "  </div>\n",
       "  <div class=\"progress-bar\" role=\"progressbar\" style=\"background-color: red; width: 0%\" aria-valuenow=\"0\" aria-valuemin=\"0\" aria-valuemax=\"100\"></div>\n",
       "</div>\n"
      ]
     },
     "metadata": {},
     "output_type": "display_data"
    },
    {
     "data": {
      "text/html": [
       "<div>\n",
       "  <span style=\"float: left;\">collectAsMap at RandomForest.scala:1054</span>\n",
       "</div>\n"
      ]
     },
     "metadata": {},
     "output_type": "display_data"
    },
    {
     "data": {
      "text/html": [
       "<div class=\"progress\">\n",
       "  <div class=\"progress-bar\" role=\"progressbar\" style=\"background-color: blue; width: 100%; word-wrap: normal; white-space: nowrap; text-align: center; color: white\" aria-valuenow=\"100\" aria-valuemin=\"0\" aria-valuemax=\"100\">\n",
       "    16 / 16\n",
       "  </div>\n",
       "  <div class=\"progress-bar\" role=\"progressbar\" style=\"background-color: red; width: 0%\" aria-valuenow=\"0\" aria-valuemin=\"0\" aria-valuemax=\"100\"></div>\n",
       "</div>\n"
      ]
     },
     "metadata": {},
     "output_type": "display_data"
    },
    {
     "data": {
      "text/html": [
       "<div>\n",
       "  <span style=\"float: left;\">mapPartitions at RandomForest.scala:644</span>\n",
       "</div>\n"
      ]
     },
     "metadata": {},
     "output_type": "display_data"
    },
    {
     "data": {
      "text/html": [
       "<div class=\"progress\">\n",
       "  <div class=\"progress-bar\" role=\"progressbar\" style=\"background-color: blue; width: 100%; word-wrap: normal; white-space: nowrap; text-align: center; color: white\" aria-valuenow=\"100\" aria-valuemin=\"0\" aria-valuemax=\"100\">\n",
       "    16 / 16\n",
       "  </div>\n",
       "  <div class=\"progress-bar\" role=\"progressbar\" style=\"background-color: red; width: 0%\" aria-valuenow=\"0\" aria-valuemin=\"0\" aria-valuemax=\"100\"></div>\n",
       "</div>\n"
      ]
     },
     "metadata": {},
     "output_type": "display_data"
    },
    {
     "data": {
      "text/html": [
       "<div>\n",
       "  <span style=\"float: left;\">collectAsMap at RandomForest.scala:663</span>\n",
       "</div>\n"
      ]
     },
     "metadata": {},
     "output_type": "display_data"
    },
    {
     "data": {
      "text/html": [
       "<div class=\"progress\">\n",
       "  <div class=\"progress-bar\" role=\"progressbar\" style=\"background-color: blue; width: 100%; word-wrap: normal; white-space: nowrap; text-align: center; color: white\" aria-valuenow=\"100\" aria-valuemin=\"0\" aria-valuemax=\"100\">\n",
       "    16 / 16\n",
       "  </div>\n",
       "  <div class=\"progress-bar\" role=\"progressbar\" style=\"background-color: red; width: 0%\" aria-valuenow=\"0\" aria-valuemin=\"0\" aria-valuemax=\"100\"></div>\n",
       "</div>\n"
      ]
     },
     "metadata": {},
     "output_type": "display_data"
    },
    {
     "data": {
      "text/html": [
       "<div>\n",
       "  <span style=\"float: left;\">mapPartitions at RandomForest.scala:644</span>\n",
       "</div>\n"
      ]
     },
     "metadata": {},
     "output_type": "display_data"
    },
    {
     "data": {
      "text/html": [
       "<div class=\"progress\">\n",
       "  <div class=\"progress-bar\" role=\"progressbar\" style=\"background-color: blue; width: 100%; word-wrap: normal; white-space: nowrap; text-align: center; color: white\" aria-valuenow=\"100\" aria-valuemin=\"0\" aria-valuemax=\"100\">\n",
       "    16 / 16\n",
       "  </div>\n",
       "  <div class=\"progress-bar\" role=\"progressbar\" style=\"background-color: red; width: 0%\" aria-valuenow=\"0\" aria-valuemin=\"0\" aria-valuemax=\"100\"></div>\n",
       "</div>\n"
      ]
     },
     "metadata": {},
     "output_type": "display_data"
    },
    {
     "data": {
      "text/html": [
       "<div>\n",
       "  <span style=\"float: left;\">collectAsMap at RandomForest.scala:663</span>\n",
       "</div>\n"
      ]
     },
     "metadata": {},
     "output_type": "display_data"
    },
    {
     "data": {
      "text/html": [
       "<div class=\"progress\">\n",
       "  <div class=\"progress-bar\" role=\"progressbar\" style=\"background-color: blue; width: 100%; word-wrap: normal; white-space: nowrap; text-align: center; color: white\" aria-valuenow=\"100\" aria-valuemin=\"0\" aria-valuemax=\"100\">\n",
       "    16 / 16\n",
       "  </div>\n",
       "  <div class=\"progress-bar\" role=\"progressbar\" style=\"background-color: red; width: 0%\" aria-valuenow=\"0\" aria-valuemin=\"0\" aria-valuemax=\"100\"></div>\n",
       "</div>\n"
      ]
     },
     "metadata": {},
     "output_type": "display_data"
    },
    {
     "data": {
      "text/html": [
       "<div>\n",
       "  <span style=\"float: left;\">mapPartitions at RandomForest.scala:644</span>\n",
       "</div>\n"
      ]
     },
     "metadata": {},
     "output_type": "display_data"
    },
    {
     "data": {
      "text/html": [
       "<div class=\"progress\">\n",
       "  <div class=\"progress-bar\" role=\"progressbar\" style=\"background-color: blue; width: 100%; word-wrap: normal; white-space: nowrap; text-align: center; color: white\" aria-valuenow=\"100\" aria-valuemin=\"0\" aria-valuemax=\"100\">\n",
       "    16 / 16\n",
       "  </div>\n",
       "  <div class=\"progress-bar\" role=\"progressbar\" style=\"background-color: red; width: 0%\" aria-valuenow=\"0\" aria-valuemin=\"0\" aria-valuemax=\"100\"></div>\n",
       "</div>\n"
      ]
     },
     "metadata": {},
     "output_type": "display_data"
    },
    {
     "data": {
      "text/html": [
       "<div>\n",
       "  <span style=\"float: left;\">collectAsMap at RandomForest.scala:663</span>\n",
       "</div>\n"
      ]
     },
     "metadata": {},
     "output_type": "display_data"
    },
    {
     "data": {
      "text/html": [
       "<div class=\"progress\">\n",
       "  <div class=\"progress-bar\" role=\"progressbar\" style=\"background-color: blue; width: 100%; word-wrap: normal; white-space: nowrap; text-align: center; color: white\" aria-valuenow=\"100\" aria-valuemin=\"0\" aria-valuemax=\"100\">\n",
       "    16 / 16\n",
       "  </div>\n",
       "  <div class=\"progress-bar\" role=\"progressbar\" style=\"background-color: red; width: 0%\" aria-valuenow=\"0\" aria-valuemin=\"0\" aria-valuemax=\"100\"></div>\n",
       "</div>\n"
      ]
     },
     "metadata": {},
     "output_type": "display_data"
    },
    {
     "data": {
      "text/html": [
       "<div>\n",
       "  <span style=\"float: left;\">mapPartitions at RandomForest.scala:644</span>\n",
       "</div>\n"
      ]
     },
     "metadata": {},
     "output_type": "display_data"
    },
    {
     "data": {
      "text/html": [
       "<div class=\"progress\">\n",
       "  <div class=\"progress-bar\" role=\"progressbar\" style=\"background-color: blue; width: 100%; word-wrap: normal; white-space: nowrap; text-align: center; color: white\" aria-valuenow=\"100\" aria-valuemin=\"0\" aria-valuemax=\"100\">\n",
       "    16 / 16\n",
       "  </div>\n",
       "  <div class=\"progress-bar\" role=\"progressbar\" style=\"background-color: red; width: 0%\" aria-valuenow=\"0\" aria-valuemin=\"0\" aria-valuemax=\"100\"></div>\n",
       "</div>\n"
      ]
     },
     "metadata": {},
     "output_type": "display_data"
    },
    {
     "data": {
      "text/html": [
       "<div>\n",
       "  <span style=\"float: left;\">collectAsMap at RandomForest.scala:663</span>\n",
       "</div>\n"
      ]
     },
     "metadata": {},
     "output_type": "display_data"
    },
    {
     "data": {
      "text/html": [
       "<div class=\"progress\">\n",
       "  <div class=\"progress-bar\" role=\"progressbar\" style=\"background-color: blue; width: 100%; word-wrap: normal; white-space: nowrap; text-align: center; color: white\" aria-valuenow=\"100\" aria-valuemin=\"0\" aria-valuemax=\"100\">\n",
       "    16 / 16\n",
       "  </div>\n",
       "  <div class=\"progress-bar\" role=\"progressbar\" style=\"background-color: red; width: 0%\" aria-valuenow=\"0\" aria-valuemin=\"0\" aria-valuemax=\"100\"></div>\n",
       "</div>\n"
      ]
     },
     "metadata": {},
     "output_type": "display_data"
    },
    {
     "data": {
      "text/html": [
       "<div>\n",
       "  <span style=\"float: left;\">mapPartitions at RandomForest.scala:644</span>\n",
       "</div>\n"
      ]
     },
     "metadata": {},
     "output_type": "display_data"
    },
    {
     "data": {
      "text/html": [
       "<div class=\"progress\">\n",
       "  <div class=\"progress-bar\" role=\"progressbar\" style=\"background-color: blue; width: 100%; word-wrap: normal; white-space: nowrap; text-align: center; color: white\" aria-valuenow=\"100\" aria-valuemin=\"0\" aria-valuemax=\"100\">\n",
       "    16 / 16\n",
       "  </div>\n",
       "  <div class=\"progress-bar\" role=\"progressbar\" style=\"background-color: red; width: 0%\" aria-valuenow=\"0\" aria-valuemin=\"0\" aria-valuemax=\"100\"></div>\n",
       "</div>\n"
      ]
     },
     "metadata": {},
     "output_type": "display_data"
    },
    {
     "data": {
      "text/html": [
       "<div>\n",
       "  <span style=\"float: left;\">collectAsMap at RandomForest.scala:663</span>\n",
       "</div>\n"
      ]
     },
     "metadata": {},
     "output_type": "display_data"
    },
    {
     "data": {
      "text/html": [
       "<div class=\"progress\">\n",
       "  <div class=\"progress-bar\" role=\"progressbar\" style=\"background-color: blue; width: 100%; word-wrap: normal; white-space: nowrap; text-align: center; color: white\" aria-valuenow=\"100\" aria-valuemin=\"0\" aria-valuemax=\"100\">\n",
       "    16 / 16\n",
       "  </div>\n",
       "  <div class=\"progress-bar\" role=\"progressbar\" style=\"background-color: red; width: 0%\" aria-valuenow=\"0\" aria-valuemin=\"0\" aria-valuemax=\"100\"></div>\n",
       "</div>\n"
      ]
     },
     "metadata": {},
     "output_type": "display_data"
    },
    {
     "data": {
      "text/plain": [
       "\u001b[32mimport \u001b[39m\u001b[36morg.apache.spark.ml.Pipeline\n",
       "\u001b[39m\r\n",
       "\u001b[32mimport \u001b[39m\u001b[36morg.apache.spark.ml.evaluation.RegressionEvaluator\n",
       "\u001b[39m\r\n",
       "\u001b[32mimport \u001b[39m\u001b[36morg.apache.spark.ml.feature.VectorIndexer\n",
       "\u001b[39m\r\n",
       "\u001b[32mimport \u001b[39m\u001b[36morg.apache.spark.ml.regression.DecisionTreeRegressionModel\n",
       "\u001b[39m\r\n",
       "\u001b[32mimport \u001b[39m\u001b[36morg.apache.spark.ml.regression.DecisionTreeRegressor\n",
       "\n",
       "\u001b[39m\r\n",
       "\u001b[36mfeatureIndexer\u001b[39m: \u001b[32morg\u001b[39m.\u001b[32mapache\u001b[39m.\u001b[32mspark\u001b[39m.\u001b[32mml\u001b[39m.\u001b[32mfeature\u001b[39m.\u001b[32mVectorIndexerModel\u001b[39m = VectorIndexerModel: uid=vecIdx_717a64adf82d, numFeatures=128, handleInvalid=error\r\n",
       "\u001b[36mdt\u001b[39m: \u001b[32mDecisionTreeRegressor\u001b[39m = dtr_4e2f7af64ad8\r\n",
       "\u001b[36mpipeline\u001b[39m: \u001b[32mPipeline\u001b[39m = pipeline_bb25bd808c3f\r\n",
       "\u001b[36mdtModel\u001b[39m: \u001b[32morg\u001b[39m.\u001b[32mapache\u001b[39m.\u001b[32mspark\u001b[39m.\u001b[32mml\u001b[39m.\u001b[32mPipelineModel\u001b[39m = pipeline_bb25bd808c3f"
      ]
     },
     "execution_count": 15,
     "metadata": {},
     "output_type": "execute_result"
    }
   ],
   "source": [
    "import org.apache.spark.ml.Pipeline\n",
    "import org.apache.spark.ml.evaluation.RegressionEvaluator\n",
    "import org.apache.spark.ml.feature.VectorIndexer\n",
    "import org.apache.spark.ml.regression.DecisionTreeRegressionModel\n",
    "import org.apache.spark.ml.regression.DecisionTreeRegressor\n",
    "\n",
    "val featureIndexer = new VectorIndexer()\n",
    "  .setInputCol(\"features\")\n",
    "  .setOutputCol(\"indexedFeatures\")\n",
    "  .setMaxCategories(4)\n",
    "  .fit(trainingDF)\n",
    "\n",
    "val dt = new DecisionTreeRegressor()\n",
    "  .setLabelCol(\"label\")\n",
    "  .setFeaturesCol(\"indexedFeatures\")\n",
    "\n",
    "val pipeline = new Pipeline()\n",
    "  .setStages(Array(featureIndexer, dt))\n",
    "\n",
    "val dtModel = pipeline.fit(trainingDF)\n",
    "\n",
    "\n"
   ]
  },
  {
   "cell_type": "markdown",
   "metadata": {},
   "source": [
    "### Evaluate"
   ]
  },
  {
   "cell_type": "code",
   "execution_count": 20,
   "metadata": {},
   "outputs": [
    {
     "data": {
      "text/html": [
       "<div>\n",
       "  <span style=\"float: left;\">treeAggregate at Statistics.scala:58</span>\n",
       "</div>\n"
      ]
     },
     "metadata": {},
     "output_type": "display_data"
    },
    {
     "data": {
      "text/html": [
       "<div class=\"progress\">\n",
       "  <div class=\"progress-bar\" role=\"progressbar\" style=\"background-color: blue; width: 100%; word-wrap: normal; white-space: nowrap; text-align: center; color: white\" aria-valuenow=\"100\" aria-valuemin=\"0\" aria-valuemax=\"100\">\n",
       "    16 / 16\n",
       "  </div>\n",
       "  <div class=\"progress-bar\" role=\"progressbar\" style=\"background-color: red; width: 0%\" aria-valuenow=\"0\" aria-valuemin=\"0\" aria-valuemax=\"100\"></div>\n",
       "</div>\n"
      ]
     },
     "metadata": {},
     "output_type": "display_data"
    },
    {
     "data": {
      "text/html": [
       "<div>\n",
       "  <span style=\"float: left;\">treeAggregate at Statistics.scala:58</span>\n",
       "</div>\n"
      ]
     },
     "metadata": {},
     "output_type": "display_data"
    },
    {
     "data": {
      "text/html": [
       "<div class=\"progress\">\n",
       "  <div class=\"progress-bar\" role=\"progressbar\" style=\"background-color: blue; width: 100%; word-wrap: normal; white-space: nowrap; text-align: center; color: white\" aria-valuenow=\"100\" aria-valuemin=\"0\" aria-valuemax=\"100\">\n",
       "    4 / 4\n",
       "  </div>\n",
       "  <div class=\"progress-bar\" role=\"progressbar\" style=\"background-color: red; width: 0%\" aria-valuenow=\"0\" aria-valuemin=\"0\" aria-valuemax=\"100\"></div>\n",
       "</div>\n"
      ]
     },
     "metadata": {},
     "output_type": "display_data"
    },
    {
     "name": "stdout",
     "output_type": "stream",
     "text": [
      "Root Mean Squared Error (RMSE) on test data = 0.21329785760436926\n",
      "Learned regression tree model:\n",
      " DecisionTreeRegressionModel: uid=dtr_4e2f7af64ad8, depth=5, numNodes=63, numFeatures=128\n",
      "  If (feature 30 <= -0.5243920721612841)\n",
      "   If (feature 57 <= -1.5888873824480543)\n",
      "    If (feature 113 <= 0.6768750264365906)\n",
      "     If (feature 37 <= 3.1649567515321735)\n",
      "      If (feature 97 <= -0.781569487971845)\n",
      "       Predict: 0.9704222222222223\n",
      "      Else (feature 97 > -0.781569487971845)\n",
      "       Predict: 0.9361872444096402\n",
      "     Else (feature 37 > 3.1649567515321735)\n",
      "      If (feature 17 <= -0.6818675222968513)\n",
      "       Predict: 0.6064516129032259\n",
      "      Else (feature 17 > -0.6818675222968513)\n",
      "       Predict: 0.9039999999999999\n",
      "    Else (feature 113 > 0.6768750264365906)\n",
      "     If (feature 78 <= -1.3557317597566716)\n",
      "      If (feature 127 <= 1.27580543930622)\n",
      "       Predict: 0.9838220424671382\n",
      "      Else (feature 127 > 1.27580543930622)\n",
      "       Predict: 0.8000000000000004\n",
      "     Else (feature 78 > -1.3557317597566716)\n",
      "      If (feature 67 <= -0.6592633345208851)\n",
      "       Predict: 0.9673311897106112\n",
      "      Else (feature 67 > -0.6592633345208851)\n",
      "       Predict: 0.9987732883539063\n",
      "   Else (feature 57 > -1.5888873824480543)\n",
      "    If (feature 34 <= -1.2340720688525382)\n",
      "     If (feature 55 <= -1.6891927903801403)\n",
      "      If (feature 83 <= -0.3726293887624236)\n",
      "       Predict: 0.7163323782234957\n",
      "      Else (feature 83 > -0.3726293887624236)\n",
      "       Predict: 0.8657176749703444\n",
      "     Else (feature 55 > -1.6891927903801403)\n",
      "      If (feature 4 <= -0.3956807879577586)\n",
      "       Predict: 0.9405607762243104\n",
      "      Else (feature 4 > -0.3956807879577586)\n",
      "       Predict: 0.9005555014131171\n",
      "    Else (feature 34 > -1.2340720688525382)\n",
      "     If (feature 57 <= -0.584933661465588)\n",
      "      If (feature 39 <= -0.18848092958634388)\n",
      "       Predict: 0.8113783533765032\n",
      "      Else (feature 39 > -0.18848092958634388)\n",
      "       Predict: 0.8963591920751321\n",
      "     Else (feature 57 > -0.584933661465588)\n",
      "      If (feature 26 <= -0.5725118156630791)\n",
      "       Predict: 0.6871101871101871\n",
      "      Else (feature 26 > -0.5725118156630791)\n",
      "       Predict: 0.8279875610839625\n",
      "  Else (feature 30 > -0.5243920721612841)\n",
      "   If (feature 15 <= 0.3234952872924868)\n",
      "    If (feature 127 <= -1.2961933663887666)\n",
      "     If (feature 16 <= 0.1684627857197611)\n",
      "      If (feature 65 <= 0.18783478757795213)\n",
      "       Predict: 0.9330630715565192\n",
      "      Else (feature 65 > 0.18783478757795213)\n",
      "       Predict: 0.8865544381285532\n",
      "     Else (feature 16 > 0.1684627857197611)\n",
      "      If (feature 65 <= 0.24599090200753626)\n",
      "       Predict: 0.8763157894736838\n",
      "      Else (feature 65 > 0.24599090200753626)\n",
      "       Predict: 0.8165189125295512\n",
      "    Else (feature 127 > -1.2961933663887666)\n",
      "     If (feature 127 <= 0.42512955696637633)\n",
      "      If (feature 22 <= 0.3054358816932634)\n",
      "       Predict: 0.7800522061300098\n",
      "      Else (feature 22 > 0.3054358816932634)\n",
      "       Predict: 0.8617486689332223\n",
      "     Else (feature 127 > 0.42512955696637633)\n",
      "      If (feature 29 <= 0.025007144833577348)\n",
      "       Predict: 0.7799999999999999\n",
      "      Else (feature 29 > 0.025007144833577348)\n",
      "       Predict: 0.2738372093023256\n",
      "   Else (feature 15 > 0.3234952872924868)\n",
      "    If (feature 57 <= -0.6631429743298162)\n",
      "     If (feature 39 <= -0.03439057147909447)\n",
      "      If (feature 127 <= -1.3806197068623391)\n",
      "       Predict: 0.802393935363745\n",
      "      Else (feature 127 > -1.3806197068623391)\n",
      "       Predict: 0.7279261292737708\n",
      "     Else (feature 39 > -0.03439057147909447)\n",
      "      If (feature 81 <= -0.2374807749195825)\n",
      "       Predict: 0.8136634663971704\n",
      "      Else (feature 81 > -0.2374807749195825)\n",
      "       Predict: 0.8910127137220516\n",
      "    Else (feature 57 > -0.6631429743298162)\n",
      "     If (feature 119 <= -0.5761866161100498)\n",
      "      If (feature 39 <= -0.07683736391116652)\n",
      "       Predict: 0.5239849624060149\n",
      "      Else (feature 39 > -0.07683736391116652)\n",
      "       Predict: 0.6674826689774697\n",
      "     Else (feature 119 > -0.5761866161100498)\n",
      "      If (feature 86 <= -0.5002988844721568)\n",
      "       Predict: 0.7854811205846527\n",
      "      Else (feature 86 > -0.5002988844721568)\n",
      "       Predict: 0.7062567681386114\n",
      "\n"
     ]
    },
    {
     "data": {
      "text/plain": [
       "\u001b[36mdtPredictions\u001b[39m: \u001b[32mDataFrame\u001b[39m = [label: double, features: vector ... 2 more fields]\r\n",
       "\u001b[36mevaluator\u001b[39m: \u001b[32mRegressionEvaluator\u001b[39m = RegressionEvaluator: uid=regEval_9b354b31242f, metricName=rmse, throughOrigin=false\r\n",
       "\u001b[36mrmse\u001b[39m: \u001b[32mDouble\u001b[39m = \u001b[32m0.21329785760436926\u001b[39m\r\n",
       "\u001b[36mtreeModel\u001b[39m: \u001b[32mDecisionTreeRegressionModel\u001b[39m = DecisionTreeRegressionModel: uid=dtr_4e2f7af64ad8, depth=5, numNodes=63, numFeatures=128"
      ]
     },
     "execution_count": 20,
     "metadata": {},
     "output_type": "execute_result"
    }
   ],
   "source": [
    "val dtPredictions = dtModel.transform(testingDF)\n",
    "// Select (prediction, true label) and compute test error.\n",
    "val evaluator = new RegressionEvaluator()\n",
    "  .setLabelCol(\"label\")\n",
    "  .setPredictionCol(\"prediction\")\n",
    "  .setMetricName(\"rmse\")\n",
    "val rmse = evaluator.evaluate(dtPredictions)\n",
    "println(s\"Root Mean Squared Error (RMSE) on test data = $rmse\")\n",
    "\n",
    "val treeModel = dtModel.stages(1).asInstanceOf[DecisionTreeRegressionModel]\n",
    "println(s\"Learned regression tree model:\\n ${treeModel.toDebugString}\")"
   ]
  },
  {
   "cell_type": "markdown",
   "metadata": {},
   "source": [
    "### Predict"
   ]
  },
  {
   "cell_type": "code",
   "execution_count": 21,
   "metadata": {},
   "outputs": [
    {
     "data": {
      "text/html": [
       "<div>\n",
       "  <span style=\"float: left;\">show at cmd20.sc:1</span>\n",
       "</div>\n"
      ]
     },
     "metadata": {},
     "output_type": "display_data"
    },
    {
     "data": {
      "text/html": [
       "<div class=\"progress\">\n",
       "  <div class=\"progress-bar\" role=\"progressbar\" style=\"background-color: blue; width: 100%; word-wrap: normal; white-space: nowrap; text-align: center; color: white\" aria-valuenow=\"100\" aria-valuemin=\"0\" aria-valuemax=\"100\">\n",
       "    1 / 1\n",
       "  </div>\n",
       "  <div class=\"progress-bar\" role=\"progressbar\" style=\"background-color: red; width: 0%\" aria-valuenow=\"0\" aria-valuemin=\"0\" aria-valuemax=\"100\"></div>\n",
       "</div>\n"
      ]
     },
     "metadata": {},
     "output_type": "display_data"
    },
    {
     "name": "stdout",
     "output_type": "stream",
     "text": [
      "+-----+--------------------+--------------------+------------------+\n",
      "|label|            features|     indexedFeatures|        prediction|\n",
      "+-----+--------------------+--------------------+------------------+\n",
      "|  0.2|[-0.9000950601860...|[-0.9000950601860...|0.7062567681386114|\n",
      "|  1.0|[-0.9322016323397...|[-0.9322016323397...| 0.802393935363745|\n",
      "|  0.8|[-0.3934224748757...|[-0.3934224748757...| 0.802393935363745|\n",
      "|  0.2|[-1.0176151816014...|[-1.0176151816014...|0.8617486689332223|\n",
      "|  1.0|[-0.9302095340987...|[-0.9302095340987...|0.8279875610839625|\n",
      "|  1.0|[0.09125376997453...|[0.09125376997453...|0.8865544381285532|\n",
      "|  0.8|[-1.0086159592524...|[-1.0086159592524...| 0.802393935363745|\n",
      "|  0.2|[-1.1424247837867...|[-1.1424247837867...|0.5239849624060149|\n",
      "|  0.8|[-0.5844029567671...|[-0.5844029567671...|0.6674826689774697|\n",
      "|  0.2|[0.17110813899282...|[0.17110813899282...|0.7800522061300098|\n",
      "|  0.4|[-1.1433561208052...|[-1.1433561208052...|0.5239849624060149|\n",
      "|  0.6|[-0.6022630619947...|[-0.6022630619947...|0.7062567681386114|\n",
      "|  0.8|[-1.1259042717062...|[-1.1259042717062...|0.6871101871101871|\n",
      "|  0.2|[-0.2533524093331...|[-0.2533524093331...|0.5239849624060149|\n",
      "|  0.2|[-0.9495015236977...|[-0.9495015236977...|0.6674826689774697|\n",
      "|  0.8|[-0.9013505560531...|[-0.9013505560531...|0.6871101871101871|\n",
      "|  0.6|[-1.0881728264052...|[-1.0881728264052...|0.6674826689774697|\n",
      "|  1.0|[0.42418014201439...|[0.42418014201439...|0.9405607762243104|\n",
      "|  1.0|[-0.6358369209998...|[-0.6358369209998...|0.9673311897106112|\n",
      "|  0.8|[0.25375451890388...|[0.25375451890388...|0.8963591920751321|\n",
      "+-----+--------------------+--------------------+------------------+\n",
      "only showing top 20 rows\n",
      "\n"
     ]
    }
   ],
   "source": [
    "// Make predictions.\n",
    "dtPredictions.show()\n",
    "// sample.map(p=>(p.getDouble(0),model.predict(fromML(p.getAs[Vector](1)))))"
   ]
  },
  {
   "cell_type": "markdown",
   "metadata": {},
   "source": [
    "## K-Means Clustering\n",
    "---"
   ]
  },
  {
   "cell_type": "markdown",
   "metadata": {},
   "source": [
    "### Train"
   ]
  },
  {
   "cell_type": "code",
   "execution_count": 22,
   "metadata": {},
   "outputs": [
    {
     "data": {
      "text/html": [
       "<div>\n",
       "  <span style=\"float: left;\">takeSample at KMeans.scala:377</span>\n",
       "</div>\n"
      ]
     },
     "metadata": {},
     "output_type": "display_data"
    },
    {
     "data": {
      "text/html": [
       "<div class=\"progress\">\n",
       "  <div class=\"progress-bar\" role=\"progressbar\" style=\"background-color: blue; width: 100%; word-wrap: normal; white-space: nowrap; text-align: center; color: white\" aria-valuenow=\"100\" aria-valuemin=\"0\" aria-valuemax=\"100\">\n",
       "    16 / 16\n",
       "  </div>\n",
       "  <div class=\"progress-bar\" role=\"progressbar\" style=\"background-color: red; width: 0%\" aria-valuenow=\"0\" aria-valuemin=\"0\" aria-valuemax=\"100\"></div>\n",
       "</div>\n"
      ]
     },
     "metadata": {},
     "output_type": "display_data"
    },
    {
     "data": {
      "text/html": [
       "<div>\n",
       "  <span style=\"float: left;\">takeSample at KMeans.scala:377</span>\n",
       "</div>\n"
      ]
     },
     "metadata": {},
     "output_type": "display_data"
    },
    {
     "data": {
      "text/html": [
       "<div class=\"progress\">\n",
       "  <div class=\"progress-bar\" role=\"progressbar\" style=\"background-color: blue; width: 100%; word-wrap: normal; white-space: nowrap; text-align: center; color: white\" aria-valuenow=\"100\" aria-valuemin=\"0\" aria-valuemax=\"100\">\n",
       "    16 / 16\n",
       "  </div>\n",
       "  <div class=\"progress-bar\" role=\"progressbar\" style=\"background-color: red; width: 0%\" aria-valuenow=\"0\" aria-valuemin=\"0\" aria-valuemax=\"100\"></div>\n",
       "</div>\n"
      ]
     },
     "metadata": {},
     "output_type": "display_data"
    },
    {
     "data": {
      "text/html": [
       "<div>\n",
       "  <span style=\"float: left;\">sum at KMeans.scala:397</span>\n",
       "</div>\n"
      ]
     },
     "metadata": {},
     "output_type": "display_data"
    },
    {
     "data": {
      "text/html": [
       "<div class=\"progress\">\n",
       "  <div class=\"progress-bar\" role=\"progressbar\" style=\"background-color: blue; width: 100%; word-wrap: normal; white-space: nowrap; text-align: center; color: white\" aria-valuenow=\"100\" aria-valuemin=\"0\" aria-valuemax=\"100\">\n",
       "    16 / 16\n",
       "  </div>\n",
       "  <div class=\"progress-bar\" role=\"progressbar\" style=\"background-color: red; width: 0%\" aria-valuenow=\"0\" aria-valuemin=\"0\" aria-valuemax=\"100\"></div>\n",
       "</div>\n"
      ]
     },
     "metadata": {},
     "output_type": "display_data"
    },
    {
     "data": {
      "text/html": [
       "<div>\n",
       "  <span style=\"float: left;\">collect at KMeans.scala:402</span>\n",
       "</div>\n"
      ]
     },
     "metadata": {},
     "output_type": "display_data"
    },
    {
     "data": {
      "text/html": [
       "<div class=\"progress\">\n",
       "  <div class=\"progress-bar\" role=\"progressbar\" style=\"background-color: blue; width: 100%; word-wrap: normal; white-space: nowrap; text-align: center; color: white\" aria-valuenow=\"100\" aria-valuemin=\"0\" aria-valuemax=\"100\">\n",
       "    16 / 16\n",
       "  </div>\n",
       "  <div class=\"progress-bar\" role=\"progressbar\" style=\"background-color: red; width: 0%\" aria-valuenow=\"0\" aria-valuemin=\"0\" aria-valuemax=\"100\"></div>\n",
       "</div>\n"
      ]
     },
     "metadata": {},
     "output_type": "display_data"
    },
    {
     "data": {
      "text/html": [
       "<div>\n",
       "  <span style=\"float: left;\">sum at KMeans.scala:397</span>\n",
       "</div>\n"
      ]
     },
     "metadata": {},
     "output_type": "display_data"
    },
    {
     "data": {
      "text/html": [
       "<div class=\"progress\">\n",
       "  <div class=\"progress-bar\" role=\"progressbar\" style=\"background-color: blue; width: 100%; word-wrap: normal; white-space: nowrap; text-align: center; color: white\" aria-valuenow=\"100\" aria-valuemin=\"0\" aria-valuemax=\"100\">\n",
       "    16 / 16\n",
       "  </div>\n",
       "  <div class=\"progress-bar\" role=\"progressbar\" style=\"background-color: red; width: 0%\" aria-valuenow=\"0\" aria-valuemin=\"0\" aria-valuemax=\"100\"></div>\n",
       "</div>\n"
      ]
     },
     "metadata": {},
     "output_type": "display_data"
    },
    {
     "data": {
      "text/html": [
       "<div>\n",
       "  <span style=\"float: left;\">collect at KMeans.scala:402</span>\n",
       "</div>\n"
      ]
     },
     "metadata": {},
     "output_type": "display_data"
    },
    {
     "data": {
      "text/html": [
       "<div class=\"progress\">\n",
       "  <div class=\"progress-bar\" role=\"progressbar\" style=\"background-color: blue; width: 100%; word-wrap: normal; white-space: nowrap; text-align: center; color: white\" aria-valuenow=\"100\" aria-valuemin=\"0\" aria-valuemax=\"100\">\n",
       "    16 / 16\n",
       "  </div>\n",
       "  <div class=\"progress-bar\" role=\"progressbar\" style=\"background-color: red; width: 0%\" aria-valuenow=\"0\" aria-valuemin=\"0\" aria-valuemax=\"100\"></div>\n",
       "</div>\n"
      ]
     },
     "metadata": {},
     "output_type": "display_data"
    },
    {
     "data": {
      "text/html": [
       "<div>\n",
       "  <span style=\"float: left;\">countByValue at KMeans.scala:425</span>\n",
       "</div>\n"
      ]
     },
     "metadata": {},
     "output_type": "display_data"
    },
    {
     "data": {
      "text/html": [
       "<div class=\"progress\">\n",
       "  <div class=\"progress-bar\" role=\"progressbar\" style=\"background-color: blue; width: 100%; word-wrap: normal; white-space: nowrap; text-align: center; color: white\" aria-valuenow=\"100\" aria-valuemin=\"0\" aria-valuemax=\"100\">\n",
       "    16 / 16\n",
       "  </div>\n",
       "  <div class=\"progress-bar\" role=\"progressbar\" style=\"background-color: red; width: 0%\" aria-valuenow=\"0\" aria-valuemin=\"0\" aria-valuemax=\"100\"></div>\n",
       "</div>\n"
      ]
     },
     "metadata": {},
     "output_type": "display_data"
    },
    {
     "data": {
      "text/html": [
       "<div>\n",
       "  <span style=\"float: left;\">countByValue at KMeans.scala:425</span>\n",
       "</div>\n"
      ]
     },
     "metadata": {},
     "output_type": "display_data"
    },
    {
     "data": {
      "text/html": [
       "<div class=\"progress\">\n",
       "  <div class=\"progress-bar\" role=\"progressbar\" style=\"background-color: blue; width: 100%; word-wrap: normal; white-space: nowrap; text-align: center; color: white\" aria-valuenow=\"100\" aria-valuemin=\"0\" aria-valuemax=\"100\">\n",
       "    16 / 16\n",
       "  </div>\n",
       "  <div class=\"progress-bar\" role=\"progressbar\" style=\"background-color: red; width: 0%\" aria-valuenow=\"0\" aria-valuemin=\"0\" aria-valuemax=\"100\"></div>\n",
       "</div>\n"
      ]
     },
     "metadata": {},
     "output_type": "display_data"
    },
    {
     "data": {
      "text/html": [
       "<div>\n",
       "  <span style=\"float: left;\">mapPartitions at KMeans.scala:287</span>\n",
       "</div>\n"
      ]
     },
     "metadata": {},
     "output_type": "display_data"
    },
    {
     "data": {
      "text/html": [
       "<div class=\"progress\">\n",
       "  <div class=\"progress-bar\" role=\"progressbar\" style=\"background-color: blue; width: 100%; word-wrap: normal; white-space: nowrap; text-align: center; color: white\" aria-valuenow=\"100\" aria-valuemin=\"0\" aria-valuemax=\"100\">\n",
       "    16 / 16\n",
       "  </div>\n",
       "  <div class=\"progress-bar\" role=\"progressbar\" style=\"background-color: red; width: 0%\" aria-valuenow=\"0\" aria-valuemin=\"0\" aria-valuemax=\"100\"></div>\n",
       "</div>\n"
      ]
     },
     "metadata": {},
     "output_type": "display_data"
    },
    {
     "data": {
      "text/html": [
       "<div>\n",
       "  <span style=\"float: left;\">collectAsMap at KMeans.scala:308</span>\n",
       "</div>\n"
      ]
     },
     "metadata": {},
     "output_type": "display_data"
    },
    {
     "data": {
      "text/html": [
       "<div class=\"progress\">\n",
       "  <div class=\"progress-bar\" role=\"progressbar\" style=\"background-color: blue; width: 100%; word-wrap: normal; white-space: nowrap; text-align: center; color: white\" aria-valuenow=\"100\" aria-valuemin=\"0\" aria-valuemax=\"100\">\n",
       "    16 / 16\n",
       "  </div>\n",
       "  <div class=\"progress-bar\" role=\"progressbar\" style=\"background-color: red; width: 0%\" aria-valuenow=\"0\" aria-valuemin=\"0\" aria-valuemax=\"100\"></div>\n",
       "</div>\n"
      ]
     },
     "metadata": {},
     "output_type": "display_data"
    },
    {
     "data": {
      "text/html": [
       "<div>\n",
       "  <span style=\"float: left;\">mapPartitions at KMeans.scala:287</span>\n",
       "</div>\n"
      ]
     },
     "metadata": {},
     "output_type": "display_data"
    },
    {
     "data": {
      "text/html": [
       "<div class=\"progress\">\n",
       "  <div class=\"progress-bar\" role=\"progressbar\" style=\"background-color: blue; width: 100%; word-wrap: normal; white-space: nowrap; text-align: center; color: white\" aria-valuenow=\"100\" aria-valuemin=\"0\" aria-valuemax=\"100\">\n",
       "    16 / 16\n",
       "  </div>\n",
       "  <div class=\"progress-bar\" role=\"progressbar\" style=\"background-color: red; width: 0%\" aria-valuenow=\"0\" aria-valuemin=\"0\" aria-valuemax=\"100\"></div>\n",
       "</div>\n"
      ]
     },
     "metadata": {},
     "output_type": "display_data"
    },
    {
     "data": {
      "text/html": [
       "<div>\n",
       "  <span style=\"float: left;\">collectAsMap at KMeans.scala:308</span>\n",
       "</div>\n"
      ]
     },
     "metadata": {},
     "output_type": "display_data"
    },
    {
     "data": {
      "text/html": [
       "<div class=\"progress\">\n",
       "  <div class=\"progress-bar\" role=\"progressbar\" style=\"background-color: blue; width: 100%; word-wrap: normal; white-space: nowrap; text-align: center; color: white\" aria-valuenow=\"100\" aria-valuemin=\"0\" aria-valuemax=\"100\">\n",
       "    16 / 16\n",
       "  </div>\n",
       "  <div class=\"progress-bar\" role=\"progressbar\" style=\"background-color: red; width: 0%\" aria-valuenow=\"0\" aria-valuemin=\"0\" aria-valuemax=\"100\"></div>\n",
       "</div>\n"
      ]
     },
     "metadata": {},
     "output_type": "display_data"
    },
    {
     "data": {
      "text/html": [
       "<div>\n",
       "  <span style=\"float: left;\">mapPartitions at KMeans.scala:287</span>\n",
       "</div>\n"
      ]
     },
     "metadata": {},
     "output_type": "display_data"
    },
    {
     "data": {
      "text/html": [
       "<div class=\"progress\">\n",
       "  <div class=\"progress-bar\" role=\"progressbar\" style=\"background-color: blue; width: 100%; word-wrap: normal; white-space: nowrap; text-align: center; color: white\" aria-valuenow=\"100\" aria-valuemin=\"0\" aria-valuemax=\"100\">\n",
       "    16 / 16\n",
       "  </div>\n",
       "  <div class=\"progress-bar\" role=\"progressbar\" style=\"background-color: red; width: 0%\" aria-valuenow=\"0\" aria-valuemin=\"0\" aria-valuemax=\"100\"></div>\n",
       "</div>\n"
      ]
     },
     "metadata": {},
     "output_type": "display_data"
    },
    {
     "data": {
      "text/html": [
       "<div>\n",
       "  <span style=\"float: left;\">collectAsMap at KMeans.scala:308</span>\n",
       "</div>\n"
      ]
     },
     "metadata": {},
     "output_type": "display_data"
    },
    {
     "data": {
      "text/html": [
       "<div class=\"progress\">\n",
       "  <div class=\"progress-bar\" role=\"progressbar\" style=\"background-color: blue; width: 100%; word-wrap: normal; white-space: nowrap; text-align: center; color: white\" aria-valuenow=\"100\" aria-valuemin=\"0\" aria-valuemax=\"100\">\n",
       "    16 / 16\n",
       "  </div>\n",
       "  <div class=\"progress-bar\" role=\"progressbar\" style=\"background-color: red; width: 0%\" aria-valuenow=\"0\" aria-valuemin=\"0\" aria-valuemax=\"100\"></div>\n",
       "</div>\n"
      ]
     },
     "metadata": {},
     "output_type": "display_data"
    },
    {
     "data": {
      "text/html": [
       "<div>\n",
       "  <span style=\"float: left;\">mapPartitions at KMeans.scala:287</span>\n",
       "</div>\n"
      ]
     },
     "metadata": {},
     "output_type": "display_data"
    },
    {
     "data": {
      "text/html": [
       "<div class=\"progress\">\n",
       "  <div class=\"progress-bar\" role=\"progressbar\" style=\"background-color: blue; width: 100%; word-wrap: normal; white-space: nowrap; text-align: center; color: white\" aria-valuenow=\"100\" aria-valuemin=\"0\" aria-valuemax=\"100\">\n",
       "    16 / 16\n",
       "  </div>\n",
       "  <div class=\"progress-bar\" role=\"progressbar\" style=\"background-color: red; width: 0%\" aria-valuenow=\"0\" aria-valuemin=\"0\" aria-valuemax=\"100\"></div>\n",
       "</div>\n"
      ]
     },
     "metadata": {},
     "output_type": "display_data"
    },
    {
     "data": {
      "text/html": [
       "<div>\n",
       "  <span style=\"float: left;\">collectAsMap at KMeans.scala:308</span>\n",
       "</div>\n"
      ]
     },
     "metadata": {},
     "output_type": "display_data"
    },
    {
     "data": {
      "text/html": [
       "<div class=\"progress\">\n",
       "  <div class=\"progress-bar\" role=\"progressbar\" style=\"background-color: blue; width: 100%; word-wrap: normal; white-space: nowrap; text-align: center; color: white\" aria-valuenow=\"100\" aria-valuemin=\"0\" aria-valuemax=\"100\">\n",
       "    16 / 16\n",
       "  </div>\n",
       "  <div class=\"progress-bar\" role=\"progressbar\" style=\"background-color: red; width: 0%\" aria-valuenow=\"0\" aria-valuemin=\"0\" aria-valuemax=\"100\"></div>\n",
       "</div>\n"
      ]
     },
     "metadata": {},
     "output_type": "display_data"
    },
    {
     "data": {
      "text/html": [
       "<div>\n",
       "  <span style=\"float: left;\">mapPartitions at KMeans.scala:287</span>\n",
       "</div>\n"
      ]
     },
     "metadata": {},
     "output_type": "display_data"
    },
    {
     "data": {
      "text/html": [
       "<div class=\"progress\">\n",
       "  <div class=\"progress-bar\" role=\"progressbar\" style=\"background-color: blue; width: 100%; word-wrap: normal; white-space: nowrap; text-align: center; color: white\" aria-valuenow=\"100\" aria-valuemin=\"0\" aria-valuemax=\"100\">\n",
       "    16 / 16\n",
       "  </div>\n",
       "  <div class=\"progress-bar\" role=\"progressbar\" style=\"background-color: red; width: 0%\" aria-valuenow=\"0\" aria-valuemin=\"0\" aria-valuemax=\"100\"></div>\n",
       "</div>\n"
      ]
     },
     "metadata": {},
     "output_type": "display_data"
    },
    {
     "data": {
      "text/html": [
       "<div>\n",
       "  <span style=\"float: left;\">collectAsMap at KMeans.scala:308</span>\n",
       "</div>\n"
      ]
     },
     "metadata": {},
     "output_type": "display_data"
    },
    {
     "data": {
      "text/html": [
       "<div class=\"progress\">\n",
       "  <div class=\"progress-bar\" role=\"progressbar\" style=\"background-color: blue; width: 100%; word-wrap: normal; white-space: nowrap; text-align: center; color: white\" aria-valuenow=\"100\" aria-valuemin=\"0\" aria-valuemax=\"100\">\n",
       "    16 / 16\n",
       "  </div>\n",
       "  <div class=\"progress-bar\" role=\"progressbar\" style=\"background-color: red; width: 0%\" aria-valuenow=\"0\" aria-valuemin=\"0\" aria-valuemax=\"100\"></div>\n",
       "</div>\n"
      ]
     },
     "metadata": {},
     "output_type": "display_data"
    },
    {
     "data": {
      "text/html": [
       "<div>\n",
       "  <span style=\"float: left;\">mapPartitions at KMeans.scala:287</span>\n",
       "</div>\n"
      ]
     },
     "metadata": {},
     "output_type": "display_data"
    },
    {
     "data": {
      "text/html": [
       "<div class=\"progress\">\n",
       "  <div class=\"progress-bar\" role=\"progressbar\" style=\"background-color: blue; width: 100%; word-wrap: normal; white-space: nowrap; text-align: center; color: white\" aria-valuenow=\"100\" aria-valuemin=\"0\" aria-valuemax=\"100\">\n",
       "    16 / 16\n",
       "  </div>\n",
       "  <div class=\"progress-bar\" role=\"progressbar\" style=\"background-color: red; width: 0%\" aria-valuenow=\"0\" aria-valuemin=\"0\" aria-valuemax=\"100\"></div>\n",
       "</div>\n"
      ]
     },
     "metadata": {},
     "output_type": "display_data"
    },
    {
     "data": {
      "text/html": [
       "<div>\n",
       "  <span style=\"float: left;\">collectAsMap at KMeans.scala:308</span>\n",
       "</div>\n"
      ]
     },
     "metadata": {},
     "output_type": "display_data"
    },
    {
     "data": {
      "text/html": [
       "<div class=\"progress\">\n",
       "  <div class=\"progress-bar\" role=\"progressbar\" style=\"background-color: blue; width: 100%; word-wrap: normal; white-space: nowrap; text-align: center; color: white\" aria-valuenow=\"100\" aria-valuemin=\"0\" aria-valuemax=\"100\">\n",
       "    16 / 16\n",
       "  </div>\n",
       "  <div class=\"progress-bar\" role=\"progressbar\" style=\"background-color: red; width: 0%\" aria-valuenow=\"0\" aria-valuemin=\"0\" aria-valuemax=\"100\"></div>\n",
       "</div>\n"
      ]
     },
     "metadata": {},
     "output_type": "display_data"
    },
    {
     "data": {
      "text/html": [
       "<div>\n",
       "  <span style=\"float: left;\">mapPartitions at KMeans.scala:287</span>\n",
       "</div>\n"
      ]
     },
     "metadata": {},
     "output_type": "display_data"
    },
    {
     "data": {
      "text/html": [
       "<div class=\"progress\">\n",
       "  <div class=\"progress-bar\" role=\"progressbar\" style=\"background-color: blue; width: 100%; word-wrap: normal; white-space: nowrap; text-align: center; color: white\" aria-valuenow=\"100\" aria-valuemin=\"0\" aria-valuemax=\"100\">\n",
       "    16 / 16\n",
       "  </div>\n",
       "  <div class=\"progress-bar\" role=\"progressbar\" style=\"background-color: red; width: 0%\" aria-valuenow=\"0\" aria-valuemin=\"0\" aria-valuemax=\"100\"></div>\n",
       "</div>\n"
      ]
     },
     "metadata": {},
     "output_type": "display_data"
    },
    {
     "data": {
      "text/html": [
       "<div>\n",
       "  <span style=\"float: left;\">collectAsMap at KMeans.scala:308</span>\n",
       "</div>\n"
      ]
     },
     "metadata": {},
     "output_type": "display_data"
    },
    {
     "data": {
      "text/html": [
       "<div class=\"progress\">\n",
       "  <div class=\"progress-bar\" role=\"progressbar\" style=\"background-color: blue; width: 100%; word-wrap: normal; white-space: nowrap; text-align: center; color: white\" aria-valuenow=\"100\" aria-valuemin=\"0\" aria-valuemax=\"100\">\n",
       "    16 / 16\n",
       "  </div>\n",
       "  <div class=\"progress-bar\" role=\"progressbar\" style=\"background-color: red; width: 0%\" aria-valuenow=\"0\" aria-valuemin=\"0\" aria-valuemax=\"100\"></div>\n",
       "</div>\n"
      ]
     },
     "metadata": {},
     "output_type": "display_data"
    },
    {
     "data": {
      "text/html": [
       "<div>\n",
       "  <span style=\"float: left;\">mapPartitions at KMeans.scala:287</span>\n",
       "</div>\n"
      ]
     },
     "metadata": {},
     "output_type": "display_data"
    },
    {
     "data": {
      "text/html": [
       "<div class=\"progress\">\n",
       "  <div class=\"progress-bar\" role=\"progressbar\" style=\"background-color: blue; width: 100%; word-wrap: normal; white-space: nowrap; text-align: center; color: white\" aria-valuenow=\"100\" aria-valuemin=\"0\" aria-valuemax=\"100\">\n",
       "    16 / 16\n",
       "  </div>\n",
       "  <div class=\"progress-bar\" role=\"progressbar\" style=\"background-color: red; width: 0%\" aria-valuenow=\"0\" aria-valuemin=\"0\" aria-valuemax=\"100\"></div>\n",
       "</div>\n"
      ]
     },
     "metadata": {},
     "output_type": "display_data"
    },
    {
     "data": {
      "text/html": [
       "<div>\n",
       "  <span style=\"float: left;\">collectAsMap at KMeans.scala:308</span>\n",
       "</div>\n"
      ]
     },
     "metadata": {},
     "output_type": "display_data"
    },
    {
     "data": {
      "text/html": [
       "<div class=\"progress\">\n",
       "  <div class=\"progress-bar\" role=\"progressbar\" style=\"background-color: blue; width: 100%; word-wrap: normal; white-space: nowrap; text-align: center; color: white\" aria-valuenow=\"100\" aria-valuemin=\"0\" aria-valuemax=\"100\">\n",
       "    16 / 16\n",
       "  </div>\n",
       "  <div class=\"progress-bar\" role=\"progressbar\" style=\"background-color: red; width: 0%\" aria-valuenow=\"0\" aria-valuemin=\"0\" aria-valuemax=\"100\"></div>\n",
       "</div>\n"
      ]
     },
     "metadata": {},
     "output_type": "display_data"
    },
    {
     "data": {
      "text/html": [
       "<div>\n",
       "  <span style=\"float: left;\">mapPartitions at KMeans.scala:287</span>\n",
       "</div>\n"
      ]
     },
     "metadata": {},
     "output_type": "display_data"
    },
    {
     "data": {
      "text/html": [
       "<div class=\"progress\">\n",
       "  <div class=\"progress-bar\" role=\"progressbar\" style=\"background-color: blue; width: 100%; word-wrap: normal; white-space: nowrap; text-align: center; color: white\" aria-valuenow=\"100\" aria-valuemin=\"0\" aria-valuemax=\"100\">\n",
       "    16 / 16\n",
       "  </div>\n",
       "  <div class=\"progress-bar\" role=\"progressbar\" style=\"background-color: red; width: 0%\" aria-valuenow=\"0\" aria-valuemin=\"0\" aria-valuemax=\"100\"></div>\n",
       "</div>\n"
      ]
     },
     "metadata": {},
     "output_type": "display_data"
    },
    {
     "data": {
      "text/html": [
       "<div>\n",
       "  <span style=\"float: left;\">collectAsMap at KMeans.scala:308</span>\n",
       "</div>\n"
      ]
     },
     "metadata": {},
     "output_type": "display_data"
    },
    {
     "data": {
      "text/html": [
       "<div class=\"progress\">\n",
       "  <div class=\"progress-bar\" role=\"progressbar\" style=\"background-color: blue; width: 100%; word-wrap: normal; white-space: nowrap; text-align: center; color: white\" aria-valuenow=\"100\" aria-valuemin=\"0\" aria-valuemax=\"100\">\n",
       "    16 / 16\n",
       "  </div>\n",
       "  <div class=\"progress-bar\" role=\"progressbar\" style=\"background-color: red; width: 0%\" aria-valuenow=\"0\" aria-valuemin=\"0\" aria-valuemax=\"100\"></div>\n",
       "</div>\n"
      ]
     },
     "metadata": {},
     "output_type": "display_data"
    },
    {
     "data": {
      "text/html": [
       "<div>\n",
       "  <span style=\"float: left;\">mapPartitions at KMeans.scala:287</span>\n",
       "</div>\n"
      ]
     },
     "metadata": {},
     "output_type": "display_data"
    },
    {
     "data": {
      "text/html": [
       "<div class=\"progress\">\n",
       "  <div class=\"progress-bar\" role=\"progressbar\" style=\"background-color: blue; width: 100%; word-wrap: normal; white-space: nowrap; text-align: center; color: white\" aria-valuenow=\"100\" aria-valuemin=\"0\" aria-valuemax=\"100\">\n",
       "    16 / 16\n",
       "  </div>\n",
       "  <div class=\"progress-bar\" role=\"progressbar\" style=\"background-color: red; width: 0%\" aria-valuenow=\"0\" aria-valuemin=\"0\" aria-valuemax=\"100\"></div>\n",
       "</div>\n"
      ]
     },
     "metadata": {},
     "output_type": "display_data"
    },
    {
     "data": {
      "text/html": [
       "<div>\n",
       "  <span style=\"float: left;\">collectAsMap at KMeans.scala:308</span>\n",
       "</div>\n"
      ]
     },
     "metadata": {},
     "output_type": "display_data"
    },
    {
     "data": {
      "text/html": [
       "<div class=\"progress\">\n",
       "  <div class=\"progress-bar\" role=\"progressbar\" style=\"background-color: blue; width: 100%; word-wrap: normal; white-space: nowrap; text-align: center; color: white\" aria-valuenow=\"100\" aria-valuemin=\"0\" aria-valuemax=\"100\">\n",
       "    16 / 16\n",
       "  </div>\n",
       "  <div class=\"progress-bar\" role=\"progressbar\" style=\"background-color: red; width: 0%\" aria-valuenow=\"0\" aria-valuemin=\"0\" aria-valuemax=\"100\"></div>\n",
       "</div>\n"
      ]
     },
     "metadata": {},
     "output_type": "display_data"
    },
    {
     "data": {
      "text/html": [
       "<div>\n",
       "  <span style=\"float: left;\">mapPartitions at KMeans.scala:287</span>\n",
       "</div>\n"
      ]
     },
     "metadata": {},
     "output_type": "display_data"
    },
    {
     "data": {
      "text/html": [
       "<div class=\"progress\">\n",
       "  <div class=\"progress-bar\" role=\"progressbar\" style=\"background-color: blue; width: 100%; word-wrap: normal; white-space: nowrap; text-align: center; color: white\" aria-valuenow=\"100\" aria-valuemin=\"0\" aria-valuemax=\"100\">\n",
       "    16 / 16\n",
       "  </div>\n",
       "  <div class=\"progress-bar\" role=\"progressbar\" style=\"background-color: red; width: 0%\" aria-valuenow=\"0\" aria-valuemin=\"0\" aria-valuemax=\"100\"></div>\n",
       "</div>\n"
      ]
     },
     "metadata": {},
     "output_type": "display_data"
    },
    {
     "data": {
      "text/html": [
       "<div>\n",
       "  <span style=\"float: left;\">collectAsMap at KMeans.scala:308</span>\n",
       "</div>\n"
      ]
     },
     "metadata": {},
     "output_type": "display_data"
    },
    {
     "data": {
      "text/html": [
       "<div class=\"progress\">\n",
       "  <div class=\"progress-bar\" role=\"progressbar\" style=\"background-color: blue; width: 100%; word-wrap: normal; white-space: nowrap; text-align: center; color: white\" aria-valuenow=\"100\" aria-valuemin=\"0\" aria-valuemax=\"100\">\n",
       "    16 / 16\n",
       "  </div>\n",
       "  <div class=\"progress-bar\" role=\"progressbar\" style=\"background-color: red; width: 0%\" aria-valuenow=\"0\" aria-valuemin=\"0\" aria-valuemax=\"100\"></div>\n",
       "</div>\n"
      ]
     },
     "metadata": {},
     "output_type": "display_data"
    },
    {
     "data": {
      "text/html": [
       "<div>\n",
       "  <span style=\"float: left;\">mapPartitions at KMeans.scala:287</span>\n",
       "</div>\n"
      ]
     },
     "metadata": {},
     "output_type": "display_data"
    },
    {
     "data": {
      "text/html": [
       "<div class=\"progress\">\n",
       "  <div class=\"progress-bar\" role=\"progressbar\" style=\"background-color: blue; width: 100%; word-wrap: normal; white-space: nowrap; text-align: center; color: white\" aria-valuenow=\"100\" aria-valuemin=\"0\" aria-valuemax=\"100\">\n",
       "    16 / 16\n",
       "  </div>\n",
       "  <div class=\"progress-bar\" role=\"progressbar\" style=\"background-color: red; width: 0%\" aria-valuenow=\"0\" aria-valuemin=\"0\" aria-valuemax=\"100\"></div>\n",
       "</div>\n"
      ]
     },
     "metadata": {},
     "output_type": "display_data"
    },
    {
     "data": {
      "text/html": [
       "<div>\n",
       "  <span style=\"float: left;\">collectAsMap at KMeans.scala:308</span>\n",
       "</div>\n"
      ]
     },
     "metadata": {},
     "output_type": "display_data"
    },
    {
     "data": {
      "text/html": [
       "<div class=\"progress\">\n",
       "  <div class=\"progress-bar\" role=\"progressbar\" style=\"background-color: blue; width: 100%; word-wrap: normal; white-space: nowrap; text-align: center; color: white\" aria-valuenow=\"100\" aria-valuemin=\"0\" aria-valuemax=\"100\">\n",
       "    16 / 16\n",
       "  </div>\n",
       "  <div class=\"progress-bar\" role=\"progressbar\" style=\"background-color: red; width: 0%\" aria-valuenow=\"0\" aria-valuemin=\"0\" aria-valuemax=\"100\"></div>\n",
       "</div>\n"
      ]
     },
     "metadata": {},
     "output_type": "display_data"
    },
    {
     "data": {
      "text/html": [
       "<div>\n",
       "  <span style=\"float: left;\">mapPartitions at KMeans.scala:287</span>\n",
       "</div>\n"
      ]
     },
     "metadata": {},
     "output_type": "display_data"
    },
    {
     "data": {
      "text/html": [
       "<div class=\"progress\">\n",
       "  <div class=\"progress-bar\" role=\"progressbar\" style=\"background-color: blue; width: 100%; word-wrap: normal; white-space: nowrap; text-align: center; color: white\" aria-valuenow=\"100\" aria-valuemin=\"0\" aria-valuemax=\"100\">\n",
       "    16 / 16\n",
       "  </div>\n",
       "  <div class=\"progress-bar\" role=\"progressbar\" style=\"background-color: red; width: 0%\" aria-valuenow=\"0\" aria-valuemin=\"0\" aria-valuemax=\"100\"></div>\n",
       "</div>\n"
      ]
     },
     "metadata": {},
     "output_type": "display_data"
    },
    {
     "data": {
      "text/html": [
       "<div>\n",
       "  <span style=\"float: left;\">collectAsMap at KMeans.scala:308</span>\n",
       "</div>\n"
      ]
     },
     "metadata": {},
     "output_type": "display_data"
    },
    {
     "data": {
      "text/html": [
       "<div class=\"progress\">\n",
       "  <div class=\"progress-bar\" role=\"progressbar\" style=\"background-color: blue; width: 100%; word-wrap: normal; white-space: nowrap; text-align: center; color: white\" aria-valuenow=\"100\" aria-valuemin=\"0\" aria-valuemax=\"100\">\n",
       "    16 / 16\n",
       "  </div>\n",
       "  <div class=\"progress-bar\" role=\"progressbar\" style=\"background-color: red; width: 0%\" aria-valuenow=\"0\" aria-valuemin=\"0\" aria-valuemax=\"100\"></div>\n",
       "</div>\n"
      ]
     },
     "metadata": {},
     "output_type": "display_data"
    },
    {
     "data": {
      "text/html": [
       "<div>\n",
       "  <span style=\"float: left;\">mapPartitions at KMeans.scala:287</span>\n",
       "</div>\n"
      ]
     },
     "metadata": {},
     "output_type": "display_data"
    },
    {
     "data": {
      "text/html": [
       "<div class=\"progress\">\n",
       "  <div class=\"progress-bar\" role=\"progressbar\" style=\"background-color: blue; width: 100%; word-wrap: normal; white-space: nowrap; text-align: center; color: white\" aria-valuenow=\"100\" aria-valuemin=\"0\" aria-valuemax=\"100\">\n",
       "    16 / 16\n",
       "  </div>\n",
       "  <div class=\"progress-bar\" role=\"progressbar\" style=\"background-color: red; width: 0%\" aria-valuenow=\"0\" aria-valuemin=\"0\" aria-valuemax=\"100\"></div>\n",
       "</div>\n"
      ]
     },
     "metadata": {},
     "output_type": "display_data"
    },
    {
     "data": {
      "text/html": [
       "<div>\n",
       "  <span style=\"float: left;\">collectAsMap at KMeans.scala:308</span>\n",
       "</div>\n"
      ]
     },
     "metadata": {},
     "output_type": "display_data"
    },
    {
     "data": {
      "text/html": [
       "<div class=\"progress\">\n",
       "  <div class=\"progress-bar\" role=\"progressbar\" style=\"background-color: blue; width: 100%; word-wrap: normal; white-space: nowrap; text-align: center; color: white\" aria-valuenow=\"100\" aria-valuemin=\"0\" aria-valuemax=\"100\">\n",
       "    16 / 16\n",
       "  </div>\n",
       "  <div class=\"progress-bar\" role=\"progressbar\" style=\"background-color: red; width: 0%\" aria-valuenow=\"0\" aria-valuemin=\"0\" aria-valuemax=\"100\"></div>\n",
       "</div>\n"
      ]
     },
     "metadata": {},
     "output_type": "display_data"
    },
    {
     "data": {
      "text/html": [
       "<div>\n",
       "  <span style=\"float: left;\">mapPartitions at KMeans.scala:287</span>\n",
       "</div>\n"
      ]
     },
     "metadata": {},
     "output_type": "display_data"
    },
    {
     "data": {
      "text/html": [
       "<div class=\"progress\">\n",
       "  <div class=\"progress-bar\" role=\"progressbar\" style=\"background-color: blue; width: 100%; word-wrap: normal; white-space: nowrap; text-align: center; color: white\" aria-valuenow=\"100\" aria-valuemin=\"0\" aria-valuemax=\"100\">\n",
       "    16 / 16\n",
       "  </div>\n",
       "  <div class=\"progress-bar\" role=\"progressbar\" style=\"background-color: red; width: 0%\" aria-valuenow=\"0\" aria-valuemin=\"0\" aria-valuemax=\"100\"></div>\n",
       "</div>\n"
      ]
     },
     "metadata": {},
     "output_type": "display_data"
    },
    {
     "data": {
      "text/html": [
       "<div>\n",
       "  <span style=\"float: left;\">collectAsMap at KMeans.scala:308</span>\n",
       "</div>\n"
      ]
     },
     "metadata": {},
     "output_type": "display_data"
    },
    {
     "data": {
      "text/html": [
       "<div class=\"progress\">\n",
       "  <div class=\"progress-bar\" role=\"progressbar\" style=\"background-color: blue; width: 100%; word-wrap: normal; white-space: nowrap; text-align: center; color: white\" aria-valuenow=\"100\" aria-valuemin=\"0\" aria-valuemax=\"100\">\n",
       "    16 / 16\n",
       "  </div>\n",
       "  <div class=\"progress-bar\" role=\"progressbar\" style=\"background-color: red; width: 0%\" aria-valuenow=\"0\" aria-valuemin=\"0\" aria-valuemax=\"100\"></div>\n",
       "</div>\n"
      ]
     },
     "metadata": {},
     "output_type": "display_data"
    },
    {
     "data": {
      "text/html": [
       "<div>\n",
       "  <span style=\"float: left;\">mapPartitions at KMeans.scala:287</span>\n",
       "</div>\n"
      ]
     },
     "metadata": {},
     "output_type": "display_data"
    },
    {
     "data": {
      "text/html": [
       "<div class=\"progress\">\n",
       "  <div class=\"progress-bar\" role=\"progressbar\" style=\"background-color: blue; width: 100%; word-wrap: normal; white-space: nowrap; text-align: center; color: white\" aria-valuenow=\"100\" aria-valuemin=\"0\" aria-valuemax=\"100\">\n",
       "    16 / 16\n",
       "  </div>\n",
       "  <div class=\"progress-bar\" role=\"progressbar\" style=\"background-color: red; width: 0%\" aria-valuenow=\"0\" aria-valuemin=\"0\" aria-valuemax=\"100\"></div>\n",
       "</div>\n"
      ]
     },
     "metadata": {},
     "output_type": "display_data"
    },
    {
     "data": {
      "text/html": [
       "<div>\n",
       "  <span style=\"float: left;\">collectAsMap at KMeans.scala:308</span>\n",
       "</div>\n"
      ]
     },
     "metadata": {},
     "output_type": "display_data"
    },
    {
     "data": {
      "text/html": [
       "<div class=\"progress\">\n",
       "  <div class=\"progress-bar\" role=\"progressbar\" style=\"background-color: blue; width: 100%; word-wrap: normal; white-space: nowrap; text-align: center; color: white\" aria-valuenow=\"100\" aria-valuemin=\"0\" aria-valuemax=\"100\">\n",
       "    16 / 16\n",
       "  </div>\n",
       "  <div class=\"progress-bar\" role=\"progressbar\" style=\"background-color: red; width: 0%\" aria-valuenow=\"0\" aria-valuemin=\"0\" aria-valuemax=\"100\"></div>\n",
       "</div>\n"
      ]
     },
     "metadata": {},
     "output_type": "display_data"
    },
    {
     "data": {
      "text/html": [
       "<div>\n",
       "  <span style=\"float: left;\">mapPartitions at KMeans.scala:287</span>\n",
       "</div>\n"
      ]
     },
     "metadata": {},
     "output_type": "display_data"
    },
    {
     "data": {
      "text/html": [
       "<div class=\"progress\">\n",
       "  <div class=\"progress-bar\" role=\"progressbar\" style=\"background-color: blue; width: 100%; word-wrap: normal; white-space: nowrap; text-align: center; color: white\" aria-valuenow=\"100\" aria-valuemin=\"0\" aria-valuemax=\"100\">\n",
       "    16 / 16\n",
       "  </div>\n",
       "  <div class=\"progress-bar\" role=\"progressbar\" style=\"background-color: red; width: 0%\" aria-valuenow=\"0\" aria-valuemin=\"0\" aria-valuemax=\"100\"></div>\n",
       "</div>\n"
      ]
     },
     "metadata": {},
     "output_type": "display_data"
    },
    {
     "data": {
      "text/html": [
       "<div>\n",
       "  <span style=\"float: left;\">collectAsMap at KMeans.scala:308</span>\n",
       "</div>\n"
      ]
     },
     "metadata": {},
     "output_type": "display_data"
    },
    {
     "data": {
      "text/html": [
       "<div class=\"progress\">\n",
       "  <div class=\"progress-bar\" role=\"progressbar\" style=\"background-color: blue; width: 100%; word-wrap: normal; white-space: nowrap; text-align: center; color: white\" aria-valuenow=\"100\" aria-valuemin=\"0\" aria-valuemax=\"100\">\n",
       "    16 / 16\n",
       "  </div>\n",
       "  <div class=\"progress-bar\" role=\"progressbar\" style=\"background-color: red; width: 0%\" aria-valuenow=\"0\" aria-valuemin=\"0\" aria-valuemax=\"100\"></div>\n",
       "</div>\n"
      ]
     },
     "metadata": {},
     "output_type": "display_data"
    },
    {
     "data": {
      "text/html": [
       "<div>\n",
       "  <span style=\"float: left;\">mapPartitions at KMeans.scala:287</span>\n",
       "</div>\n"
      ]
     },
     "metadata": {},
     "output_type": "display_data"
    },
    {
     "data": {
      "text/html": [
       "<div class=\"progress\">\n",
       "  <div class=\"progress-bar\" role=\"progressbar\" style=\"background-color: blue; width: 100%; word-wrap: normal; white-space: nowrap; text-align: center; color: white\" aria-valuenow=\"100\" aria-valuemin=\"0\" aria-valuemax=\"100\">\n",
       "    16 / 16\n",
       "  </div>\n",
       "  <div class=\"progress-bar\" role=\"progressbar\" style=\"background-color: red; width: 0%\" aria-valuenow=\"0\" aria-valuemin=\"0\" aria-valuemax=\"100\"></div>\n",
       "</div>\n"
      ]
     },
     "metadata": {},
     "output_type": "display_data"
    },
    {
     "data": {
      "text/html": [
       "<div>\n",
       "  <span style=\"float: left;\">collectAsMap at KMeans.scala:308</span>\n",
       "</div>\n"
      ]
     },
     "metadata": {},
     "output_type": "display_data"
    },
    {
     "data": {
      "text/html": [
       "<div class=\"progress\">\n",
       "  <div class=\"progress-bar\" role=\"progressbar\" style=\"background-color: blue; width: 100%; word-wrap: normal; white-space: nowrap; text-align: center; color: white\" aria-valuenow=\"100\" aria-valuemin=\"0\" aria-valuemax=\"100\">\n",
       "    16 / 16\n",
       "  </div>\n",
       "  <div class=\"progress-bar\" role=\"progressbar\" style=\"background-color: red; width: 0%\" aria-valuenow=\"0\" aria-valuemin=\"0\" aria-valuemax=\"100\"></div>\n",
       "</div>\n"
      ]
     },
     "metadata": {},
     "output_type": "display_data"
    },
    {
     "data": {
      "text/html": [
       "<div>\n",
       "  <span style=\"float: left;\">mapPartitions at KMeans.scala:287</span>\n",
       "</div>\n"
      ]
     },
     "metadata": {},
     "output_type": "display_data"
    },
    {
     "data": {
      "text/html": [
       "<div class=\"progress\">\n",
       "  <div class=\"progress-bar\" role=\"progressbar\" style=\"background-color: blue; width: 100%; word-wrap: normal; white-space: nowrap; text-align: center; color: white\" aria-valuenow=\"100\" aria-valuemin=\"0\" aria-valuemax=\"100\">\n",
       "    16 / 16\n",
       "  </div>\n",
       "  <div class=\"progress-bar\" role=\"progressbar\" style=\"background-color: red; width: 0%\" aria-valuenow=\"0\" aria-valuemin=\"0\" aria-valuemax=\"100\"></div>\n",
       "</div>\n"
      ]
     },
     "metadata": {},
     "output_type": "display_data"
    },
    {
     "data": {
      "text/html": [
       "<div>\n",
       "  <span style=\"float: left;\">collectAsMap at KMeans.scala:308</span>\n",
       "</div>\n"
      ]
     },
     "metadata": {},
     "output_type": "display_data"
    },
    {
     "data": {
      "text/html": [
       "<div class=\"progress\">\n",
       "  <div class=\"progress-bar\" role=\"progressbar\" style=\"background-color: blue; width: 100%; word-wrap: normal; white-space: nowrap; text-align: center; color: white\" aria-valuenow=\"100\" aria-valuemin=\"0\" aria-valuemax=\"100\">\n",
       "    16 / 16\n",
       "  </div>\n",
       "  <div class=\"progress-bar\" role=\"progressbar\" style=\"background-color: red; width: 0%\" aria-valuenow=\"0\" aria-valuemin=\"0\" aria-valuemax=\"100\"></div>\n",
       "</div>\n"
      ]
     },
     "metadata": {},
     "output_type": "display_data"
    },
    {
     "data": {
      "text/html": [
       "<div>\n",
       "  <span style=\"float: left;\">mapPartitions at KMeans.scala:287</span>\n",
       "</div>\n"
      ]
     },
     "metadata": {},
     "output_type": "display_data"
    },
    {
     "data": {
      "text/html": [
       "<div class=\"progress\">\n",
       "  <div class=\"progress-bar\" role=\"progressbar\" style=\"background-color: blue; width: 100%; word-wrap: normal; white-space: nowrap; text-align: center; color: white\" aria-valuenow=\"100\" aria-valuemin=\"0\" aria-valuemax=\"100\">\n",
       "    16 / 16\n",
       "  </div>\n",
       "  <div class=\"progress-bar\" role=\"progressbar\" style=\"background-color: red; width: 0%\" aria-valuenow=\"0\" aria-valuemin=\"0\" aria-valuemax=\"100\"></div>\n",
       "</div>\n"
      ]
     },
     "metadata": {},
     "output_type": "display_data"
    },
    {
     "data": {
      "text/html": [
       "<div>\n",
       "  <span style=\"float: left;\">collectAsMap at KMeans.scala:308</span>\n",
       "</div>\n"
      ]
     },
     "metadata": {},
     "output_type": "display_data"
    },
    {
     "data": {
      "text/html": [
       "<div class=\"progress\">\n",
       "  <div class=\"progress-bar\" role=\"progressbar\" style=\"background-color: blue; width: 100%; word-wrap: normal; white-space: nowrap; text-align: center; color: white\" aria-valuenow=\"100\" aria-valuemin=\"0\" aria-valuemax=\"100\">\n",
       "    16 / 16\n",
       "  </div>\n",
       "  <div class=\"progress-bar\" role=\"progressbar\" style=\"background-color: red; width: 0%\" aria-valuenow=\"0\" aria-valuemin=\"0\" aria-valuemax=\"100\"></div>\n",
       "</div>\n"
      ]
     },
     "metadata": {},
     "output_type": "display_data"
    },
    {
     "data": {
      "text/html": [
       "<div>\n",
       "  <span style=\"float: left;\">collect at ClusteringSummary.scala:49</span>\n",
       "</div>\n"
      ]
     },
     "metadata": {},
     "output_type": "display_data"
    },
    {
     "data": {
      "text/html": [
       "<div class=\"progress\">\n",
       "  <div class=\"progress-bar\" role=\"progressbar\" style=\"background-color: blue; width: 100%; word-wrap: normal; white-space: nowrap; text-align: center; color: white\" aria-valuenow=\"100\" aria-valuemin=\"0\" aria-valuemax=\"100\">\n",
       "    16 / 16\n",
       "  </div>\n",
       "  <div class=\"progress-bar\" role=\"progressbar\" style=\"background-color: red; width: 0%\" aria-valuenow=\"0\" aria-valuemin=\"0\" aria-valuemax=\"100\"></div>\n",
       "</div>\n"
      ]
     },
     "metadata": {},
     "output_type": "display_data"
    },
    {
     "data": {
      "text/html": [
       "<div>\n",
       "  <span style=\"float: left;\">collect at ClusteringSummary.scala:49</span>\n",
       "</div>\n"
      ]
     },
     "metadata": {},
     "output_type": "display_data"
    },
    {
     "data": {
      "text/html": [
       "<div class=\"progress\">\n",
       "  <div class=\"progress-bar\" role=\"progressbar\" style=\"background-color: blue; width: 100%; word-wrap: normal; white-space: nowrap; text-align: center; color: white\" aria-valuenow=\"100\" aria-valuemin=\"0\" aria-valuemax=\"100\">\n",
       "    200 / 200\n",
       "  </div>\n",
       "  <div class=\"progress-bar\" role=\"progressbar\" style=\"background-color: red; width: 0%\" aria-valuenow=\"0\" aria-valuemin=\"0\" aria-valuemax=\"100\"></div>\n",
       "</div>\n"
      ]
     },
     "metadata": {},
     "output_type": "display_data"
    },
    {
     "data": {
      "text/plain": [
       "\u001b[32mimport \u001b[39m\u001b[36morg.apache.spark.ml.clustering.KMeans\n",
       "\u001b[39m\r\n",
       "\u001b[32mimport \u001b[39m\u001b[36morg.apache.spark.ml.evaluation.ClusteringEvaluator\n",
       "\n",
       "// Trains a k-means model.\n",
       "\u001b[39m\r\n",
       "\u001b[36mkmeans\u001b[39m: \u001b[32mKMeans\u001b[39m = kmeans_23e3a0c6019b\r\n",
       "\u001b[36mkModel\u001b[39m: \u001b[32morg\u001b[39m.\u001b[32mapache\u001b[39m.\u001b[32mspark\u001b[39m.\u001b[32mml\u001b[39m.\u001b[32mclustering\u001b[39m.\u001b[32mKMeansModel\u001b[39m = KMeansModel: uid=kmeans_23e3a0c6019b, k=5, distanceMeasure=euclidean, numFeatures=128"
      ]
     },
     "execution_count": 22,
     "metadata": {},
     "output_type": "execute_result"
    }
   ],
   "source": [
    "import org.apache.spark.ml.clustering.KMeans\n",
    "import org.apache.spark.ml.evaluation.ClusteringEvaluator\n",
    "\n",
    "// Trains a k-means model.\n",
    "val kmeans = new KMeans().setK(10).setSeed(1L)\n",
    "val kModel = kmeans.fit(trainingDF)\n",
    "\n",
    "\n",
    "// Save and load model\n",
    "//clusters.save(sc, \"target/org/apache/spark/KMeansExample/KMeansModel\")\n",
    "//val sameModel = KMeansModel.load(sc, \"target/org/apache/spark/KMeansExample/KMeansModel\")\n"
   ]
  },
  {
   "cell_type": "markdown",
   "metadata": {},
   "source": [
    "### Evaluate"
   ]
  },
  {
   "cell_type": "code",
   "execution_count": 24,
   "metadata": {},
   "outputs": [
    {
     "data": {
      "text/html": [
       "<div>\n",
       "  <span style=\"float: left;\">head at MetadataUtils.scala:51</span>\n",
       "</div>\n"
      ]
     },
     "metadata": {},
     "output_type": "display_data"
    },
    {
     "data": {
      "text/html": [
       "<div class=\"progress\">\n",
       "  <div class=\"progress-bar\" role=\"progressbar\" style=\"background-color: blue; width: 100%; word-wrap: normal; white-space: nowrap; text-align: center; color: white\" aria-valuenow=\"100\" aria-valuemin=\"0\" aria-valuemax=\"100\">\n",
       "    1 / 1\n",
       "  </div>\n",
       "  <div class=\"progress-bar\" role=\"progressbar\" style=\"background-color: red; width: 0%\" aria-valuenow=\"0\" aria-valuemin=\"0\" aria-valuemax=\"100\"></div>\n",
       "</div>\n"
      ]
     },
     "metadata": {},
     "output_type": "display_data"
    },
    {
     "data": {
      "text/html": [
       "<div>\n",
       "  <span style=\"float: left;\">map at ClusteringMetrics.scala:300</span>\n",
       "</div>\n"
      ]
     },
     "metadata": {},
     "output_type": "display_data"
    },
    {
     "data": {
      "text/html": [
       "<div class=\"progress\">\n",
       "  <div class=\"progress-bar\" role=\"progressbar\" style=\"background-color: blue; width: 100%; word-wrap: normal; white-space: nowrap; text-align: center; color: white\" aria-valuenow=\"100\" aria-valuemin=\"0\" aria-valuemax=\"100\">\n",
       "    16 / 16\n",
       "  </div>\n",
       "  <div class=\"progress-bar\" role=\"progressbar\" style=\"background-color: red; width: 0%\" aria-valuenow=\"0\" aria-valuemin=\"0\" aria-valuemax=\"100\"></div>\n",
       "</div>\n"
      ]
     },
     "metadata": {},
     "output_type": "display_data"
    },
    {
     "data": {
      "text/html": [
       "<div>\n",
       "  <span style=\"float: left;\">collectAsMap at ClusteringMetrics.scala:321</span>\n",
       "</div>\n"
      ]
     },
     "metadata": {},
     "output_type": "display_data"
    },
    {
     "data": {
      "text/html": [
       "<div class=\"progress\">\n",
       "  <div class=\"progress-bar\" role=\"progressbar\" style=\"background-color: blue; width: 100%; word-wrap: normal; white-space: nowrap; text-align: center; color: white\" aria-valuenow=\"100\" aria-valuemin=\"0\" aria-valuemax=\"100\">\n",
       "    16 / 16\n",
       "  </div>\n",
       "  <div class=\"progress-bar\" role=\"progressbar\" style=\"background-color: red; width: 0%\" aria-valuenow=\"0\" aria-valuemin=\"0\" aria-valuemax=\"100\"></div>\n",
       "</div>\n"
      ]
     },
     "metadata": {},
     "output_type": "display_data"
    },
    {
     "data": {
      "text/html": [
       "<div>\n",
       "  <span style=\"float: left;\">collect at ClusteringMetrics.scala:102</span>\n",
       "</div>\n"
      ]
     },
     "metadata": {},
     "output_type": "display_data"
    },
    {
     "data": {
      "text/html": [
       "<div class=\"progress\">\n",
       "  <div class=\"progress-bar\" role=\"progressbar\" style=\"background-color: blue; width: 100%; word-wrap: normal; white-space: nowrap; text-align: center; color: white\" aria-valuenow=\"100\" aria-valuemin=\"0\" aria-valuemax=\"100\">\n",
       "    16 / 16\n",
       "  </div>\n",
       "  <div class=\"progress-bar\" role=\"progressbar\" style=\"background-color: red; width: 0%\" aria-valuenow=\"0\" aria-valuemin=\"0\" aria-valuemax=\"100\"></div>\n",
       "</div>\n"
      ]
     },
     "metadata": {},
     "output_type": "display_data"
    },
    {
     "data": {
      "text/html": [
       "<div>\n",
       "  <span style=\"float: left;\">collect at ClusteringMetrics.scala:102</span>\n",
       "</div>\n"
      ]
     },
     "metadata": {},
     "output_type": "display_data"
    },
    {
     "data": {
      "text/html": [
       "<div class=\"progress\">\n",
       "  <div class=\"progress-bar\" role=\"progressbar\" style=\"background-color: blue; width: 100%; word-wrap: normal; white-space: nowrap; text-align: center; color: white\" aria-valuenow=\"100\" aria-valuemin=\"0\" aria-valuemax=\"100\">\n",
       "    1 / 1\n",
       "  </div>\n",
       "  <div class=\"progress-bar\" role=\"progressbar\" style=\"background-color: red; width: 0%\" aria-valuenow=\"0\" aria-valuemin=\"0\" aria-valuemax=\"100\"></div>\n",
       "</div>\n"
      ]
     },
     "metadata": {},
     "output_type": "display_data"
    },
    {
     "name": "stdout",
     "output_type": "stream",
     "text": [
      "Silhouette with squared euclidean distance = 0.6344750381055456\n",
      "Cluster Centers: \n",
      "[-0.7453775749528371,0.3465392137301101,-0.7544586493361038,0.08563423053180477,-0.3810314122839774,-0.1382209920984032,-0.19240053550298467,-0.1476535027012662,-0.07535450029428199,-0.05358207071909258,0.34871321061429017,0.2756207504100873,0.05778603956362022,-0.1402824172343614,-0.2573316151319816,0.3737449048654583,0.10820341605440932,1.1439756151828744,0.8741280711090786,-0.021653826296977263,0.6141028634255391,-0.17415902602725788,-0.08612805521790412,-0.14808893191381822,-0.3137375040758514,-0.43291165136655363,-0.32495670159439344,1.2210258231692739,-0.3360711258432141,0.06767436760853941,-0.29641174051677416,0.06070941069471358,0.6116964198445572,-0.3893119035892756,-1.1571206080523806,0.1730622550708945,0.03280258298677624,-0.5241830893342427,0.5089477149034923,-0.01943002805722149,0.5983670181895282,0.4658665504016947,-0.38541165333281385,0.8341649448184704,-0.08845814135908964,-0.19808499227612228,0.05199266542749104,0.9927702905937923,0.2947340982500542,-0.7877565926617889,0.001567055722674863,-0.4537577199633976,-0.06382661509875436,-0.02598397171045247,0.1861547936525606,-0.12089769588486382,-0.9720722793457618,-0.8300440325907997,-0.08953808191431852,-0.3122610105840826,-1.1780515079147524,-1.0980862576575723,-0.06595785146957425,-0.5006667333791887,-0.6650863623807217,0.1539320453404524,0.301124198542731,-0.6076067554621647,-0.29074239842625554,0.05257859877676399,-0.38591256723682343,0.7303120776476505,-0.5478029858593138,-0.3551002015630978,-0.2142216279373102,-0.1936343696176612,-0.7167855169064106,-0.45535834721381735,0.33273449362606455,-0.23043483080173643,0.08615569729589573,-0.19506547394533666,0.07761172767150927,-0.21210422374186072,-0.6392129716634959,-0.21076154355529794,-0.46613688256420155,0.3898632128549403,-0.3080919463559825,0.371617938772353,-0.031135329998704556,-0.134547789138493,0.8902383583352959,0.4307323617389418,-0.37818113668137276,-0.02249361355805935,-0.5358792513161119,-0.3935924869530966,0.06316533537859188,0.02874272669735278,0.6095525495394655,-0.0830118552590107,0.28679563683140796,0.08126734895770708,-1.0113237667086639,0.47543953535702393,0.40688495934172064,-0.3522917223578984,-0.32711473286697124,0.4233056604386339,-0.32623828038631886,-1.285895204621968,0.5507476309764676,-0.21763437884550138,-0.2571979995919502,-0.02223850286201542,-0.20462394998604885,-0.07953832083696794,0.010697633069736954,-0.280898530355545,0.035215065004003406,0.6807732111240566,-1.3085216269128475,-0.35162770241335417,0.01624506663718612,0.39830670678466973,1.6401248807574138,-1.411785137211748]\n",
      "[3.279118705057763,3.0001123010512663,-1.0088162758235464,-4.206532129537846,-2.7507944664482955,-3.8752160322243703,-4.051852986815237,-3.7542494197289233,-3.0644776854799667,-4.27700836510157,-1.8500464627876803,3.1025569959054953,-1.9814125240410805,-2.1888161313071546,3.448817187632501,4.706354640438791,-3.669080907947796,1.137585878105967,2.881017800134839,-4.246437824426672,4.171017530640651,-3.077263876573106,-4.37190977593584,2.402637868114521,-3.0146816868725446,3.0864663240483337,1.3679002807235159,-0.26478621230320737,-3.429966468288296,-3.4202000665056316,-3.4126126926446707,-2.2948824831200585,4.096318886509896,-1.9833383551345607,-1.6328716900664262,2.047382122209744,-4.352373425678532,0.7810509324647492,2.854196192398927,3.600168621624894,2.7393781099886634,-2.813394739898154,1.149567845411348,-1.127429734384943,-1.780985477069133,-3.8787617988511567,-2.440555266590872,0.8826272730951863,1.4378700411375445,0.4276980239065628,-4.296350356985116,-4.487729764775738,4.307490181469141,-4.241537259087739,-3.4920595074067324,1.0643828516205314,-1.2291721686291537,-4.288102407809679,-4.892135089946697,-4.13723236048123,-0.6962632636628606,-2.2162533328601777,-2.142397143644667,1.7453907785432137,-3.4857790071494392,-1.532952444608658,-3.3220436314894513,2.8915213765807537,2.5451208385374593,-1.3460998555566046,-4.735849469818982,1.7137952976504345,-1.002833895449904,-3.0987282246776493,-4.986032015941925,-4.651401751678856,1.4502743919446106,-5.090329909254425,0.0015597378750771447,1.8952529425181586,3.1440954459364954,2.7943272252395506,4.90580876383082,-4.971676114087354,-4.210249841561711,2.2146253062403534,-3.3039728536437476,4.373165746099095,2.840871882001662,2.6891854192435733,-1.307953685642203,-0.36613979039288796,0.734523266066169,2.7926451849132485,-3.0675177982821493,4.141246791460986,-4.20344206948675,-0.31278153823919996,3.6556037140510336,3.0521523025264323,-2.630028076976033,3.339067136054945,4.111917080776413,-3.1791195457052206,-0.5796153996172287,1.2842562563224802,-1.077350134512381,-4.180759585755348,-0.5287561723221336,-4.151199859264344,-6.044812796234976,1.5250101021003322,0.8187552441043224,3.8471240549316628,2.3498501385657535,-4.2160232348036315,-4.357660707421195,3.528025619730155,-4.466071885234506,-1.3013565864764631,-2.26255050048164,-3.661754536584253,0.41348842291997817,2.6145418641837703,1.4861016658963957,5.811712572531499,3.2712564157668735,0.8796234634305486]\n",
      "[-0.13460872247081315,1.6711809136732665,-0.5409594393516364,0.08167506277527171,-0.8617067600109917,-1.0583339166398953,-1.0023132388780474,-1.403959819954908,-0.8904603155854802,-1.259405168208589,-0.20440531435253492,0.8087130476476428,1.268844177980928,0.670905539755839,0.829056048974432,1.2311220186824958,-1.02654558169848,1.3636965273124557,2.199869807455633,-1.214162833468913,1.376433550712549,-1.4039179918267353,-1.0207359092221582,1.386166482363802,-1.7103776209641461,-0.33651169186755936,1.0911093022108624,0.3232298385220155,-1.279390014463672,-1.2203953535833683,-1.699537852618707,-0.6311666629765013,1.6829962749516612,-0.20370927109256398,-2.061066058836719,-0.8197276510509123,-1.007562887127149,0.4329265619069818,1.6375628182981057,1.0952861667982747,0.3621802759416305,-0.3359221364052663,0.048077263072546644,0.5385604664355748,-0.8731602228008472,-1.24356851150105,-0.600660624472613,0.012612116769823609,-0.030754631587325613,-1.5339427805922203,-0.24525779719409943,-1.7276617967439363,-0.11046138988536475,-1.2166307186284027,-1.003863127825733,0.050998849314086256,-2.3456286554181327,-1.9172753152201212,-0.9284656406631984,-1.1019875584465242,-2.360364510937584,-0.6298619085911822,0.4787301831907731,0.8319451044250135,-1.1566110495431674,-1.3522121410483436,-1.0001857624577888,-0.7603469400130332,1.0310427058711993,-1.0783663937176335,0.35718152821907956,2.0896090703888612,0.27730474557677753,-1.5806560004343475,-0.9488837402780889,-1.1720219074240448,-0.4448441355455137,-1.3763136215442728,-0.6776536536625318,0.9151826290014142,1.2901155765096883,0.9902791812998879,0.9425424913977587,-0.007846212579881497,-1.8102980383554095,-0.4544739427852243,-1.6078845631850367,1.327595453935537,0.8390402902643992,1.812244497329698,-0.637993659927397,1.452405170424316,0.1731170015530436,1.750282923376741,-1.5806695209162611,0.23246241027951237,-1.7791930492411936,-1.1918890138525806,1.1510935476393225,1.1617479266869837,-0.4003923721095049,0.9715547128329165,0.7883680067567187,0.9634040302423298,-2.3431167071371695,1.8044861109836832,-0.9667434984110151,-1.5265897620358326,-1.2950330910366101,0.14373438309490935,-0.7065798513110367,-1.49113301946026,-0.7750333089888932,-0.42709550348344516,0.67734323363792,-0.8168143102540719,-0.5259645431467656,0.8749975506210766,-0.81583582729546,-0.34522536934696957,1.0788191076186915,-0.2630286334890902,-0.6171889341071215,0.8413662524781556,1.4452971214944483,1.3369711372459667,1.9709528623436665,-0.8125691394541334]\n",
      "[1.2725461490841259,3.1476348899051785,-0.16895536857974597,-1.0438955583025327,-2.07908531542606,-2.902544844415048,-2.8515193385743136,-2.996885668533322,-2.4392959909949865,-2.8378552537466772,-1.7559871092964578,2.282611315562046,2.004349345372948,0.11790104980919783,2.2272666306164397,2.5625881922579836,-2.7218462974150017,0.6798271389854585,3.5707177933790195,-2.758705916898971,2.1049133998184657,-2.9420027710842995,-2.127026727548021,2.5380926024871324,-3.0895372526408966,1.6482334039619675,1.818262505677685,-0.6690704871694386,-3.0629209098326142,-2.827953862234378,-3.0858989714437524,-1.3642618034280825,2.8086209694591604,-1.2531077880163695,-3.1370568526726936,-1.1810218498029168,-2.455886752210744,2.110293618193579,2.6796929260497935,2.953948692709532,-0.02381034324270838,-0.9584870027319702,0.8701099642889302,1.1116613937361242,-1.9112914292912737,-2.8038098605492707,-2.5536495335810097,-1.0040828393753267,-0.5956675283657727,-1.6294584800181946,-1.4429497456453992,-2.8409270874837613,0.8695966232720663,-2.83398050051618,-1.79692775330629,0.7366656758795805,-3.6272865285694817,-2.49242652869422,-2.483524400184559,-2.1707465248088793,-3.221193110350123,-0.30307550236135455,-0.6369492304682312,1.767819381903972,-0.7740291119266923,-2.6307794175254187,-2.213495098806658,0.3643128245517389,2.644666188804293,-2.1492036248239277,0.8247244202137228,3.077310768524758,1.0302959995498788,-2.3749820617264943,-2.570525736802397,-2.893405257827243,0.4482869299620841,-2.4636898674210674,-0.285305983001756,1.6738812495633257,2.9154989538960927,2.3447553189956203,2.238478985181128,-0.7508409697664955,-3.252914127936246,0.7045339452952538,-3.1071070982344886,2.5227312629155243,1.9334102962736397,3.138575257414128,-1.1292577436968663,2.1822800127098514,0.6094040199839437,3.3702640072199124,-3.2068891036164215,0.6333955457285444,-2.9134399048336173,-1.8823806729758275,2.5734952467990224,2.6042853569630378,-1.6502187282878749,2.7652116328642182,2.084841755281662,1.4586202579569456,-3.2874035502217125,2.925379523975425,-2.5004810942604063,-2.9632267917858623,-2.4339260290437323,-0.9499754925652952,-2.055645179972897,-0.36753514259352205,-1.998680703523149,0.5895326093316218,2.5540302510094635,-2.514646030698992,-1.940799637419097,1.7057058961728688,-2.253400092763482,-1.4114328116191246,0.6144233546015867,-1.6908523196564191,0.17885427450350402,2.397503381909024,2.6956360287346746,2.737987326446098,2.7697843220999774,0.305294839229977]\n",
      "[2.667230956275667,4.420631105680311,-1.2914728899706476,0.8215152853889588,-0.6871890254169577,-3.0547834179907056,-3.625832632486864,-4.366906446260843,-4.467956494321044,-3.9626892622558123,-0.6206455302862817,4.88259189342582,-2.420700379265175,-3.0893135693532536,4.820652226561916,5.227929969099651,-2.955445227478637,3.5894767066528748,0.951325364984335,-2.8631589010328935,5.025767852689664,-3.065555611375037,-3.38920911845683,2.640680747196639,-3.8058800192907998,1.2713136245693164,1.4191527421753445,-3.237953455566691,-1.177002681215636,-1.3383812440636262,-3.8854600793729674,-2.4453465383149866,3.286327216942858,-4.285599958777187,-1.0184890114744294,1.868601552033384,-5.166185138645227,1.84504535606676,3.155406975807166,3.5592860931803307,1.5051748389699169,-4.11243315406075,1.6099738713160254,-0.39745294375174706,-2.969542500743856,-2.7622900063808,-3.5755906970412625,-1.2130486443059731,0.18752742577128895,-0.41347120506534485,-3.3108236831060007,-5.31781392591756,4.698788241500577,-3.984224891379483,-1.623648667022465,4.394224510375349,-1.9360831781845282,-3.9897609292031135,-5.773367696794027,-4.257077481403155,-2.3687190512544967,1.8402546516089568,-4.59033135479287,2.1680244900535506,-4.295638652128221,-2.090888461522824,-3.859724742119939,4.178761738195722,2.4849465108359525,0.01746558261816083,-2.147099796654917,3.6583395337318887,-2.461255751516898,-4.5163127191767884,-3.896503987488991,-4.138249425628992,2.1544217189603327,-6.026200701240461,-1.0772596222436264,0.9209877359649468,4.814302649215988,0.5320467984372381,3.5820174619702367,-4.574330251784129,-5.05704136314618,2.5895529498210816,-4.79656647635178,4.899133460846858,4.461790454806408,3.22494715937736,-2.8820361959952208,0.09497885000295142,0.03976371730034429,3.747682917134602,-3.304300190390357,4.508562048987037,-4.079916582190196,-6.39831468072013,4.268121897801504,3.8994537761884356,-0.48646840295804783,2.443017993433907,2.967194441767755,-1.5700390197609615,0.03482506844096362,0.892967285094382,1.6062660911853712,-4.986249051315388,-3.1667118875437064,-2.535140084757883,-5.363989691920918,-2.4830121213618854,0.03552390176487057,3.5390118723730484,3.0554013439084895,-4.7910520822529294,-2.8180503959660093,5.547739078216663,-4.338383530604506,0.9235461123286202,0.022991655249235233,-3.6879510460890312,1.3161788008663442,3.941963567347708,1.4418426706787189,3.1859831404919743,1.9138371374589045,-0.8542701829937672]\n"
     ]
    },
    {
     "data": {
      "text/plain": [
       "\u001b[36mkPredictions\u001b[39m: \u001b[32mDataFrame\u001b[39m = [label: double, features: vector ... 1 more field]\r\n",
       "\u001b[36mevaluator\u001b[39m: \u001b[32mClusteringEvaluator\u001b[39m = ClusteringEvaluator: uid=cluEval_1b0fc0ac95a9, metricName=silhouette, distanceMeasure=squaredEuclidean\r\n",
       "\u001b[36msilhouette\u001b[39m: \u001b[32mDouble\u001b[39m = \u001b[32m0.6344750381055456\u001b[39m"
      ]
     },
     "execution_count": 24,
     "metadata": {},
     "output_type": "execute_result"
    }
   ],
   "source": [
    "// Make predictions\n",
    "val kPredictions = kModel.transform(testingDF)\n",
    "\n",
    "// Evaluate clustering by computing Silhouette score\n",
    "val evaluator = new ClusteringEvaluator()\n",
    "\n",
    "val silhouette = evaluator.evaluate(kPredictions)\n",
    "println(s\"Silhouette with squared euclidean distance = $silhouette\")\n",
    "\n",
    "// Shows the result.\n",
    "println(\"Cluster Centers: \")\n",
    "kModel.clusterCenters.foreach(println)\n"
   ]
  },
  {
   "cell_type": "markdown",
   "metadata": {},
   "source": [
    "### Predict"
   ]
  },
  {
   "cell_type": "code",
   "execution_count": 25,
   "metadata": {},
   "outputs": [
    {
     "data": {
      "text/html": [
       "<div>\n",
       "  <span style=\"float: left;\">show at cmd24.sc:1</span>\n",
       "</div>\n"
      ]
     },
     "metadata": {},
     "output_type": "display_data"
    },
    {
     "data": {
      "text/html": [
       "<div class=\"progress\">\n",
       "  <div class=\"progress-bar\" role=\"progressbar\" style=\"background-color: blue; width: 100%; word-wrap: normal; white-space: nowrap; text-align: center; color: white\" aria-valuenow=\"100\" aria-valuemin=\"0\" aria-valuemax=\"100\">\n",
       "    1 / 1\n",
       "  </div>\n",
       "  <div class=\"progress-bar\" role=\"progressbar\" style=\"background-color: red; width: 0%\" aria-valuenow=\"0\" aria-valuemin=\"0\" aria-valuemax=\"100\"></div>\n",
       "</div>\n"
      ]
     },
     "metadata": {},
     "output_type": "display_data"
    },
    {
     "name": "stdout",
     "output_type": "stream",
     "text": [
      "+-----+--------------------+----------+\n",
      "|label|            features|prediction|\n",
      "+-----+--------------------+----------+\n",
      "|  0.2|[-0.9000950601860...|         0|\n",
      "|  1.0|[-0.9322016323397...|         0|\n",
      "|  0.8|[-0.3934224748757...|         0|\n",
      "|  0.2|[-1.0176151816014...|         0|\n",
      "|  1.0|[-0.9302095340987...|         0|\n",
      "|  1.0|[0.09125376997453...|         0|\n",
      "|  0.8|[-1.0086159592524...|         0|\n",
      "|  0.2|[-1.1424247837867...|         0|\n",
      "|  0.8|[-0.5844029567671...|         0|\n",
      "|  0.2|[0.17110813899282...|         0|\n",
      "|  0.4|[-1.1433561208052...|         0|\n",
      "|  0.6|[-0.6022630619947...|         0|\n",
      "|  0.8|[-1.1259042717062...|         0|\n",
      "|  0.2|[-0.2533524093331...|         0|\n",
      "|  0.2|[-0.9495015236977...|         0|\n",
      "|  0.8|[-0.9013505560531...|         0|\n",
      "|  0.6|[-1.0881728264052...|         0|\n",
      "|  1.0|[0.42418014201439...|         0|\n",
      "|  1.0|[-0.6358369209998...|         2|\n",
      "|  0.8|[0.25375451890388...|         0|\n",
      "+-----+--------------------+----------+\n",
      "only showing top 20 rows\n",
      "\n"
     ]
    }
   ],
   "source": [
    "kPredictions.show()"
   ]
  }
 ],
 "metadata": {
  "accelerator": "TPU",
  "colab": {
   "collapsed_sections": [],
   "name": "Big Data Final Project (scala).ipynb",
   "provenance": [],
   "toc_visible": true
  },
  "kernelspec": {
   "display_name": "Almond 0.10.9",
   "language": "scala",
   "name": "scala-sanpshot"
  },
  "language_info": {
   "codemirror_mode": "text/x-scala",
   "file_extension": ".sc",
   "mimetype": "text/x-scala",
   "name": "scala",
   "nbconvert_exporter": "script",
   "version": "2.12.12"
  }
 },
 "nbformat": 4,
 "nbformat_minor": 4
}
